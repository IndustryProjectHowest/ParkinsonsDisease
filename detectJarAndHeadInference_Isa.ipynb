{
 "cells": [
  {
   "cell_type": "markdown",
   "id": "40b81f4f",
   "metadata": {},
   "source": [
    "# <a id='toc1_'></a>[PARKINSON DETECTION BY SNIFFER DOGS](#toc0_)\n",
    "\n"
   ]
  },
  {
   "cell_type": "markdown",
   "id": "0724abd1",
   "metadata": {},
   "source": [
    "**Table of contents**<a id='toc0_'></a>    \n",
    "- [PARKINSON DETECTION BY SNIFFER DOGS](#toc1_)    \n",
    "- [LIBRARIES](#toc2_)    \n",
    "- [REGISTER DATA SET](#toc3_)    \n",
    "- [CLASS NAMES](#toc4_)    \n",
    "- [SETUP THE MODEL FOR INFERENCE](#toc5_)    \n",
    "- [INFERENCE ON IMAGES](#toc6_)    \n",
    "- [INFERENCE ON VIDEO](#toc7_)    \n",
    "- [START AND STOP SNIFFING](#toc8_)    \n",
    "- [SAVE SNIFFING SNIPPETS](#toc9_)    \n",
    "- [CSV](#toc10_)    \n",
    "\n",
    "<!-- vscode-jupyter-toc-config\n",
    "\tnumbering=false\n",
    "\tanchor=true\n",
    "\tflat=false\n",
    "\tminLevel=1\n",
    "\tmaxLevel=6\n",
    "\t/vscode-jupyter-toc-config -->\n",
    "<!-- THIS CELL WILL BE REPLACED ON TOC UPDATE. DO NOT WRITE YOUR TEXT IN THIS CELL -->"
   ]
  },
  {
   "cell_type": "markdown",
   "metadata": {},
   "source": [
    "# <a id='toc2_'></a>[LIBRARIES](#toc0_)"
   ]
  },
  {
   "cell_type": "code",
   "execution_count": 97,
   "id": "2a8c5ad4",
   "metadata": {},
   "outputs": [
    {
     "name": "stdout",
     "output_type": "stream",
     "text": [
      "Python 3.13.2\n",
      "\n",
      "Torch version: 2.6\n",
      "cuda version: cu126\n",
      "Torch cuda is available : True\n",
      "\n",
      "nvcc: NVIDIA (R) Cuda compiler driver\n",
      "Copyright (c) 2005-2021 NVIDIA Corporation\n",
      "Built on Thu_Nov_18_09:45:30_PST_2021\n",
      "Cuda compilation tools, release 11.5, V11.5.119\n",
      "Build cuda_11.5.r11.5/compiler.30672275_0\n",
      "\n",
      "detectron2: 0.6\n",
      "cv2: 4.11.0\n",
      "Scipy version: 1.15.2\n"
     ]
    }
   ],
   "source": [
    "!python --version\n",
    "print(\"\")\n",
    "\n",
    "# Torch\n",
    "import torch\n",
    "TORCH_VERSION = \".\".join(torch.__version__.split(\".\")[:2])\n",
    "print(f\"Torch version: {TORCH_VERSION}\")\n",
    "\n",
    "\n",
    "# Cuda\n",
    "CUDA_VERSION = torch.__version__.split(\"+\")[-1]\n",
    "print(f\"cuda version: {CUDA_VERSION}\")\n",
    "print(\"Torch cuda is available :\", torch.cuda.is_available())\n",
    "\n",
    "print(\"\")\n",
    "!nvcc --version\n",
    "\n",
    "# Detectron2\n",
    "import detectron2\n",
    "print(\"\")\n",
    "print(\"detectron2:\", detectron2.__version__)\n",
    "\n",
    "from detectron2.utils.logger import setup_logger\n",
    "setup_logger()\n",
    "from detectron2 import model_zoo\n",
    "from detectron2.config import get_cfg\n",
    "from detectron2.data import MetadataCatalog, DatasetCatalog, build_detection_test_loader, DatasetMapper\n",
    "from detectron2.data.datasets import register_coco_instances\n",
    "from detectron2.engine import DefaultPredictor\n",
    "\n",
    "from detectron2.utils.visualizer import Visualizer, ColorMode\n",
    "\n",
    "# Cv2 \n",
    "# conda install -c conda-forge opencv\n",
    "import cv2\n",
    "print(\"cv2:\", cv2.__version__)\n",
    "\n",
    "# Scipy\n",
    "# pip install scipy\n",
    "import scipy\n",
    "print(\"Scipy version:\", scipy.__version__)\n",
    "\n",
    "# Sklearn\n",
    "# pip install scikit-learn\n",
    "from sklearn.svm import LinearSVC\n",
    "from sklearn.calibration import CalibratedClassifierCV\n",
    "from sklearn.preprocessing import StandardScaler, LabelEncoder\n",
    "from sklearn.model_selection import train_test_split\n",
    "from sklearn.metrics import accuracy_score, f1_score, confusion_matrix, ConfusionMatrixDisplay\n",
    "\n",
    "# Import CountVectorizer to create the count matrix\n",
    "from sklearn.feature_extraction.text import CountVectorizer\n",
    "\n",
    "# To Compute the Cosine Similarity matrix based on the count_matrix\n",
    "from sklearn.metrics.pairwise import cosine_similarity, linear_kernel\n",
    "\n",
    "#import to use an TF-IDF Vectorizer Object, to Remove all english stop words such as 'the', 'a'\n",
    "from sklearn.feature_extraction.text import TfidfVectorizer\n",
    "from ast import literal_eval\n",
    "\n",
    "# and other libraries\n",
    "import os\n",
    "import glob\n",
    "\n",
    "import pandas as pd\n",
    "import numpy as np\n",
    "\n",
    "from PIL import Image\n",
    "\n",
    "import matplotlib.pyplot as plt\n",
    "from matplotlib.colors import ListedColormap\n",
    "import seaborn as sns\n",
    "\n",
    "import random\n",
    "import json\n",
    "import pickle\n",
    "import requests\n",
    "import time \n",
    "import shutil\n",
    "from tqdm.auto import tqdm\n",
    "import xml.etree.ElementTree as ET\n",
    "\n",
    "import logging # I use this to have more information about what's going on\n",
    "logging.basicConfig()\n",
    "log = logging.getLogger()\n",
    "log.setLevel('INFO')\n",
    "\n",
    "\n",
    "import cv2\n",
    "import os\n",
    "import math\n",
    "import moviepy as mp"
   ]
  },
  {
   "cell_type": "markdown",
   "id": "6fdb3abc",
   "metadata": {},
   "source": [
    "# TO DO \n",
    "update the video numbers in the list below and press run all "
   ]
  },
  {
   "cell_type": "code",
   "execution_count": null,
   "id": "d9b66c51",
   "metadata": {},
   "outputs": [],
   "source": [
    "list_to_do = [2630,2631,2632,2634,2635,2636,2637,2638,2639, 2640,2641,2642,2643,2644,2645]\n",
    "\n"
   ]
  },
  {
   "cell_type": "markdown",
   "metadata": {},
   "source": [
    "# <a id='toc3_'></a>[REGISTER DATA SET](#toc0_)"
   ]
  },
  {
   "cell_type": "code",
   "execution_count": 98,
   "id": "08b2d486",
   "metadata": {},
   "outputs": [
    {
     "name": "stdout",
     "output_type": "stream",
     "text": [
      "\u001b[5m\u001b[31mWARNING\u001b[0m \u001b[32m[05/27 21:42:23 d2.data.datasets.coco]: \u001b[0m\n",
      "Category ids in annotations are not in [1, #categories]! We'll apply a mapping for you.\n",
      "\n",
      "\u001b[32m[05/27 21:42:23 d2.data.datasets.coco]: \u001b[0mLoaded 1807 images in COCO format from HeadAndTankDetect.v4i.coco/train/train.json\n",
      "\u001b[5m\u001b[31mWARNING\u001b[0m \u001b[32m[05/27 21:42:23 d2.data.datasets.coco]: \u001b[0m\n",
      "Category ids in annotations are not in [1, #categories]! We'll apply a mapping for you.\n",
      "\n",
      "\u001b[32m[05/27 21:42:23 d2.data.datasets.coco]: \u001b[0mLoaded 719 images in COCO format from HeadAndTankDetect.v4i.coco/train/val.json\n",
      "Registered objects\n",
      "Number of images in train set: \n",
      "\u001b[5m\u001b[31mWARNING\u001b[0m \u001b[32m[05/27 21:42:23 d2.data.datasets.coco]: \u001b[0m\n",
      "Category ids in annotations are not in [1, #categories]! We'll apply a mapping for you.\n",
      "\n",
      "\u001b[32m[05/27 21:42:23 d2.data.datasets.coco]: \u001b[0mLoaded 1807 images in COCO format from HeadAndTankDetect.v4i.coco/train/train.json\n",
      "1807\n",
      "Number of images in val set: \n",
      "\u001b[5m\u001b[31mWARNING\u001b[0m \u001b[32m[05/27 21:42:24 d2.data.datasets.coco]: \u001b[0m\n",
      "Category ids in annotations are not in [1, #categories]! We'll apply a mapping for you.\n",
      "\n",
      "\u001b[32m[05/27 21:42:24 d2.data.datasets.coco]: \u001b[0mLoaded 719 images in COCO format from HeadAndTankDetect.v4i.coco/train/val.json\n",
      "719\n"
     ]
    }
   ],
   "source": [
    "coco = \"HeadAndTankDetect.v4i.coco/train/_annotations.coco.json\"\n",
    "images = \"HeadAndTankDetect.v4i.coco/train/\"\n",
    "\n",
    "source_dir = images\n",
    "\n",
    "#Register datasets\n",
    "register_coco_instances('train', {}, os.path.join(source_dir, 'train.json'), source_dir)\n",
    "register_coco_instances('val', {}, os.path.join(source_dir, 'val.json'), source_dir)\n",
    "\n",
    "#Get the internal representation\n",
    "train_dicts = DatasetCatalog.get(\"train\")\n",
    "test_dicts = DatasetCatalog.get(\"val\")\n",
    "\n",
    "#Get the metadata\n",
    "train_metadata = MetadataCatalog.get(\"train\")\n",
    "test_metadata = MetadataCatalog.get(\"val\")\n",
    "\n",
    "print(f\"Registered objects\")\n",
    "\n",
    "print(\"Number of images in train set: \")\n",
    "print(len(DatasetCatalog.get(\"train\")))\n",
    "print(\"Number of images in val set: \")\n",
    "print(len(DatasetCatalog.get(\"val\")))"
   ]
  },
  {
   "cell_type": "markdown",
   "metadata": {},
   "source": [
    "# <a id='toc4_'></a>[CLASS NAMES](#toc0_)"
   ]
  },
  {
   "cell_type": "code",
   "execution_count": 99,
   "id": "28ff67af",
   "metadata": {},
   "outputs": [
    {
     "name": "stdout",
     "output_type": "stream",
     "text": [
      "Metadata(name='val', json_file='HeadAndTankDetect.v4i.coco/train/val.json', image_root='HeadAndTankDetect.v4i.coco/train/', evaluator_type='coco', thing_classes=['Tank', 'Head', 'Tank', 'assistant', 'nose'], thing_dataset_id_to_contiguous_id={0: 0, 1: 1, 2: 2, 3: 3, 4: 4})\n",
      "Class names: ['Tank', 'Head', 'Tank', 'assistant', 'nose']\n"
     ]
    }
   ],
   "source": [
    "print(test_metadata)\n",
    "print(\"Class names:\", train_metadata.get(\"thing_classes\"))\n",
    "nr_classes = len(train_metadata.get(\"thing_classes\"))"
   ]
  },
  {
   "cell_type": "markdown",
   "metadata": {},
   "source": [
    "# <a id='toc5_'></a>[SETUP THE MODEL FOR INFERENCE](#toc0_)"
   ]
  },
  {
   "cell_type": "code",
   "execution_count": 100,
   "id": "cb20937d",
   "metadata": {},
   "outputs": [],
   "source": [
    "\n",
    "def setup_detectron2(nr_classes=nr_classes):\n",
    "\n",
    "    model =  \"COCO-Detection/faster_rcnn_R_50_FPN_3x.yaml\"\n",
    "    cfg = get_cfg()\n",
    "    cfg.merge_from_file(model_zoo.get_config_file(model))\n",
    "\n",
    "    cfg.MODEL.DEVICE = \"cuda\" if torch.cuda.is_available() else \"cpu\"\n",
    "\n",
    "    #cfg.MODEL.WEIGHTS = model_zoo.get_checkpoint_url(model)\n",
    "    cfg.MODEL.WEIGHTS = os.path.join(cfg.OUTPUT_DIR, \"model_final.pth\")  \n",
    "\n",
    "    cfg.MODEL.ROI_HEADS.NUM_CLASSES = nr_classes  \n",
    "    cfg.MODEL.ROI_HEADS.SCORE_THRESH_TEST = 0.3\n",
    "    # set threshold for this model : \n",
    "    #Higher value (0.8) = More selective, only very confident predictions remain\n",
    "    #Lower value (e.g., 0.5) = More permissive, includes less confident predictions\n",
    "    predictor = DefaultPredictor(cfg)\n",
    "\n",
    "    return predictor\n"
   ]
  },
  {
   "cell_type": "markdown",
   "metadata": {},
   "source": [
    "# <a id='toc7_'></a>[INFERENCE ON VIDEO](#toc0_)"
   ]
  },
  {
   "cell_type": "code",
   "execution_count": 101,
   "id": "f275e5c7",
   "metadata": {},
   "outputs": [],
   "source": [
    "# Process video and save output\n",
    "def process_video(input_video_path, output_video_path):\n",
    "\n",
    "    frame_count = 0\n",
    "    jar_detection_data = []\n",
    "    bounding_box_location_tank_head = []\n",
    "\n",
    "    predictor = setup_detectron2()\n",
    "    cap = cv2.VideoCapture(input_video_path)\n",
    "\n",
    "    # Get video properties\n",
    "    frame_width = int(cap.get(cv2.CAP_PROP_FRAME_WIDTH))\n",
    "    frame_height = int(cap.get(cv2.CAP_PROP_FRAME_HEIGHT))\n",
    "    fps = cap.get(cv2.CAP_PROP_FPS)\n",
    "\n",
    "    # Define the codec and create VideoWriter object\n",
    "    fourcc = cv2.VideoWriter_fourcc(*'mp4v')  # or 'XVID', 'MJPG', etc.\n",
    "    out = cv2.VideoWriter(output_video_path, fourcc, fps, (frame_width, frame_height))\n",
    "\n",
    "    while cap.isOpened():\n",
    "        ret, frame = cap.read()\n",
    "        if not ret:\n",
    "            break\n",
    "\n",
    "        # Perform object detection\n",
    "        outputs = predictor(frame)\n",
    "\n",
    "        # Draw bounding boxes\n",
    "        instances = outputs[\"instances\"].to(\"cpu\")\n",
    "\n",
    "        boxes = instances.pred_boxes.tensor.numpy()               \n",
    "        scores = instances.scores.numpy()\n",
    "        classes = instances.pred_classes.numpy()\n",
    "\n",
    "        # Save the instances for statistics & store timestamps\n",
    "\n",
    "        if 4 in instances.pred_classes : \n",
    "            timestamp = frame_count / fps  \n",
    "        \n",
    "            entry = {\n",
    "                \"frame_number\": frame_count,\n",
    "                \"timestamp\": timestamp,\n",
    "                \"bounding_box\": boxes.tolist(),\n",
    "                \"confidence\": instances.scores.tolist(),\n",
    "                \"pred_classes\": instances.pred_classes.tolist()\n",
    "            }  \n",
    "\n",
    "        else: \n",
    "            timestamp = frame_count / fps  \n",
    "        \n",
    "            entry = {\n",
    "                \"frame_number\": frame_count,\n",
    "                \"timestamp\": timestamp,\n",
    "                \"bounding_box\": boxes.tolist(),\n",
    "                \"confidence\": instances.scores.tolist(),\n",
    "                \"pred_classes\": instances.pred_classes.tolist()\n",
    "            }\n",
    "\n",
    "\n",
    "        bounding_box_location_tank_head.append(entry)\n",
    "        frame_count += 1\n",
    "\n",
    "\n",
    "\n",
    "        for box, score, cls in zip(boxes, scores, classes):\n",
    "            if score > 0.5:  # Confidence threshold\n",
    "                x1, y1, x2, y2 = map(int, box)\n",
    "\n",
    "                class_name = train_metadata.thing_classes[cls]\n",
    "                label = f\"{class_name}: {score:.2f}\"\n",
    "\n",
    "                if cls == 1:  # class 1 is 'head'\n",
    "                    continue\n",
    "                    # cv2.rectangle(frame, (x1, y1), (x2, y2), (0, 170, 0), 2)\n",
    "                    # cv2.putText(frame, label, (x1, y1 - 10), cv2.FONT_HERSHEY_SIMPLEX, 0.7, (0, 170, 0), 2)\n",
    "\n",
    "                elif cls == 4:  #  class 4 is 'nose'\n",
    "                    cv2.rectangle(frame, (x1, y1), (x2, y2), (170, 170, 0), 2)\n",
    "                    cv2.putText(frame, label, (x1, y1 - 10), cv2.FONT_HERSHEY_SIMPLEX, 0.7, (170, 170, 0), 2)\n",
    "\n",
    "                elif cls == 2:  #  class 2 is 'tank'\n",
    "                    cv2.rectangle(frame, (x1, y1), (x2, y2), (170, 0, 0), 2)\n",
    "                    cv2.putText(frame, label, (x1, y1 - 10), cv2.FONT_HERSHEY_SIMPLEX, 0.7, (170, 0, 0), 2)\n",
    "                \n",
    "                else:                \n",
    "                    continue\n",
    "\n",
    "        # Write the frame\n",
    "        out.write(frame)\n",
    "\n",
    "\n",
    "    # Release everything\n",
    "    cap.release()\n",
    "    out.release()\n",
    "    cv2.destroyAllWindows()\n",
    "    return bounding_box_location_tank_head, fps\n",
    "    \n",
    "\n"
   ]
  },
  {
   "cell_type": "markdown",
   "id": "3ddfd3bb",
   "metadata": {},
   "source": [
    "# VIDEO NAMES + INPUT + OUTPUTFOLDER + DURATION"
   ]
  },
  {
   "cell_type": "code",
   "execution_count": 102,
   "id": "3bcb5e77",
   "metadata": {},
   "outputs": [
    {
     "name": "stdout",
     "output_type": "stream",
     "text": [
      "Video number: 2630\n",
      "Input video duration: 26.09 seconds\n"
     ]
    }
   ],
   "source": [
    "\n",
    "input_video_path = \"Videos_Cut/DSCN2630.mp4\"\n",
    "\n",
    "vid_nr = input_video_path[-8:-4]\n",
    "print(\"Video number:\", vid_nr)\n",
    "\n",
    "\n",
    "f = \"SniffingSnippetsIsabelle/\"\n",
    "output_video_name = vid_nr + 'processed_output.mp4'\n",
    "output_video_path = os.path.join(f, output_video_name)\n",
    "\n",
    "# duration of the video in seconds\n",
    "input_video_duration = mp.VideoFileClip(input_video_path).duration\n",
    "print(\"Input video duration:\", input_video_duration, \"seconds\")\n",
    "\n"
   ]
  },
  {
   "cell_type": "markdown",
   "id": "d2de62ef",
   "metadata": {},
   "source": [
    "The duration of a video in seconds is directly related to the total frame count and the frame rate (frames per second, or fps) by the following formula:\n",
    "\n",
    "Duration (seconds) = Total Frame Count / FPS\n",
    " \n",
    "Total Frame Count: The number of individual frames in the video.\n",
    "\n",
    "FPS (Frames Per Second): How many frames are displayed each second.\n",
    "\n",
    "For example, if a video has 600 frames and a frame rate of 10 fps, the duration is:\n",
    "\n",
    "600 / 10 = 60  seconds\n",
    "\n",
    "This relationship is fundamental in video processing and editing. However, it's important to note that in some video formats or editing scenarios, the actual frame count may not exactly equal fps × duration due to rounding, dropped frames, or variable frame rates. For most standard videos with a constant frame rate, the formula above holds true."
   ]
  },
  {
   "cell_type": "markdown",
   "id": "17fe105c",
   "metadata": {},
   "source": [
    "# FUNCTION BOUNDING BOXES  "
   ]
  },
  {
   "cell_type": "code",
   "execution_count": 103,
   "id": "9a2786b6",
   "metadata": {},
   "outputs": [],
   "source": [
    "def select_bboxes(bboxes, indices):\n",
    "    return [bboxes[i] for i in indices if i < len(bboxes)]"
   ]
  },
  {
   "cell_type": "markdown",
   "id": "2b02b67a",
   "metadata": {},
   "source": [
    "# FUNCTION OVERLAP"
   ]
  },
  {
   "cell_type": "code",
   "execution_count": 104,
   "id": "4a135e06",
   "metadata": {},
   "outputs": [],
   "source": [
    "def bbox_overlap(box1, box2):\n",
    "    return (box1[0] < box2[2] and box1[2] > box2[0]) and \\\n",
    "           (box1[1] < box2[3] and box1[3] > box2[1])"
   ]
  },
  {
   "cell_type": "markdown",
   "id": "022fe6f7",
   "metadata": {},
   "source": [
    "# FUNCTION START STOP SNIFFING"
   ]
  },
  {
   "cell_type": "code",
   "execution_count": 105,
   "id": "c4703e1a",
   "metadata": {},
   "outputs": [],
   "source": [
    "def start_stop_sniffing(bounding_box_location_tank_head) :\n",
    "    bb = bounding_box_location_tank_head.copy()\n",
    "    bb = pd.DataFrame(bb)\n",
    "\n",
    "    bb['indexes_head'] = bb[\"pred_classes\"].apply(lambda x: [i for i, v in enumerate(x) if v == 1])\n",
    "    bb['indexes_tank'] = bb[\"pred_classes\"].apply(lambda x: [i for i, v in enumerate(x) if v == 2])\n",
    "    bb['indexes_nose'] = bb[\"pred_classes\"].apply(lambda x: [i for i, v in enumerate(x) if v == 4])\n",
    "\n",
    "    bb['bboxes_head'] = bb.apply(lambda row: select_bboxes(row['bounding_box'], row['indexes_head']), axis=1)\n",
    "    bb['bboxes_tanks'] = bb.apply(lambda row: select_bboxes(row['bounding_box'], row['indexes_tank']), axis=1)\n",
    "    bb['bboxes_nose'] = bb.apply(lambda row: select_bboxes(row['bounding_box'], row['indexes_nose']), axis=1)\n",
    "\n",
    "    bb['sniffing'] = bb.apply(\n",
    "        lambda row: (\n",
    "            'sniffing' if any(\n",
    "                bbox_overlap(n, t)\n",
    "                for n in row['bboxes_nose']\n",
    "                for t in row['bboxes_tanks']\n",
    "            ) else 'not_sniffing'\n",
    "        ),\n",
    "        axis=1\n",
    "    )\n",
    "\n",
    "    bb['prev_sniffing'] = bb['sniffing'].shift(1)\n",
    "    bb['next_sniffing'] = bb['sniffing'].shift(-1)\n",
    "\n",
    "    bb['start-stop'] = \"continue\"\n",
    "    if bb['prev_sniffing'] is None:\n",
    "        bb['start-stop'] = 'start'\n",
    "\n",
    "\n",
    "\n",
    "    # sniffing starts when previous behavior was nothing or not sniffing\n",
    "    bb['start-stop'] = bb.apply(\n",
    "        lambda row: 'start' if row['prev_sniffing'] is None and row['sniffing'] == 'sniffing' else row['start-stop'], axis=1\n",
    "    )\n",
    "\n",
    "    bb['start-stop'] = bb.apply(\n",
    "        lambda row: 'start' if row['prev_sniffing'] != 'sniffing' and row['sniffing'] == 'sniffing' else row['start-stop'], \n",
    "         axis=1\n",
    "    )\n",
    "\n",
    "    # sniffing stops when current is not sniffing and previous was sniffing\n",
    "    bb['start-stop'] = bb.apply(\n",
    "        lambda row: 'stop' if row['sniffing'] != 'sniffing' and row['prev_sniffing'] == 'sniffing' else row['start-stop'], \n",
    "        axis=1\n",
    "    )\n",
    "\n",
    "    # sniffing stops when next sniffing is none \n",
    "    bb['start-stop'] = bb.apply(\n",
    "        lambda row: 'stop' if row['next_sniffing'] is None and row['sniffing'] == 'sniffing' else row['start-stop'], \n",
    "        axis=1\n",
    "    )\n",
    "\n",
    "    \n",
    "    bb1 = bb.copy()\n",
    "    bb1.drop(columns=['bounding_box', 'confidence', 'pred_classes', 'indexes_head', 'indexes_tank', 'bboxes_head', 'bboxes_tanks'], inplace=True)\n",
    "\n",
    "    bb1 = bb1[bb1['start-stop'].isin(['start', 'stop'])]\n",
    "    bb2 = bb1.copy()\n",
    "    bb2.drop(columns=['prev_sniffing', 'next_sniffing'], inplace=True)\n",
    "    bb3 = bb2.copy()\n",
    "    bb3 = bb3[bb3['start-stop'] == 'start']\n",
    "\n",
    "    bb4 = bb2.copy()\n",
    "    bb4 = bb2[bb2['start-stop'] == 'stop']\n",
    "\n",
    "    bb3.reset_index(drop=True, inplace=True)\n",
    "    bb4.reset_index(drop=True, inplace=True)\n",
    "    bb3['stop_timestamp'] = bb4['timestamp']\n",
    "\n",
    "    bb3.drop(columns=['sniffing', 'start-stop'], inplace=True)\n",
    "    bb3.head(25)\n",
    "\n",
    "\n",
    "    bb4 = bb3.copy()\n",
    "    bb4.rename(columns={'timestamp': 'start_timestamp'}, inplace=True)\n",
    "\n",
    "    bb4.drop(columns=['indexes_nose', 'bboxes_nose'], inplace=True)\n",
    "\n",
    "\n",
    "    # if value in stop_timestamp is NaN, then set it to the end of the video duration\n",
    "    # convert duration of the video to stop_timestamp using frame count and fps\n",
    "\n",
    "    frame_count = bb4['frame_number'].max() \n",
    "    last_timestamp = frame_count / fps  \n",
    "\n",
    "\n",
    "    # Alternatively, you can use moviepy to get the duration of the video\n",
    "    last_timestamp =   mp.VideoFileClip(input_video_path).duration \n",
    "\n",
    "    # Ensure that the last row's stop_timestamp is set to the last timestamp in the video\n",
    "\n",
    "    if pd.isna(bb4.loc[bb4.index[-1], 'stop_timestamp']):\n",
    "        bb4.loc[bb4.index[-1], 'stop_timestamp'] = last_timestamp\n",
    "\n",
    "        \n",
    "    # Convert start_timestamp and stop_timestamp to float\n",
    "    bb4['start_timestamp'] = bb4['start_timestamp'].astype(float)\n",
    "    bb4['stop_timestamp'] = bb4['stop_timestamp'].astype(float)\n",
    "    # Calculate the duration of each sniffing event\n",
    "    bb4['duration'] = bb4['stop_timestamp'] - bb4['start_timestamp']\n",
    "\n",
    "    # calculate the last timestamp in the video\n",
    "    last_timestamp = bb4['start_timestamp'].max() if not bb4['start_timestamp'].empty else 0\n",
    "\n",
    "    if pd.isna(bb4.loc[bb4.index[-1], 'stop_timestamp']):\n",
    "        bb4.loc[bb4.index[-1], 'stop_timestamp'] = last_timestamp\n",
    "\n",
    "    bb4['stop_timestamp'] = bb4['stop_timestamp'].astype(float)\n",
    "    bb4['start_timestamp'] = bb4['start_timestamp'].astype(float)\n",
    "    bb4['duration'] = bb4['stop_timestamp'] - bb4['start_timestamp']\n",
    "    bb4.head(10)\n",
    "    return bb, bb2, bb4\n"
   ]
  },
  {
   "cell_type": "markdown",
   "id": "fe220798",
   "metadata": {},
   "source": [
    "# FUNCTION CSV "
   ]
  },
  {
   "cell_type": "code",
   "execution_count": 106,
   "id": "37cbb5e2",
   "metadata": {},
   "outputs": [],
   "source": [
    "\n",
    "def save_csv(foldername = f, vid_nr = vid_nr, bb = bb, bb2 = bb2, bb4 = bb4):\n",
    "\n",
    "    csv_name = vid_nr + '_sniffing_start_stop_Complete.csv'\n",
    "    output_folder_csv_name = os.path.join(f, csv_name)\n",
    "    bb.to_csv(output_folder_csv_name , index=False)\n",
    "\n",
    "    csv_name2 = vid_nr + '_sniffing_start_stop.csv'\n",
    "    output_folder_csv_name = os.path.join(f, csv_name2)\n",
    "    bb2.to_csv(output_folder_csv_name, index=False)\n",
    "\n",
    "    csv_name3 = vid_nr + '_sniffing_just_startANDSTOPTIMES.csv'\n",
    "    output_folder_csv_name = os.path.join(f, csv_name3)\n",
    "    bb4.to_csv(output_folder_csv_name, index=False)\n",
    "\n",
    "    print(vid_nr)\n"
   ]
  },
  {
   "cell_type": "markdown",
   "id": "07cb6f98",
   "metadata": {},
   "source": [
    "# FUNCTION CREATE SNIPPETS"
   ]
  },
  {
   "cell_type": "code",
   "execution_count": 107,
   "id": "1632673d",
   "metadata": {},
   "outputs": [],
   "source": [
    "def create_snippet(video_path, start, stop, output_path):\n",
    "    video = mp.VideoFileClip(video_path)\n",
    "    snippet = video.subclipped(start, stop).without_audio() \n",
    "    snippet.write_videofile(output_path, codec='libx264')\n",
    "  "
   ]
  },
  {
   "cell_type": "markdown",
   "id": "43bf17ba",
   "metadata": {},
   "source": [
    "# EXECUTE EVERYTHING "
   ]
  },
  {
   "cell_type": "code",
   "execution_count": null,
   "id": "18edafea",
   "metadata": {},
   "outputs": [
    {
     "name": "stdout",
     "output_type": "stream",
     "text": [
      "Video number: 2630\n",
      "Input video duration: 26.09 seconds\n",
      "\u001b[32m[05/27 21:42:25 d2.checkpoint.detection_checkpoint]: \u001b[0m[DetectionCheckpointer] Loading from ./output/model_final.pth ...\n"
     ]
    },
    {
     "name": "stderr",
     "output_type": "stream",
     "text": [
      "INFO:fvcore.common.checkpoint:[Checkpointer] Loading from ./output/model_final.pth ...\n"
     ]
    },
    {
     "name": "stdout",
     "output_type": "stream",
     "text": [
      "2630\n",
      "MoviePy - Building video SniffingSnippetsIsabelle/2630_snippet_0.mp4.\n",
      "MoviePy - Writing video SniffingSnippetsIsabelle/2630_snippet_0.mp4\n",
      "\n"
     ]
    },
    {
     "name": "stderr",
     "output_type": "stream",
     "text": [
      "                                                            "
     ]
    },
    {
     "name": "stdout",
     "output_type": "stream",
     "text": [
      "MoviePy - Done !\n",
      "MoviePy - video ready SniffingSnippetsIsabelle/2630_snippet_0.mp4\n"
     ]
    },
    {
     "name": "stderr",
     "output_type": "stream",
     "text": [
      "\r"
     ]
    },
    {
     "name": "stdout",
     "output_type": "stream",
     "text": [
      "MoviePy - Building video SniffingSnippetsIsabelle/2630_snippet_1.mp4.\n",
      "MoviePy - Writing video SniffingSnippetsIsabelle/2630_snippet_1.mp4\n",
      "\n"
     ]
    },
    {
     "name": "stderr",
     "output_type": "stream",
     "text": [
      "                                                            "
     ]
    },
    {
     "name": "stdout",
     "output_type": "stream",
     "text": [
      "MoviePy - Done !\n",
      "MoviePy - video ready SniffingSnippetsIsabelle/2630_snippet_1.mp4\n"
     ]
    },
    {
     "name": "stderr",
     "output_type": "stream",
     "text": [
      "\r"
     ]
    },
    {
     "name": "stdout",
     "output_type": "stream",
     "text": [
      "MoviePy - Building video SniffingSnippetsIsabelle/2630_snippet_2.mp4.\n",
      "MoviePy - Writing video SniffingSnippetsIsabelle/2630_snippet_2.mp4\n",
      "\n"
     ]
    },
    {
     "name": "stderr",
     "output_type": "stream",
     "text": [
      "                                                            "
     ]
    },
    {
     "name": "stdout",
     "output_type": "stream",
     "text": [
      "MoviePy - Done !\n",
      "MoviePy - video ready SniffingSnippetsIsabelle/2630_snippet_2.mp4\n"
     ]
    },
    {
     "name": "stderr",
     "output_type": "stream",
     "text": [
      "\r"
     ]
    },
    {
     "name": "stdout",
     "output_type": "stream",
     "text": [
      "MoviePy - Building video SniffingSnippetsIsabelle/2630_snippet_3.mp4.\n",
      "MoviePy - Writing video SniffingSnippetsIsabelle/2630_snippet_3.mp4\n",
      "\n"
     ]
    },
    {
     "name": "stderr",
     "output_type": "stream",
     "text": [
      "                                                            "
     ]
    },
    {
     "name": "stdout",
     "output_type": "stream",
     "text": [
      "MoviePy - Done !\n",
      "MoviePy - video ready SniffingSnippetsIsabelle/2630_snippet_3.mp4\n"
     ]
    },
    {
     "name": "stderr",
     "output_type": "stream",
     "text": [
      "\r"
     ]
    },
    {
     "name": "stdout",
     "output_type": "stream",
     "text": [
      "MoviePy - Building video SniffingSnippetsIsabelle/2630_snippet_4.mp4.\n",
      "MoviePy - Writing video SniffingSnippetsIsabelle/2630_snippet_4.mp4\n",
      "\n"
     ]
    },
    {
     "name": "stderr",
     "output_type": "stream",
     "text": [
      "                                                            "
     ]
    },
    {
     "name": "stdout",
     "output_type": "stream",
     "text": [
      "MoviePy - Done !\n",
      "MoviePy - video ready SniffingSnippetsIsabelle/2630_snippet_4.mp4\n"
     ]
    },
    {
     "name": "stderr",
     "output_type": "stream",
     "text": [
      "\r"
     ]
    },
    {
     "name": "stdout",
     "output_type": "stream",
     "text": [
      "MoviePy - Building video SniffingSnippetsIsabelle/2630_snippet_5.mp4.\n",
      "MoviePy - Writing video SniffingSnippetsIsabelle/2630_snippet_5.mp4\n",
      "\n"
     ]
    },
    {
     "name": "stderr",
     "output_type": "stream",
     "text": [
      "                                                            "
     ]
    },
    {
     "name": "stdout",
     "output_type": "stream",
     "text": [
      "MoviePy - Done !\n",
      "MoviePy - video ready SniffingSnippetsIsabelle/2630_snippet_5.mp4\n"
     ]
    },
    {
     "name": "stderr",
     "output_type": "stream",
     "text": [
      "\r"
     ]
    },
    {
     "name": "stdout",
     "output_type": "stream",
     "text": [
      "MoviePy - Building video SniffingSnippetsIsabelle/2630_snippet_6.mp4.\n",
      "MoviePy - Writing video SniffingSnippetsIsabelle/2630_snippet_6.mp4\n",
      "\n"
     ]
    },
    {
     "name": "stderr",
     "output_type": "stream",
     "text": [
      "                                                            "
     ]
    },
    {
     "name": "stdout",
     "output_type": "stream",
     "text": [
      "MoviePy - Done !\n",
      "MoviePy - video ready SniffingSnippetsIsabelle/2630_snippet_6.mp4\n"
     ]
    },
    {
     "name": "stderr",
     "output_type": "stream",
     "text": [
      "\r"
     ]
    },
    {
     "name": "stdout",
     "output_type": "stream",
     "text": [
      "MoviePy - Building video SniffingSnippetsIsabelle/2630_snippet_7.mp4.\n",
      "MoviePy - Writing video SniffingSnippetsIsabelle/2630_snippet_7.mp4\n",
      "\n"
     ]
    },
    {
     "name": "stderr",
     "output_type": "stream",
     "text": [
      "                                                            "
     ]
    },
    {
     "name": "stdout",
     "output_type": "stream",
     "text": [
      "MoviePy - Done !\n",
      "MoviePy - video ready SniffingSnippetsIsabelle/2630_snippet_7.mp4\n"
     ]
    },
    {
     "name": "stderr",
     "output_type": "stream",
     "text": [
      "\r"
     ]
    },
    {
     "name": "stdout",
     "output_type": "stream",
     "text": [
      "MoviePy - Building video SniffingSnippetsIsabelle/2630_snippet_8.mp4.\n",
      "MoviePy - Writing video SniffingSnippetsIsabelle/2630_snippet_8.mp4\n",
      "\n"
     ]
    },
    {
     "name": "stderr",
     "output_type": "stream",
     "text": [
      "                                                            "
     ]
    },
    {
     "name": "stdout",
     "output_type": "stream",
     "text": [
      "MoviePy - Done !\n",
      "MoviePy - video ready SniffingSnippetsIsabelle/2630_snippet_8.mp4\n"
     ]
    },
    {
     "name": "stderr",
     "output_type": "stream",
     "text": [
      "\r"
     ]
    },
    {
     "name": "stdout",
     "output_type": "stream",
     "text": [
      "MoviePy - Building video SniffingSnippetsIsabelle/2630_snippet_9.mp4.\n",
      "MoviePy - Writing video SniffingSnippetsIsabelle/2630_snippet_9.mp4\n",
      "\n"
     ]
    },
    {
     "name": "stderr",
     "output_type": "stream",
     "text": [
      "                                                            "
     ]
    },
    {
     "name": "stdout",
     "output_type": "stream",
     "text": [
      "MoviePy - Done !\n",
      "MoviePy - video ready SniffingSnippetsIsabelle/2630_snippet_9.mp4\n"
     ]
    },
    {
     "name": "stderr",
     "output_type": "stream",
     "text": [
      "\r"
     ]
    },
    {
     "name": "stdout",
     "output_type": "stream",
     "text": [
      "MoviePy - Building video SniffingSnippetsIsabelle/2630_snippet_10.mp4.\n",
      "MoviePy - Writing video SniffingSnippetsIsabelle/2630_snippet_10.mp4\n",
      "\n"
     ]
    },
    {
     "name": "stderr",
     "output_type": "stream",
     "text": [
      "                                                            "
     ]
    },
    {
     "name": "stdout",
     "output_type": "stream",
     "text": [
      "MoviePy - Done !\n",
      "MoviePy - video ready SniffingSnippetsIsabelle/2630_snippet_10.mp4\n"
     ]
    },
    {
     "name": "stderr",
     "output_type": "stream",
     "text": [
      "\r"
     ]
    },
    {
     "name": "stdout",
     "output_type": "stream",
     "text": [
      "MoviePy - Building video SniffingSnippetsIsabelle/2630_snippet_11.mp4.\n",
      "MoviePy - Writing video SniffingSnippetsIsabelle/2630_snippet_11.mp4\n",
      "\n"
     ]
    },
    {
     "name": "stderr",
     "output_type": "stream",
     "text": [
      "                                                            "
     ]
    },
    {
     "name": "stdout",
     "output_type": "stream",
     "text": [
      "MoviePy - Done !\n",
      "MoviePy - video ready SniffingSnippetsIsabelle/2630_snippet_11.mp4\n"
     ]
    },
    {
     "name": "stderr",
     "output_type": "stream",
     "text": [
      "\r"
     ]
    },
    {
     "name": "stdout",
     "output_type": "stream",
     "text": [
      "MoviePy - Building video SniffingSnippetsIsabelle/2630_snippet_12.mp4.\n",
      "MoviePy - Writing video SniffingSnippetsIsabelle/2630_snippet_12.mp4\n",
      "\n"
     ]
    },
    {
     "name": "stderr",
     "output_type": "stream",
     "text": [
      "                                                             "
     ]
    },
    {
     "name": "stdout",
     "output_type": "stream",
     "text": [
      "MoviePy - Done !\n",
      "MoviePy - video ready SniffingSnippetsIsabelle/2630_snippet_12.mp4\n"
     ]
    },
    {
     "name": "stderr",
     "output_type": "stream",
     "text": [
      "\r"
     ]
    },
    {
     "name": "stdout",
     "output_type": "stream",
     "text": [
      "MoviePy - Building video SniffingSnippetsIsabelle/2630_snippet_13.mp4.\n",
      "MoviePy - Writing video SniffingSnippetsIsabelle/2630_snippet_13.mp4\n",
      "\n"
     ]
    },
    {
     "name": "stderr",
     "output_type": "stream",
     "text": [
      "                                                            "
     ]
    },
    {
     "name": "stdout",
     "output_type": "stream",
     "text": [
      "MoviePy - Done !\n",
      "MoviePy - video ready SniffingSnippetsIsabelle/2630_snippet_13.mp4\n"
     ]
    },
    {
     "name": "stderr",
     "output_type": "stream",
     "text": [
      "\r"
     ]
    },
    {
     "name": "stdout",
     "output_type": "stream",
     "text": [
      "MoviePy - Building video SniffingSnippetsIsabelle/2630_snippet_14.mp4.\n",
      "MoviePy - Writing video SniffingSnippetsIsabelle/2630_snippet_14.mp4\n",
      "\n"
     ]
    },
    {
     "name": "stderr",
     "output_type": "stream",
     "text": [
      "                                                             \r"
     ]
    },
    {
     "name": "stdout",
     "output_type": "stream",
     "text": [
      "MoviePy - Done !\n",
      "MoviePy - video ready SniffingSnippetsIsabelle/2630_snippet_14.mp4\n",
      "MoviePy - Building video SniffingSnippetsIsabelle/2630_snippet_15.mp4.\n",
      "MoviePy - Writing video SniffingSnippetsIsabelle/2630_snippet_15.mp4\n",
      "\n"
     ]
    },
    {
     "name": "stderr",
     "output_type": "stream",
     "text": [
      "                                                             \r"
     ]
    },
    {
     "name": "stdout",
     "output_type": "stream",
     "text": [
      "MoviePy - Done !\n",
      "MoviePy - video ready SniffingSnippetsIsabelle/2630_snippet_15.mp4\n",
      "MoviePy - Building video SniffingSnippetsIsabelle/2630_snippet_16.mp4.\n",
      "MoviePy - Writing video SniffingSnippetsIsabelle/2630_snippet_16.mp4\n",
      "\n"
     ]
    },
    {
     "name": "stderr",
     "output_type": "stream",
     "text": [
      "                                                            "
     ]
    },
    {
     "name": "stdout",
     "output_type": "stream",
     "text": [
      "MoviePy - Done !\n",
      "MoviePy - video ready SniffingSnippetsIsabelle/2630_snippet_16.mp4\n"
     ]
    },
    {
     "name": "stderr",
     "output_type": "stream",
     "text": [
      "\r"
     ]
    },
    {
     "name": "stdout",
     "output_type": "stream",
     "text": [
      "MoviePy - Building video SniffingSnippetsIsabelle/2630_snippet_17.mp4.\n",
      "MoviePy - Writing video SniffingSnippetsIsabelle/2630_snippet_17.mp4\n",
      "\n"
     ]
    },
    {
     "name": "stderr",
     "output_type": "stream",
     "text": [
      "                                                            \r"
     ]
    },
    {
     "name": "stdout",
     "output_type": "stream",
     "text": [
      "MoviePy - Done !\n",
      "MoviePy - video ready SniffingSnippetsIsabelle/2630_snippet_17.mp4\n",
      "MoviePy - Building video SniffingSnippetsIsabelle/2630_snippet_18.mp4.\n",
      "MoviePy - Writing video SniffingSnippetsIsabelle/2630_snippet_18.mp4\n",
      "\n"
     ]
    },
    {
     "name": "stderr",
     "output_type": "stream",
     "text": [
      "                                                            "
     ]
    },
    {
     "name": "stdout",
     "output_type": "stream",
     "text": [
      "MoviePy - Done !\n",
      "MoviePy - video ready SniffingSnippetsIsabelle/2630_snippet_18.mp4\n"
     ]
    },
    {
     "name": "stderr",
     "output_type": "stream",
     "text": [
      "\r"
     ]
    },
    {
     "name": "stdout",
     "output_type": "stream",
     "text": [
      "MoviePy - Building video SniffingSnippetsIsabelle/2630_snippet_19.mp4.\n",
      "MoviePy - Writing video SniffingSnippetsIsabelle/2630_snippet_19.mp4\n",
      "\n"
     ]
    },
    {
     "name": "stderr",
     "output_type": "stream",
     "text": [
      "                                                                       \r"
     ]
    },
    {
     "name": "stdout",
     "output_type": "stream",
     "text": [
      "MoviePy - Done !\n",
      "MoviePy - video ready SniffingSnippetsIsabelle/2630_snippet_19.mp4\n",
      "MoviePy - Building video SniffingSnippetsIsabelle/2630_snippet_20.mp4.\n",
      "MoviePy - Writing video SniffingSnippetsIsabelle/2630_snippet_20.mp4\n",
      "\n"
     ]
    },
    {
     "name": "stderr",
     "output_type": "stream",
     "text": [
      "                                                            "
     ]
    },
    {
     "name": "stdout",
     "output_type": "stream",
     "text": [
      "MoviePy - Done !\n",
      "MoviePy - video ready SniffingSnippetsIsabelle/2630_snippet_20.mp4\n"
     ]
    },
    {
     "name": "stderr",
     "output_type": "stream",
     "text": [
      "\r"
     ]
    },
    {
     "name": "stdout",
     "output_type": "stream",
     "text": [
      "MoviePy - Building video SniffingSnippetsIsabelle/2630_snippet_21.mp4.\n",
      "MoviePy - Writing video SniffingSnippetsIsabelle/2630_snippet_21.mp4\n",
      "\n"
     ]
    },
    {
     "name": "stderr",
     "output_type": "stream",
     "text": [
      "                                                            "
     ]
    },
    {
     "name": "stdout",
     "output_type": "stream",
     "text": [
      "MoviePy - Done !\n",
      "MoviePy - video ready SniffingSnippetsIsabelle/2630_snippet_21.mp4\n"
     ]
    },
    {
     "name": "stderr",
     "output_type": "stream",
     "text": [
      "\r"
     ]
    },
    {
     "name": "stdout",
     "output_type": "stream",
     "text": [
      "MoviePy - Building video SniffingSnippetsIsabelle/2630_snippet_22.mp4.\n",
      "MoviePy - Writing video SniffingSnippetsIsabelle/2630_snippet_22.mp4\n",
      "\n"
     ]
    },
    {
     "name": "stderr",
     "output_type": "stream",
     "text": [
      "                                                            "
     ]
    },
    {
     "name": "stdout",
     "output_type": "stream",
     "text": [
      "MoviePy - Done !\n",
      "MoviePy - video ready SniffingSnippetsIsabelle/2630_snippet_22.mp4\n"
     ]
    },
    {
     "name": "stderr",
     "output_type": "stream",
     "text": [
      "\r"
     ]
    },
    {
     "name": "stdout",
     "output_type": "stream",
     "text": [
      "MoviePy - Building video SniffingSnippetsIsabelle/2630_snippet_23.mp4.\n",
      "MoviePy - Writing video SniffingSnippetsIsabelle/2630_snippet_23.mp4\n",
      "\n"
     ]
    },
    {
     "name": "stderr",
     "output_type": "stream",
     "text": [
      "                                                            "
     ]
    },
    {
     "name": "stdout",
     "output_type": "stream",
     "text": [
      "MoviePy - Done !\n",
      "MoviePy - video ready SniffingSnippetsIsabelle/2630_snippet_23.mp4\n"
     ]
    },
    {
     "name": "stderr",
     "output_type": "stream",
     "text": [
      "\r"
     ]
    },
    {
     "name": "stdout",
     "output_type": "stream",
     "text": [
      "MoviePy - Building video SniffingSnippetsIsabelle/2630_snippet_24.mp4.\n",
      "MoviePy - Writing video SniffingSnippetsIsabelle/2630_snippet_24.mp4\n",
      "\n"
     ]
    },
    {
     "name": "stderr",
     "output_type": "stream",
     "text": [
      "                                                                       \r"
     ]
    },
    {
     "name": "stdout",
     "output_type": "stream",
     "text": [
      "MoviePy - Done !\n",
      "MoviePy - video ready SniffingSnippetsIsabelle/2630_snippet_24.mp4\n",
      "MoviePy - Building video SniffingSnippetsIsabelle/2630_snippet_25.mp4.\n",
      "MoviePy - Writing video SniffingSnippetsIsabelle/2630_snippet_25.mp4\n",
      "\n"
     ]
    },
    {
     "name": "stderr",
     "output_type": "stream",
     "text": [
      "                                                            "
     ]
    },
    {
     "name": "stdout",
     "output_type": "stream",
     "text": [
      "MoviePy - Done !\n",
      "MoviePy - video ready SniffingSnippetsIsabelle/2630_snippet_25.mp4\n"
     ]
    },
    {
     "name": "stderr",
     "output_type": "stream",
     "text": [
      "\r"
     ]
    },
    {
     "name": "stdout",
     "output_type": "stream",
     "text": [
      "MoviePy - Building video SniffingSnippetsIsabelle/2630_snippet_26.mp4.\n",
      "MoviePy - Writing video SniffingSnippetsIsabelle/2630_snippet_26.mp4\n",
      "\n"
     ]
    },
    {
     "name": "stderr",
     "output_type": "stream",
     "text": [
      "                                                            "
     ]
    },
    {
     "name": "stdout",
     "output_type": "stream",
     "text": [
      "MoviePy - Done !\n",
      "MoviePy - video ready SniffingSnippetsIsabelle/2630_snippet_26.mp4\n"
     ]
    },
    {
     "name": "stderr",
     "output_type": "stream",
     "text": [
      "\r"
     ]
    },
    {
     "name": "stdout",
     "output_type": "stream",
     "text": [
      "MoviePy - Building video SniffingSnippetsIsabelle/2630_snippet_27.mp4.\n",
      "MoviePy - Writing video SniffingSnippetsIsabelle/2630_snippet_27.mp4\n",
      "\n"
     ]
    },
    {
     "name": "stderr",
     "output_type": "stream",
     "text": [
      "                                                            "
     ]
    },
    {
     "name": "stdout",
     "output_type": "stream",
     "text": [
      "MoviePy - Done !\n",
      "MoviePy - video ready SniffingSnippetsIsabelle/2630_snippet_27.mp4\n"
     ]
    },
    {
     "name": "stderr",
     "output_type": "stream",
     "text": [
      "\r"
     ]
    },
    {
     "name": "stdout",
     "output_type": "stream",
     "text": [
      "MoviePy - Building video SniffingSnippetsIsabelle/2630_snippet_28.mp4.\n",
      "MoviePy - Writing video SniffingSnippetsIsabelle/2630_snippet_28.mp4\n",
      "\n"
     ]
    },
    {
     "name": "stderr",
     "output_type": "stream",
     "text": [
      "                                                            "
     ]
    },
    {
     "name": "stdout",
     "output_type": "stream",
     "text": [
      "MoviePy - Done !\n",
      "MoviePy - video ready SniffingSnippetsIsabelle/2630_snippet_28.mp4\n"
     ]
    },
    {
     "name": "stderr",
     "output_type": "stream",
     "text": [
      "\r"
     ]
    },
    {
     "name": "stdout",
     "output_type": "stream",
     "text": [
      "MoviePy - Building video SniffingSnippetsIsabelle/2630_snippet_29.mp4.\n",
      "MoviePy - Writing video SniffingSnippetsIsabelle/2630_snippet_29.mp4\n",
      "\n"
     ]
    },
    {
     "name": "stderr",
     "output_type": "stream",
     "text": [
      "                                                             \r"
     ]
    },
    {
     "name": "stdout",
     "output_type": "stream",
     "text": [
      "MoviePy - Done !\n",
      "MoviePy - video ready SniffingSnippetsIsabelle/2630_snippet_29.mp4\n",
      "MoviePy - Building video SniffingSnippetsIsabelle/2630_snippet_30.mp4.\n",
      "MoviePy - Writing video SniffingSnippetsIsabelle/2630_snippet_30.mp4\n",
      "\n"
     ]
    },
    {
     "name": "stderr",
     "output_type": "stream",
     "text": [
      "                                                            "
     ]
    },
    {
     "name": "stdout",
     "output_type": "stream",
     "text": [
      "MoviePy - Done !\n",
      "MoviePy - video ready SniffingSnippetsIsabelle/2630_snippet_30.mp4\n"
     ]
    },
    {
     "name": "stderr",
     "output_type": "stream",
     "text": [
      "\r"
     ]
    },
    {
     "name": "stdout",
     "output_type": "stream",
     "text": [
      "MoviePy - Building video SniffingSnippetsIsabelle/2630_snippet_31.mp4.\n",
      "MoviePy - Writing video SniffingSnippetsIsabelle/2630_snippet_31.mp4\n",
      "\n"
     ]
    },
    {
     "name": "stderr",
     "output_type": "stream",
     "text": [
      "                                                            "
     ]
    },
    {
     "name": "stdout",
     "output_type": "stream",
     "text": [
      "MoviePy - Done !\n",
      "MoviePy - video ready SniffingSnippetsIsabelle/2630_snippet_31.mp4\n"
     ]
    },
    {
     "name": "stderr",
     "output_type": "stream",
     "text": [
      "\r"
     ]
    },
    {
     "name": "stdout",
     "output_type": "stream",
     "text": [
      "MoviePy - Building video SniffingSnippetsIsabelle/2630_snippet_32.mp4.\n",
      "MoviePy - Writing video SniffingSnippetsIsabelle/2630_snippet_32.mp4\n",
      "\n"
     ]
    },
    {
     "name": "stderr",
     "output_type": "stream",
     "text": [
      "                                             "
     ]
    },
    {
     "name": "stdout",
     "output_type": "stream",
     "text": [
      "MoviePy - Done !\n",
      "MoviePy - video ready SniffingSnippetsIsabelle/2630_snippet_32.mp4\n"
     ]
    },
    {
     "name": "stderr",
     "output_type": "stream",
     "text": [
      "\r"
     ]
    },
    {
     "name": "stdout",
     "output_type": "stream",
     "text": [
      "MoviePy - Building video SniffingSnippetsIsabelle/2630_snippet_33.mp4.\n",
      "MoviePy - Writing video SniffingSnippetsIsabelle/2630_snippet_33.mp4\n",
      "\n"
     ]
    },
    {
     "name": "stderr",
     "output_type": "stream",
     "text": [
      "                                                            "
     ]
    },
    {
     "name": "stdout",
     "output_type": "stream",
     "text": [
      "MoviePy - Done !\n",
      "MoviePy - video ready SniffingSnippetsIsabelle/2630_snippet_33.mp4\n"
     ]
    },
    {
     "name": "stderr",
     "output_type": "stream",
     "text": [
      "\r"
     ]
    },
    {
     "name": "stdout",
     "output_type": "stream",
     "text": [
      "MoviePy - Building video SniffingSnippetsIsabelle/2630_snippet_34.mp4.\n",
      "MoviePy - Writing video SniffingSnippetsIsabelle/2630_snippet_34.mp4\n",
      "\n"
     ]
    },
    {
     "name": "stderr",
     "output_type": "stream",
     "text": [
      "                                                            "
     ]
    },
    {
     "name": "stdout",
     "output_type": "stream",
     "text": [
      "MoviePy - Done !\n",
      "MoviePy - video ready SniffingSnippetsIsabelle/2630_snippet_34.mp4\n"
     ]
    },
    {
     "name": "stderr",
     "output_type": "stream",
     "text": [
      "\r"
     ]
    },
    {
     "name": "stdout",
     "output_type": "stream",
     "text": [
      "MoviePy - Building video SniffingSnippetsIsabelle/2630_snippet_35.mp4.\n",
      "MoviePy - Writing video SniffingSnippetsIsabelle/2630_snippet_35.mp4\n",
      "\n"
     ]
    },
    {
     "name": "stderr",
     "output_type": "stream",
     "text": [
      "                                                            "
     ]
    },
    {
     "name": "stdout",
     "output_type": "stream",
     "text": [
      "MoviePy - Done !\n",
      "MoviePy - video ready SniffingSnippetsIsabelle/2630_snippet_35.mp4\n"
     ]
    },
    {
     "name": "stderr",
     "output_type": "stream",
     "text": [
      "\r"
     ]
    },
    {
     "name": "stdout",
     "output_type": "stream",
     "text": [
      "MoviePy - Building video SniffingSnippetsIsabelle/2630_snippet_36.mp4.\n",
      "MoviePy - Writing video SniffingSnippetsIsabelle/2630_snippet_36.mp4\n",
      "\n"
     ]
    },
    {
     "name": "stderr",
     "output_type": "stream",
     "text": [
      "                                             "
     ]
    },
    {
     "name": "stdout",
     "output_type": "stream",
     "text": [
      "MoviePy - Done !\n",
      "MoviePy - video ready SniffingSnippetsIsabelle/2630_snippet_36.mp4\n"
     ]
    },
    {
     "name": "stderr",
     "output_type": "stream",
     "text": [
      "\r"
     ]
    },
    {
     "name": "stdout",
     "output_type": "stream",
     "text": [
      "MoviePy - Building video SniffingSnippetsIsabelle/2630_snippet_37.mp4.\n",
      "MoviePy - Writing video SniffingSnippetsIsabelle/2630_snippet_37.mp4\n",
      "\n"
     ]
    },
    {
     "name": "stderr",
     "output_type": "stream",
     "text": [
      "                                                                       \r"
     ]
    },
    {
     "name": "stdout",
     "output_type": "stream",
     "text": [
      "MoviePy - Done !\n",
      "MoviePy - video ready SniffingSnippetsIsabelle/2630_snippet_37.mp4\n",
      "MoviePy - Building video SniffingSnippetsIsabelle/2630_snippet_38.mp4.\n",
      "MoviePy - Writing video SniffingSnippetsIsabelle/2630_snippet_38.mp4\n",
      "\n"
     ]
    },
    {
     "name": "stderr",
     "output_type": "stream",
     "text": [
      "                                             "
     ]
    },
    {
     "name": "stdout",
     "output_type": "stream",
     "text": [
      "MoviePy - Done !\n",
      "MoviePy - video ready SniffingSnippetsIsabelle/2630_snippet_38.mp4\n"
     ]
    },
    {
     "name": "stderr",
     "output_type": "stream",
     "text": [
      "\r"
     ]
    },
    {
     "name": "stdout",
     "output_type": "stream",
     "text": [
      "MoviePy - Building video SniffingSnippetsIsabelle/2630_snippet_39.mp4.\n",
      "MoviePy - Writing video SniffingSnippetsIsabelle/2630_snippet_39.mp4\n",
      "\n"
     ]
    },
    {
     "name": "stderr",
     "output_type": "stream",
     "text": [
      "                                                            "
     ]
    },
    {
     "name": "stdout",
     "output_type": "stream",
     "text": [
      "MoviePy - Done !\n",
      "MoviePy - video ready SniffingSnippetsIsabelle/2630_snippet_39.mp4\n"
     ]
    },
    {
     "name": "stderr",
     "output_type": "stream",
     "text": [
      "\r"
     ]
    },
    {
     "name": "stdout",
     "output_type": "stream",
     "text": [
      "MoviePy - Building video SniffingSnippetsIsabelle/2630_snippet_40.mp4.\n",
      "MoviePy - Writing video SniffingSnippetsIsabelle/2630_snippet_40.mp4\n",
      "\n"
     ]
    },
    {
     "name": "stderr",
     "output_type": "stream",
     "text": [
      "                                             "
     ]
    },
    {
     "name": "stdout",
     "output_type": "stream",
     "text": [
      "MoviePy - Done !\n",
      "MoviePy - video ready SniffingSnippetsIsabelle/2630_snippet_40.mp4\n"
     ]
    },
    {
     "name": "stderr",
     "output_type": "stream",
     "text": [
      "\r"
     ]
    },
    {
     "name": "stdout",
     "output_type": "stream",
     "text": [
      "MoviePy - Building video SniffingSnippetsIsabelle/2630_snippet_41.mp4.\n",
      "MoviePy - Writing video SniffingSnippetsIsabelle/2630_snippet_41.mp4\n",
      "\n"
     ]
    },
    {
     "name": "stderr",
     "output_type": "stream",
     "text": [
      "                                                            "
     ]
    },
    {
     "name": "stdout",
     "output_type": "stream",
     "text": [
      "MoviePy - Done !\n",
      "MoviePy - video ready SniffingSnippetsIsabelle/2630_snippet_41.mp4\n"
     ]
    },
    {
     "name": "stderr",
     "output_type": "stream",
     "text": [
      "\r"
     ]
    },
    {
     "name": "stdout",
     "output_type": "stream",
     "text": [
      "MoviePy - Building video SniffingSnippetsIsabelle/2630_snippet_42.mp4.\n",
      "MoviePy - Writing video SniffingSnippetsIsabelle/2630_snippet_42.mp4\n",
      "\n"
     ]
    },
    {
     "name": "stderr",
     "output_type": "stream",
     "text": [
      "                                                            "
     ]
    },
    {
     "name": "stdout",
     "output_type": "stream",
     "text": [
      "MoviePy - Done !\n",
      "MoviePy - video ready SniffingSnippetsIsabelle/2630_snippet_42.mp4\n"
     ]
    },
    {
     "name": "stderr",
     "output_type": "stream",
     "text": [
      "\r"
     ]
    },
    {
     "name": "stdout",
     "output_type": "stream",
     "text": [
      "MoviePy - Building video SniffingSnippetsIsabelle/2630_snippet_43.mp4.\n",
      "MoviePy - Writing video SniffingSnippetsIsabelle/2630_snippet_43.mp4\n",
      "\n"
     ]
    },
    {
     "name": "stderr",
     "output_type": "stream",
     "text": [
      "                                             "
     ]
    },
    {
     "name": "stdout",
     "output_type": "stream",
     "text": [
      "MoviePy - Done !\n",
      "MoviePy - video ready SniffingSnippetsIsabelle/2630_snippet_43.mp4\n"
     ]
    },
    {
     "name": "stderr",
     "output_type": "stream",
     "text": [
      "\r"
     ]
    },
    {
     "name": "stdout",
     "output_type": "stream",
     "text": [
      "MoviePy - Building video SniffingSnippetsIsabelle/2630_snippet_44.mp4.\n",
      "MoviePy - Writing video SniffingSnippetsIsabelle/2630_snippet_44.mp4\n",
      "\n"
     ]
    },
    {
     "name": "stderr",
     "output_type": "stream",
     "text": [
      "                                                            "
     ]
    },
    {
     "name": "stdout",
     "output_type": "stream",
     "text": [
      "MoviePy - Done !\n",
      "MoviePy - video ready SniffingSnippetsIsabelle/2630_snippet_44.mp4\n"
     ]
    },
    {
     "name": "stderr",
     "output_type": "stream",
     "text": [
      "\r"
     ]
    },
    {
     "name": "stdout",
     "output_type": "stream",
     "text": [
      "MoviePy - Building video SniffingSnippetsIsabelle/2630_snippet_45.mp4.\n",
      "MoviePy - Writing video SniffingSnippetsIsabelle/2630_snippet_45.mp4\n",
      "\n"
     ]
    },
    {
     "name": "stderr",
     "output_type": "stream",
     "text": [
      "                                             "
     ]
    },
    {
     "name": "stdout",
     "output_type": "stream",
     "text": [
      "MoviePy - Done !\n",
      "MoviePy - video ready SniffingSnippetsIsabelle/2630_snippet_45.mp4\n"
     ]
    },
    {
     "name": "stderr",
     "output_type": "stream",
     "text": [
      "\r"
     ]
    },
    {
     "name": "stdout",
     "output_type": "stream",
     "text": [
      "MoviePy - Building video SniffingSnippetsIsabelle/2630_snippet_46.mp4.\n",
      "MoviePy - Writing video SniffingSnippetsIsabelle/2630_snippet_46.mp4\n",
      "\n"
     ]
    },
    {
     "name": "stderr",
     "output_type": "stream",
     "text": [
      "                                                            "
     ]
    },
    {
     "name": "stdout",
     "output_type": "stream",
     "text": [
      "MoviePy - Done !\n",
      "MoviePy - video ready SniffingSnippetsIsabelle/2630_snippet_46.mp4\n"
     ]
    },
    {
     "name": "stderr",
     "output_type": "stream",
     "text": [
      "\r"
     ]
    },
    {
     "name": "stdout",
     "output_type": "stream",
     "text": [
      "MoviePy - Building video SniffingSnippetsIsabelle/2630_snippet_47.mp4.\n",
      "MoviePy - Writing video SniffingSnippetsIsabelle/2630_snippet_47.mp4\n",
      "\n"
     ]
    },
    {
     "name": "stderr",
     "output_type": "stream",
     "text": [
      "                                                            "
     ]
    },
    {
     "name": "stdout",
     "output_type": "stream",
     "text": [
      "MoviePy - Done !\n",
      "MoviePy - video ready SniffingSnippetsIsabelle/2630_snippet_47.mp4\n"
     ]
    },
    {
     "name": "stderr",
     "output_type": "stream",
     "text": [
      "\r"
     ]
    },
    {
     "name": "stdout",
     "output_type": "stream",
     "text": [
      "MoviePy - Building video SniffingSnippetsIsabelle/2630_snippet_48.mp4.\n",
      "MoviePy - Writing video SniffingSnippetsIsabelle/2630_snippet_48.mp4\n",
      "\n"
     ]
    },
    {
     "name": "stderr",
     "output_type": "stream",
     "text": [
      "                                                            "
     ]
    },
    {
     "name": "stdout",
     "output_type": "stream",
     "text": [
      "MoviePy - Done !\n",
      "MoviePy - video ready SniffingSnippetsIsabelle/2630_snippet_48.mp4\n"
     ]
    },
    {
     "name": "stderr",
     "output_type": "stream",
     "text": [
      "\r"
     ]
    },
    {
     "name": "stdout",
     "output_type": "stream",
     "text": [
      "MoviePy - Building video SniffingSnippetsIsabelle/2630_snippet_49.mp4.\n",
      "MoviePy - Writing video SniffingSnippetsIsabelle/2630_snippet_49.mp4\n",
      "\n"
     ]
    },
    {
     "name": "stderr",
     "output_type": "stream",
     "text": [
      "                                                            "
     ]
    },
    {
     "name": "stdout",
     "output_type": "stream",
     "text": [
      "MoviePy - Done !\n",
      "MoviePy - video ready SniffingSnippetsIsabelle/2630_snippet_49.mp4\n"
     ]
    },
    {
     "name": "stderr",
     "output_type": "stream",
     "text": [
      "\r"
     ]
    },
    {
     "name": "stdout",
     "output_type": "stream",
     "text": [
      "MoviePy - Building video SniffingSnippetsIsabelle/2630_snippet_50.mp4.\n",
      "MoviePy - Writing video SniffingSnippetsIsabelle/2630_snippet_50.mp4\n",
      "\n"
     ]
    },
    {
     "name": "stderr",
     "output_type": "stream",
     "text": [
      "                                             "
     ]
    },
    {
     "name": "stdout",
     "output_type": "stream",
     "text": [
      "MoviePy - Done !\n",
      "MoviePy - video ready SniffingSnippetsIsabelle/2630_snippet_50.mp4\n"
     ]
    },
    {
     "name": "stderr",
     "output_type": "stream",
     "text": [
      "\r"
     ]
    },
    {
     "name": "stdout",
     "output_type": "stream",
     "text": [
      "MoviePy - Building video SniffingSnippetsIsabelle/2630_snippet_51.mp4.\n",
      "MoviePy - Writing video SniffingSnippetsIsabelle/2630_snippet_51.mp4\n",
      "\n"
     ]
    },
    {
     "name": "stderr",
     "output_type": "stream",
     "text": [
      "                                             "
     ]
    },
    {
     "name": "stdout",
     "output_type": "stream",
     "text": [
      "MoviePy - Done !\n",
      "MoviePy - video ready SniffingSnippetsIsabelle/2630_snippet_51.mp4\n"
     ]
    },
    {
     "name": "stderr",
     "output_type": "stream",
     "text": [
      "\r"
     ]
    },
    {
     "name": "stdout",
     "output_type": "stream",
     "text": [
      "MoviePy - Building video SniffingSnippetsIsabelle/2630_snippet_52.mp4.\n",
      "MoviePy - Writing video SniffingSnippetsIsabelle/2630_snippet_52.mp4\n",
      "\n"
     ]
    },
    {
     "name": "stderr",
     "output_type": "stream",
     "text": [
      "                                                            "
     ]
    },
    {
     "name": "stdout",
     "output_type": "stream",
     "text": [
      "MoviePy - Done !\n",
      "MoviePy - video ready SniffingSnippetsIsabelle/2630_snippet_52.mp4\n"
     ]
    },
    {
     "name": "stderr",
     "output_type": "stream",
     "text": [
      "\r"
     ]
    },
    {
     "name": "stdout",
     "output_type": "stream",
     "text": [
      "MoviePy - Building video SniffingSnippetsIsabelle/2630_snippet_53.mp4.\n",
      "MoviePy - Writing video SniffingSnippetsIsabelle/2630_snippet_53.mp4\n",
      "\n"
     ]
    },
    {
     "name": "stderr",
     "output_type": "stream",
     "text": [
      "                                                                     \r"
     ]
    },
    {
     "name": "stdout",
     "output_type": "stream",
     "text": [
      "MoviePy - Done !\n",
      "MoviePy - video ready SniffingSnippetsIsabelle/2630_snippet_53.mp4\n",
      "MoviePy - Building video SniffingSnippetsIsabelle/2630_snippet_54.mp4.\n",
      "MoviePy - Writing video SniffingSnippetsIsabelle/2630_snippet_54.mp4\n",
      "\n"
     ]
    },
    {
     "name": "stderr",
     "output_type": "stream",
     "text": [
      "                                             "
     ]
    },
    {
     "name": "stdout",
     "output_type": "stream",
     "text": [
      "MoviePy - Done !\n",
      "MoviePy - video ready SniffingSnippetsIsabelle/2630_snippet_54.mp4\n"
     ]
    },
    {
     "name": "stderr",
     "output_type": "stream",
     "text": [
      "\r"
     ]
    },
    {
     "name": "stdout",
     "output_type": "stream",
     "text": [
      "MoviePy - Building video SniffingSnippetsIsabelle/2630_snippet_55.mp4.\n",
      "MoviePy - Writing video SniffingSnippetsIsabelle/2630_snippet_55.mp4\n",
      "\n"
     ]
    },
    {
     "name": "stderr",
     "output_type": "stream",
     "text": [
      "                                                            \r"
     ]
    },
    {
     "name": "stdout",
     "output_type": "stream",
     "text": [
      "MoviePy - Done !\n",
      "MoviePy - video ready SniffingSnippetsIsabelle/2630_snippet_55.mp4\n",
      "MoviePy - Building video SniffingSnippetsIsabelle/2630_snippet_56.mp4.\n",
      "MoviePy - Writing video SniffingSnippetsIsabelle/2630_snippet_56.mp4\n",
      "\n"
     ]
    },
    {
     "name": "stderr",
     "output_type": "stream",
     "text": [
      "                                                            \r"
     ]
    },
    {
     "name": "stdout",
     "output_type": "stream",
     "text": [
      "MoviePy - Done !\n",
      "MoviePy - video ready SniffingSnippetsIsabelle/2630_snippet_56.mp4\n",
      "MoviePy - Building video SniffingSnippetsIsabelle/2630_snippet_57.mp4.\n",
      "MoviePy - Writing video SniffingSnippetsIsabelle/2630_snippet_57.mp4\n",
      "\n"
     ]
    },
    {
     "name": "stderr",
     "output_type": "stream",
     "text": [
      "                                             \r"
     ]
    },
    {
     "name": "stdout",
     "output_type": "stream",
     "text": [
      "MoviePy - Done !\n",
      "MoviePy - video ready SniffingSnippetsIsabelle/2630_snippet_57.mp4\n",
      "MoviePy - Building video SniffingSnippetsIsabelle/2630_snippet_58.mp4.\n",
      "MoviePy - Writing video SniffingSnippetsIsabelle/2630_snippet_58.mp4\n",
      "\n"
     ]
    },
    {
     "name": "stderr",
     "output_type": "stream",
     "text": [
      "                                                            "
     ]
    },
    {
     "name": "stdout",
     "output_type": "stream",
     "text": [
      "MoviePy - Done !\n",
      "MoviePy - video ready SniffingSnippetsIsabelle/2630_snippet_58.mp4\n"
     ]
    },
    {
     "name": "stderr",
     "output_type": "stream",
     "text": [
      "\r"
     ]
    },
    {
     "name": "stdout",
     "output_type": "stream",
     "text": [
      "MoviePy - Building video SniffingSnippetsIsabelle/2630_snippet_59.mp4.\n",
      "MoviePy - Writing video SniffingSnippetsIsabelle/2630_snippet_59.mp4\n",
      "\n"
     ]
    },
    {
     "name": "stderr",
     "output_type": "stream",
     "text": [
      "                                             "
     ]
    },
    {
     "name": "stdout",
     "output_type": "stream",
     "text": [
      "MoviePy - Done !\n",
      "MoviePy - video ready SniffingSnippetsIsabelle/2630_snippet_59.mp4\n"
     ]
    },
    {
     "name": "stderr",
     "output_type": "stream",
     "text": [
      "\r"
     ]
    },
    {
     "name": "stdout",
     "output_type": "stream",
     "text": [
      "MoviePy - Building video SniffingSnippetsIsabelle/2630_snippet_60.mp4.\n",
      "MoviePy - Writing video SniffingSnippetsIsabelle/2630_snippet_60.mp4\n",
      "\n"
     ]
    },
    {
     "name": "stderr",
     "output_type": "stream",
     "text": [
      "                                             "
     ]
    },
    {
     "name": "stdout",
     "output_type": "stream",
     "text": [
      "MoviePy - Done !\n",
      "MoviePy - video ready SniffingSnippetsIsabelle/2630_snippet_60.mp4\n"
     ]
    },
    {
     "name": "stderr",
     "output_type": "stream",
     "text": [
      "\r"
     ]
    },
    {
     "name": "stdout",
     "output_type": "stream",
     "text": [
      "MoviePy - Building video SniffingSnippetsIsabelle/2630_snippet_61.mp4.\n",
      "MoviePy - Writing video SniffingSnippetsIsabelle/2630_snippet_61.mp4\n",
      "\n"
     ]
    },
    {
     "name": "stderr",
     "output_type": "stream",
     "text": [
      "                                             "
     ]
    },
    {
     "name": "stdout",
     "output_type": "stream",
     "text": [
      "MoviePy - Done !\n",
      "MoviePy - video ready SniffingSnippetsIsabelle/2630_snippet_61.mp4\n"
     ]
    },
    {
     "name": "stderr",
     "output_type": "stream",
     "text": [
      "\r"
     ]
    },
    {
     "name": "stdout",
     "output_type": "stream",
     "text": [
      "MoviePy - Building video SniffingSnippetsIsabelle/2630_snippet_62.mp4.\n",
      "MoviePy - Writing video SniffingSnippetsIsabelle/2630_snippet_62.mp4\n",
      "\n"
     ]
    },
    {
     "name": "stderr",
     "output_type": "stream",
     "text": [
      "                                                                     \r"
     ]
    },
    {
     "name": "stdout",
     "output_type": "stream",
     "text": [
      "MoviePy - Done !\n",
      "MoviePy - video ready SniffingSnippetsIsabelle/2630_snippet_62.mp4\n",
      "MoviePy - Building video SniffingSnippetsIsabelle/2630_snippet_63.mp4.\n",
      "MoviePy - Writing video SniffingSnippetsIsabelle/2630_snippet_63.mp4\n",
      "\n"
     ]
    },
    {
     "name": "stderr",
     "output_type": "stream",
     "text": [
      "                                                            \r"
     ]
    },
    {
     "name": "stdout",
     "output_type": "stream",
     "text": [
      "MoviePy - Done !\n",
      "MoviePy - video ready SniffingSnippetsIsabelle/2630_snippet_63.mp4\n",
      "MoviePy - Building video SniffingSnippetsIsabelle/2630_snippet_64.mp4.\n",
      "MoviePy - Writing video SniffingSnippetsIsabelle/2630_snippet_64.mp4\n",
      "\n"
     ]
    },
    {
     "name": "stderr",
     "output_type": "stream",
     "text": [
      "                                                            \r"
     ]
    },
    {
     "name": "stdout",
     "output_type": "stream",
     "text": [
      "MoviePy - Done !\n",
      "MoviePy - video ready SniffingSnippetsIsabelle/2630_snippet_64.mp4\n",
      "MoviePy - Building video SniffingSnippetsIsabelle/2630_snippet_65.mp4.\n",
      "MoviePy - Writing video SniffingSnippetsIsabelle/2630_snippet_65.mp4\n",
      "\n"
     ]
    },
    {
     "name": "stderr",
     "output_type": "stream",
     "text": [
      "                                                             \r"
     ]
    },
    {
     "name": "stdout",
     "output_type": "stream",
     "text": [
      "MoviePy - Done !\n",
      "MoviePy - video ready SniffingSnippetsIsabelle/2630_snippet_65.mp4\n",
      "MoviePy - Building video SniffingSnippetsIsabelle/2630_snippet_66.mp4.\n",
      "MoviePy - Writing video SniffingSnippetsIsabelle/2630_snippet_66.mp4\n",
      "\n"
     ]
    },
    {
     "name": "stderr",
     "output_type": "stream",
     "text": [
      "                                                                       \r"
     ]
    },
    {
     "name": "stdout",
     "output_type": "stream",
     "text": [
      "MoviePy - Done !\n",
      "MoviePy - video ready SniffingSnippetsIsabelle/2630_snippet_66.mp4\n",
      "MoviePy - Building video SniffingSnippetsIsabelle/2630_snippet_67.mp4.\n",
      "MoviePy - Writing video SniffingSnippetsIsabelle/2630_snippet_67.mp4\n",
      "\n"
     ]
    },
    {
     "name": "stderr",
     "output_type": "stream",
     "text": [
      "                                                            "
     ]
    },
    {
     "name": "stdout",
     "output_type": "stream",
     "text": [
      "MoviePy - Done !\n",
      "MoviePy - video ready SniffingSnippetsIsabelle/2630_snippet_67.mp4\n"
     ]
    },
    {
     "name": "stderr",
     "output_type": "stream",
     "text": [
      "\r"
     ]
    },
    {
     "name": "stdout",
     "output_type": "stream",
     "text": [
      "MoviePy - Building video SniffingSnippetsIsabelle/2630_snippet_68.mp4.\n",
      "MoviePy - Writing video SniffingSnippetsIsabelle/2630_snippet_68.mp4\n",
      "\n"
     ]
    },
    {
     "name": "stderr",
     "output_type": "stream",
     "text": [
      "                                                            "
     ]
    },
    {
     "name": "stdout",
     "output_type": "stream",
     "text": [
      "MoviePy - Done !\n",
      "MoviePy - video ready SniffingSnippetsIsabelle/2630_snippet_68.mp4\n"
     ]
    },
    {
     "name": "stderr",
     "output_type": "stream",
     "text": [
      "\r"
     ]
    },
    {
     "name": "stdout",
     "output_type": "stream",
     "text": [
      "MoviePy - Building video SniffingSnippetsIsabelle/2630_snippet_69.mp4.\n",
      "MoviePy - Writing video SniffingSnippetsIsabelle/2630_snippet_69.mp4\n",
      "\n"
     ]
    },
    {
     "name": "stderr",
     "output_type": "stream",
     "text": [
      "                                                                       \r"
     ]
    },
    {
     "name": "stdout",
     "output_type": "stream",
     "text": [
      "MoviePy - Done !\n",
      "MoviePy - video ready SniffingSnippetsIsabelle/2630_snippet_69.mp4\n",
      "MoviePy - Building video SniffingSnippetsIsabelle/2630_snippet_70.mp4.\n",
      "MoviePy - Writing video SniffingSnippetsIsabelle/2630_snippet_70.mp4\n",
      "\n"
     ]
    },
    {
     "name": "stderr",
     "output_type": "stream",
     "text": [
      "                                                            "
     ]
    },
    {
     "name": "stdout",
     "output_type": "stream",
     "text": [
      "MoviePy - Done !\n",
      "MoviePy - video ready SniffingSnippetsIsabelle/2630_snippet_70.mp4\n",
      "Video number: 2631\n"
     ]
    },
    {
     "name": "stderr",
     "output_type": "stream",
     "text": [
      "\r"
     ]
    },
    {
     "name": "stdout",
     "output_type": "stream",
     "text": [
      "Input video duration: 18.39 seconds\n",
      "\u001b[32m[05/27 21:45:01 d2.checkpoint.detection_checkpoint]: \u001b[0m[DetectionCheckpointer] Loading from ./output/model_final.pth ...\n"
     ]
    },
    {
     "name": "stderr",
     "output_type": "stream",
     "text": [
      "INFO:fvcore.common.checkpoint:[Checkpointer] Loading from ./output/model_final.pth ...\n"
     ]
    },
    {
     "name": "stdout",
     "output_type": "stream",
     "text": [
      "2631\n",
      "MoviePy - Building video SniffingSnippetsIsabelle/2631_snippet_0.mp4.\n",
      "MoviePy - Writing video SniffingSnippetsIsabelle/2631_snippet_0.mp4\n",
      "\n"
     ]
    },
    {
     "name": "stderr",
     "output_type": "stream",
     "text": [
      "                                             "
     ]
    },
    {
     "name": "stdout",
     "output_type": "stream",
     "text": [
      "MoviePy - Done !\n",
      "MoviePy - video ready SniffingSnippetsIsabelle/2631_snippet_0.mp4\n"
     ]
    },
    {
     "name": "stderr",
     "output_type": "stream",
     "text": [
      "\r"
     ]
    },
    {
     "name": "stdout",
     "output_type": "stream",
     "text": [
      "MoviePy - Building video SniffingSnippetsIsabelle/2631_snippet_1.mp4.\n",
      "MoviePy - Writing video SniffingSnippetsIsabelle/2631_snippet_1.mp4\n",
      "\n"
     ]
    },
    {
     "name": "stderr",
     "output_type": "stream",
     "text": [
      "                                                            "
     ]
    },
    {
     "name": "stdout",
     "output_type": "stream",
     "text": [
      "MoviePy - Done !\n",
      "MoviePy - video ready SniffingSnippetsIsabelle/2631_snippet_1.mp4\n"
     ]
    },
    {
     "name": "stderr",
     "output_type": "stream",
     "text": [
      "\r"
     ]
    },
    {
     "name": "stdout",
     "output_type": "stream",
     "text": [
      "MoviePy - Building video SniffingSnippetsIsabelle/2631_snippet_2.mp4.\n",
      "MoviePy - Writing video SniffingSnippetsIsabelle/2631_snippet_2.mp4\n",
      "\n"
     ]
    },
    {
     "name": "stderr",
     "output_type": "stream",
     "text": [
      "                                                            "
     ]
    },
    {
     "name": "stdout",
     "output_type": "stream",
     "text": [
      "MoviePy - Done !\n",
      "MoviePy - video ready SniffingSnippetsIsabelle/2631_snippet_2.mp4\n"
     ]
    },
    {
     "name": "stderr",
     "output_type": "stream",
     "text": [
      "\r"
     ]
    },
    {
     "name": "stdout",
     "output_type": "stream",
     "text": [
      "MoviePy - Building video SniffingSnippetsIsabelle/2631_snippet_3.mp4.\n",
      "MoviePy - Writing video SniffingSnippetsIsabelle/2631_snippet_3.mp4\n",
      "\n"
     ]
    },
    {
     "name": "stderr",
     "output_type": "stream",
     "text": [
      "                                                            \r"
     ]
    },
    {
     "name": "stdout",
     "output_type": "stream",
     "text": [
      "MoviePy - Done !\n",
      "MoviePy - video ready SniffingSnippetsIsabelle/2631_snippet_3.mp4\n",
      "MoviePy - Building video SniffingSnippetsIsabelle/2631_snippet_4.mp4.\n",
      "MoviePy - Writing video SniffingSnippetsIsabelle/2631_snippet_4.mp4\n",
      "\n"
     ]
    },
    {
     "name": "stderr",
     "output_type": "stream",
     "text": [
      "                                                            "
     ]
    },
    {
     "name": "stdout",
     "output_type": "stream",
     "text": [
      "MoviePy - Done !\n",
      "MoviePy - video ready SniffingSnippetsIsabelle/2631_snippet_4.mp4\n"
     ]
    },
    {
     "name": "stderr",
     "output_type": "stream",
     "text": [
      "\r"
     ]
    },
    {
     "name": "stdout",
     "output_type": "stream",
     "text": [
      "MoviePy - Building video SniffingSnippetsIsabelle/2631_snippet_5.mp4.\n",
      "MoviePy - Writing video SniffingSnippetsIsabelle/2631_snippet_5.mp4\n",
      "\n"
     ]
    },
    {
     "name": "stderr",
     "output_type": "stream",
     "text": [
      "                                                             \r"
     ]
    },
    {
     "name": "stdout",
     "output_type": "stream",
     "text": [
      "MoviePy - Done !\n",
      "MoviePy - video ready SniffingSnippetsIsabelle/2631_snippet_5.mp4\n",
      "MoviePy - Building video SniffingSnippetsIsabelle/2631_snippet_6.mp4.\n",
      "MoviePy - Writing video SniffingSnippetsIsabelle/2631_snippet_6.mp4\n",
      "\n"
     ]
    },
    {
     "name": "stderr",
     "output_type": "stream",
     "text": [
      "                                                            "
     ]
    },
    {
     "name": "stdout",
     "output_type": "stream",
     "text": [
      "MoviePy - Done !\n",
      "MoviePy - video ready SniffingSnippetsIsabelle/2631_snippet_6.mp4\n"
     ]
    },
    {
     "name": "stderr",
     "output_type": "stream",
     "text": [
      "\r"
     ]
    },
    {
     "name": "stdout",
     "output_type": "stream",
     "text": [
      "MoviePy - Building video SniffingSnippetsIsabelle/2631_snippet_7.mp4.\n",
      "MoviePy - Writing video SniffingSnippetsIsabelle/2631_snippet_7.mp4\n",
      "\n"
     ]
    },
    {
     "name": "stderr",
     "output_type": "stream",
     "text": [
      "                                                            "
     ]
    },
    {
     "name": "stdout",
     "output_type": "stream",
     "text": [
      "MoviePy - Done !\n",
      "MoviePy - video ready SniffingSnippetsIsabelle/2631_snippet_7.mp4\n"
     ]
    },
    {
     "name": "stderr",
     "output_type": "stream",
     "text": [
      "\r"
     ]
    },
    {
     "name": "stdout",
     "output_type": "stream",
     "text": [
      "MoviePy - Building video SniffingSnippetsIsabelle/2631_snippet_8.mp4.\n",
      "MoviePy - Writing video SniffingSnippetsIsabelle/2631_snippet_8.mp4\n",
      "\n"
     ]
    },
    {
     "name": "stderr",
     "output_type": "stream",
     "text": [
      "                                                            "
     ]
    },
    {
     "name": "stdout",
     "output_type": "stream",
     "text": [
      "MoviePy - Done !\n",
      "MoviePy - video ready SniffingSnippetsIsabelle/2631_snippet_8.mp4\n"
     ]
    },
    {
     "name": "stderr",
     "output_type": "stream",
     "text": [
      "\r"
     ]
    },
    {
     "name": "stdout",
     "output_type": "stream",
     "text": [
      "MoviePy - Building video SniffingSnippetsIsabelle/2631_snippet_9.mp4.\n",
      "MoviePy - Writing video SniffingSnippetsIsabelle/2631_snippet_9.mp4\n",
      "\n"
     ]
    },
    {
     "name": "stderr",
     "output_type": "stream",
     "text": [
      "                                                            "
     ]
    },
    {
     "name": "stdout",
     "output_type": "stream",
     "text": [
      "MoviePy - Done !\n",
      "MoviePy - video ready SniffingSnippetsIsabelle/2631_snippet_9.mp4\n"
     ]
    },
    {
     "name": "stderr",
     "output_type": "stream",
     "text": [
      "\r"
     ]
    },
    {
     "name": "stdout",
     "output_type": "stream",
     "text": [
      "MoviePy - Building video SniffingSnippetsIsabelle/2631_snippet_10.mp4.\n",
      "MoviePy - Writing video SniffingSnippetsIsabelle/2631_snippet_10.mp4\n",
      "\n"
     ]
    },
    {
     "name": "stderr",
     "output_type": "stream",
     "text": [
      "                                                            "
     ]
    },
    {
     "name": "stdout",
     "output_type": "stream",
     "text": [
      "MoviePy - Done !\n",
      "MoviePy - video ready SniffingSnippetsIsabelle/2631_snippet_10.mp4\n"
     ]
    },
    {
     "name": "stderr",
     "output_type": "stream",
     "text": [
      "\r"
     ]
    },
    {
     "name": "stdout",
     "output_type": "stream",
     "text": [
      "MoviePy - Building video SniffingSnippetsIsabelle/2631_snippet_11.mp4.\n",
      "MoviePy - Writing video SniffingSnippetsIsabelle/2631_snippet_11.mp4\n",
      "\n"
     ]
    },
    {
     "name": "stderr",
     "output_type": "stream",
     "text": [
      "                                                            "
     ]
    },
    {
     "name": "stdout",
     "output_type": "stream",
     "text": [
      "MoviePy - Done !\n",
      "MoviePy - video ready SniffingSnippetsIsabelle/2631_snippet_11.mp4\n"
     ]
    },
    {
     "name": "stderr",
     "output_type": "stream",
     "text": [
      "\r"
     ]
    },
    {
     "name": "stdout",
     "output_type": "stream",
     "text": [
      "MoviePy - Building video SniffingSnippetsIsabelle/2631_snippet_12.mp4.\n",
      "MoviePy - Writing video SniffingSnippetsIsabelle/2631_snippet_12.mp4\n",
      "\n"
     ]
    },
    {
     "name": "stderr",
     "output_type": "stream",
     "text": [
      "                                             "
     ]
    },
    {
     "name": "stdout",
     "output_type": "stream",
     "text": [
      "MoviePy - Done !\n",
      "MoviePy - video ready SniffingSnippetsIsabelle/2631_snippet_12.mp4\n"
     ]
    },
    {
     "name": "stderr",
     "output_type": "stream",
     "text": [
      "\r"
     ]
    },
    {
     "name": "stdout",
     "output_type": "stream",
     "text": [
      "MoviePy - Building video SniffingSnippetsIsabelle/2631_snippet_13.mp4.\n",
      "MoviePy - Writing video SniffingSnippetsIsabelle/2631_snippet_13.mp4\n",
      "\n"
     ]
    },
    {
     "name": "stderr",
     "output_type": "stream",
     "text": [
      "                                                            \r"
     ]
    },
    {
     "name": "stdout",
     "output_type": "stream",
     "text": [
      "MoviePy - Done !\n",
      "MoviePy - video ready SniffingSnippetsIsabelle/2631_snippet_13.mp4\n",
      "MoviePy - Building video SniffingSnippetsIsabelle/2631_snippet_14.mp4.\n",
      "MoviePy - Writing video SniffingSnippetsIsabelle/2631_snippet_14.mp4\n",
      "\n"
     ]
    },
    {
     "name": "stderr",
     "output_type": "stream",
     "text": [
      "                                                            \r"
     ]
    },
    {
     "name": "stdout",
     "output_type": "stream",
     "text": [
      "MoviePy - Done !\n",
      "MoviePy - video ready SniffingSnippetsIsabelle/2631_snippet_14.mp4\n",
      "MoviePy - Building video SniffingSnippetsIsabelle/2631_snippet_15.mp4.\n",
      "MoviePy - Writing video SniffingSnippetsIsabelle/2631_snippet_15.mp4\n",
      "\n"
     ]
    },
    {
     "name": "stderr",
     "output_type": "stream",
     "text": [
      "                                                                      \r"
     ]
    },
    {
     "name": "stdout",
     "output_type": "stream",
     "text": [
      "MoviePy - Done !\n",
      "MoviePy - video ready SniffingSnippetsIsabelle/2631_snippet_15.mp4\n",
      "MoviePy - Building video SniffingSnippetsIsabelle/2631_snippet_16.mp4.\n",
      "MoviePy - Writing video SniffingSnippetsIsabelle/2631_snippet_16.mp4\n",
      "\n"
     ]
    },
    {
     "name": "stderr",
     "output_type": "stream",
     "text": [
      "                                                            "
     ]
    },
    {
     "name": "stdout",
     "output_type": "stream",
     "text": [
      "MoviePy - Done !\n",
      "MoviePy - video ready SniffingSnippetsIsabelle/2631_snippet_16.mp4\n"
     ]
    },
    {
     "name": "stderr",
     "output_type": "stream",
     "text": [
      "\r"
     ]
    },
    {
     "name": "stdout",
     "output_type": "stream",
     "text": [
      "MoviePy - Building video SniffingSnippetsIsabelle/2631_snippet_17.mp4.\n",
      "MoviePy - Writing video SniffingSnippetsIsabelle/2631_snippet_17.mp4\n",
      "\n"
     ]
    },
    {
     "name": "stderr",
     "output_type": "stream",
     "text": [
      "                                                            "
     ]
    },
    {
     "name": "stdout",
     "output_type": "stream",
     "text": [
      "MoviePy - Done !\n",
      "MoviePy - video ready SniffingSnippetsIsabelle/2631_snippet_17.mp4\n"
     ]
    },
    {
     "name": "stderr",
     "output_type": "stream",
     "text": [
      "\r"
     ]
    },
    {
     "name": "stdout",
     "output_type": "stream",
     "text": [
      "MoviePy - Building video SniffingSnippetsIsabelle/2631_snippet_18.mp4.\n",
      "MoviePy - Writing video SniffingSnippetsIsabelle/2631_snippet_18.mp4\n",
      "\n"
     ]
    },
    {
     "name": "stderr",
     "output_type": "stream",
     "text": [
      "                                                            "
     ]
    },
    {
     "name": "stdout",
     "output_type": "stream",
     "text": [
      "MoviePy - Done !\n",
      "MoviePy - video ready SniffingSnippetsIsabelle/2631_snippet_18.mp4\n"
     ]
    },
    {
     "name": "stderr",
     "output_type": "stream",
     "text": [
      "\r"
     ]
    },
    {
     "name": "stdout",
     "output_type": "stream",
     "text": [
      "MoviePy - Building video SniffingSnippetsIsabelle/2631_snippet_19.mp4.\n",
      "MoviePy - Writing video SniffingSnippetsIsabelle/2631_snippet_19.mp4\n",
      "\n"
     ]
    },
    {
     "name": "stderr",
     "output_type": "stream",
     "text": [
      "                                                                       \r"
     ]
    },
    {
     "name": "stdout",
     "output_type": "stream",
     "text": [
      "MoviePy - Done !\n",
      "MoviePy - video ready SniffingSnippetsIsabelle/2631_snippet_19.mp4\n",
      "MoviePy - Building video SniffingSnippetsIsabelle/2631_snippet_20.mp4.\n",
      "MoviePy - Writing video SniffingSnippetsIsabelle/2631_snippet_20.mp4\n",
      "\n"
     ]
    },
    {
     "name": "stderr",
     "output_type": "stream",
     "text": [
      "                                                            "
     ]
    },
    {
     "name": "stdout",
     "output_type": "stream",
     "text": [
      "MoviePy - Done !\n",
      "MoviePy - video ready SniffingSnippetsIsabelle/2631_snippet_20.mp4\n"
     ]
    },
    {
     "name": "stderr",
     "output_type": "stream",
     "text": [
      "\r"
     ]
    },
    {
     "name": "stdout",
     "output_type": "stream",
     "text": [
      "MoviePy - Building video SniffingSnippetsIsabelle/2631_snippet_21.mp4.\n",
      "MoviePy - Writing video SniffingSnippetsIsabelle/2631_snippet_21.mp4\n",
      "\n"
     ]
    },
    {
     "name": "stderr",
     "output_type": "stream",
     "text": [
      "                                                            "
     ]
    },
    {
     "name": "stdout",
     "output_type": "stream",
     "text": [
      "MoviePy - Done !\n",
      "MoviePy - video ready SniffingSnippetsIsabelle/2631_snippet_21.mp4\n"
     ]
    },
    {
     "name": "stderr",
     "output_type": "stream",
     "text": [
      "\r"
     ]
    },
    {
     "name": "stdout",
     "output_type": "stream",
     "text": [
      "MoviePy - Building video SniffingSnippetsIsabelle/2631_snippet_22.mp4.\n",
      "MoviePy - Writing video SniffingSnippetsIsabelle/2631_snippet_22.mp4\n",
      "\n"
     ]
    },
    {
     "name": "stderr",
     "output_type": "stream",
     "text": [
      "                                                             \r"
     ]
    },
    {
     "name": "stdout",
     "output_type": "stream",
     "text": [
      "MoviePy - Done !\n",
      "MoviePy - video ready SniffingSnippetsIsabelle/2631_snippet_22.mp4\n",
      "MoviePy - Building video SniffingSnippetsIsabelle/2631_snippet_23.mp4.\n",
      "MoviePy - Writing video SniffingSnippetsIsabelle/2631_snippet_23.mp4\n",
      "\n"
     ]
    },
    {
     "name": "stderr",
     "output_type": "stream",
     "text": [
      "                                             "
     ]
    },
    {
     "name": "stdout",
     "output_type": "stream",
     "text": [
      "MoviePy - Done !\n",
      "MoviePy - video ready SniffingSnippetsIsabelle/2631_snippet_23.mp4\n"
     ]
    },
    {
     "name": "stderr",
     "output_type": "stream",
     "text": [
      "\r"
     ]
    },
    {
     "name": "stdout",
     "output_type": "stream",
     "text": [
      "MoviePy - Building video SniffingSnippetsIsabelle/2631_snippet_24.mp4.\n",
      "MoviePy - Writing video SniffingSnippetsIsabelle/2631_snippet_24.mp4\n",
      "\n"
     ]
    },
    {
     "name": "stderr",
     "output_type": "stream",
     "text": [
      "                                                                       \r"
     ]
    },
    {
     "name": "stdout",
     "output_type": "stream",
     "text": [
      "MoviePy - Done !\n",
      "MoviePy - video ready SniffingSnippetsIsabelle/2631_snippet_24.mp4\n",
      "MoviePy - Building video SniffingSnippetsIsabelle/2631_snippet_25.mp4.\n",
      "MoviePy - Writing video SniffingSnippetsIsabelle/2631_snippet_25.mp4\n",
      "\n"
     ]
    },
    {
     "name": "stderr",
     "output_type": "stream",
     "text": [
      "                                                            "
     ]
    },
    {
     "name": "stdout",
     "output_type": "stream",
     "text": [
      "MoviePy - Done !\n",
      "MoviePy - video ready SniffingSnippetsIsabelle/2631_snippet_25.mp4\n"
     ]
    },
    {
     "name": "stderr",
     "output_type": "stream",
     "text": [
      "\r"
     ]
    },
    {
     "name": "stdout",
     "output_type": "stream",
     "text": [
      "MoviePy - Building video SniffingSnippetsIsabelle/2631_snippet_26.mp4.\n",
      "MoviePy - Writing video SniffingSnippetsIsabelle/2631_snippet_26.mp4\n",
      "\n"
     ]
    },
    {
     "name": "stderr",
     "output_type": "stream",
     "text": [
      "                                                            \r"
     ]
    },
    {
     "name": "stdout",
     "output_type": "stream",
     "text": [
      "MoviePy - Done !\n",
      "MoviePy - video ready SniffingSnippetsIsabelle/2631_snippet_26.mp4\n",
      "MoviePy - Building video SniffingSnippetsIsabelle/2631_snippet_27.mp4.\n",
      "MoviePy - Writing video SniffingSnippetsIsabelle/2631_snippet_27.mp4\n",
      "\n"
     ]
    },
    {
     "name": "stderr",
     "output_type": "stream",
     "text": [
      "                                                            "
     ]
    },
    {
     "name": "stdout",
     "output_type": "stream",
     "text": [
      "MoviePy - Done !\n",
      "MoviePy - video ready SniffingSnippetsIsabelle/2631_snippet_27.mp4\n"
     ]
    },
    {
     "name": "stderr",
     "output_type": "stream",
     "text": [
      "\r"
     ]
    },
    {
     "name": "stdout",
     "output_type": "stream",
     "text": [
      "MoviePy - Building video SniffingSnippetsIsabelle/2631_snippet_28.mp4.\n",
      "MoviePy - Writing video SniffingSnippetsIsabelle/2631_snippet_28.mp4\n",
      "\n"
     ]
    },
    {
     "name": "stderr",
     "output_type": "stream",
     "text": [
      "                                                            "
     ]
    },
    {
     "name": "stdout",
     "output_type": "stream",
     "text": [
      "MoviePy - Done !\n",
      "MoviePy - video ready SniffingSnippetsIsabelle/2631_snippet_28.mp4\n"
     ]
    },
    {
     "name": "stderr",
     "output_type": "stream",
     "text": [
      "\r"
     ]
    },
    {
     "name": "stdout",
     "output_type": "stream",
     "text": [
      "MoviePy - Building video SniffingSnippetsIsabelle/2631_snippet_29.mp4.\n",
      "MoviePy - Writing video SniffingSnippetsIsabelle/2631_snippet_29.mp4\n",
      "\n"
     ]
    },
    {
     "name": "stderr",
     "output_type": "stream",
     "text": [
      "                                                            "
     ]
    },
    {
     "name": "stdout",
     "output_type": "stream",
     "text": [
      "MoviePy - Done !\n",
      "MoviePy - video ready SniffingSnippetsIsabelle/2631_snippet_29.mp4\n"
     ]
    },
    {
     "name": "stderr",
     "output_type": "stream",
     "text": [
      "\r"
     ]
    },
    {
     "name": "stdout",
     "output_type": "stream",
     "text": [
      "MoviePy - Building video SniffingSnippetsIsabelle/2631_snippet_30.mp4.\n",
      "MoviePy - Writing video SniffingSnippetsIsabelle/2631_snippet_30.mp4\n",
      "\n"
     ]
    },
    {
     "name": "stderr",
     "output_type": "stream",
     "text": [
      "                                             "
     ]
    },
    {
     "name": "stdout",
     "output_type": "stream",
     "text": [
      "MoviePy - Done !\n",
      "MoviePy - video ready SniffingSnippetsIsabelle/2631_snippet_30.mp4\n"
     ]
    },
    {
     "name": "stderr",
     "output_type": "stream",
     "text": [
      "\r"
     ]
    },
    {
     "name": "stdout",
     "output_type": "stream",
     "text": [
      "MoviePy - Building video SniffingSnippetsIsabelle/2631_snippet_31.mp4.\n",
      "MoviePy - Writing video SniffingSnippetsIsabelle/2631_snippet_31.mp4\n",
      "\n"
     ]
    },
    {
     "name": "stderr",
     "output_type": "stream",
     "text": [
      "                                                            "
     ]
    },
    {
     "name": "stdout",
     "output_type": "stream",
     "text": [
      "MoviePy - Done !\n",
      "MoviePy - video ready SniffingSnippetsIsabelle/2631_snippet_31.mp4\n"
     ]
    },
    {
     "name": "stderr",
     "output_type": "stream",
     "text": [
      "\r"
     ]
    },
    {
     "name": "stdout",
     "output_type": "stream",
     "text": [
      "MoviePy - Building video SniffingSnippetsIsabelle/2631_snippet_32.mp4.\n",
      "MoviePy - Writing video SniffingSnippetsIsabelle/2631_snippet_32.mp4\n",
      "\n"
     ]
    },
    {
     "name": "stderr",
     "output_type": "stream",
     "text": [
      "                                                                      \r"
     ]
    },
    {
     "name": "stdout",
     "output_type": "stream",
     "text": [
      "MoviePy - Done !\n",
      "MoviePy - video ready SniffingSnippetsIsabelle/2631_snippet_32.mp4\n",
      "MoviePy - Building video SniffingSnippetsIsabelle/2631_snippet_33.mp4.\n",
      "MoviePy - Writing video SniffingSnippetsIsabelle/2631_snippet_33.mp4\n",
      "\n"
     ]
    },
    {
     "name": "stderr",
     "output_type": "stream",
     "text": [
      "                                                            "
     ]
    },
    {
     "name": "stdout",
     "output_type": "stream",
     "text": [
      "MoviePy - Done !\n",
      "MoviePy - video ready SniffingSnippetsIsabelle/2631_snippet_33.mp4\n"
     ]
    },
    {
     "name": "stderr",
     "output_type": "stream",
     "text": [
      "\r"
     ]
    },
    {
     "name": "stdout",
     "output_type": "stream",
     "text": [
      "MoviePy - Building video SniffingSnippetsIsabelle/2631_snippet_34.mp4.\n",
      "MoviePy - Writing video SniffingSnippetsIsabelle/2631_snippet_34.mp4\n",
      "\n"
     ]
    },
    {
     "name": "stderr",
     "output_type": "stream",
     "text": [
      "                                             "
     ]
    },
    {
     "name": "stdout",
     "output_type": "stream",
     "text": [
      "MoviePy - Done !\n",
      "MoviePy - video ready SniffingSnippetsIsabelle/2631_snippet_34.mp4\n"
     ]
    },
    {
     "name": "stderr",
     "output_type": "stream",
     "text": [
      "\r"
     ]
    },
    {
     "name": "stdout",
     "output_type": "stream",
     "text": [
      "MoviePy - Building video SniffingSnippetsIsabelle/2631_snippet_35.mp4.\n",
      "MoviePy - Writing video SniffingSnippetsIsabelle/2631_snippet_35.mp4\n",
      "\n"
     ]
    },
    {
     "name": "stderr",
     "output_type": "stream",
     "text": [
      "                                             "
     ]
    },
    {
     "name": "stdout",
     "output_type": "stream",
     "text": [
      "MoviePy - Done !\n",
      "MoviePy - video ready SniffingSnippetsIsabelle/2631_snippet_35.mp4\n"
     ]
    },
    {
     "name": "stderr",
     "output_type": "stream",
     "text": [
      "\r"
     ]
    },
    {
     "name": "stdout",
     "output_type": "stream",
     "text": [
      "MoviePy - Building video SniffingSnippetsIsabelle/2631_snippet_36.mp4.\n",
      "MoviePy - Writing video SniffingSnippetsIsabelle/2631_snippet_36.mp4\n",
      "\n"
     ]
    },
    {
     "name": "stderr",
     "output_type": "stream",
     "text": [
      "                                                            \r"
     ]
    },
    {
     "name": "stdout",
     "output_type": "stream",
     "text": [
      "MoviePy - Done !\n",
      "MoviePy - video ready SniffingSnippetsIsabelle/2631_snippet_36.mp4\n",
      "Video number: 2632\n",
      "Input video duration: 16.58 seconds\n",
      "\u001b[32m[05/27 21:46:53 d2.checkpoint.detection_checkpoint]: \u001b[0m[DetectionCheckpointer] Loading from ./output/model_final.pth ...\n"
     ]
    },
    {
     "name": "stderr",
     "output_type": "stream",
     "text": [
      "INFO:fvcore.common.checkpoint:[Checkpointer] Loading from ./output/model_final.pth ...\n"
     ]
    },
    {
     "name": "stdout",
     "output_type": "stream",
     "text": [
      "2632\n",
      "MoviePy - Building video SniffingSnippetsIsabelle/2632_snippet_0.mp4.\n",
      "MoviePy - Writing video SniffingSnippetsIsabelle/2632_snippet_0.mp4\n",
      "\n"
     ]
    },
    {
     "name": "stderr",
     "output_type": "stream",
     "text": [
      "                                                            "
     ]
    },
    {
     "name": "stdout",
     "output_type": "stream",
     "text": [
      "MoviePy - Done !\n",
      "MoviePy - video ready SniffingSnippetsIsabelle/2632_snippet_0.mp4\n"
     ]
    },
    {
     "name": "stderr",
     "output_type": "stream",
     "text": [
      "\r"
     ]
    },
    {
     "name": "stdout",
     "output_type": "stream",
     "text": [
      "MoviePy - Building video SniffingSnippetsIsabelle/2632_snippet_1.mp4.\n",
      "MoviePy - Writing video SniffingSnippetsIsabelle/2632_snippet_1.mp4\n",
      "\n"
     ]
    },
    {
     "name": "stderr",
     "output_type": "stream",
     "text": [
      "                                                             \r"
     ]
    },
    {
     "name": "stdout",
     "output_type": "stream",
     "text": [
      "MoviePy - Done !\n",
      "MoviePy - video ready SniffingSnippetsIsabelle/2632_snippet_1.mp4\n",
      "MoviePy - Building video SniffingSnippetsIsabelle/2632_snippet_2.mp4.\n",
      "MoviePy - Writing video SniffingSnippetsIsabelle/2632_snippet_2.mp4\n",
      "\n"
     ]
    },
    {
     "name": "stderr",
     "output_type": "stream",
     "text": [
      "                                                             \r"
     ]
    },
    {
     "name": "stdout",
     "output_type": "stream",
     "text": [
      "MoviePy - Done !\n",
      "MoviePy - video ready SniffingSnippetsIsabelle/2632_snippet_2.mp4\n",
      "MoviePy - Building video SniffingSnippetsIsabelle/2632_snippet_3.mp4.\n",
      "MoviePy - Writing video SniffingSnippetsIsabelle/2632_snippet_3.mp4\n",
      "\n"
     ]
    },
    {
     "name": "stderr",
     "output_type": "stream",
     "text": [
      "                                                                     \r"
     ]
    },
    {
     "name": "stdout",
     "output_type": "stream",
     "text": [
      "MoviePy - Done !\n",
      "MoviePy - video ready SniffingSnippetsIsabelle/2632_snippet_3.mp4\n",
      "MoviePy - Building video SniffingSnippetsIsabelle/2632_snippet_4.mp4.\n",
      "MoviePy - Writing video SniffingSnippetsIsabelle/2632_snippet_4.mp4\n",
      "\n"
     ]
    },
    {
     "name": "stderr",
     "output_type": "stream",
     "text": [
      "                                             "
     ]
    },
    {
     "name": "stdout",
     "output_type": "stream",
     "text": [
      "MoviePy - Done !\n",
      "MoviePy - video ready SniffingSnippetsIsabelle/2632_snippet_4.mp4\n"
     ]
    },
    {
     "name": "stderr",
     "output_type": "stream",
     "text": [
      "\r"
     ]
    },
    {
     "name": "stdout",
     "output_type": "stream",
     "text": [
      "MoviePy - Building video SniffingSnippetsIsabelle/2632_snippet_5.mp4.\n",
      "MoviePy - Writing video SniffingSnippetsIsabelle/2632_snippet_5.mp4\n",
      "\n"
     ]
    },
    {
     "name": "stderr",
     "output_type": "stream",
     "text": [
      "                                                                       \r"
     ]
    },
    {
     "name": "stdout",
     "output_type": "stream",
     "text": [
      "MoviePy - Done !\n",
      "MoviePy - video ready SniffingSnippetsIsabelle/2632_snippet_5.mp4\n",
      "MoviePy - Building video SniffingSnippetsIsabelle/2632_snippet_6.mp4.\n",
      "MoviePy - Writing video SniffingSnippetsIsabelle/2632_snippet_6.mp4\n",
      "\n"
     ]
    },
    {
     "name": "stderr",
     "output_type": "stream",
     "text": [
      "                                                            "
     ]
    },
    {
     "name": "stdout",
     "output_type": "stream",
     "text": [
      "MoviePy - Done !\n",
      "MoviePy - video ready SniffingSnippetsIsabelle/2632_snippet_6.mp4\n"
     ]
    },
    {
     "name": "stderr",
     "output_type": "stream",
     "text": [
      "\r"
     ]
    },
    {
     "name": "stdout",
     "output_type": "stream",
     "text": [
      "MoviePy - Building video SniffingSnippetsIsabelle/2632_snippet_7.mp4.\n",
      "MoviePy - Writing video SniffingSnippetsIsabelle/2632_snippet_7.mp4\n",
      "\n"
     ]
    },
    {
     "name": "stderr",
     "output_type": "stream",
     "text": [
      "                                                            "
     ]
    },
    {
     "name": "stdout",
     "output_type": "stream",
     "text": [
      "MoviePy - Done !\n",
      "MoviePy - video ready SniffingSnippetsIsabelle/2632_snippet_7.mp4\n"
     ]
    },
    {
     "name": "stderr",
     "output_type": "stream",
     "text": [
      "\r"
     ]
    },
    {
     "name": "stdout",
     "output_type": "stream",
     "text": [
      "MoviePy - Building video SniffingSnippetsIsabelle/2632_snippet_8.mp4.\n",
      "MoviePy - Writing video SniffingSnippetsIsabelle/2632_snippet_8.mp4\n",
      "\n"
     ]
    },
    {
     "name": "stderr",
     "output_type": "stream",
     "text": [
      "                                                                       \r"
     ]
    },
    {
     "name": "stdout",
     "output_type": "stream",
     "text": [
      "MoviePy - Done !\n",
      "MoviePy - video ready SniffingSnippetsIsabelle/2632_snippet_8.mp4\n",
      "MoviePy - Building video SniffingSnippetsIsabelle/2632_snippet_9.mp4.\n",
      "MoviePy - Writing video SniffingSnippetsIsabelle/2632_snippet_9.mp4\n",
      "\n"
     ]
    },
    {
     "name": "stderr",
     "output_type": "stream",
     "text": [
      "                                                            \r"
     ]
    },
    {
     "name": "stdout",
     "output_type": "stream",
     "text": [
      "MoviePy - Done !\n",
      "MoviePy - video ready SniffingSnippetsIsabelle/2632_snippet_9.mp4\n",
      "MoviePy - Building video SniffingSnippetsIsabelle/2632_snippet_10.mp4.\n",
      "MoviePy - Writing video SniffingSnippetsIsabelle/2632_snippet_10.mp4\n",
      "\n"
     ]
    },
    {
     "name": "stderr",
     "output_type": "stream",
     "text": [
      "                                                            \r"
     ]
    },
    {
     "name": "stdout",
     "output_type": "stream",
     "text": [
      "MoviePy - Done !\n",
      "MoviePy - video ready SniffingSnippetsIsabelle/2632_snippet_10.mp4\n",
      "MoviePy - Building video SniffingSnippetsIsabelle/2632_snippet_11.mp4.\n",
      "MoviePy - Writing video SniffingSnippetsIsabelle/2632_snippet_11.mp4\n",
      "\n"
     ]
    },
    {
     "name": "stderr",
     "output_type": "stream",
     "text": [
      "                                                                     \r"
     ]
    },
    {
     "name": "stdout",
     "output_type": "stream",
     "text": [
      "MoviePy - Done !\n",
      "MoviePy - video ready SniffingSnippetsIsabelle/2632_snippet_11.mp4\n",
      "MoviePy - Building video SniffingSnippetsIsabelle/2632_snippet_12.mp4.\n",
      "MoviePy - Writing video SniffingSnippetsIsabelle/2632_snippet_12.mp4\n",
      "\n"
     ]
    },
    {
     "name": "stderr",
     "output_type": "stream",
     "text": [
      "                                                                       \r"
     ]
    },
    {
     "name": "stdout",
     "output_type": "stream",
     "text": [
      "MoviePy - Done !\n",
      "MoviePy - video ready SniffingSnippetsIsabelle/2632_snippet_12.mp4\n",
      "MoviePy - Building video SniffingSnippetsIsabelle/2632_snippet_13.mp4.\n",
      "MoviePy - Writing video SniffingSnippetsIsabelle/2632_snippet_13.mp4\n",
      "\n"
     ]
    },
    {
     "name": "stderr",
     "output_type": "stream",
     "text": [
      "                                                            "
     ]
    },
    {
     "name": "stdout",
     "output_type": "stream",
     "text": [
      "MoviePy - Done !\n",
      "MoviePy - video ready SniffingSnippetsIsabelle/2632_snippet_13.mp4\n"
     ]
    },
    {
     "name": "stderr",
     "output_type": "stream",
     "text": [
      "\r"
     ]
    },
    {
     "name": "stdout",
     "output_type": "stream",
     "text": [
      "MoviePy - Building video SniffingSnippetsIsabelle/2632_snippet_14.mp4.\n",
      "MoviePy - Writing video SniffingSnippetsIsabelle/2632_snippet_14.mp4\n",
      "\n"
     ]
    },
    {
     "name": "stderr",
     "output_type": "stream",
     "text": [
      "                                                                     \r"
     ]
    },
    {
     "name": "stdout",
     "output_type": "stream",
     "text": [
      "MoviePy - Done !\n",
      "MoviePy - video ready SniffingSnippetsIsabelle/2632_snippet_14.mp4\n",
      "MoviePy - Building video SniffingSnippetsIsabelle/2632_snippet_15.mp4.\n",
      "MoviePy - Writing video SniffingSnippetsIsabelle/2632_snippet_15.mp4\n",
      "\n"
     ]
    },
    {
     "name": "stderr",
     "output_type": "stream",
     "text": [
      "                                                                      \r"
     ]
    },
    {
     "name": "stdout",
     "output_type": "stream",
     "text": [
      "MoviePy - Done !\n",
      "MoviePy - video ready SniffingSnippetsIsabelle/2632_snippet_15.mp4\n",
      "MoviePy - Building video SniffingSnippetsIsabelle/2632_snippet_16.mp4.\n",
      "MoviePy - Writing video SniffingSnippetsIsabelle/2632_snippet_16.mp4\n",
      "\n"
     ]
    },
    {
     "name": "stderr",
     "output_type": "stream",
     "text": [
      "                                                            \r"
     ]
    },
    {
     "name": "stdout",
     "output_type": "stream",
     "text": [
      "MoviePy - Done !\n",
      "MoviePy - video ready SniffingSnippetsIsabelle/2632_snippet_16.mp4\n",
      "MoviePy - Building video SniffingSnippetsIsabelle/2632_snippet_17.mp4.\n",
      "MoviePy - Writing video SniffingSnippetsIsabelle/2632_snippet_17.mp4\n",
      "\n"
     ]
    },
    {
     "name": "stderr",
     "output_type": "stream",
     "text": [
      "                                                                     \r"
     ]
    },
    {
     "name": "stdout",
     "output_type": "stream",
     "text": [
      "MoviePy - Done !\n",
      "MoviePy - video ready SniffingSnippetsIsabelle/2632_snippet_17.mp4\n",
      "MoviePy - Building video SniffingSnippetsIsabelle/2632_snippet_18.mp4.\n",
      "MoviePy - Writing video SniffingSnippetsIsabelle/2632_snippet_18.mp4\n",
      "\n"
     ]
    },
    {
     "name": "stderr",
     "output_type": "stream",
     "text": [
      "                                                                      \r"
     ]
    },
    {
     "name": "stdout",
     "output_type": "stream",
     "text": [
      "MoviePy - Done !\n",
      "MoviePy - video ready SniffingSnippetsIsabelle/2632_snippet_18.mp4\n",
      "MoviePy - Building video SniffingSnippetsIsabelle/2632_snippet_19.mp4.\n",
      "MoviePy - Writing video SniffingSnippetsIsabelle/2632_snippet_19.mp4\n",
      "\n"
     ]
    },
    {
     "name": "stderr",
     "output_type": "stream",
     "text": [
      "                                             "
     ]
    },
    {
     "name": "stdout",
     "output_type": "stream",
     "text": [
      "MoviePy - Done !\n",
      "MoviePy - video ready SniffingSnippetsIsabelle/2632_snippet_19.mp4\n"
     ]
    },
    {
     "name": "stderr",
     "output_type": "stream",
     "text": [
      "\r"
     ]
    },
    {
     "name": "stdout",
     "output_type": "stream",
     "text": [
      "MoviePy - Building video SniffingSnippetsIsabelle/2632_snippet_20.mp4.\n",
      "MoviePy - Writing video SniffingSnippetsIsabelle/2632_snippet_20.mp4\n",
      "\n"
     ]
    },
    {
     "name": "stderr",
     "output_type": "stream",
     "text": [
      "                                                             \r"
     ]
    },
    {
     "name": "stdout",
     "output_type": "stream",
     "text": [
      "MoviePy - Done !\n",
      "MoviePy - video ready SniffingSnippetsIsabelle/2632_snippet_20.mp4\n",
      "MoviePy - Building video SniffingSnippetsIsabelle/2632_snippet_21.mp4.\n",
      "MoviePy - Writing video SniffingSnippetsIsabelle/2632_snippet_21.mp4\n",
      "\n"
     ]
    },
    {
     "name": "stderr",
     "output_type": "stream",
     "text": [
      "                                                                     \r"
     ]
    },
    {
     "name": "stdout",
     "output_type": "stream",
     "text": [
      "MoviePy - Done !\n",
      "MoviePy - video ready SniffingSnippetsIsabelle/2632_snippet_21.mp4\n",
      "MoviePy - Building video SniffingSnippetsIsabelle/2632_snippet_22.mp4.\n",
      "MoviePy - Writing video SniffingSnippetsIsabelle/2632_snippet_22.mp4\n",
      "\n"
     ]
    },
    {
     "name": "stderr",
     "output_type": "stream",
     "text": [
      "                                             "
     ]
    },
    {
     "name": "stdout",
     "output_type": "stream",
     "text": [
      "MoviePy - Done !\n",
      "MoviePy - video ready SniffingSnippetsIsabelle/2632_snippet_22.mp4\n"
     ]
    },
    {
     "name": "stderr",
     "output_type": "stream",
     "text": [
      "\r"
     ]
    },
    {
     "name": "stdout",
     "output_type": "stream",
     "text": [
      "MoviePy - Building video SniffingSnippetsIsabelle/2632_snippet_23.mp4.\n",
      "MoviePy - Writing video SniffingSnippetsIsabelle/2632_snippet_23.mp4\n",
      "\n"
     ]
    },
    {
     "name": "stderr",
     "output_type": "stream",
     "text": [
      "                                                                      \r"
     ]
    },
    {
     "name": "stdout",
     "output_type": "stream",
     "text": [
      "MoviePy - Done !\n",
      "MoviePy - video ready SniffingSnippetsIsabelle/2632_snippet_23.mp4\n",
      "MoviePy - Building video SniffingSnippetsIsabelle/2632_snippet_24.mp4.\n",
      "MoviePy - Writing video SniffingSnippetsIsabelle/2632_snippet_24.mp4\n",
      "\n"
     ]
    },
    {
     "name": "stderr",
     "output_type": "stream",
     "text": [
      "                                             "
     ]
    },
    {
     "name": "stdout",
     "output_type": "stream",
     "text": [
      "MoviePy - Done !\n",
      "MoviePy - video ready SniffingSnippetsIsabelle/2632_snippet_24.mp4\n"
     ]
    },
    {
     "name": "stderr",
     "output_type": "stream",
     "text": [
      "\r"
     ]
    },
    {
     "name": "stdout",
     "output_type": "stream",
     "text": [
      "MoviePy - Building video SniffingSnippetsIsabelle/2632_snippet_25.mp4.\n",
      "MoviePy - Writing video SniffingSnippetsIsabelle/2632_snippet_25.mp4\n",
      "\n"
     ]
    },
    {
     "name": "stderr",
     "output_type": "stream",
     "text": [
      "                                                            "
     ]
    },
    {
     "name": "stdout",
     "output_type": "stream",
     "text": [
      "MoviePy - Done !\n",
      "MoviePy - video ready SniffingSnippetsIsabelle/2632_snippet_25.mp4\n"
     ]
    },
    {
     "name": "stderr",
     "output_type": "stream",
     "text": [
      "\r"
     ]
    },
    {
     "name": "stdout",
     "output_type": "stream",
     "text": [
      "MoviePy - Building video SniffingSnippetsIsabelle/2632_snippet_26.mp4.\n",
      "MoviePy - Writing video SniffingSnippetsIsabelle/2632_snippet_26.mp4\n",
      "\n"
     ]
    },
    {
     "name": "stderr",
     "output_type": "stream",
     "text": [
      "                                                            "
     ]
    },
    {
     "name": "stdout",
     "output_type": "stream",
     "text": [
      "MoviePy - Done !\n",
      "MoviePy - video ready SniffingSnippetsIsabelle/2632_snippet_26.mp4\n"
     ]
    },
    {
     "name": "stderr",
     "output_type": "stream",
     "text": [
      "\r"
     ]
    },
    {
     "name": "stdout",
     "output_type": "stream",
     "text": [
      "MoviePy - Building video SniffingSnippetsIsabelle/2632_snippet_27.mp4.\n",
      "MoviePy - Writing video SniffingSnippetsIsabelle/2632_snippet_27.mp4\n",
      "\n"
     ]
    },
    {
     "name": "stderr",
     "output_type": "stream",
     "text": [
      "                                                            \r"
     ]
    },
    {
     "name": "stdout",
     "output_type": "stream",
     "text": [
      "MoviePy - Done !\n",
      "MoviePy - video ready SniffingSnippetsIsabelle/2632_snippet_27.mp4\n",
      "MoviePy - Building video SniffingSnippetsIsabelle/2632_snippet_28.mp4.\n",
      "MoviePy - Writing video SniffingSnippetsIsabelle/2632_snippet_28.mp4\n",
      "\n"
     ]
    },
    {
     "name": "stderr",
     "output_type": "stream",
     "text": [
      "                                                            \r"
     ]
    },
    {
     "name": "stdout",
     "output_type": "stream",
     "text": [
      "MoviePy - Done !\n",
      "MoviePy - video ready SniffingSnippetsIsabelle/2632_snippet_28.mp4\n",
      "MoviePy - Building video SniffingSnippetsIsabelle/2632_snippet_29.mp4.\n",
      "MoviePy - Writing video SniffingSnippetsIsabelle/2632_snippet_29.mp4\n",
      "\n"
     ]
    },
    {
     "name": "stderr",
     "output_type": "stream",
     "text": [
      "                                                            "
     ]
    },
    {
     "name": "stdout",
     "output_type": "stream",
     "text": [
      "MoviePy - Done !\n",
      "MoviePy - video ready SniffingSnippetsIsabelle/2632_snippet_29.mp4\n",
      "Video number: 2634\n"
     ]
    },
    {
     "name": "stderr",
     "output_type": "stream",
     "text": [
      "\r"
     ]
    },
    {
     "name": "stdout",
     "output_type": "stream",
     "text": [
      "Input video duration: 19.92 seconds\n",
      "\u001b[32m[05/27 21:48:38 d2.checkpoint.detection_checkpoint]: \u001b[0m[DetectionCheckpointer] Loading from ./output/model_final.pth ...\n"
     ]
    },
    {
     "name": "stderr",
     "output_type": "stream",
     "text": [
      "INFO:fvcore.common.checkpoint:[Checkpointer] Loading from ./output/model_final.pth ...\n"
     ]
    },
    {
     "name": "stdout",
     "output_type": "stream",
     "text": [
      "2634\n",
      "MoviePy - Building video SniffingSnippetsIsabelle/2634_snippet_0.mp4.\n",
      "MoviePy - Writing video SniffingSnippetsIsabelle/2634_snippet_0.mp4\n",
      "\n"
     ]
    },
    {
     "name": "stderr",
     "output_type": "stream",
     "text": [
      "                                                            "
     ]
    },
    {
     "name": "stdout",
     "output_type": "stream",
     "text": [
      "MoviePy - Done !\n",
      "MoviePy - video ready SniffingSnippetsIsabelle/2634_snippet_0.mp4\n"
     ]
    },
    {
     "name": "stderr",
     "output_type": "stream",
     "text": [
      "\r"
     ]
    },
    {
     "name": "stdout",
     "output_type": "stream",
     "text": [
      "MoviePy - Building video SniffingSnippetsIsabelle/2634_snippet_1.mp4.\n",
      "MoviePy - Writing video SniffingSnippetsIsabelle/2634_snippet_1.mp4\n",
      "\n"
     ]
    },
    {
     "name": "stderr",
     "output_type": "stream",
     "text": [
      "                                             "
     ]
    },
    {
     "name": "stdout",
     "output_type": "stream",
     "text": [
      "MoviePy - Done !\n",
      "MoviePy - video ready SniffingSnippetsIsabelle/2634_snippet_1.mp4\n"
     ]
    },
    {
     "name": "stderr",
     "output_type": "stream",
     "text": [
      "\r"
     ]
    },
    {
     "name": "stdout",
     "output_type": "stream",
     "text": [
      "MoviePy - Building video SniffingSnippetsIsabelle/2634_snippet_2.mp4.\n",
      "MoviePy - Writing video SniffingSnippetsIsabelle/2634_snippet_2.mp4\n",
      "\n"
     ]
    },
    {
     "name": "stderr",
     "output_type": "stream",
     "text": [
      "                                                            \r"
     ]
    },
    {
     "name": "stdout",
     "output_type": "stream",
     "text": [
      "MoviePy - Done !\n",
      "MoviePy - video ready SniffingSnippetsIsabelle/2634_snippet_2.mp4\n",
      "MoviePy - Building video SniffingSnippetsIsabelle/2634_snippet_3.mp4.\n",
      "MoviePy - Writing video SniffingSnippetsIsabelle/2634_snippet_3.mp4\n",
      "\n"
     ]
    },
    {
     "name": "stderr",
     "output_type": "stream",
     "text": [
      "                                                            \r"
     ]
    },
    {
     "name": "stdout",
     "output_type": "stream",
     "text": [
      "MoviePy - Done !\n",
      "MoviePy - video ready SniffingSnippetsIsabelle/2634_snippet_3.mp4\n",
      "MoviePy - Building video SniffingSnippetsIsabelle/2634_snippet_4.mp4.\n",
      "MoviePy - Writing video SniffingSnippetsIsabelle/2634_snippet_4.mp4\n",
      "\n"
     ]
    },
    {
     "name": "stderr",
     "output_type": "stream",
     "text": [
      "                                                            "
     ]
    },
    {
     "name": "stdout",
     "output_type": "stream",
     "text": [
      "MoviePy - Done !\n",
      "MoviePy - video ready SniffingSnippetsIsabelle/2634_snippet_4.mp4\n"
     ]
    },
    {
     "name": "stderr",
     "output_type": "stream",
     "text": [
      "\r"
     ]
    },
    {
     "name": "stdout",
     "output_type": "stream",
     "text": [
      "MoviePy - Building video SniffingSnippetsIsabelle/2634_snippet_5.mp4.\n",
      "MoviePy - Writing video SniffingSnippetsIsabelle/2634_snippet_5.mp4\n",
      "\n"
     ]
    },
    {
     "name": "stderr",
     "output_type": "stream",
     "text": [
      "                                                            "
     ]
    },
    {
     "name": "stdout",
     "output_type": "stream",
     "text": [
      "MoviePy - Done !\n",
      "MoviePy - video ready SniffingSnippetsIsabelle/2634_snippet_5.mp4\n"
     ]
    },
    {
     "name": "stderr",
     "output_type": "stream",
     "text": [
      "\r"
     ]
    },
    {
     "name": "stdout",
     "output_type": "stream",
     "text": [
      "MoviePy - Building video SniffingSnippetsIsabelle/2634_snippet_6.mp4.\n",
      "MoviePy - Writing video SniffingSnippetsIsabelle/2634_snippet_6.mp4\n",
      "\n"
     ]
    },
    {
     "name": "stderr",
     "output_type": "stream",
     "text": [
      "                                                             \r"
     ]
    },
    {
     "name": "stdout",
     "output_type": "stream",
     "text": [
      "MoviePy - Done !\n",
      "MoviePy - video ready SniffingSnippetsIsabelle/2634_snippet_6.mp4\n",
      "MoviePy - Building video SniffingSnippetsIsabelle/2634_snippet_7.mp4.\n",
      "MoviePy - Writing video SniffingSnippetsIsabelle/2634_snippet_7.mp4\n",
      "\n"
     ]
    },
    {
     "name": "stderr",
     "output_type": "stream",
     "text": [
      "                                                            "
     ]
    },
    {
     "name": "stdout",
     "output_type": "stream",
     "text": [
      "MoviePy - Done !\n",
      "MoviePy - video ready SniffingSnippetsIsabelle/2634_snippet_7.mp4\n"
     ]
    },
    {
     "name": "stderr",
     "output_type": "stream",
     "text": [
      "\r"
     ]
    },
    {
     "name": "stdout",
     "output_type": "stream",
     "text": [
      "MoviePy - Building video SniffingSnippetsIsabelle/2634_snippet_8.mp4.\n",
      "MoviePy - Writing video SniffingSnippetsIsabelle/2634_snippet_8.mp4\n",
      "\n"
     ]
    },
    {
     "name": "stderr",
     "output_type": "stream",
     "text": [
      "                                                            "
     ]
    },
    {
     "name": "stdout",
     "output_type": "stream",
     "text": [
      "MoviePy - Done !\n",
      "MoviePy - video ready SniffingSnippetsIsabelle/2634_snippet_8.mp4\n"
     ]
    },
    {
     "name": "stderr",
     "output_type": "stream",
     "text": [
      "\r"
     ]
    },
    {
     "name": "stdout",
     "output_type": "stream",
     "text": [
      "MoviePy - Building video SniffingSnippetsIsabelle/2634_snippet_9.mp4.\n",
      "MoviePy - Writing video SniffingSnippetsIsabelle/2634_snippet_9.mp4\n",
      "\n"
     ]
    },
    {
     "name": "stderr",
     "output_type": "stream",
     "text": [
      "                                                            "
     ]
    },
    {
     "name": "stdout",
     "output_type": "stream",
     "text": [
      "MoviePy - Done !\n",
      "MoviePy - video ready SniffingSnippetsIsabelle/2634_snippet_9.mp4\n"
     ]
    },
    {
     "name": "stderr",
     "output_type": "stream",
     "text": [
      "\r"
     ]
    },
    {
     "name": "stdout",
     "output_type": "stream",
     "text": [
      "MoviePy - Building video SniffingSnippetsIsabelle/2634_snippet_10.mp4.\n",
      "MoviePy - Writing video SniffingSnippetsIsabelle/2634_snippet_10.mp4\n",
      "\n"
     ]
    },
    {
     "name": "stderr",
     "output_type": "stream",
     "text": [
      "                                                            "
     ]
    },
    {
     "name": "stdout",
     "output_type": "stream",
     "text": [
      "MoviePy - Done !\n",
      "MoviePy - video ready SniffingSnippetsIsabelle/2634_snippet_10.mp4\n"
     ]
    },
    {
     "name": "stderr",
     "output_type": "stream",
     "text": [
      "\r"
     ]
    },
    {
     "name": "stdout",
     "output_type": "stream",
     "text": [
      "MoviePy - Building video SniffingSnippetsIsabelle/2634_snippet_11.mp4.\n",
      "MoviePy - Writing video SniffingSnippetsIsabelle/2634_snippet_11.mp4\n",
      "\n"
     ]
    },
    {
     "name": "stderr",
     "output_type": "stream",
     "text": [
      "                                                            "
     ]
    },
    {
     "name": "stdout",
     "output_type": "stream",
     "text": [
      "MoviePy - Done !\n",
      "MoviePy - video ready SniffingSnippetsIsabelle/2634_snippet_11.mp4\n"
     ]
    },
    {
     "name": "stderr",
     "output_type": "stream",
     "text": [
      "\r"
     ]
    },
    {
     "name": "stdout",
     "output_type": "stream",
     "text": [
      "MoviePy - Building video SniffingSnippetsIsabelle/2634_snippet_12.mp4.\n",
      "MoviePy - Writing video SniffingSnippetsIsabelle/2634_snippet_12.mp4\n",
      "\n"
     ]
    },
    {
     "name": "stderr",
     "output_type": "stream",
     "text": [
      "                                                            "
     ]
    },
    {
     "name": "stdout",
     "output_type": "stream",
     "text": [
      "MoviePy - Done !\n",
      "MoviePy - video ready SniffingSnippetsIsabelle/2634_snippet_12.mp4\n"
     ]
    },
    {
     "name": "stderr",
     "output_type": "stream",
     "text": [
      "\r"
     ]
    },
    {
     "name": "stdout",
     "output_type": "stream",
     "text": [
      "MoviePy - Building video SniffingSnippetsIsabelle/2634_snippet_13.mp4.\n",
      "MoviePy - Writing video SniffingSnippetsIsabelle/2634_snippet_13.mp4\n",
      "\n"
     ]
    },
    {
     "name": "stderr",
     "output_type": "stream",
     "text": [
      "                                                             \r"
     ]
    },
    {
     "name": "stdout",
     "output_type": "stream",
     "text": [
      "MoviePy - Done !\n",
      "MoviePy - video ready SniffingSnippetsIsabelle/2634_snippet_13.mp4\n",
      "MoviePy - Building video SniffingSnippetsIsabelle/2634_snippet_14.mp4.\n",
      "MoviePy - Writing video SniffingSnippetsIsabelle/2634_snippet_14.mp4\n",
      "\n"
     ]
    },
    {
     "name": "stderr",
     "output_type": "stream",
     "text": [
      "                                                             \r"
     ]
    },
    {
     "name": "stdout",
     "output_type": "stream",
     "text": [
      "MoviePy - Done !\n",
      "MoviePy - video ready SniffingSnippetsIsabelle/2634_snippet_14.mp4\n",
      "MoviePy - Building video SniffingSnippetsIsabelle/2634_snippet_15.mp4.\n",
      "MoviePy - Writing video SniffingSnippetsIsabelle/2634_snippet_15.mp4\n",
      "\n"
     ]
    },
    {
     "name": "stderr",
     "output_type": "stream",
     "text": [
      "                                                            "
     ]
    },
    {
     "name": "stdout",
     "output_type": "stream",
     "text": [
      "MoviePy - Done !\n",
      "MoviePy - video ready SniffingSnippetsIsabelle/2634_snippet_15.mp4\n"
     ]
    },
    {
     "name": "stderr",
     "output_type": "stream",
     "text": [
      "\r"
     ]
    },
    {
     "name": "stdout",
     "output_type": "stream",
     "text": [
      "MoviePy - Building video SniffingSnippetsIsabelle/2634_snippet_16.mp4.\n",
      "MoviePy - Writing video SniffingSnippetsIsabelle/2634_snippet_16.mp4\n",
      "\n"
     ]
    },
    {
     "name": "stderr",
     "output_type": "stream",
     "text": [
      "                                                             \r"
     ]
    },
    {
     "name": "stdout",
     "output_type": "stream",
     "text": [
      "MoviePy - Done !\n",
      "MoviePy - video ready SniffingSnippetsIsabelle/2634_snippet_16.mp4\n",
      "MoviePy - Building video SniffingSnippetsIsabelle/2634_snippet_17.mp4.\n",
      "MoviePy - Writing video SniffingSnippetsIsabelle/2634_snippet_17.mp4\n",
      "\n"
     ]
    },
    {
     "name": "stderr",
     "output_type": "stream",
     "text": [
      "                                                            "
     ]
    },
    {
     "name": "stdout",
     "output_type": "stream",
     "text": [
      "MoviePy - Done !\n",
      "MoviePy - video ready SniffingSnippetsIsabelle/2634_snippet_17.mp4\n"
     ]
    },
    {
     "name": "stderr",
     "output_type": "stream",
     "text": [
      "\r"
     ]
    },
    {
     "name": "stdout",
     "output_type": "stream",
     "text": [
      "MoviePy - Building video SniffingSnippetsIsabelle/2634_snippet_18.mp4.\n",
      "MoviePy - Writing video SniffingSnippetsIsabelle/2634_snippet_18.mp4\n",
      "\n"
     ]
    },
    {
     "name": "stderr",
     "output_type": "stream",
     "text": [
      "                                                            "
     ]
    },
    {
     "name": "stdout",
     "output_type": "stream",
     "text": [
      "MoviePy - Done !\n",
      "MoviePy - video ready SniffingSnippetsIsabelle/2634_snippet_18.mp4\n"
     ]
    },
    {
     "name": "stderr",
     "output_type": "stream",
     "text": [
      "\r"
     ]
    },
    {
     "name": "stdout",
     "output_type": "stream",
     "text": [
      "MoviePy - Building video SniffingSnippetsIsabelle/2634_snippet_19.mp4.\n",
      "MoviePy - Writing video SniffingSnippetsIsabelle/2634_snippet_19.mp4\n",
      "\n"
     ]
    },
    {
     "name": "stderr",
     "output_type": "stream",
     "text": [
      "                                                            "
     ]
    },
    {
     "name": "stdout",
     "output_type": "stream",
     "text": [
      "MoviePy - Done !\n",
      "MoviePy - video ready SniffingSnippetsIsabelle/2634_snippet_19.mp4\n"
     ]
    },
    {
     "name": "stderr",
     "output_type": "stream",
     "text": [
      "\r"
     ]
    },
    {
     "name": "stdout",
     "output_type": "stream",
     "text": [
      "MoviePy - Building video SniffingSnippetsIsabelle/2634_snippet_20.mp4.\n",
      "MoviePy - Writing video SniffingSnippetsIsabelle/2634_snippet_20.mp4\n",
      "\n"
     ]
    },
    {
     "name": "stderr",
     "output_type": "stream",
     "text": [
      "                                                                       \r"
     ]
    },
    {
     "name": "stdout",
     "output_type": "stream",
     "text": [
      "MoviePy - Done !\n",
      "MoviePy - video ready SniffingSnippetsIsabelle/2634_snippet_20.mp4\n",
      "MoviePy - Building video SniffingSnippetsIsabelle/2634_snippet_21.mp4.\n",
      "MoviePy - Writing video SniffingSnippetsIsabelle/2634_snippet_21.mp4\n",
      "\n"
     ]
    },
    {
     "name": "stderr",
     "output_type": "stream",
     "text": [
      "                                                            \r"
     ]
    },
    {
     "name": "stdout",
     "output_type": "stream",
     "text": [
      "MoviePy - Done !\n",
      "MoviePy - video ready SniffingSnippetsIsabelle/2634_snippet_21.mp4\n",
      "MoviePy - Building video SniffingSnippetsIsabelle/2634_snippet_22.mp4.\n",
      "MoviePy - Writing video SniffingSnippetsIsabelle/2634_snippet_22.mp4\n",
      "\n"
     ]
    },
    {
     "name": "stderr",
     "output_type": "stream",
     "text": [
      "                                                            "
     ]
    },
    {
     "name": "stdout",
     "output_type": "stream",
     "text": [
      "MoviePy - Done !\n",
      "MoviePy - video ready SniffingSnippetsIsabelle/2634_snippet_22.mp4\n"
     ]
    },
    {
     "name": "stderr",
     "output_type": "stream",
     "text": [
      "\r"
     ]
    },
    {
     "name": "stdout",
     "output_type": "stream",
     "text": [
      "MoviePy - Building video SniffingSnippetsIsabelle/2634_snippet_23.mp4.\n",
      "MoviePy - Writing video SniffingSnippetsIsabelle/2634_snippet_23.mp4\n",
      "\n"
     ]
    },
    {
     "name": "stderr",
     "output_type": "stream",
     "text": [
      "                                                            "
     ]
    },
    {
     "name": "stdout",
     "output_type": "stream",
     "text": [
      "MoviePy - Done !\n",
      "MoviePy - video ready SniffingSnippetsIsabelle/2634_snippet_23.mp4\n"
     ]
    },
    {
     "name": "stderr",
     "output_type": "stream",
     "text": [
      "\r"
     ]
    },
    {
     "name": "stdout",
     "output_type": "stream",
     "text": [
      "MoviePy - Building video SniffingSnippetsIsabelle/2634_snippet_24.mp4.\n",
      "MoviePy - Writing video SniffingSnippetsIsabelle/2634_snippet_24.mp4\n",
      "\n"
     ]
    },
    {
     "name": "stderr",
     "output_type": "stream",
     "text": [
      "                                                             \r"
     ]
    },
    {
     "name": "stdout",
     "output_type": "stream",
     "text": [
      "MoviePy - Done !\n",
      "MoviePy - video ready SniffingSnippetsIsabelle/2634_snippet_24.mp4\n",
      "MoviePy - Building video SniffingSnippetsIsabelle/2634_snippet_25.mp4.\n",
      "MoviePy - Writing video SniffingSnippetsIsabelle/2634_snippet_25.mp4\n",
      "\n"
     ]
    },
    {
     "name": "stderr",
     "output_type": "stream",
     "text": [
      "                                                            "
     ]
    },
    {
     "name": "stdout",
     "output_type": "stream",
     "text": [
      "MoviePy - Done !\n",
      "MoviePy - video ready SniffingSnippetsIsabelle/2634_snippet_25.mp4\n"
     ]
    },
    {
     "name": "stderr",
     "output_type": "stream",
     "text": [
      "\r"
     ]
    },
    {
     "name": "stdout",
     "output_type": "stream",
     "text": [
      "MoviePy - Building video SniffingSnippetsIsabelle/2634_snippet_26.mp4.\n",
      "MoviePy - Writing video SniffingSnippetsIsabelle/2634_snippet_26.mp4\n",
      "\n"
     ]
    },
    {
     "name": "stderr",
     "output_type": "stream",
     "text": [
      "                                                            "
     ]
    },
    {
     "name": "stdout",
     "output_type": "stream",
     "text": [
      "MoviePy - Done !\n",
      "MoviePy - video ready SniffingSnippetsIsabelle/2634_snippet_26.mp4\n"
     ]
    },
    {
     "name": "stderr",
     "output_type": "stream",
     "text": [
      "\r"
     ]
    },
    {
     "name": "stdout",
     "output_type": "stream",
     "text": [
      "MoviePy - Building video SniffingSnippetsIsabelle/2634_snippet_27.mp4.\n",
      "MoviePy - Writing video SniffingSnippetsIsabelle/2634_snippet_27.mp4\n",
      "\n"
     ]
    },
    {
     "name": "stderr",
     "output_type": "stream",
     "text": [
      "                                                            "
     ]
    },
    {
     "name": "stdout",
     "output_type": "stream",
     "text": [
      "MoviePy - Done !\n",
      "MoviePy - video ready SniffingSnippetsIsabelle/2634_snippet_27.mp4\n"
     ]
    },
    {
     "name": "stderr",
     "output_type": "stream",
     "text": [
      "\r"
     ]
    },
    {
     "name": "stdout",
     "output_type": "stream",
     "text": [
      "MoviePy - Building video SniffingSnippetsIsabelle/2634_snippet_28.mp4.\n",
      "MoviePy - Writing video SniffingSnippetsIsabelle/2634_snippet_28.mp4\n",
      "\n"
     ]
    },
    {
     "name": "stderr",
     "output_type": "stream",
     "text": [
      "                                             "
     ]
    },
    {
     "name": "stdout",
     "output_type": "stream",
     "text": [
      "MoviePy - Done !\n",
      "MoviePy - video ready SniffingSnippetsIsabelle/2634_snippet_28.mp4\n"
     ]
    },
    {
     "name": "stderr",
     "output_type": "stream",
     "text": [
      "\r"
     ]
    },
    {
     "name": "stdout",
     "output_type": "stream",
     "text": [
      "MoviePy - Building video SniffingSnippetsIsabelle/2634_snippet_29.mp4.\n",
      "MoviePy - Writing video SniffingSnippetsIsabelle/2634_snippet_29.mp4\n",
      "\n"
     ]
    },
    {
     "name": "stderr",
     "output_type": "stream",
     "text": [
      "                                             "
     ]
    },
    {
     "name": "stdout",
     "output_type": "stream",
     "text": [
      "MoviePy - Done !\n",
      "MoviePy - video ready SniffingSnippetsIsabelle/2634_snippet_29.mp4\n"
     ]
    },
    {
     "name": "stderr",
     "output_type": "stream",
     "text": [
      "\r"
     ]
    },
    {
     "name": "stdout",
     "output_type": "stream",
     "text": [
      "MoviePy - Building video SniffingSnippetsIsabelle/2634_snippet_30.mp4.\n",
      "MoviePy - Writing video SniffingSnippetsIsabelle/2634_snippet_30.mp4\n",
      "\n"
     ]
    },
    {
     "name": "stderr",
     "output_type": "stream",
     "text": [
      "                                                                       \r"
     ]
    },
    {
     "name": "stdout",
     "output_type": "stream",
     "text": [
      "MoviePy - Done !\n",
      "MoviePy - video ready SniffingSnippetsIsabelle/2634_snippet_30.mp4\n",
      "MoviePy - Building video SniffingSnippetsIsabelle/2634_snippet_31.mp4.\n",
      "MoviePy - Writing video SniffingSnippetsIsabelle/2634_snippet_31.mp4\n",
      "\n"
     ]
    },
    {
     "name": "stderr",
     "output_type": "stream",
     "text": [
      "                                                            \r"
     ]
    },
    {
     "name": "stdout",
     "output_type": "stream",
     "text": [
      "MoviePy - Done !\n",
      "MoviePy - video ready SniffingSnippetsIsabelle/2634_snippet_31.mp4\n",
      "MoviePy - Building video SniffingSnippetsIsabelle/2634_snippet_32.mp4.\n",
      "MoviePy - Writing video SniffingSnippetsIsabelle/2634_snippet_32.mp4\n",
      "\n"
     ]
    },
    {
     "name": "stderr",
     "output_type": "stream",
     "text": [
      "                                                             \r"
     ]
    },
    {
     "name": "stdout",
     "output_type": "stream",
     "text": [
      "MoviePy - Done !\n",
      "MoviePy - video ready SniffingSnippetsIsabelle/2634_snippet_32.mp4\n",
      "MoviePy - Building video SniffingSnippetsIsabelle/2634_snippet_33.mp4.\n",
      "MoviePy - Writing video SniffingSnippetsIsabelle/2634_snippet_33.mp4\n",
      "\n"
     ]
    },
    {
     "name": "stderr",
     "output_type": "stream",
     "text": [
      "                                                            "
     ]
    },
    {
     "name": "stdout",
     "output_type": "stream",
     "text": [
      "MoviePy - Done !\n",
      "MoviePy - video ready SniffingSnippetsIsabelle/2634_snippet_33.mp4\n"
     ]
    },
    {
     "name": "stderr",
     "output_type": "stream",
     "text": [
      "\r"
     ]
    },
    {
     "name": "stdout",
     "output_type": "stream",
     "text": [
      "MoviePy - Building video SniffingSnippetsIsabelle/2634_snippet_34.mp4.\n",
      "MoviePy - Writing video SniffingSnippetsIsabelle/2634_snippet_34.mp4\n",
      "\n"
     ]
    },
    {
     "name": "stderr",
     "output_type": "stream",
     "text": [
      "                                                            "
     ]
    },
    {
     "name": "stdout",
     "output_type": "stream",
     "text": [
      "MoviePy - Done !\n",
      "MoviePy - video ready SniffingSnippetsIsabelle/2634_snippet_34.mp4\n"
     ]
    },
    {
     "name": "stderr",
     "output_type": "stream",
     "text": [
      "\r"
     ]
    },
    {
     "name": "stdout",
     "output_type": "stream",
     "text": [
      "MoviePy - Building video SniffingSnippetsIsabelle/2634_snippet_35.mp4.\n",
      "MoviePy - Writing video SniffingSnippetsIsabelle/2634_snippet_35.mp4\n",
      "\n"
     ]
    },
    {
     "name": "stderr",
     "output_type": "stream",
     "text": [
      "                                                            "
     ]
    },
    {
     "name": "stdout",
     "output_type": "stream",
     "text": [
      "MoviePy - Done !\n",
      "MoviePy - video ready SniffingSnippetsIsabelle/2634_snippet_35.mp4\n"
     ]
    },
    {
     "name": "stderr",
     "output_type": "stream",
     "text": [
      "\r"
     ]
    },
    {
     "name": "stdout",
     "output_type": "stream",
     "text": [
      "MoviePy - Building video SniffingSnippetsIsabelle/2634_snippet_36.mp4.\n",
      "MoviePy - Writing video SniffingSnippetsIsabelle/2634_snippet_36.mp4\n",
      "\n"
     ]
    },
    {
     "name": "stderr",
     "output_type": "stream",
     "text": [
      "                                                            \r"
     ]
    },
    {
     "name": "stdout",
     "output_type": "stream",
     "text": [
      "MoviePy - Done !\n",
      "MoviePy - video ready SniffingSnippetsIsabelle/2634_snippet_36.mp4\n",
      "MoviePy - Building video SniffingSnippetsIsabelle/2634_snippet_37.mp4.\n",
      "MoviePy - Writing video SniffingSnippetsIsabelle/2634_snippet_37.mp4\n",
      "\n"
     ]
    },
    {
     "name": "stderr",
     "output_type": "stream",
     "text": [
      "                                                            "
     ]
    },
    {
     "name": "stdout",
     "output_type": "stream",
     "text": [
      "MoviePy - Done !\n",
      "MoviePy - video ready SniffingSnippetsIsabelle/2634_snippet_37.mp4\n"
     ]
    },
    {
     "name": "stderr",
     "output_type": "stream",
     "text": [
      "\r"
     ]
    },
    {
     "name": "stdout",
     "output_type": "stream",
     "text": [
      "MoviePy - Building video SniffingSnippetsIsabelle/2634_snippet_38.mp4.\n",
      "MoviePy - Writing video SniffingSnippetsIsabelle/2634_snippet_38.mp4\n",
      "\n"
     ]
    },
    {
     "name": "stderr",
     "output_type": "stream",
     "text": [
      "                                                            "
     ]
    },
    {
     "name": "stdout",
     "output_type": "stream",
     "text": [
      "MoviePy - Done !\n",
      "MoviePy - video ready SniffingSnippetsIsabelle/2634_snippet_38.mp4\n"
     ]
    },
    {
     "name": "stderr",
     "output_type": "stream",
     "text": [
      "\r"
     ]
    },
    {
     "name": "stdout",
     "output_type": "stream",
     "text": [
      "MoviePy - Building video SniffingSnippetsIsabelle/2634_snippet_39.mp4.\n",
      "MoviePy - Writing video SniffingSnippetsIsabelle/2634_snippet_39.mp4\n",
      "\n"
     ]
    },
    {
     "name": "stderr",
     "output_type": "stream",
     "text": [
      "                                                            \r"
     ]
    },
    {
     "name": "stdout",
     "output_type": "stream",
     "text": [
      "MoviePy - Done !\n",
      "MoviePy - video ready SniffingSnippetsIsabelle/2634_snippet_39.mp4\n",
      "MoviePy - Building video SniffingSnippetsIsabelle/2634_snippet_40.mp4.\n",
      "MoviePy - Writing video SniffingSnippetsIsabelle/2634_snippet_40.mp4\n",
      "\n"
     ]
    },
    {
     "name": "stderr",
     "output_type": "stream",
     "text": [
      "                                                            "
     ]
    },
    {
     "name": "stdout",
     "output_type": "stream",
     "text": [
      "MoviePy - Done !\n",
      "MoviePy - video ready SniffingSnippetsIsabelle/2634_snippet_40.mp4\n"
     ]
    },
    {
     "name": "stderr",
     "output_type": "stream",
     "text": [
      "\r"
     ]
    },
    {
     "name": "stdout",
     "output_type": "stream",
     "text": [
      "MoviePy - Building video SniffingSnippetsIsabelle/2634_snippet_41.mp4.\n",
      "MoviePy - Writing video SniffingSnippetsIsabelle/2634_snippet_41.mp4\n",
      "\n"
     ]
    },
    {
     "name": "stderr",
     "output_type": "stream",
     "text": [
      "                                                            \r"
     ]
    },
    {
     "name": "stdout",
     "output_type": "stream",
     "text": [
      "MoviePy - Done !\n",
      "MoviePy - video ready SniffingSnippetsIsabelle/2634_snippet_41.mp4\n",
      "MoviePy - Building video SniffingSnippetsIsabelle/2634_snippet_42.mp4.\n",
      "MoviePy - Writing video SniffingSnippetsIsabelle/2634_snippet_42.mp4\n",
      "\n"
     ]
    },
    {
     "name": "stderr",
     "output_type": "stream",
     "text": [
      "                                                                    \r"
     ]
    },
    {
     "name": "stdout",
     "output_type": "stream",
     "text": [
      "MoviePy - Done !\n",
      "MoviePy - video ready SniffingSnippetsIsabelle/2634_snippet_42.mp4\n",
      "MoviePy - Building video SniffingSnippetsIsabelle/2634_snippet_43.mp4.\n",
      "MoviePy - Writing video SniffingSnippetsIsabelle/2634_snippet_43.mp4\n",
      "\n"
     ]
    },
    {
     "name": "stderr",
     "output_type": "stream",
     "text": [
      "                                             "
     ]
    },
    {
     "name": "stdout",
     "output_type": "stream",
     "text": [
      "MoviePy - Done !\n",
      "MoviePy - video ready SniffingSnippetsIsabelle/2634_snippet_43.mp4\n"
     ]
    },
    {
     "name": "stderr",
     "output_type": "stream",
     "text": [
      "\r"
     ]
    },
    {
     "name": "stdout",
     "output_type": "stream",
     "text": [
      "MoviePy - Building video SniffingSnippetsIsabelle/2634_snippet_44.mp4.\n",
      "MoviePy - Writing video SniffingSnippetsIsabelle/2634_snippet_44.mp4\n",
      "\n"
     ]
    },
    {
     "name": "stderr",
     "output_type": "stream",
     "text": [
      "                                                            "
     ]
    },
    {
     "name": "stdout",
     "output_type": "stream",
     "text": [
      "MoviePy - Done !\n",
      "MoviePy - video ready SniffingSnippetsIsabelle/2634_snippet_44.mp4\n"
     ]
    },
    {
     "name": "stderr",
     "output_type": "stream",
     "text": [
      "\r"
     ]
    },
    {
     "name": "stdout",
     "output_type": "stream",
     "text": [
      "MoviePy - Building video SniffingSnippetsIsabelle/2634_snippet_45.mp4.\n",
      "MoviePy - Writing video SniffingSnippetsIsabelle/2634_snippet_45.mp4\n",
      "\n"
     ]
    },
    {
     "name": "stderr",
     "output_type": "stream",
     "text": [
      "                                                            "
     ]
    },
    {
     "name": "stdout",
     "output_type": "stream",
     "text": [
      "MoviePy - Done !\n",
      "MoviePy - video ready SniffingSnippetsIsabelle/2634_snippet_45.mp4\n"
     ]
    },
    {
     "name": "stderr",
     "output_type": "stream",
     "text": [
      "\r"
     ]
    },
    {
     "name": "stdout",
     "output_type": "stream",
     "text": [
      "MoviePy - Building video SniffingSnippetsIsabelle/2634_snippet_46.mp4.\n",
      "MoviePy - Writing video SniffingSnippetsIsabelle/2634_snippet_46.mp4\n",
      "\n"
     ]
    },
    {
     "name": "stderr",
     "output_type": "stream",
     "text": [
      "                                                            "
     ]
    },
    {
     "name": "stdout",
     "output_type": "stream",
     "text": [
      "MoviePy - Done !\n",
      "MoviePy - video ready SniffingSnippetsIsabelle/2634_snippet_46.mp4\n"
     ]
    },
    {
     "name": "stderr",
     "output_type": "stream",
     "text": [
      "\r"
     ]
    },
    {
     "name": "stdout",
     "output_type": "stream",
     "text": [
      "MoviePy - Building video SniffingSnippetsIsabelle/2634_snippet_47.mp4.\n",
      "MoviePy - Writing video SniffingSnippetsIsabelle/2634_snippet_47.mp4\n",
      "\n"
     ]
    },
    {
     "name": "stderr",
     "output_type": "stream",
     "text": [
      "                                                                    \r"
     ]
    },
    {
     "name": "stdout",
     "output_type": "stream",
     "text": [
      "MoviePy - Done !\n",
      "MoviePy - video ready SniffingSnippetsIsabelle/2634_snippet_47.mp4\n",
      "MoviePy - Building video SniffingSnippetsIsabelle/2634_snippet_48.mp4.\n",
      "MoviePy - Writing video SniffingSnippetsIsabelle/2634_snippet_48.mp4\n",
      "\n"
     ]
    },
    {
     "name": "stderr",
     "output_type": "stream",
     "text": [
      "                                                            "
     ]
    },
    {
     "name": "stdout",
     "output_type": "stream",
     "text": [
      "MoviePy - Done !\n",
      "MoviePy - video ready SniffingSnippetsIsabelle/2634_snippet_48.mp4\n"
     ]
    },
    {
     "name": "stderr",
     "output_type": "stream",
     "text": [
      "\r"
     ]
    },
    {
     "name": "stdout",
     "output_type": "stream",
     "text": [
      "MoviePy - Building video SniffingSnippetsIsabelle/2634_snippet_49.mp4.\n",
      "MoviePy - Writing video SniffingSnippetsIsabelle/2634_snippet_49.mp4\n",
      "\n"
     ]
    },
    {
     "name": "stderr",
     "output_type": "stream",
     "text": [
      "                                                             \r"
     ]
    },
    {
     "name": "stdout",
     "output_type": "stream",
     "text": [
      "MoviePy - Done !\n",
      "MoviePy - video ready SniffingSnippetsIsabelle/2634_snippet_49.mp4\n",
      "MoviePy - Building video SniffingSnippetsIsabelle/2634_snippet_50.mp4.\n",
      "MoviePy - Writing video SniffingSnippetsIsabelle/2634_snippet_50.mp4\n",
      "\n"
     ]
    },
    {
     "name": "stderr",
     "output_type": "stream",
     "text": [
      "                                                            "
     ]
    },
    {
     "name": "stdout",
     "output_type": "stream",
     "text": [
      "MoviePy - Done !\n",
      "MoviePy - video ready SniffingSnippetsIsabelle/2634_snippet_50.mp4\n"
     ]
    },
    {
     "name": "stderr",
     "output_type": "stream",
     "text": [
      "\r"
     ]
    },
    {
     "name": "stdout",
     "output_type": "stream",
     "text": [
      "MoviePy - Building video SniffingSnippetsIsabelle/2634_snippet_51.mp4.\n",
      "MoviePy - Writing video SniffingSnippetsIsabelle/2634_snippet_51.mp4\n",
      "\n"
     ]
    },
    {
     "name": "stderr",
     "output_type": "stream",
     "text": [
      "                                                             \r"
     ]
    },
    {
     "name": "stdout",
     "output_type": "stream",
     "text": [
      "MoviePy - Done !\n",
      "MoviePy - video ready SniffingSnippetsIsabelle/2634_snippet_51.mp4\n",
      "Video number: 2635\n",
      "Input video duration: 14.61 seconds\n",
      "\u001b[32m[05/27 21:50:51 d2.checkpoint.detection_checkpoint]: \u001b[0m[DetectionCheckpointer] Loading from ./output/model_final.pth ...\n"
     ]
    },
    {
     "name": "stderr",
     "output_type": "stream",
     "text": [
      "INFO:fvcore.common.checkpoint:[Checkpointer] Loading from ./output/model_final.pth ...\n"
     ]
    },
    {
     "name": "stdout",
     "output_type": "stream",
     "text": [
      "2635\n",
      "MoviePy - Building video SniffingSnippetsIsabelle/2635_snippet_0.mp4.\n",
      "MoviePy - Writing video SniffingSnippetsIsabelle/2635_snippet_0.mp4\n",
      "\n"
     ]
    },
    {
     "name": "stderr",
     "output_type": "stream",
     "text": [
      "                                                            "
     ]
    },
    {
     "name": "stdout",
     "output_type": "stream",
     "text": [
      "MoviePy - Done !\n",
      "MoviePy - video ready SniffingSnippetsIsabelle/2635_snippet_0.mp4\n"
     ]
    },
    {
     "name": "stderr",
     "output_type": "stream",
     "text": [
      "\r"
     ]
    },
    {
     "name": "stdout",
     "output_type": "stream",
     "text": [
      "MoviePy - Building video SniffingSnippetsIsabelle/2635_snippet_1.mp4.\n",
      "MoviePy - Writing video SniffingSnippetsIsabelle/2635_snippet_1.mp4\n",
      "\n"
     ]
    },
    {
     "name": "stderr",
     "output_type": "stream",
     "text": [
      "                                                            "
     ]
    },
    {
     "name": "stdout",
     "output_type": "stream",
     "text": [
      "MoviePy - Done !\n",
      "MoviePy - video ready SniffingSnippetsIsabelle/2635_snippet_1.mp4\n"
     ]
    },
    {
     "name": "stderr",
     "output_type": "stream",
     "text": [
      "\r"
     ]
    },
    {
     "name": "stdout",
     "output_type": "stream",
     "text": [
      "MoviePy - Building video SniffingSnippetsIsabelle/2635_snippet_2.mp4.\n",
      "MoviePy - Writing video SniffingSnippetsIsabelle/2635_snippet_2.mp4\n",
      "\n"
     ]
    },
    {
     "name": "stderr",
     "output_type": "stream",
     "text": [
      "                                                            "
     ]
    },
    {
     "name": "stdout",
     "output_type": "stream",
     "text": [
      "MoviePy - Done !\n",
      "MoviePy - video ready SniffingSnippetsIsabelle/2635_snippet_2.mp4\n"
     ]
    },
    {
     "name": "stderr",
     "output_type": "stream",
     "text": [
      "\r"
     ]
    },
    {
     "name": "stdout",
     "output_type": "stream",
     "text": [
      "MoviePy - Building video SniffingSnippetsIsabelle/2635_snippet_3.mp4.\n",
      "MoviePy - Writing video SniffingSnippetsIsabelle/2635_snippet_3.mp4\n",
      "\n"
     ]
    },
    {
     "name": "stderr",
     "output_type": "stream",
     "text": [
      "                                                            \r"
     ]
    },
    {
     "name": "stdout",
     "output_type": "stream",
     "text": [
      "MoviePy - Done !\n",
      "MoviePy - video ready SniffingSnippetsIsabelle/2635_snippet_3.mp4\n",
      "MoviePy - Building video SniffingSnippetsIsabelle/2635_snippet_4.mp4.\n",
      "MoviePy - Writing video SniffingSnippetsIsabelle/2635_snippet_4.mp4\n",
      "\n"
     ]
    },
    {
     "name": "stderr",
     "output_type": "stream",
     "text": [
      "                                                            "
     ]
    },
    {
     "name": "stdout",
     "output_type": "stream",
     "text": [
      "MoviePy - Done !\n",
      "MoviePy - video ready SniffingSnippetsIsabelle/2635_snippet_4.mp4\n"
     ]
    },
    {
     "name": "stderr",
     "output_type": "stream",
     "text": [
      "\r"
     ]
    },
    {
     "name": "stdout",
     "output_type": "stream",
     "text": [
      "MoviePy - Building video SniffingSnippetsIsabelle/2635_snippet_5.mp4.\n",
      "MoviePy - Writing video SniffingSnippetsIsabelle/2635_snippet_5.mp4\n",
      "\n"
     ]
    },
    {
     "name": "stderr",
     "output_type": "stream",
     "text": [
      "                                                             \r"
     ]
    },
    {
     "name": "stdout",
     "output_type": "stream",
     "text": [
      "MoviePy - Done !\n",
      "MoviePy - video ready SniffingSnippetsIsabelle/2635_snippet_5.mp4\n",
      "MoviePy - Building video SniffingSnippetsIsabelle/2635_snippet_6.mp4.\n",
      "MoviePy - Writing video SniffingSnippetsIsabelle/2635_snippet_6.mp4\n",
      "\n"
     ]
    },
    {
     "name": "stderr",
     "output_type": "stream",
     "text": [
      "                                                            "
     ]
    },
    {
     "name": "stdout",
     "output_type": "stream",
     "text": [
      "MoviePy - Done !\n",
      "MoviePy - video ready SniffingSnippetsIsabelle/2635_snippet_6.mp4\n"
     ]
    },
    {
     "name": "stderr",
     "output_type": "stream",
     "text": [
      "\r"
     ]
    },
    {
     "name": "stdout",
     "output_type": "stream",
     "text": [
      "MoviePy - Building video SniffingSnippetsIsabelle/2635_snippet_7.mp4.\n",
      "MoviePy - Writing video SniffingSnippetsIsabelle/2635_snippet_7.mp4\n",
      "\n"
     ]
    },
    {
     "name": "stderr",
     "output_type": "stream",
     "text": [
      "                                                            "
     ]
    },
    {
     "name": "stdout",
     "output_type": "stream",
     "text": [
      "MoviePy - Done !\n",
      "MoviePy - video ready SniffingSnippetsIsabelle/2635_snippet_7.mp4\n"
     ]
    },
    {
     "name": "stderr",
     "output_type": "stream",
     "text": [
      "\r"
     ]
    },
    {
     "name": "stdout",
     "output_type": "stream",
     "text": [
      "MoviePy - Building video SniffingSnippetsIsabelle/2635_snippet_8.mp4.\n",
      "MoviePy - Writing video SniffingSnippetsIsabelle/2635_snippet_8.mp4\n",
      "\n"
     ]
    },
    {
     "name": "stderr",
     "output_type": "stream",
     "text": [
      "                                                            "
     ]
    },
    {
     "name": "stdout",
     "output_type": "stream",
     "text": [
      "MoviePy - Done !\n",
      "MoviePy - video ready SniffingSnippetsIsabelle/2635_snippet_8.mp4\n"
     ]
    },
    {
     "name": "stderr",
     "output_type": "stream",
     "text": [
      "\r"
     ]
    },
    {
     "name": "stdout",
     "output_type": "stream",
     "text": [
      "MoviePy - Building video SniffingSnippetsIsabelle/2635_snippet_9.mp4.\n",
      "MoviePy - Writing video SniffingSnippetsIsabelle/2635_snippet_9.mp4\n",
      "\n"
     ]
    },
    {
     "name": "stderr",
     "output_type": "stream",
     "text": [
      "                                                            "
     ]
    },
    {
     "name": "stdout",
     "output_type": "stream",
     "text": [
      "MoviePy - Done !\n",
      "MoviePy - video ready SniffingSnippetsIsabelle/2635_snippet_9.mp4\n"
     ]
    },
    {
     "name": "stderr",
     "output_type": "stream",
     "text": [
      "\r"
     ]
    },
    {
     "name": "stdout",
     "output_type": "stream",
     "text": [
      "MoviePy - Building video SniffingSnippetsIsabelle/2635_snippet_10.mp4.\n",
      "MoviePy - Writing video SniffingSnippetsIsabelle/2635_snippet_10.mp4\n",
      "\n"
     ]
    },
    {
     "name": "stderr",
     "output_type": "stream",
     "text": [
      "                                                            "
     ]
    },
    {
     "name": "stdout",
     "output_type": "stream",
     "text": [
      "MoviePy - Done !\n",
      "MoviePy - video ready SniffingSnippetsIsabelle/2635_snippet_10.mp4\n"
     ]
    },
    {
     "name": "stderr",
     "output_type": "stream",
     "text": [
      "\r"
     ]
    },
    {
     "name": "stdout",
     "output_type": "stream",
     "text": [
      "MoviePy - Building video SniffingSnippetsIsabelle/2635_snippet_11.mp4.\n",
      "MoviePy - Writing video SniffingSnippetsIsabelle/2635_snippet_11.mp4\n",
      "\n"
     ]
    },
    {
     "name": "stderr",
     "output_type": "stream",
     "text": [
      "                                             "
     ]
    },
    {
     "name": "stdout",
     "output_type": "stream",
     "text": [
      "MoviePy - Done !\n",
      "MoviePy - video ready SniffingSnippetsIsabelle/2635_snippet_11.mp4\n"
     ]
    },
    {
     "name": "stderr",
     "output_type": "stream",
     "text": [
      "\r"
     ]
    },
    {
     "name": "stdout",
     "output_type": "stream",
     "text": [
      "MoviePy - Building video SniffingSnippetsIsabelle/2635_snippet_12.mp4.\n",
      "MoviePy - Writing video SniffingSnippetsIsabelle/2635_snippet_12.mp4\n",
      "\n"
     ]
    },
    {
     "name": "stderr",
     "output_type": "stream",
     "text": [
      "                                                            "
     ]
    },
    {
     "name": "stdout",
     "output_type": "stream",
     "text": [
      "MoviePy - Done !\n",
      "MoviePy - video ready SniffingSnippetsIsabelle/2635_snippet_12.mp4\n"
     ]
    },
    {
     "name": "stderr",
     "output_type": "stream",
     "text": [
      "\r"
     ]
    },
    {
     "name": "stdout",
     "output_type": "stream",
     "text": [
      "MoviePy - Building video SniffingSnippetsIsabelle/2635_snippet_13.mp4.\n",
      "MoviePy - Writing video SniffingSnippetsIsabelle/2635_snippet_13.mp4\n",
      "\n"
     ]
    },
    {
     "name": "stderr",
     "output_type": "stream",
     "text": [
      "                                                            "
     ]
    },
    {
     "name": "stdout",
     "output_type": "stream",
     "text": [
      "MoviePy - Done !\n",
      "MoviePy - video ready SniffingSnippetsIsabelle/2635_snippet_13.mp4\n"
     ]
    },
    {
     "name": "stderr",
     "output_type": "stream",
     "text": [
      "\r"
     ]
    },
    {
     "name": "stdout",
     "output_type": "stream",
     "text": [
      "MoviePy - Building video SniffingSnippetsIsabelle/2635_snippet_14.mp4.\n",
      "MoviePy - Writing video SniffingSnippetsIsabelle/2635_snippet_14.mp4\n",
      "\n"
     ]
    },
    {
     "name": "stderr",
     "output_type": "stream",
     "text": [
      "                                                                       \r"
     ]
    },
    {
     "name": "stdout",
     "output_type": "stream",
     "text": [
      "MoviePy - Done !\n",
      "MoviePy - video ready SniffingSnippetsIsabelle/2635_snippet_14.mp4\n",
      "MoviePy - Building video SniffingSnippetsIsabelle/2635_snippet_15.mp4.\n",
      "MoviePy - Writing video SniffingSnippetsIsabelle/2635_snippet_15.mp4\n",
      "\n"
     ]
    },
    {
     "name": "stderr",
     "output_type": "stream",
     "text": [
      "                                                                       \r"
     ]
    },
    {
     "name": "stdout",
     "output_type": "stream",
     "text": [
      "MoviePy - Done !\n",
      "MoviePy - video ready SniffingSnippetsIsabelle/2635_snippet_15.mp4\n",
      "MoviePy - Building video SniffingSnippetsIsabelle/2635_snippet_16.mp4.\n",
      "MoviePy - Writing video SniffingSnippetsIsabelle/2635_snippet_16.mp4\n",
      "\n"
     ]
    },
    {
     "name": "stderr",
     "output_type": "stream",
     "text": [
      "                                                            "
     ]
    },
    {
     "name": "stdout",
     "output_type": "stream",
     "text": [
      "MoviePy - Done !\n",
      "MoviePy - video ready SniffingSnippetsIsabelle/2635_snippet_16.mp4\n"
     ]
    },
    {
     "name": "stderr",
     "output_type": "stream",
     "text": [
      "\r"
     ]
    },
    {
     "name": "stdout",
     "output_type": "stream",
     "text": [
      "MoviePy - Building video SniffingSnippetsIsabelle/2635_snippet_17.mp4.\n",
      "MoviePy - Writing video SniffingSnippetsIsabelle/2635_snippet_17.mp4\n",
      "\n"
     ]
    },
    {
     "name": "stderr",
     "output_type": "stream",
     "text": [
      "                                                            "
     ]
    },
    {
     "name": "stdout",
     "output_type": "stream",
     "text": [
      "MoviePy - Done !\n",
      "MoviePy - video ready SniffingSnippetsIsabelle/2635_snippet_17.mp4\n"
     ]
    },
    {
     "name": "stderr",
     "output_type": "stream",
     "text": [
      "\r"
     ]
    },
    {
     "name": "stdout",
     "output_type": "stream",
     "text": [
      "MoviePy - Building video SniffingSnippetsIsabelle/2635_snippet_18.mp4.\n",
      "MoviePy - Writing video SniffingSnippetsIsabelle/2635_snippet_18.mp4\n",
      "\n"
     ]
    },
    {
     "name": "stderr",
     "output_type": "stream",
     "text": [
      "                                                            "
     ]
    },
    {
     "name": "stdout",
     "output_type": "stream",
     "text": [
      "MoviePy - Done !\n",
      "MoviePy - video ready SniffingSnippetsIsabelle/2635_snippet_18.mp4\n"
     ]
    },
    {
     "name": "stderr",
     "output_type": "stream",
     "text": [
      "\r"
     ]
    },
    {
     "name": "stdout",
     "output_type": "stream",
     "text": [
      "MoviePy - Building video SniffingSnippetsIsabelle/2635_snippet_19.mp4.\n",
      "MoviePy - Writing video SniffingSnippetsIsabelle/2635_snippet_19.mp4\n",
      "\n"
     ]
    },
    {
     "name": "stderr",
     "output_type": "stream",
     "text": [
      "                                                            "
     ]
    },
    {
     "name": "stdout",
     "output_type": "stream",
     "text": [
      "MoviePy - Done !\n",
      "MoviePy - video ready SniffingSnippetsIsabelle/2635_snippet_19.mp4\n"
     ]
    },
    {
     "name": "stderr",
     "output_type": "stream",
     "text": [
      "\r"
     ]
    },
    {
     "name": "stdout",
     "output_type": "stream",
     "text": [
      "MoviePy - Building video SniffingSnippetsIsabelle/2635_snippet_20.mp4.\n",
      "MoviePy - Writing video SniffingSnippetsIsabelle/2635_snippet_20.mp4\n",
      "\n"
     ]
    },
    {
     "name": "stderr",
     "output_type": "stream",
     "text": [
      "                                                            "
     ]
    },
    {
     "name": "stdout",
     "output_type": "stream",
     "text": [
      "MoviePy - Done !\n",
      "MoviePy - video ready SniffingSnippetsIsabelle/2635_snippet_20.mp4\n"
     ]
    },
    {
     "name": "stderr",
     "output_type": "stream",
     "text": [
      "\r"
     ]
    },
    {
     "name": "stdout",
     "output_type": "stream",
     "text": [
      "MoviePy - Building video SniffingSnippetsIsabelle/2635_snippet_21.mp4.\n",
      "MoviePy - Writing video SniffingSnippetsIsabelle/2635_snippet_21.mp4\n",
      "\n"
     ]
    },
    {
     "name": "stderr",
     "output_type": "stream",
     "text": [
      "                                                            "
     ]
    },
    {
     "name": "stdout",
     "output_type": "stream",
     "text": [
      "MoviePy - Done !\n",
      "MoviePy - video ready SniffingSnippetsIsabelle/2635_snippet_21.mp4\n"
     ]
    },
    {
     "name": "stderr",
     "output_type": "stream",
     "text": [
      "\r"
     ]
    },
    {
     "name": "stdout",
     "output_type": "stream",
     "text": [
      "MoviePy - Building video SniffingSnippetsIsabelle/2635_snippet_22.mp4.\n",
      "MoviePy - Writing video SniffingSnippetsIsabelle/2635_snippet_22.mp4\n",
      "\n"
     ]
    },
    {
     "name": "stderr",
     "output_type": "stream",
     "text": [
      "                                                            "
     ]
    },
    {
     "name": "stdout",
     "output_type": "stream",
     "text": [
      "MoviePy - Done !\n",
      "MoviePy - video ready SniffingSnippetsIsabelle/2635_snippet_22.mp4\n"
     ]
    },
    {
     "name": "stderr",
     "output_type": "stream",
     "text": [
      "\r"
     ]
    },
    {
     "name": "stdout",
     "output_type": "stream",
     "text": [
      "MoviePy - Building video SniffingSnippetsIsabelle/2635_snippet_23.mp4.\n",
      "MoviePy - Writing video SniffingSnippetsIsabelle/2635_snippet_23.mp4\n",
      "\n"
     ]
    },
    {
     "name": "stderr",
     "output_type": "stream",
     "text": [
      "                                                            "
     ]
    },
    {
     "name": "stdout",
     "output_type": "stream",
     "text": [
      "MoviePy - Done !\n",
      "MoviePy - video ready SniffingSnippetsIsabelle/2635_snippet_23.mp4\n"
     ]
    },
    {
     "name": "stderr",
     "output_type": "stream",
     "text": [
      "\r"
     ]
    },
    {
     "name": "stdout",
     "output_type": "stream",
     "text": [
      "MoviePy - Building video SniffingSnippetsIsabelle/2635_snippet_24.mp4.\n",
      "MoviePy - Writing video SniffingSnippetsIsabelle/2635_snippet_24.mp4\n",
      "\n"
     ]
    },
    {
     "name": "stderr",
     "output_type": "stream",
     "text": [
      "                                                             \r"
     ]
    },
    {
     "name": "stdout",
     "output_type": "stream",
     "text": [
      "MoviePy - Done !\n",
      "MoviePy - video ready SniffingSnippetsIsabelle/2635_snippet_24.mp4\n",
      "MoviePy - Building video SniffingSnippetsIsabelle/2635_snippet_25.mp4.\n",
      "MoviePy - Writing video SniffingSnippetsIsabelle/2635_snippet_25.mp4\n",
      "\n"
     ]
    },
    {
     "name": "stderr",
     "output_type": "stream",
     "text": [
      "                                                            "
     ]
    },
    {
     "name": "stdout",
     "output_type": "stream",
     "text": [
      "MoviePy - Done !\n",
      "MoviePy - video ready SniffingSnippetsIsabelle/2635_snippet_25.mp4\n"
     ]
    },
    {
     "name": "stderr",
     "output_type": "stream",
     "text": [
      "\r"
     ]
    },
    {
     "name": "stdout",
     "output_type": "stream",
     "text": [
      "MoviePy - Building video SniffingSnippetsIsabelle/2635_snippet_26.mp4.\n",
      "MoviePy - Writing video SniffingSnippetsIsabelle/2635_snippet_26.mp4\n",
      "\n"
     ]
    },
    {
     "name": "stderr",
     "output_type": "stream",
     "text": [
      "                                                            "
     ]
    },
    {
     "name": "stdout",
     "output_type": "stream",
     "text": [
      "MoviePy - Done !\n",
      "MoviePy - video ready SniffingSnippetsIsabelle/2635_snippet_26.mp4\n"
     ]
    },
    {
     "name": "stderr",
     "output_type": "stream",
     "text": [
      "\r"
     ]
    },
    {
     "name": "stdout",
     "output_type": "stream",
     "text": [
      "MoviePy - Building video SniffingSnippetsIsabelle/2635_snippet_27.mp4.\n",
      "MoviePy - Writing video SniffingSnippetsIsabelle/2635_snippet_27.mp4\n",
      "\n"
     ]
    },
    {
     "name": "stderr",
     "output_type": "stream",
     "text": [
      "                                                                       \r"
     ]
    },
    {
     "name": "stdout",
     "output_type": "stream",
     "text": [
      "MoviePy - Done !\n",
      "MoviePy - video ready SniffingSnippetsIsabelle/2635_snippet_27.mp4\n",
      "MoviePy - Building video SniffingSnippetsIsabelle/2635_snippet_28.mp4.\n",
      "MoviePy - Writing video SniffingSnippetsIsabelle/2635_snippet_28.mp4\n",
      "\n"
     ]
    },
    {
     "name": "stderr",
     "output_type": "stream",
     "text": [
      "                                                            "
     ]
    },
    {
     "name": "stdout",
     "output_type": "stream",
     "text": [
      "MoviePy - Done !\n",
      "MoviePy - video ready SniffingSnippetsIsabelle/2635_snippet_28.mp4\n"
     ]
    },
    {
     "name": "stderr",
     "output_type": "stream",
     "text": [
      "\r"
     ]
    },
    {
     "name": "stdout",
     "output_type": "stream",
     "text": [
      "MoviePy - Building video SniffingSnippetsIsabelle/2635_snippet_29.mp4.\n",
      "MoviePy - Writing video SniffingSnippetsIsabelle/2635_snippet_29.mp4\n",
      "\n"
     ]
    },
    {
     "name": "stderr",
     "output_type": "stream",
     "text": [
      "                                                            "
     ]
    },
    {
     "name": "stdout",
     "output_type": "stream",
     "text": [
      "MoviePy - Done !\n",
      "MoviePy - video ready SniffingSnippetsIsabelle/2635_snippet_29.mp4\n"
     ]
    },
    {
     "name": "stderr",
     "output_type": "stream",
     "text": [
      "\r"
     ]
    },
    {
     "name": "stdout",
     "output_type": "stream",
     "text": [
      "MoviePy - Building video SniffingSnippetsIsabelle/2635_snippet_30.mp4.\n",
      "MoviePy - Writing video SniffingSnippetsIsabelle/2635_snippet_30.mp4\n",
      "\n"
     ]
    },
    {
     "name": "stderr",
     "output_type": "stream",
     "text": [
      "                                                            "
     ]
    },
    {
     "name": "stdout",
     "output_type": "stream",
     "text": [
      "MoviePy - Done !\n",
      "MoviePy - video ready SniffingSnippetsIsabelle/2635_snippet_30.mp4\n"
     ]
    },
    {
     "name": "stderr",
     "output_type": "stream",
     "text": [
      "\r"
     ]
    },
    {
     "name": "stdout",
     "output_type": "stream",
     "text": [
      "MoviePy - Building video SniffingSnippetsIsabelle/2635_snippet_31.mp4.\n",
      "MoviePy - Writing video SniffingSnippetsIsabelle/2635_snippet_31.mp4\n",
      "\n"
     ]
    },
    {
     "name": "stderr",
     "output_type": "stream",
     "text": [
      "                                                            "
     ]
    },
    {
     "name": "stdout",
     "output_type": "stream",
     "text": [
      "MoviePy - Done !\n",
      "MoviePy - video ready SniffingSnippetsIsabelle/2635_snippet_31.mp4\n"
     ]
    },
    {
     "name": "stderr",
     "output_type": "stream",
     "text": [
      "\r"
     ]
    },
    {
     "name": "stdout",
     "output_type": "stream",
     "text": [
      "MoviePy - Building video SniffingSnippetsIsabelle/2635_snippet_32.mp4.\n",
      "MoviePy - Writing video SniffingSnippetsIsabelle/2635_snippet_32.mp4\n",
      "\n"
     ]
    },
    {
     "name": "stderr",
     "output_type": "stream",
     "text": [
      "                                                            "
     ]
    },
    {
     "name": "stdout",
     "output_type": "stream",
     "text": [
      "MoviePy - Done !\n",
      "MoviePy - video ready SniffingSnippetsIsabelle/2635_snippet_32.mp4\n"
     ]
    },
    {
     "name": "stderr",
     "output_type": "stream",
     "text": [
      "\r"
     ]
    },
    {
     "name": "stdout",
     "output_type": "stream",
     "text": [
      "MoviePy - Building video SniffingSnippetsIsabelle/2635_snippet_33.mp4.\n",
      "MoviePy - Writing video SniffingSnippetsIsabelle/2635_snippet_33.mp4\n",
      "\n"
     ]
    },
    {
     "name": "stderr",
     "output_type": "stream",
     "text": [
      "                                             "
     ]
    },
    {
     "name": "stdout",
     "output_type": "stream",
     "text": [
      "MoviePy - Done !\n",
      "MoviePy - video ready SniffingSnippetsIsabelle/2635_snippet_33.mp4\n"
     ]
    },
    {
     "name": "stderr",
     "output_type": "stream",
     "text": [
      "\r"
     ]
    },
    {
     "name": "stdout",
     "output_type": "stream",
     "text": [
      "MoviePy - Building video SniffingSnippetsIsabelle/2635_snippet_34.mp4.\n",
      "MoviePy - Writing video SniffingSnippetsIsabelle/2635_snippet_34.mp4\n",
      "\n"
     ]
    },
    {
     "name": "stderr",
     "output_type": "stream",
     "text": [
      "                                                            "
     ]
    },
    {
     "name": "stdout",
     "output_type": "stream",
     "text": [
      "MoviePy - Done !\n",
      "MoviePy - video ready SniffingSnippetsIsabelle/2635_snippet_34.mp4\n"
     ]
    },
    {
     "name": "stderr",
     "output_type": "stream",
     "text": [
      "\r"
     ]
    },
    {
     "name": "stdout",
     "output_type": "stream",
     "text": [
      "MoviePy - Building video SniffingSnippetsIsabelle/2635_snippet_35.mp4.\n",
      "MoviePy - Writing video SniffingSnippetsIsabelle/2635_snippet_35.mp4\n",
      "\n"
     ]
    },
    {
     "name": "stderr",
     "output_type": "stream",
     "text": [
      "                                             "
     ]
    },
    {
     "name": "stdout",
     "output_type": "stream",
     "text": [
      "MoviePy - Done !\n",
      "MoviePy - video ready SniffingSnippetsIsabelle/2635_snippet_35.mp4\n",
      "Video number: 2636\n"
     ]
    },
    {
     "name": "stderr",
     "output_type": "stream",
     "text": [
      "\r"
     ]
    },
    {
     "name": "stdout",
     "output_type": "stream",
     "text": [
      "Input video duration: 16.35 seconds\n",
      "\u001b[32m[05/27 21:52:25 d2.checkpoint.detection_checkpoint]: \u001b[0m[DetectionCheckpointer] Loading from ./output/model_final.pth ...\n"
     ]
    },
    {
     "name": "stderr",
     "output_type": "stream",
     "text": [
      "INFO:fvcore.common.checkpoint:[Checkpointer] Loading from ./output/model_final.pth ...\n"
     ]
    },
    {
     "name": "stdout",
     "output_type": "stream",
     "text": [
      "2636\n",
      "MoviePy - Building video SniffingSnippetsIsabelle/2636_snippet_0.mp4.\n",
      "MoviePy - Writing video SniffingSnippetsIsabelle/2636_snippet_0.mp4\n",
      "\n"
     ]
    },
    {
     "name": "stderr",
     "output_type": "stream",
     "text": [
      "                                                            "
     ]
    },
    {
     "name": "stdout",
     "output_type": "stream",
     "text": [
      "MoviePy - Done !\n",
      "MoviePy - video ready SniffingSnippetsIsabelle/2636_snippet_0.mp4\n"
     ]
    },
    {
     "name": "stderr",
     "output_type": "stream",
     "text": [
      "\r"
     ]
    },
    {
     "name": "stdout",
     "output_type": "stream",
     "text": [
      "MoviePy - Building video SniffingSnippetsIsabelle/2636_snippet_1.mp4.\n",
      "MoviePy - Writing video SniffingSnippetsIsabelle/2636_snippet_1.mp4\n",
      "\n"
     ]
    },
    {
     "name": "stderr",
     "output_type": "stream",
     "text": [
      "                                                            "
     ]
    },
    {
     "name": "stdout",
     "output_type": "stream",
     "text": [
      "MoviePy - Done !\n",
      "MoviePy - video ready SniffingSnippetsIsabelle/2636_snippet_1.mp4\n"
     ]
    },
    {
     "name": "stderr",
     "output_type": "stream",
     "text": [
      "\r"
     ]
    },
    {
     "name": "stdout",
     "output_type": "stream",
     "text": [
      "MoviePy - Building video SniffingSnippetsIsabelle/2636_snippet_2.mp4.\n",
      "MoviePy - Writing video SniffingSnippetsIsabelle/2636_snippet_2.mp4\n",
      "\n"
     ]
    },
    {
     "name": "stderr",
     "output_type": "stream",
     "text": [
      "                                                             \r"
     ]
    },
    {
     "name": "stdout",
     "output_type": "stream",
     "text": [
      "MoviePy - Done !\n",
      "MoviePy - video ready SniffingSnippetsIsabelle/2636_snippet_2.mp4\n",
      "MoviePy - Building video SniffingSnippetsIsabelle/2636_snippet_3.mp4.\n",
      "MoviePy - Writing video SniffingSnippetsIsabelle/2636_snippet_3.mp4\n",
      "\n"
     ]
    },
    {
     "name": "stderr",
     "output_type": "stream",
     "text": [
      "                                                             \r"
     ]
    },
    {
     "name": "stdout",
     "output_type": "stream",
     "text": [
      "MoviePy - Done !\n",
      "MoviePy - video ready SniffingSnippetsIsabelle/2636_snippet_3.mp4\n",
      "MoviePy - Building video SniffingSnippetsIsabelle/2636_snippet_4.mp4.\n",
      "MoviePy - Writing video SniffingSnippetsIsabelle/2636_snippet_4.mp4\n",
      "\n"
     ]
    },
    {
     "name": "stderr",
     "output_type": "stream",
     "text": [
      "                                                            "
     ]
    },
    {
     "name": "stdout",
     "output_type": "stream",
     "text": [
      "MoviePy - Done !\n",
      "MoviePy - video ready SniffingSnippetsIsabelle/2636_snippet_4.mp4\n"
     ]
    },
    {
     "name": "stderr",
     "output_type": "stream",
     "text": [
      "\r"
     ]
    },
    {
     "name": "stdout",
     "output_type": "stream",
     "text": [
      "MoviePy - Building video SniffingSnippetsIsabelle/2636_snippet_5.mp4.\n",
      "MoviePy - Writing video SniffingSnippetsIsabelle/2636_snippet_5.mp4\n",
      "\n"
     ]
    },
    {
     "name": "stderr",
     "output_type": "stream",
     "text": [
      "                                                                       \r"
     ]
    },
    {
     "name": "stdout",
     "output_type": "stream",
     "text": [
      "MoviePy - Done !\n",
      "MoviePy - video ready SniffingSnippetsIsabelle/2636_snippet_5.mp4\n",
      "MoviePy - Building video SniffingSnippetsIsabelle/2636_snippet_6.mp4.\n",
      "MoviePy - Writing video SniffingSnippetsIsabelle/2636_snippet_6.mp4\n",
      "\n"
     ]
    },
    {
     "name": "stderr",
     "output_type": "stream",
     "text": [
      "                                                             \r"
     ]
    },
    {
     "name": "stdout",
     "output_type": "stream",
     "text": [
      "MoviePy - Done !\n",
      "MoviePy - video ready SniffingSnippetsIsabelle/2636_snippet_6.mp4\n",
      "MoviePy - Building video SniffingSnippetsIsabelle/2636_snippet_7.mp4.\n",
      "MoviePy - Writing video SniffingSnippetsIsabelle/2636_snippet_7.mp4\n",
      "\n"
     ]
    },
    {
     "name": "stderr",
     "output_type": "stream",
     "text": [
      "                                             "
     ]
    },
    {
     "name": "stdout",
     "output_type": "stream",
     "text": [
      "MoviePy - Done !\n",
      "MoviePy - video ready SniffingSnippetsIsabelle/2636_snippet_7.mp4\n"
     ]
    },
    {
     "name": "stderr",
     "output_type": "stream",
     "text": [
      "\r"
     ]
    },
    {
     "name": "stdout",
     "output_type": "stream",
     "text": [
      "MoviePy - Building video SniffingSnippetsIsabelle/2636_snippet_8.mp4.\n",
      "MoviePy - Writing video SniffingSnippetsIsabelle/2636_snippet_8.mp4\n",
      "\n"
     ]
    },
    {
     "name": "stderr",
     "output_type": "stream",
     "text": [
      "                                                            "
     ]
    },
    {
     "name": "stdout",
     "output_type": "stream",
     "text": [
      "MoviePy - Done !\n",
      "MoviePy - video ready SniffingSnippetsIsabelle/2636_snippet_8.mp4\n"
     ]
    },
    {
     "name": "stderr",
     "output_type": "stream",
     "text": [
      "\r"
     ]
    },
    {
     "name": "stdout",
     "output_type": "stream",
     "text": [
      "MoviePy - Building video SniffingSnippetsIsabelle/2636_snippet_9.mp4.\n",
      "MoviePy - Writing video SniffingSnippetsIsabelle/2636_snippet_9.mp4\n",
      "\n"
     ]
    },
    {
     "name": "stderr",
     "output_type": "stream",
     "text": [
      "                                                            "
     ]
    },
    {
     "name": "stdout",
     "output_type": "stream",
     "text": [
      "MoviePy - Done !\n",
      "MoviePy - video ready SniffingSnippetsIsabelle/2636_snippet_9.mp4\n"
     ]
    },
    {
     "name": "stderr",
     "output_type": "stream",
     "text": [
      "\r"
     ]
    },
    {
     "name": "stdout",
     "output_type": "stream",
     "text": [
      "MoviePy - Building video SniffingSnippetsIsabelle/2636_snippet_10.mp4.\n",
      "MoviePy - Writing video SniffingSnippetsIsabelle/2636_snippet_10.mp4\n",
      "\n"
     ]
    },
    {
     "name": "stderr",
     "output_type": "stream",
     "text": [
      "                                                            "
     ]
    },
    {
     "name": "stdout",
     "output_type": "stream",
     "text": [
      "MoviePy - Done !\n",
      "MoviePy - video ready SniffingSnippetsIsabelle/2636_snippet_10.mp4\n"
     ]
    },
    {
     "name": "stderr",
     "output_type": "stream",
     "text": [
      "\r"
     ]
    },
    {
     "name": "stdout",
     "output_type": "stream",
     "text": [
      "MoviePy - Building video SniffingSnippetsIsabelle/2636_snippet_11.mp4.\n",
      "MoviePy - Writing video SniffingSnippetsIsabelle/2636_snippet_11.mp4\n",
      "\n"
     ]
    },
    {
     "name": "stderr",
     "output_type": "stream",
     "text": [
      "                                                            "
     ]
    },
    {
     "name": "stdout",
     "output_type": "stream",
     "text": [
      "MoviePy - Done !\n",
      "MoviePy - video ready SniffingSnippetsIsabelle/2636_snippet_11.mp4\n"
     ]
    },
    {
     "name": "stderr",
     "output_type": "stream",
     "text": [
      "\r"
     ]
    },
    {
     "name": "stdout",
     "output_type": "stream",
     "text": [
      "MoviePy - Building video SniffingSnippetsIsabelle/2636_snippet_12.mp4.\n",
      "MoviePy - Writing video SniffingSnippetsIsabelle/2636_snippet_12.mp4\n",
      "\n"
     ]
    },
    {
     "name": "stderr",
     "output_type": "stream",
     "text": [
      "                                                            "
     ]
    },
    {
     "name": "stdout",
     "output_type": "stream",
     "text": [
      "MoviePy - Done !\n",
      "MoviePy - video ready SniffingSnippetsIsabelle/2636_snippet_12.mp4\n"
     ]
    },
    {
     "name": "stderr",
     "output_type": "stream",
     "text": [
      "\r"
     ]
    },
    {
     "name": "stdout",
     "output_type": "stream",
     "text": [
      "MoviePy - Building video SniffingSnippetsIsabelle/2636_snippet_13.mp4.\n",
      "MoviePy - Writing video SniffingSnippetsIsabelle/2636_snippet_13.mp4\n",
      "\n"
     ]
    },
    {
     "name": "stderr",
     "output_type": "stream",
     "text": [
      "                                                            "
     ]
    },
    {
     "name": "stdout",
     "output_type": "stream",
     "text": [
      "MoviePy - Done !\n",
      "MoviePy - video ready SniffingSnippetsIsabelle/2636_snippet_13.mp4\n"
     ]
    },
    {
     "name": "stderr",
     "output_type": "stream",
     "text": [
      "\r"
     ]
    },
    {
     "name": "stdout",
     "output_type": "stream",
     "text": [
      "MoviePy - Building video SniffingSnippetsIsabelle/2636_snippet_14.mp4.\n",
      "MoviePy - Writing video SniffingSnippetsIsabelle/2636_snippet_14.mp4\n",
      "\n"
     ]
    },
    {
     "name": "stderr",
     "output_type": "stream",
     "text": [
      "                                                            "
     ]
    },
    {
     "name": "stdout",
     "output_type": "stream",
     "text": [
      "MoviePy - Done !\n",
      "MoviePy - video ready SniffingSnippetsIsabelle/2636_snippet_14.mp4\n"
     ]
    },
    {
     "name": "stderr",
     "output_type": "stream",
     "text": [
      "\r"
     ]
    },
    {
     "name": "stdout",
     "output_type": "stream",
     "text": [
      "MoviePy - Building video SniffingSnippetsIsabelle/2636_snippet_15.mp4.\n",
      "MoviePy - Writing video SniffingSnippetsIsabelle/2636_snippet_15.mp4\n",
      "\n"
     ]
    },
    {
     "name": "stderr",
     "output_type": "stream",
     "text": [
      "                                                            "
     ]
    },
    {
     "name": "stdout",
     "output_type": "stream",
     "text": [
      "MoviePy - Done !\n",
      "MoviePy - video ready SniffingSnippetsIsabelle/2636_snippet_15.mp4\n"
     ]
    },
    {
     "name": "stderr",
     "output_type": "stream",
     "text": [
      "\r"
     ]
    },
    {
     "name": "stdout",
     "output_type": "stream",
     "text": [
      "MoviePy - Building video SniffingSnippetsIsabelle/2636_snippet_16.mp4.\n",
      "MoviePy - Writing video SniffingSnippetsIsabelle/2636_snippet_16.mp4\n",
      "\n"
     ]
    },
    {
     "name": "stderr",
     "output_type": "stream",
     "text": [
      "                                                            "
     ]
    },
    {
     "name": "stdout",
     "output_type": "stream",
     "text": [
      "MoviePy - Done !\n",
      "MoviePy - video ready SniffingSnippetsIsabelle/2636_snippet_16.mp4\n"
     ]
    },
    {
     "name": "stderr",
     "output_type": "stream",
     "text": [
      "\r"
     ]
    },
    {
     "name": "stdout",
     "output_type": "stream",
     "text": [
      "MoviePy - Building video SniffingSnippetsIsabelle/2636_snippet_17.mp4.\n",
      "MoviePy - Writing video SniffingSnippetsIsabelle/2636_snippet_17.mp4\n",
      "\n"
     ]
    },
    {
     "name": "stderr",
     "output_type": "stream",
     "text": [
      "                                                                       \r"
     ]
    },
    {
     "name": "stdout",
     "output_type": "stream",
     "text": [
      "MoviePy - Done !\n",
      "MoviePy - video ready SniffingSnippetsIsabelle/2636_snippet_17.mp4\n",
      "MoviePy - Building video SniffingSnippetsIsabelle/2636_snippet_18.mp4.\n",
      "MoviePy - Writing video SniffingSnippetsIsabelle/2636_snippet_18.mp4\n",
      "\n"
     ]
    },
    {
     "name": "stderr",
     "output_type": "stream",
     "text": [
      "                                             "
     ]
    },
    {
     "name": "stdout",
     "output_type": "stream",
     "text": [
      "MoviePy - Done !\n",
      "MoviePy - video ready SniffingSnippetsIsabelle/2636_snippet_18.mp4\n"
     ]
    },
    {
     "name": "stderr",
     "output_type": "stream",
     "text": [
      "\r"
     ]
    },
    {
     "name": "stdout",
     "output_type": "stream",
     "text": [
      "MoviePy - Building video SniffingSnippetsIsabelle/2636_snippet_19.mp4.\n",
      "MoviePy - Writing video SniffingSnippetsIsabelle/2636_snippet_19.mp4\n",
      "\n"
     ]
    },
    {
     "name": "stderr",
     "output_type": "stream",
     "text": [
      "                                             "
     ]
    },
    {
     "name": "stdout",
     "output_type": "stream",
     "text": [
      "MoviePy - Done !\n",
      "MoviePy - video ready SniffingSnippetsIsabelle/2636_snippet_19.mp4\n"
     ]
    },
    {
     "name": "stderr",
     "output_type": "stream",
     "text": [
      "\r"
     ]
    },
    {
     "name": "stdout",
     "output_type": "stream",
     "text": [
      "MoviePy - Building video SniffingSnippetsIsabelle/2636_snippet_20.mp4.\n",
      "MoviePy - Writing video SniffingSnippetsIsabelle/2636_snippet_20.mp4\n",
      "\n"
     ]
    },
    {
     "name": "stderr",
     "output_type": "stream",
     "text": [
      "                                                             \r"
     ]
    },
    {
     "name": "stdout",
     "output_type": "stream",
     "text": [
      "MoviePy - Done !\n",
      "MoviePy - video ready SniffingSnippetsIsabelle/2636_snippet_20.mp4\n",
      "MoviePy - Building video SniffingSnippetsIsabelle/2636_snippet_21.mp4.\n",
      "MoviePy - Writing video SniffingSnippetsIsabelle/2636_snippet_21.mp4\n",
      "\n"
     ]
    },
    {
     "name": "stderr",
     "output_type": "stream",
     "text": [
      "                                                                       \r"
     ]
    },
    {
     "name": "stdout",
     "output_type": "stream",
     "text": [
      "MoviePy - Done !\n",
      "MoviePy - video ready SniffingSnippetsIsabelle/2636_snippet_21.mp4\n",
      "MoviePy - Building video SniffingSnippetsIsabelle/2636_snippet_22.mp4.\n",
      "MoviePy - Writing video SniffingSnippetsIsabelle/2636_snippet_22.mp4\n",
      "\n"
     ]
    },
    {
     "name": "stderr",
     "output_type": "stream",
     "text": [
      "                                                            "
     ]
    },
    {
     "name": "stdout",
     "output_type": "stream",
     "text": [
      "MoviePy - Done !\n",
      "MoviePy - video ready SniffingSnippetsIsabelle/2636_snippet_22.mp4\n"
     ]
    },
    {
     "name": "stderr",
     "output_type": "stream",
     "text": [
      "\r"
     ]
    },
    {
     "name": "stdout",
     "output_type": "stream",
     "text": [
      "MoviePy - Building video SniffingSnippetsIsabelle/2636_snippet_23.mp4.\n",
      "MoviePy - Writing video SniffingSnippetsIsabelle/2636_snippet_23.mp4\n",
      "\n"
     ]
    },
    {
     "name": "stderr",
     "output_type": "stream",
     "text": [
      "                                                             \r"
     ]
    },
    {
     "name": "stdout",
     "output_type": "stream",
     "text": [
      "MoviePy - Done !\n",
      "MoviePy - video ready SniffingSnippetsIsabelle/2636_snippet_23.mp4\n",
      "MoviePy - Building video SniffingSnippetsIsabelle/2636_snippet_24.mp4.\n",
      "MoviePy - Writing video SniffingSnippetsIsabelle/2636_snippet_24.mp4\n",
      "\n"
     ]
    },
    {
     "name": "stderr",
     "output_type": "stream",
     "text": [
      "                                                            "
     ]
    },
    {
     "name": "stdout",
     "output_type": "stream",
     "text": [
      "MoviePy - Done !\n",
      "MoviePy - video ready SniffingSnippetsIsabelle/2636_snippet_24.mp4\n"
     ]
    },
    {
     "name": "stderr",
     "output_type": "stream",
     "text": [
      "\r"
     ]
    },
    {
     "name": "stdout",
     "output_type": "stream",
     "text": [
      "MoviePy - Building video SniffingSnippetsIsabelle/2636_snippet_25.mp4.\n",
      "MoviePy - Writing video SniffingSnippetsIsabelle/2636_snippet_25.mp4\n",
      "\n"
     ]
    },
    {
     "name": "stderr",
     "output_type": "stream",
     "text": [
      "                                                                       \r"
     ]
    },
    {
     "name": "stdout",
     "output_type": "stream",
     "text": [
      "MoviePy - Done !\n",
      "MoviePy - video ready SniffingSnippetsIsabelle/2636_snippet_25.mp4\n",
      "MoviePy - Building video SniffingSnippetsIsabelle/2636_snippet_26.mp4.\n",
      "MoviePy - Writing video SniffingSnippetsIsabelle/2636_snippet_26.mp4\n",
      "\n"
     ]
    },
    {
     "name": "stderr",
     "output_type": "stream",
     "text": [
      "                                                                       \r"
     ]
    },
    {
     "name": "stdout",
     "output_type": "stream",
     "text": [
      "MoviePy - Done !\n",
      "MoviePy - video ready SniffingSnippetsIsabelle/2636_snippet_26.mp4\n",
      "Video number: 2637\n",
      "Input video duration: 24.69 seconds\n",
      "\u001b[32m[05/27 21:54:00 d2.checkpoint.detection_checkpoint]: \u001b[0m[DetectionCheckpointer] Loading from ./output/model_final.pth ...\n"
     ]
    },
    {
     "name": "stderr",
     "output_type": "stream",
     "text": [
      "INFO:fvcore.common.checkpoint:[Checkpointer] Loading from ./output/model_final.pth ...\n"
     ]
    },
    {
     "name": "stdout",
     "output_type": "stream",
     "text": [
      "2637\n",
      "MoviePy - Building video SniffingSnippetsIsabelle/2637_snippet_0.mp4.\n",
      "MoviePy - Writing video SniffingSnippetsIsabelle/2637_snippet_0.mp4\n",
      "\n"
     ]
    },
    {
     "name": "stderr",
     "output_type": "stream",
     "text": [
      "                                                            "
     ]
    },
    {
     "name": "stdout",
     "output_type": "stream",
     "text": [
      "MoviePy - Done !\n",
      "MoviePy - video ready SniffingSnippetsIsabelle/2637_snippet_0.mp4\n"
     ]
    },
    {
     "name": "stderr",
     "output_type": "stream",
     "text": [
      "\r"
     ]
    },
    {
     "name": "stdout",
     "output_type": "stream",
     "text": [
      "MoviePy - Building video SniffingSnippetsIsabelle/2637_snippet_1.mp4.\n",
      "MoviePy - Writing video SniffingSnippetsIsabelle/2637_snippet_1.mp4\n",
      "\n"
     ]
    },
    {
     "name": "stderr",
     "output_type": "stream",
     "text": [
      "                                             "
     ]
    },
    {
     "name": "stdout",
     "output_type": "stream",
     "text": [
      "MoviePy - Done !\n",
      "MoviePy - video ready SniffingSnippetsIsabelle/2637_snippet_1.mp4\n"
     ]
    },
    {
     "name": "stderr",
     "output_type": "stream",
     "text": [
      "\r"
     ]
    },
    {
     "name": "stdout",
     "output_type": "stream",
     "text": [
      "MoviePy - Building video SniffingSnippetsIsabelle/2637_snippet_2.mp4.\n",
      "MoviePy - Writing video SniffingSnippetsIsabelle/2637_snippet_2.mp4\n",
      "\n"
     ]
    },
    {
     "name": "stderr",
     "output_type": "stream",
     "text": [
      "                                                            "
     ]
    },
    {
     "name": "stdout",
     "output_type": "stream",
     "text": [
      "MoviePy - Done !\n",
      "MoviePy - video ready SniffingSnippetsIsabelle/2637_snippet_2.mp4\n"
     ]
    },
    {
     "name": "stderr",
     "output_type": "stream",
     "text": [
      "\r"
     ]
    },
    {
     "name": "stdout",
     "output_type": "stream",
     "text": [
      "MoviePy - Building video SniffingSnippetsIsabelle/2637_snippet_3.mp4.\n",
      "MoviePy - Writing video SniffingSnippetsIsabelle/2637_snippet_3.mp4\n",
      "\n"
     ]
    },
    {
     "name": "stderr",
     "output_type": "stream",
     "text": [
      "                                                            "
     ]
    },
    {
     "name": "stdout",
     "output_type": "stream",
     "text": [
      "MoviePy - Done !\n",
      "MoviePy - video ready SniffingSnippetsIsabelle/2637_snippet_3.mp4\n"
     ]
    },
    {
     "name": "stderr",
     "output_type": "stream",
     "text": [
      "\r"
     ]
    },
    {
     "name": "stdout",
     "output_type": "stream",
     "text": [
      "MoviePy - Building video SniffingSnippetsIsabelle/2637_snippet_4.mp4.\n",
      "MoviePy - Writing video SniffingSnippetsIsabelle/2637_snippet_4.mp4\n",
      "\n"
     ]
    },
    {
     "name": "stderr",
     "output_type": "stream",
     "text": [
      "                                                            \r"
     ]
    },
    {
     "name": "stdout",
     "output_type": "stream",
     "text": [
      "MoviePy - Done !\n",
      "MoviePy - video ready SniffingSnippetsIsabelle/2637_snippet_4.mp4\n",
      "MoviePy - Building video SniffingSnippetsIsabelle/2637_snippet_5.mp4.\n",
      "MoviePy - Writing video SniffingSnippetsIsabelle/2637_snippet_5.mp4\n",
      "\n"
     ]
    },
    {
     "name": "stderr",
     "output_type": "stream",
     "text": [
      "                                                            "
     ]
    },
    {
     "name": "stdout",
     "output_type": "stream",
     "text": [
      "MoviePy - Done !\n",
      "MoviePy - video ready SniffingSnippetsIsabelle/2637_snippet_5.mp4\n"
     ]
    },
    {
     "name": "stderr",
     "output_type": "stream",
     "text": [
      "\r"
     ]
    },
    {
     "name": "stdout",
     "output_type": "stream",
     "text": [
      "MoviePy - Building video SniffingSnippetsIsabelle/2637_snippet_6.mp4.\n",
      "MoviePy - Writing video SniffingSnippetsIsabelle/2637_snippet_6.mp4\n",
      "\n"
     ]
    },
    {
     "name": "stderr",
     "output_type": "stream",
     "text": [
      "                                                            "
     ]
    },
    {
     "name": "stdout",
     "output_type": "stream",
     "text": [
      "MoviePy - Done !\n",
      "MoviePy - video ready SniffingSnippetsIsabelle/2637_snippet_6.mp4\n"
     ]
    },
    {
     "name": "stderr",
     "output_type": "stream",
     "text": [
      "\r"
     ]
    },
    {
     "name": "stdout",
     "output_type": "stream",
     "text": [
      "MoviePy - Building video SniffingSnippetsIsabelle/2637_snippet_7.mp4.\n",
      "MoviePy - Writing video SniffingSnippetsIsabelle/2637_snippet_7.mp4\n",
      "\n"
     ]
    },
    {
     "name": "stderr",
     "output_type": "stream",
     "text": [
      "                                                            "
     ]
    },
    {
     "name": "stdout",
     "output_type": "stream",
     "text": [
      "MoviePy - Done !\n",
      "MoviePy - video ready SniffingSnippetsIsabelle/2637_snippet_7.mp4\n"
     ]
    },
    {
     "name": "stderr",
     "output_type": "stream",
     "text": [
      "\r"
     ]
    },
    {
     "name": "stdout",
     "output_type": "stream",
     "text": [
      "MoviePy - Building video SniffingSnippetsIsabelle/2637_snippet_8.mp4.\n",
      "MoviePy - Writing video SniffingSnippetsIsabelle/2637_snippet_8.mp4\n",
      "\n"
     ]
    },
    {
     "name": "stderr",
     "output_type": "stream",
     "text": [
      "                                                            \r"
     ]
    },
    {
     "name": "stdout",
     "output_type": "stream",
     "text": [
      "MoviePy - Done !\n",
      "MoviePy - video ready SniffingSnippetsIsabelle/2637_snippet_8.mp4\n",
      "MoviePy - Building video SniffingSnippetsIsabelle/2637_snippet_9.mp4.\n",
      "MoviePy - Writing video SniffingSnippetsIsabelle/2637_snippet_9.mp4\n",
      "\n"
     ]
    },
    {
     "name": "stderr",
     "output_type": "stream",
     "text": [
      "                                                                       \r"
     ]
    },
    {
     "name": "stdout",
     "output_type": "stream",
     "text": [
      "MoviePy - Done !\n",
      "MoviePy - video ready SniffingSnippetsIsabelle/2637_snippet_9.mp4\n",
      "MoviePy - Building video SniffingSnippetsIsabelle/2637_snippet_10.mp4.\n",
      "MoviePy - Writing video SniffingSnippetsIsabelle/2637_snippet_10.mp4\n",
      "\n"
     ]
    },
    {
     "name": "stderr",
     "output_type": "stream",
     "text": [
      "                                                            "
     ]
    },
    {
     "name": "stdout",
     "output_type": "stream",
     "text": [
      "MoviePy - Done !\n",
      "MoviePy - video ready SniffingSnippetsIsabelle/2637_snippet_10.mp4\n"
     ]
    },
    {
     "name": "stderr",
     "output_type": "stream",
     "text": [
      "\r"
     ]
    },
    {
     "name": "stdout",
     "output_type": "stream",
     "text": [
      "MoviePy - Building video SniffingSnippetsIsabelle/2637_snippet_11.mp4.\n",
      "MoviePy - Writing video SniffingSnippetsIsabelle/2637_snippet_11.mp4\n",
      "\n"
     ]
    },
    {
     "name": "stderr",
     "output_type": "stream",
     "text": [
      "                                                             \r"
     ]
    },
    {
     "name": "stdout",
     "output_type": "stream",
     "text": [
      "MoviePy - Done !\n",
      "MoviePy - video ready SniffingSnippetsIsabelle/2637_snippet_11.mp4\n",
      "MoviePy - Building video SniffingSnippetsIsabelle/2637_snippet_12.mp4.\n",
      "MoviePy - Writing video SniffingSnippetsIsabelle/2637_snippet_12.mp4\n",
      "\n"
     ]
    },
    {
     "name": "stderr",
     "output_type": "stream",
     "text": [
      "                                             "
     ]
    },
    {
     "name": "stdout",
     "output_type": "stream",
     "text": [
      "MoviePy - Done !\n",
      "MoviePy - video ready SniffingSnippetsIsabelle/2637_snippet_12.mp4\n"
     ]
    },
    {
     "name": "stderr",
     "output_type": "stream",
     "text": [
      "\r"
     ]
    },
    {
     "name": "stdout",
     "output_type": "stream",
     "text": [
      "MoviePy - Building video SniffingSnippetsIsabelle/2637_snippet_13.mp4.\n",
      "MoviePy - Writing video SniffingSnippetsIsabelle/2637_snippet_13.mp4\n",
      "\n"
     ]
    },
    {
     "name": "stderr",
     "output_type": "stream",
     "text": [
      "                                                             \r"
     ]
    },
    {
     "name": "stdout",
     "output_type": "stream",
     "text": [
      "MoviePy - Done !\n",
      "MoviePy - video ready SniffingSnippetsIsabelle/2637_snippet_13.mp4\n",
      "MoviePy - Building video SniffingSnippetsIsabelle/2637_snippet_14.mp4.\n",
      "MoviePy - Writing video SniffingSnippetsIsabelle/2637_snippet_14.mp4\n",
      "\n"
     ]
    },
    {
     "name": "stderr",
     "output_type": "stream",
     "text": [
      "                                                            "
     ]
    },
    {
     "name": "stdout",
     "output_type": "stream",
     "text": [
      "MoviePy - Done !\n",
      "MoviePy - video ready SniffingSnippetsIsabelle/2637_snippet_14.mp4\n"
     ]
    },
    {
     "name": "stderr",
     "output_type": "stream",
     "text": [
      "\r"
     ]
    },
    {
     "name": "stdout",
     "output_type": "stream",
     "text": [
      "MoviePy - Building video SniffingSnippetsIsabelle/2637_snippet_15.mp4.\n",
      "MoviePy - Writing video SniffingSnippetsIsabelle/2637_snippet_15.mp4\n",
      "\n"
     ]
    },
    {
     "name": "stderr",
     "output_type": "stream",
     "text": [
      "                                                             \r"
     ]
    },
    {
     "name": "stdout",
     "output_type": "stream",
     "text": [
      "MoviePy - Done !\n",
      "MoviePy - video ready SniffingSnippetsIsabelle/2637_snippet_15.mp4\n",
      "MoviePy - Building video SniffingSnippetsIsabelle/2637_snippet_16.mp4.\n",
      "MoviePy - Writing video SniffingSnippetsIsabelle/2637_snippet_16.mp4\n",
      "\n"
     ]
    },
    {
     "name": "stderr",
     "output_type": "stream",
     "text": [
      "                                                            "
     ]
    },
    {
     "name": "stdout",
     "output_type": "stream",
     "text": [
      "MoviePy - Done !\n",
      "MoviePy - video ready SniffingSnippetsIsabelle/2637_snippet_16.mp4\n"
     ]
    },
    {
     "name": "stderr",
     "output_type": "stream",
     "text": [
      "\r"
     ]
    },
    {
     "name": "stdout",
     "output_type": "stream",
     "text": [
      "MoviePy - Building video SniffingSnippetsIsabelle/2637_snippet_17.mp4.\n",
      "MoviePy - Writing video SniffingSnippetsIsabelle/2637_snippet_17.mp4\n",
      "\n"
     ]
    },
    {
     "name": "stderr",
     "output_type": "stream",
     "text": [
      "                                                                       \r"
     ]
    },
    {
     "name": "stdout",
     "output_type": "stream",
     "text": [
      "MoviePy - Done !\n",
      "MoviePy - video ready SniffingSnippetsIsabelle/2637_snippet_17.mp4\n",
      "MoviePy - Building video SniffingSnippetsIsabelle/2637_snippet_18.mp4.\n",
      "MoviePy - Writing video SniffingSnippetsIsabelle/2637_snippet_18.mp4\n",
      "\n"
     ]
    },
    {
     "name": "stderr",
     "output_type": "stream",
     "text": [
      "                                                            "
     ]
    },
    {
     "name": "stdout",
     "output_type": "stream",
     "text": [
      "MoviePy - Done !\n",
      "MoviePy - video ready SniffingSnippetsIsabelle/2637_snippet_18.mp4\n"
     ]
    },
    {
     "name": "stderr",
     "output_type": "stream",
     "text": [
      "\r"
     ]
    },
    {
     "name": "stdout",
     "output_type": "stream",
     "text": [
      "MoviePy - Building video SniffingSnippetsIsabelle/2637_snippet_19.mp4.\n",
      "MoviePy - Writing video SniffingSnippetsIsabelle/2637_snippet_19.mp4\n",
      "\n"
     ]
    },
    {
     "name": "stderr",
     "output_type": "stream",
     "text": [
      "                                                            "
     ]
    },
    {
     "name": "stdout",
     "output_type": "stream",
     "text": [
      "MoviePy - Done !\n",
      "MoviePy - video ready SniffingSnippetsIsabelle/2637_snippet_19.mp4\n"
     ]
    },
    {
     "name": "stderr",
     "output_type": "stream",
     "text": [
      "\r"
     ]
    },
    {
     "name": "stdout",
     "output_type": "stream",
     "text": [
      "MoviePy - Building video SniffingSnippetsIsabelle/2637_snippet_20.mp4.\n",
      "MoviePy - Writing video SniffingSnippetsIsabelle/2637_snippet_20.mp4\n",
      "\n"
     ]
    },
    {
     "name": "stderr",
     "output_type": "stream",
     "text": [
      "                                                            "
     ]
    },
    {
     "name": "stdout",
     "output_type": "stream",
     "text": [
      "MoviePy - Done !\n",
      "MoviePy - video ready SniffingSnippetsIsabelle/2637_snippet_20.mp4\n"
     ]
    },
    {
     "name": "stderr",
     "output_type": "stream",
     "text": [
      "\r"
     ]
    },
    {
     "name": "stdout",
     "output_type": "stream",
     "text": [
      "MoviePy - Building video SniffingSnippetsIsabelle/2637_snippet_21.mp4.\n",
      "MoviePy - Writing video SniffingSnippetsIsabelle/2637_snippet_21.mp4\n",
      "\n"
     ]
    },
    {
     "name": "stderr",
     "output_type": "stream",
     "text": [
      "                                                            "
     ]
    },
    {
     "name": "stdout",
     "output_type": "stream",
     "text": [
      "MoviePy - Done !\n",
      "MoviePy - video ready SniffingSnippetsIsabelle/2637_snippet_21.mp4\n"
     ]
    },
    {
     "name": "stderr",
     "output_type": "stream",
     "text": [
      "\r"
     ]
    },
    {
     "name": "stdout",
     "output_type": "stream",
     "text": [
      "MoviePy - Building video SniffingSnippetsIsabelle/2637_snippet_22.mp4.\n",
      "MoviePy - Writing video SniffingSnippetsIsabelle/2637_snippet_22.mp4\n",
      "\n"
     ]
    },
    {
     "name": "stderr",
     "output_type": "stream",
     "text": [
      "                                                            "
     ]
    },
    {
     "name": "stdout",
     "output_type": "stream",
     "text": [
      "MoviePy - Done !\n",
      "MoviePy - video ready SniffingSnippetsIsabelle/2637_snippet_22.mp4\n"
     ]
    },
    {
     "name": "stderr",
     "output_type": "stream",
     "text": [
      "\r"
     ]
    },
    {
     "name": "stdout",
     "output_type": "stream",
     "text": [
      "MoviePy - Building video SniffingSnippetsIsabelle/2637_snippet_23.mp4.\n",
      "MoviePy - Writing video SniffingSnippetsIsabelle/2637_snippet_23.mp4\n",
      "\n"
     ]
    },
    {
     "name": "stderr",
     "output_type": "stream",
     "text": [
      "                                                            "
     ]
    },
    {
     "name": "stdout",
     "output_type": "stream",
     "text": [
      "MoviePy - Done !\n",
      "MoviePy - video ready SniffingSnippetsIsabelle/2637_snippet_23.mp4\n"
     ]
    },
    {
     "name": "stderr",
     "output_type": "stream",
     "text": [
      "\r"
     ]
    },
    {
     "name": "stdout",
     "output_type": "stream",
     "text": [
      "MoviePy - Building video SniffingSnippetsIsabelle/2637_snippet_24.mp4.\n",
      "MoviePy - Writing video SniffingSnippetsIsabelle/2637_snippet_24.mp4\n",
      "\n"
     ]
    },
    {
     "name": "stderr",
     "output_type": "stream",
     "text": [
      "                                                            "
     ]
    },
    {
     "name": "stdout",
     "output_type": "stream",
     "text": [
      "MoviePy - Done !\n",
      "MoviePy - video ready SniffingSnippetsIsabelle/2637_snippet_24.mp4\n"
     ]
    },
    {
     "name": "stderr",
     "output_type": "stream",
     "text": [
      "\r"
     ]
    },
    {
     "name": "stdout",
     "output_type": "stream",
     "text": [
      "MoviePy - Building video SniffingSnippetsIsabelle/2637_snippet_25.mp4.\n",
      "MoviePy - Writing video SniffingSnippetsIsabelle/2637_snippet_25.mp4\n",
      "\n"
     ]
    },
    {
     "name": "stderr",
     "output_type": "stream",
     "text": [
      "                                                            "
     ]
    },
    {
     "name": "stdout",
     "output_type": "stream",
     "text": [
      "MoviePy - Done !\n",
      "MoviePy - video ready SniffingSnippetsIsabelle/2637_snippet_25.mp4\n"
     ]
    },
    {
     "name": "stderr",
     "output_type": "stream",
     "text": [
      "\r"
     ]
    },
    {
     "name": "stdout",
     "output_type": "stream",
     "text": [
      "MoviePy - Building video SniffingSnippetsIsabelle/2637_snippet_26.mp4.\n",
      "MoviePy - Writing video SniffingSnippetsIsabelle/2637_snippet_26.mp4\n",
      "\n"
     ]
    },
    {
     "name": "stderr",
     "output_type": "stream",
     "text": [
      "                                                            "
     ]
    },
    {
     "name": "stdout",
     "output_type": "stream",
     "text": [
      "MoviePy - Done !\n",
      "MoviePy - video ready SniffingSnippetsIsabelle/2637_snippet_26.mp4\n"
     ]
    },
    {
     "name": "stderr",
     "output_type": "stream",
     "text": [
      "\r"
     ]
    },
    {
     "name": "stdout",
     "output_type": "stream",
     "text": [
      "MoviePy - Building video SniffingSnippetsIsabelle/2637_snippet_27.mp4.\n",
      "MoviePy - Writing video SniffingSnippetsIsabelle/2637_snippet_27.mp4\n",
      "\n"
     ]
    },
    {
     "name": "stderr",
     "output_type": "stream",
     "text": [
      "                                                                       \r"
     ]
    },
    {
     "name": "stdout",
     "output_type": "stream",
     "text": [
      "MoviePy - Done !\n",
      "MoviePy - video ready SniffingSnippetsIsabelle/2637_snippet_27.mp4\n",
      "MoviePy - Building video SniffingSnippetsIsabelle/2637_snippet_28.mp4.\n",
      "MoviePy - Writing video SniffingSnippetsIsabelle/2637_snippet_28.mp4\n",
      "\n"
     ]
    },
    {
     "name": "stderr",
     "output_type": "stream",
     "text": [
      "                                                                       \r"
     ]
    },
    {
     "name": "stdout",
     "output_type": "stream",
     "text": [
      "MoviePy - Done !\n",
      "MoviePy - video ready SniffingSnippetsIsabelle/2637_snippet_28.mp4\n",
      "MoviePy - Building video SniffingSnippetsIsabelle/2637_snippet_29.mp4.\n",
      "MoviePy - Writing video SniffingSnippetsIsabelle/2637_snippet_29.mp4\n",
      "\n"
     ]
    },
    {
     "name": "stderr",
     "output_type": "stream",
     "text": [
      "                                                            "
     ]
    },
    {
     "name": "stdout",
     "output_type": "stream",
     "text": [
      "MoviePy - Done !\n",
      "MoviePy - video ready SniffingSnippetsIsabelle/2637_snippet_29.mp4\n"
     ]
    },
    {
     "name": "stderr",
     "output_type": "stream",
     "text": [
      "\r"
     ]
    },
    {
     "name": "stdout",
     "output_type": "stream",
     "text": [
      "MoviePy - Building video SniffingSnippetsIsabelle/2637_snippet_30.mp4.\n",
      "MoviePy - Writing video SniffingSnippetsIsabelle/2637_snippet_30.mp4\n",
      "\n"
     ]
    },
    {
     "name": "stderr",
     "output_type": "stream",
     "text": [
      "                                                             \r"
     ]
    },
    {
     "name": "stdout",
     "output_type": "stream",
     "text": [
      "MoviePy - Done !\n",
      "MoviePy - video ready SniffingSnippetsIsabelle/2637_snippet_30.mp4\n",
      "MoviePy - Building video SniffingSnippetsIsabelle/2637_snippet_31.mp4.\n",
      "MoviePy - Writing video SniffingSnippetsIsabelle/2637_snippet_31.mp4\n",
      "\n"
     ]
    },
    {
     "name": "stderr",
     "output_type": "stream",
     "text": [
      "                                                            "
     ]
    },
    {
     "name": "stdout",
     "output_type": "stream",
     "text": [
      "MoviePy - Done !\n",
      "MoviePy - video ready SniffingSnippetsIsabelle/2637_snippet_31.mp4\n"
     ]
    },
    {
     "name": "stderr",
     "output_type": "stream",
     "text": [
      "\r"
     ]
    },
    {
     "name": "stdout",
     "output_type": "stream",
     "text": [
      "MoviePy - Building video SniffingSnippetsIsabelle/2637_snippet_32.mp4.\n",
      "MoviePy - Writing video SniffingSnippetsIsabelle/2637_snippet_32.mp4\n",
      "\n"
     ]
    },
    {
     "name": "stderr",
     "output_type": "stream",
     "text": [
      "                                                            "
     ]
    },
    {
     "name": "stdout",
     "output_type": "stream",
     "text": [
      "MoviePy - Done !\n",
      "MoviePy - video ready SniffingSnippetsIsabelle/2637_snippet_32.mp4\n"
     ]
    },
    {
     "name": "stderr",
     "output_type": "stream",
     "text": [
      "\r"
     ]
    },
    {
     "name": "stdout",
     "output_type": "stream",
     "text": [
      "MoviePy - Building video SniffingSnippetsIsabelle/2637_snippet_33.mp4.\n",
      "MoviePy - Writing video SniffingSnippetsIsabelle/2637_snippet_33.mp4\n",
      "\n"
     ]
    },
    {
     "name": "stderr",
     "output_type": "stream",
     "text": [
      "                                             "
     ]
    },
    {
     "name": "stdout",
     "output_type": "stream",
     "text": [
      "MoviePy - Done !\n",
      "MoviePy - video ready SniffingSnippetsIsabelle/2637_snippet_33.mp4\n"
     ]
    },
    {
     "name": "stderr",
     "output_type": "stream",
     "text": [
      "\r"
     ]
    },
    {
     "name": "stdout",
     "output_type": "stream",
     "text": [
      "MoviePy - Building video SniffingSnippetsIsabelle/2637_snippet_34.mp4.\n",
      "MoviePy - Writing video SniffingSnippetsIsabelle/2637_snippet_34.mp4\n",
      "\n"
     ]
    },
    {
     "name": "stderr",
     "output_type": "stream",
     "text": [
      "                                                            "
     ]
    },
    {
     "name": "stdout",
     "output_type": "stream",
     "text": [
      "MoviePy - Done !\n",
      "MoviePy - video ready SniffingSnippetsIsabelle/2637_snippet_34.mp4\n"
     ]
    },
    {
     "name": "stderr",
     "output_type": "stream",
     "text": [
      "\r"
     ]
    },
    {
     "name": "stdout",
     "output_type": "stream",
     "text": [
      "MoviePy - Building video SniffingSnippetsIsabelle/2637_snippet_35.mp4.\n",
      "MoviePy - Writing video SniffingSnippetsIsabelle/2637_snippet_35.mp4\n",
      "\n"
     ]
    },
    {
     "name": "stderr",
     "output_type": "stream",
     "text": [
      "                                                                       \r"
     ]
    },
    {
     "name": "stdout",
     "output_type": "stream",
     "text": [
      "MoviePy - Done !\n",
      "MoviePy - video ready SniffingSnippetsIsabelle/2637_snippet_35.mp4\n",
      "MoviePy - Building video SniffingSnippetsIsabelle/2637_snippet_36.mp4.\n",
      "MoviePy - Writing video SniffingSnippetsIsabelle/2637_snippet_36.mp4\n",
      "\n"
     ]
    },
    {
     "name": "stderr",
     "output_type": "stream",
     "text": [
      "                                                            "
     ]
    },
    {
     "name": "stdout",
     "output_type": "stream",
     "text": [
      "MoviePy - Done !\n",
      "MoviePy - video ready SniffingSnippetsIsabelle/2637_snippet_36.mp4\n"
     ]
    },
    {
     "name": "stderr",
     "output_type": "stream",
     "text": [
      "\r"
     ]
    },
    {
     "name": "stdout",
     "output_type": "stream",
     "text": [
      "MoviePy - Building video SniffingSnippetsIsabelle/2637_snippet_37.mp4.\n",
      "MoviePy - Writing video SniffingSnippetsIsabelle/2637_snippet_37.mp4\n",
      "\n"
     ]
    },
    {
     "name": "stderr",
     "output_type": "stream",
     "text": [
      "                                             "
     ]
    },
    {
     "name": "stdout",
     "output_type": "stream",
     "text": [
      "MoviePy - Done !\n",
      "MoviePy - video ready SniffingSnippetsIsabelle/2637_snippet_37.mp4\n"
     ]
    },
    {
     "name": "stderr",
     "output_type": "stream",
     "text": [
      "\r"
     ]
    },
    {
     "name": "stdout",
     "output_type": "stream",
     "text": [
      "MoviePy - Building video SniffingSnippetsIsabelle/2637_snippet_38.mp4.\n",
      "MoviePy - Writing video SniffingSnippetsIsabelle/2637_snippet_38.mp4\n",
      "\n"
     ]
    },
    {
     "name": "stderr",
     "output_type": "stream",
     "text": [
      "                                                            "
     ]
    },
    {
     "name": "stdout",
     "output_type": "stream",
     "text": [
      "MoviePy - Done !\n",
      "MoviePy - video ready SniffingSnippetsIsabelle/2637_snippet_38.mp4\n"
     ]
    },
    {
     "name": "stderr",
     "output_type": "stream",
     "text": [
      "\r"
     ]
    },
    {
     "name": "stdout",
     "output_type": "stream",
     "text": [
      "MoviePy - Building video SniffingSnippetsIsabelle/2637_snippet_39.mp4.\n",
      "MoviePy - Writing video SniffingSnippetsIsabelle/2637_snippet_39.mp4\n",
      "\n"
     ]
    },
    {
     "name": "stderr",
     "output_type": "stream",
     "text": [
      "                                                                       \r"
     ]
    },
    {
     "name": "stdout",
     "output_type": "stream",
     "text": [
      "MoviePy - Done !\n",
      "MoviePy - video ready SniffingSnippetsIsabelle/2637_snippet_39.mp4\n",
      "MoviePy - Building video SniffingSnippetsIsabelle/2637_snippet_40.mp4.\n",
      "MoviePy - Writing video SniffingSnippetsIsabelle/2637_snippet_40.mp4\n",
      "\n"
     ]
    },
    {
     "name": "stderr",
     "output_type": "stream",
     "text": [
      "                                                                       \r"
     ]
    },
    {
     "name": "stdout",
     "output_type": "stream",
     "text": [
      "MoviePy - Done !\n",
      "MoviePy - video ready SniffingSnippetsIsabelle/2637_snippet_40.mp4\n",
      "MoviePy - Building video SniffingSnippetsIsabelle/2637_snippet_41.mp4.\n",
      "MoviePy - Writing video SniffingSnippetsIsabelle/2637_snippet_41.mp4\n",
      "\n"
     ]
    },
    {
     "name": "stderr",
     "output_type": "stream",
     "text": [
      "                                                             \r"
     ]
    },
    {
     "name": "stdout",
     "output_type": "stream",
     "text": [
      "MoviePy - Done !\n",
      "MoviePy - video ready SniffingSnippetsIsabelle/2637_snippet_41.mp4\n",
      "MoviePy - Building video SniffingSnippetsIsabelle/2637_snippet_42.mp4.\n",
      "MoviePy - Writing video SniffingSnippetsIsabelle/2637_snippet_42.mp4\n",
      "\n"
     ]
    },
    {
     "name": "stderr",
     "output_type": "stream",
     "text": [
      "                                                             \r"
     ]
    },
    {
     "name": "stdout",
     "output_type": "stream",
     "text": [
      "MoviePy - Done !\n",
      "MoviePy - video ready SniffingSnippetsIsabelle/2637_snippet_42.mp4\n",
      "MoviePy - Building video SniffingSnippetsIsabelle/2637_snippet_43.mp4.\n",
      "MoviePy - Writing video SniffingSnippetsIsabelle/2637_snippet_43.mp4\n",
      "\n"
     ]
    },
    {
     "name": "stderr",
     "output_type": "stream",
     "text": [
      "                                                            "
     ]
    },
    {
     "name": "stdout",
     "output_type": "stream",
     "text": [
      "MoviePy - Done !\n",
      "MoviePy - video ready SniffingSnippetsIsabelle/2637_snippet_43.mp4\n"
     ]
    },
    {
     "name": "stderr",
     "output_type": "stream",
     "text": [
      "\r"
     ]
    },
    {
     "name": "stdout",
     "output_type": "stream",
     "text": [
      "MoviePy - Building video SniffingSnippetsIsabelle/2637_snippet_44.mp4.\n",
      "MoviePy - Writing video SniffingSnippetsIsabelle/2637_snippet_44.mp4\n",
      "\n"
     ]
    },
    {
     "name": "stderr",
     "output_type": "stream",
     "text": [
      "                                             "
     ]
    },
    {
     "name": "stdout",
     "output_type": "stream",
     "text": [
      "MoviePy - Done !\n",
      "MoviePy - video ready SniffingSnippetsIsabelle/2637_snippet_44.mp4\n"
     ]
    },
    {
     "name": "stderr",
     "output_type": "stream",
     "text": [
      "\r"
     ]
    },
    {
     "name": "stdout",
     "output_type": "stream",
     "text": [
      "MoviePy - Building video SniffingSnippetsIsabelle/2637_snippet_45.mp4.\n",
      "MoviePy - Writing video SniffingSnippetsIsabelle/2637_snippet_45.mp4\n",
      "\n"
     ]
    },
    {
     "name": "stderr",
     "output_type": "stream",
     "text": [
      "                                                             \r"
     ]
    },
    {
     "name": "stdout",
     "output_type": "stream",
     "text": [
      "MoviePy - Done !\n",
      "MoviePy - video ready SniffingSnippetsIsabelle/2637_snippet_45.mp4\n",
      "MoviePy - Building video SniffingSnippetsIsabelle/2637_snippet_46.mp4.\n",
      "MoviePy - Writing video SniffingSnippetsIsabelle/2637_snippet_46.mp4\n",
      "\n"
     ]
    },
    {
     "name": "stderr",
     "output_type": "stream",
     "text": [
      "                                             "
     ]
    },
    {
     "name": "stdout",
     "output_type": "stream",
     "text": [
      "MoviePy - Done !\n",
      "MoviePy - video ready SniffingSnippetsIsabelle/2637_snippet_46.mp4\n"
     ]
    },
    {
     "name": "stderr",
     "output_type": "stream",
     "text": [
      "\r"
     ]
    },
    {
     "name": "stdout",
     "output_type": "stream",
     "text": [
      "MoviePy - Building video SniffingSnippetsIsabelle/2637_snippet_47.mp4.\n",
      "MoviePy - Writing video SniffingSnippetsIsabelle/2637_snippet_47.mp4\n",
      "\n"
     ]
    },
    {
     "name": "stderr",
     "output_type": "stream",
     "text": [
      "                                             "
     ]
    },
    {
     "name": "stdout",
     "output_type": "stream",
     "text": [
      "MoviePy - Done !\n",
      "MoviePy - video ready SniffingSnippetsIsabelle/2637_snippet_47.mp4\n"
     ]
    },
    {
     "name": "stderr",
     "output_type": "stream",
     "text": [
      "\r"
     ]
    },
    {
     "name": "stdout",
     "output_type": "stream",
     "text": [
      "MoviePy - Building video SniffingSnippetsIsabelle/2637_snippet_48.mp4.\n",
      "MoviePy - Writing video SniffingSnippetsIsabelle/2637_snippet_48.mp4\n",
      "\n"
     ]
    },
    {
     "name": "stderr",
     "output_type": "stream",
     "text": [
      "                                             "
     ]
    },
    {
     "name": "stdout",
     "output_type": "stream",
     "text": [
      "MoviePy - Done !\n",
      "MoviePy - video ready SniffingSnippetsIsabelle/2637_snippet_48.mp4\n"
     ]
    },
    {
     "name": "stderr",
     "output_type": "stream",
     "text": [
      "\r"
     ]
    },
    {
     "name": "stdout",
     "output_type": "stream",
     "text": [
      "MoviePy - Building video SniffingSnippetsIsabelle/2637_snippet_49.mp4.\n",
      "MoviePy - Writing video SniffingSnippetsIsabelle/2637_snippet_49.mp4\n",
      "\n"
     ]
    },
    {
     "name": "stderr",
     "output_type": "stream",
     "text": [
      "                                             "
     ]
    },
    {
     "name": "stdout",
     "output_type": "stream",
     "text": [
      "MoviePy - Done !\n",
      "MoviePy - video ready SniffingSnippetsIsabelle/2637_snippet_49.mp4\n"
     ]
    },
    {
     "name": "stderr",
     "output_type": "stream",
     "text": [
      "\r"
     ]
    },
    {
     "name": "stdout",
     "output_type": "stream",
     "text": [
      "MoviePy - Building video SniffingSnippetsIsabelle/2637_snippet_50.mp4.\n",
      "MoviePy - Writing video SniffingSnippetsIsabelle/2637_snippet_50.mp4\n",
      "\n"
     ]
    },
    {
     "name": "stderr",
     "output_type": "stream",
     "text": [
      "                                             "
     ]
    },
    {
     "name": "stdout",
     "output_type": "stream",
     "text": [
      "MoviePy - Done !\n",
      "MoviePy - video ready SniffingSnippetsIsabelle/2637_snippet_50.mp4\n"
     ]
    },
    {
     "name": "stderr",
     "output_type": "stream",
     "text": [
      "\r"
     ]
    },
    {
     "name": "stdout",
     "output_type": "stream",
     "text": [
      "MoviePy - Building video SniffingSnippetsIsabelle/2637_snippet_51.mp4.\n",
      "MoviePy - Writing video SniffingSnippetsIsabelle/2637_snippet_51.mp4\n",
      "\n"
     ]
    },
    {
     "name": "stderr",
     "output_type": "stream",
     "text": [
      "                                                            "
     ]
    },
    {
     "name": "stdout",
     "output_type": "stream",
     "text": [
      "MoviePy - Done !\n",
      "MoviePy - video ready SniffingSnippetsIsabelle/2637_snippet_51.mp4\n"
     ]
    },
    {
     "name": "stderr",
     "output_type": "stream",
     "text": [
      "\r"
     ]
    },
    {
     "name": "stdout",
     "output_type": "stream",
     "text": [
      "MoviePy - Building video SniffingSnippetsIsabelle/2637_snippet_52.mp4.\n",
      "MoviePy - Writing video SniffingSnippetsIsabelle/2637_snippet_52.mp4\n",
      "\n"
     ]
    },
    {
     "name": "stderr",
     "output_type": "stream",
     "text": [
      "                                                            \r"
     ]
    },
    {
     "name": "stdout",
     "output_type": "stream",
     "text": [
      "MoviePy - Done !\n",
      "MoviePy - video ready SniffingSnippetsIsabelle/2637_snippet_52.mp4\n",
      "MoviePy - Building video SniffingSnippetsIsabelle/2637_snippet_53.mp4.\n",
      "MoviePy - Writing video SniffingSnippetsIsabelle/2637_snippet_53.mp4\n",
      "\n"
     ]
    },
    {
     "name": "stderr",
     "output_type": "stream",
     "text": [
      "                                                            \r"
     ]
    },
    {
     "name": "stdout",
     "output_type": "stream",
     "text": [
      "MoviePy - Done !\n",
      "MoviePy - video ready SniffingSnippetsIsabelle/2637_snippet_53.mp4\n",
      "MoviePy - Building video SniffingSnippetsIsabelle/2637_snippet_54.mp4.\n",
      "MoviePy - Writing video SniffingSnippetsIsabelle/2637_snippet_54.mp4\n",
      "\n"
     ]
    },
    {
     "name": "stderr",
     "output_type": "stream",
     "text": [
      "                                                            "
     ]
    },
    {
     "name": "stdout",
     "output_type": "stream",
     "text": [
      "MoviePy - Done !\n",
      "MoviePy - video ready SniffingSnippetsIsabelle/2637_snippet_54.mp4\n"
     ]
    },
    {
     "name": "stderr",
     "output_type": "stream",
     "text": [
      "\r"
     ]
    },
    {
     "name": "stdout",
     "output_type": "stream",
     "text": [
      "MoviePy - Building video SniffingSnippetsIsabelle/2637_snippet_55.mp4.\n",
      "MoviePy - Writing video SniffingSnippetsIsabelle/2637_snippet_55.mp4\n",
      "\n"
     ]
    },
    {
     "name": "stderr",
     "output_type": "stream",
     "text": [
      "                                                            "
     ]
    },
    {
     "name": "stdout",
     "output_type": "stream",
     "text": [
      "MoviePy - Done !\n",
      "MoviePy - video ready SniffingSnippetsIsabelle/2637_snippet_55.mp4\n"
     ]
    },
    {
     "name": "stderr",
     "output_type": "stream",
     "text": [
      "\r"
     ]
    },
    {
     "name": "stdout",
     "output_type": "stream",
     "text": [
      "MoviePy - Building video SniffingSnippetsIsabelle/2637_snippet_56.mp4.\n",
      "MoviePy - Writing video SniffingSnippetsIsabelle/2637_snippet_56.mp4\n",
      "\n"
     ]
    },
    {
     "name": "stderr",
     "output_type": "stream",
     "text": [
      "                                             "
     ]
    },
    {
     "name": "stdout",
     "output_type": "stream",
     "text": [
      "MoviePy - Done !\n",
      "MoviePy - video ready SniffingSnippetsIsabelle/2637_snippet_56.mp4\n"
     ]
    },
    {
     "name": "stderr",
     "output_type": "stream",
     "text": [
      "\r"
     ]
    },
    {
     "name": "stdout",
     "output_type": "stream",
     "text": [
      "MoviePy - Building video SniffingSnippetsIsabelle/2637_snippet_57.mp4.\n",
      "MoviePy - Writing video SniffingSnippetsIsabelle/2637_snippet_57.mp4\n",
      "\n"
     ]
    },
    {
     "name": "stderr",
     "output_type": "stream",
     "text": [
      "                                                            "
     ]
    },
    {
     "name": "stdout",
     "output_type": "stream",
     "text": [
      "MoviePy - Done !\n",
      "MoviePy - video ready SniffingSnippetsIsabelle/2637_snippet_57.mp4\n",
      "Video number: 2638\n"
     ]
    },
    {
     "name": "stderr",
     "output_type": "stream",
     "text": [
      "\r"
     ]
    },
    {
     "name": "stdout",
     "output_type": "stream",
     "text": [
      "Input video duration: 27.59 seconds\n",
      "\u001b[32m[05/27 21:56:35 d2.checkpoint.detection_checkpoint]: \u001b[0m[DetectionCheckpointer] Loading from ./output/model_final.pth ...\n"
     ]
    },
    {
     "name": "stderr",
     "output_type": "stream",
     "text": [
      "INFO:fvcore.common.checkpoint:[Checkpointer] Loading from ./output/model_final.pth ...\n"
     ]
    },
    {
     "name": "stdout",
     "output_type": "stream",
     "text": [
      "2638\n",
      "MoviePy - Building video SniffingSnippetsIsabelle/2638_snippet_0.mp4.\n",
      "MoviePy - Writing video SniffingSnippetsIsabelle/2638_snippet_0.mp4\n",
      "\n"
     ]
    },
    {
     "name": "stderr",
     "output_type": "stream",
     "text": [
      "                                                            "
     ]
    },
    {
     "name": "stdout",
     "output_type": "stream",
     "text": [
      "MoviePy - Done !\n",
      "MoviePy - video ready SniffingSnippetsIsabelle/2638_snippet_0.mp4\n"
     ]
    },
    {
     "name": "stderr",
     "output_type": "stream",
     "text": [
      "\r"
     ]
    },
    {
     "name": "stdout",
     "output_type": "stream",
     "text": [
      "MoviePy - Building video SniffingSnippetsIsabelle/2638_snippet_1.mp4.\n",
      "MoviePy - Writing video SniffingSnippetsIsabelle/2638_snippet_1.mp4\n",
      "\n"
     ]
    },
    {
     "name": "stderr",
     "output_type": "stream",
     "text": [
      "                                                             "
     ]
    },
    {
     "name": "stdout",
     "output_type": "stream",
     "text": [
      "MoviePy - Done !\n",
      "MoviePy - video ready SniffingSnippetsIsabelle/2638_snippet_1.mp4\n"
     ]
    },
    {
     "name": "stderr",
     "output_type": "stream",
     "text": [
      "\r"
     ]
    },
    {
     "name": "stdout",
     "output_type": "stream",
     "text": [
      "MoviePy - Building video SniffingSnippetsIsabelle/2638_snippet_2.mp4.\n",
      "MoviePy - Writing video SniffingSnippetsIsabelle/2638_snippet_2.mp4\n",
      "\n"
     ]
    },
    {
     "name": "stderr",
     "output_type": "stream",
     "text": [
      "                                                             "
     ]
    },
    {
     "name": "stdout",
     "output_type": "stream",
     "text": [
      "MoviePy - Done !\n",
      "MoviePy - video ready SniffingSnippetsIsabelle/2638_snippet_2.mp4\n"
     ]
    },
    {
     "name": "stderr",
     "output_type": "stream",
     "text": [
      "\r"
     ]
    },
    {
     "name": "stdout",
     "output_type": "stream",
     "text": [
      "MoviePy - Building video SniffingSnippetsIsabelle/2638_snippet_3.mp4.\n",
      "MoviePy - Writing video SniffingSnippetsIsabelle/2638_snippet_3.mp4\n",
      "\n"
     ]
    },
    {
     "name": "stderr",
     "output_type": "stream",
     "text": [
      "                                                            "
     ]
    },
    {
     "name": "stdout",
     "output_type": "stream",
     "text": [
      "MoviePy - Done !\n",
      "MoviePy - video ready SniffingSnippetsIsabelle/2638_snippet_3.mp4\n"
     ]
    },
    {
     "name": "stderr",
     "output_type": "stream",
     "text": [
      "\r"
     ]
    },
    {
     "name": "stdout",
     "output_type": "stream",
     "text": [
      "MoviePy - Building video SniffingSnippetsIsabelle/2638_snippet_4.mp4.\n",
      "MoviePy - Writing video SniffingSnippetsIsabelle/2638_snippet_4.mp4\n",
      "\n"
     ]
    },
    {
     "name": "stderr",
     "output_type": "stream",
     "text": [
      "                                             "
     ]
    },
    {
     "name": "stdout",
     "output_type": "stream",
     "text": [
      "MoviePy - Done !\n",
      "MoviePy - video ready SniffingSnippetsIsabelle/2638_snippet_4.mp4\n"
     ]
    },
    {
     "name": "stderr",
     "output_type": "stream",
     "text": [
      "\r"
     ]
    },
    {
     "name": "stdout",
     "output_type": "stream",
     "text": [
      "MoviePy - Building video SniffingSnippetsIsabelle/2638_snippet_5.mp4.\n",
      "MoviePy - Writing video SniffingSnippetsIsabelle/2638_snippet_5.mp4\n",
      "\n"
     ]
    },
    {
     "name": "stderr",
     "output_type": "stream",
     "text": [
      "                                                            \r"
     ]
    },
    {
     "name": "stdout",
     "output_type": "stream",
     "text": [
      "MoviePy - Done !\n",
      "MoviePy - video ready SniffingSnippetsIsabelle/2638_snippet_5.mp4\n",
      "MoviePy - Building video SniffingSnippetsIsabelle/2638_snippet_6.mp4.\n",
      "MoviePy - Writing video SniffingSnippetsIsabelle/2638_snippet_6.mp4\n",
      "\n"
     ]
    },
    {
     "name": "stderr",
     "output_type": "stream",
     "text": [
      "                                                            "
     ]
    },
    {
     "name": "stdout",
     "output_type": "stream",
     "text": [
      "MoviePy - Done !\n",
      "MoviePy - video ready SniffingSnippetsIsabelle/2638_snippet_6.mp4\n"
     ]
    },
    {
     "name": "stderr",
     "output_type": "stream",
     "text": [
      "\r"
     ]
    },
    {
     "name": "stdout",
     "output_type": "stream",
     "text": [
      "MoviePy - Building video SniffingSnippetsIsabelle/2638_snippet_7.mp4.\n",
      "MoviePy - Writing video SniffingSnippetsIsabelle/2638_snippet_7.mp4\n",
      "\n"
     ]
    },
    {
     "name": "stderr",
     "output_type": "stream",
     "text": [
      "                                                            "
     ]
    },
    {
     "name": "stdout",
     "output_type": "stream",
     "text": [
      "MoviePy - Done !\n",
      "MoviePy - video ready SniffingSnippetsIsabelle/2638_snippet_7.mp4\n"
     ]
    },
    {
     "name": "stderr",
     "output_type": "stream",
     "text": [
      "\r"
     ]
    },
    {
     "name": "stdout",
     "output_type": "stream",
     "text": [
      "MoviePy - Building video SniffingSnippetsIsabelle/2638_snippet_8.mp4.\n",
      "MoviePy - Writing video SniffingSnippetsIsabelle/2638_snippet_8.mp4\n",
      "\n"
     ]
    },
    {
     "name": "stderr",
     "output_type": "stream",
     "text": [
      "                                                             \r"
     ]
    },
    {
     "name": "stdout",
     "output_type": "stream",
     "text": [
      "MoviePy - Done !\n",
      "MoviePy - video ready SniffingSnippetsIsabelle/2638_snippet_8.mp4\n",
      "MoviePy - Building video SniffingSnippetsIsabelle/2638_snippet_9.mp4.\n",
      "MoviePy - Writing video SniffingSnippetsIsabelle/2638_snippet_9.mp4\n",
      "\n"
     ]
    },
    {
     "name": "stderr",
     "output_type": "stream",
     "text": [
      "                                                            "
     ]
    },
    {
     "name": "stdout",
     "output_type": "stream",
     "text": [
      "MoviePy - Done !\n",
      "MoviePy - video ready SniffingSnippetsIsabelle/2638_snippet_9.mp4\n"
     ]
    },
    {
     "name": "stderr",
     "output_type": "stream",
     "text": [
      "\r"
     ]
    },
    {
     "name": "stdout",
     "output_type": "stream",
     "text": [
      "MoviePy - Building video SniffingSnippetsIsabelle/2638_snippet_10.mp4.\n",
      "MoviePy - Writing video SniffingSnippetsIsabelle/2638_snippet_10.mp4\n",
      "\n"
     ]
    },
    {
     "name": "stderr",
     "output_type": "stream",
     "text": [
      "                                                                       \r"
     ]
    },
    {
     "name": "stdout",
     "output_type": "stream",
     "text": [
      "MoviePy - Done !\n",
      "MoviePy - video ready SniffingSnippetsIsabelle/2638_snippet_10.mp4\n",
      "MoviePy - Building video SniffingSnippetsIsabelle/2638_snippet_11.mp4.\n",
      "MoviePy - Writing video SniffingSnippetsIsabelle/2638_snippet_11.mp4\n",
      "\n"
     ]
    },
    {
     "name": "stderr",
     "output_type": "stream",
     "text": [
      "                                                             \r"
     ]
    },
    {
     "name": "stdout",
     "output_type": "stream",
     "text": [
      "MoviePy - Done !\n",
      "MoviePy - video ready SniffingSnippetsIsabelle/2638_snippet_11.mp4\n",
      "MoviePy - Building video SniffingSnippetsIsabelle/2638_snippet_12.mp4.\n",
      "MoviePy - Writing video SniffingSnippetsIsabelle/2638_snippet_12.mp4\n",
      "\n"
     ]
    },
    {
     "name": "stderr",
     "output_type": "stream",
     "text": [
      "                                                            "
     ]
    },
    {
     "name": "stdout",
     "output_type": "stream",
     "text": [
      "MoviePy - Done !\n",
      "MoviePy - video ready SniffingSnippetsIsabelle/2638_snippet_12.mp4\n"
     ]
    },
    {
     "name": "stderr",
     "output_type": "stream",
     "text": [
      "\r"
     ]
    },
    {
     "name": "stdout",
     "output_type": "stream",
     "text": [
      "MoviePy - Building video SniffingSnippetsIsabelle/2638_snippet_13.mp4.\n",
      "MoviePy - Writing video SniffingSnippetsIsabelle/2638_snippet_13.mp4\n",
      "\n"
     ]
    },
    {
     "name": "stderr",
     "output_type": "stream",
     "text": [
      "                                                            "
     ]
    },
    {
     "name": "stdout",
     "output_type": "stream",
     "text": [
      "MoviePy - Done !\n",
      "MoviePy - video ready SniffingSnippetsIsabelle/2638_snippet_13.mp4\n"
     ]
    },
    {
     "name": "stderr",
     "output_type": "stream",
     "text": [
      "\r"
     ]
    },
    {
     "name": "stdout",
     "output_type": "stream",
     "text": [
      "MoviePy - Building video SniffingSnippetsIsabelle/2638_snippet_14.mp4.\n",
      "MoviePy - Writing video SniffingSnippetsIsabelle/2638_snippet_14.mp4\n",
      "\n"
     ]
    },
    {
     "name": "stderr",
     "output_type": "stream",
     "text": [
      "                                                            "
     ]
    },
    {
     "name": "stdout",
     "output_type": "stream",
     "text": [
      "MoviePy - Done !\n",
      "MoviePy - video ready SniffingSnippetsIsabelle/2638_snippet_14.mp4\n"
     ]
    },
    {
     "name": "stderr",
     "output_type": "stream",
     "text": [
      "\r"
     ]
    },
    {
     "name": "stdout",
     "output_type": "stream",
     "text": [
      "MoviePy - Building video SniffingSnippetsIsabelle/2638_snippet_15.mp4.\n",
      "MoviePy - Writing video SniffingSnippetsIsabelle/2638_snippet_15.mp4\n",
      "\n"
     ]
    },
    {
     "name": "stderr",
     "output_type": "stream",
     "text": [
      "                                                            "
     ]
    },
    {
     "name": "stdout",
     "output_type": "stream",
     "text": [
      "MoviePy - Done !\n",
      "MoviePy - video ready SniffingSnippetsIsabelle/2638_snippet_15.mp4\n"
     ]
    },
    {
     "name": "stderr",
     "output_type": "stream",
     "text": [
      "\r"
     ]
    },
    {
     "name": "stdout",
     "output_type": "stream",
     "text": [
      "MoviePy - Building video SniffingSnippetsIsabelle/2638_snippet_16.mp4.\n",
      "MoviePy - Writing video SniffingSnippetsIsabelle/2638_snippet_16.mp4\n",
      "\n"
     ]
    },
    {
     "name": "stderr",
     "output_type": "stream",
     "text": [
      "                                                            "
     ]
    },
    {
     "name": "stdout",
     "output_type": "stream",
     "text": [
      "MoviePy - Done !\n",
      "MoviePy - video ready SniffingSnippetsIsabelle/2638_snippet_16.mp4\n"
     ]
    },
    {
     "name": "stderr",
     "output_type": "stream",
     "text": [
      "\r"
     ]
    },
    {
     "name": "stdout",
     "output_type": "stream",
     "text": [
      "MoviePy - Building video SniffingSnippetsIsabelle/2638_snippet_17.mp4.\n",
      "MoviePy - Writing video SniffingSnippetsIsabelle/2638_snippet_17.mp4\n",
      "\n"
     ]
    },
    {
     "name": "stderr",
     "output_type": "stream",
     "text": [
      "                                                            "
     ]
    },
    {
     "name": "stdout",
     "output_type": "stream",
     "text": [
      "MoviePy - Done !\n",
      "MoviePy - video ready SniffingSnippetsIsabelle/2638_snippet_17.mp4\n"
     ]
    },
    {
     "name": "stderr",
     "output_type": "stream",
     "text": [
      "\r"
     ]
    },
    {
     "name": "stdout",
     "output_type": "stream",
     "text": [
      "MoviePy - Building video SniffingSnippetsIsabelle/2638_snippet_18.mp4.\n",
      "MoviePy - Writing video SniffingSnippetsIsabelle/2638_snippet_18.mp4\n",
      "\n"
     ]
    },
    {
     "name": "stderr",
     "output_type": "stream",
     "text": [
      "                                             "
     ]
    },
    {
     "name": "stdout",
     "output_type": "stream",
     "text": [
      "MoviePy - Done !\n",
      "MoviePy - video ready SniffingSnippetsIsabelle/2638_snippet_18.mp4\n"
     ]
    },
    {
     "name": "stderr",
     "output_type": "stream",
     "text": [
      "\r"
     ]
    },
    {
     "name": "stdout",
     "output_type": "stream",
     "text": [
      "MoviePy - Building video SniffingSnippetsIsabelle/2638_snippet_19.mp4.\n",
      "MoviePy - Writing video SniffingSnippetsIsabelle/2638_snippet_19.mp4\n",
      "\n"
     ]
    },
    {
     "name": "stderr",
     "output_type": "stream",
     "text": [
      "                                                            "
     ]
    },
    {
     "name": "stdout",
     "output_type": "stream",
     "text": [
      "MoviePy - Done !\n",
      "MoviePy - video ready SniffingSnippetsIsabelle/2638_snippet_19.mp4\n"
     ]
    },
    {
     "name": "stderr",
     "output_type": "stream",
     "text": [
      "\r"
     ]
    },
    {
     "name": "stdout",
     "output_type": "stream",
     "text": [
      "MoviePy - Building video SniffingSnippetsIsabelle/2638_snippet_20.mp4.\n",
      "MoviePy - Writing video SniffingSnippetsIsabelle/2638_snippet_20.mp4\n",
      "\n"
     ]
    },
    {
     "name": "stderr",
     "output_type": "stream",
     "text": [
      "                                                            "
     ]
    },
    {
     "name": "stdout",
     "output_type": "stream",
     "text": [
      "MoviePy - Done !\n",
      "MoviePy - video ready SniffingSnippetsIsabelle/2638_snippet_20.mp4\n"
     ]
    },
    {
     "name": "stderr",
     "output_type": "stream",
     "text": [
      "\r"
     ]
    },
    {
     "name": "stdout",
     "output_type": "stream",
     "text": [
      "MoviePy - Building video SniffingSnippetsIsabelle/2638_snippet_21.mp4.\n",
      "MoviePy - Writing video SniffingSnippetsIsabelle/2638_snippet_21.mp4\n",
      "\n"
     ]
    },
    {
     "name": "stderr",
     "output_type": "stream",
     "text": [
      "                                                            \r"
     ]
    },
    {
     "name": "stdout",
     "output_type": "stream",
     "text": [
      "MoviePy - Done !\n",
      "MoviePy - video ready SniffingSnippetsIsabelle/2638_snippet_21.mp4\n",
      "MoviePy - Building video SniffingSnippetsIsabelle/2638_snippet_22.mp4.\n",
      "MoviePy - Writing video SniffingSnippetsIsabelle/2638_snippet_22.mp4\n",
      "\n"
     ]
    },
    {
     "name": "stderr",
     "output_type": "stream",
     "text": [
      "                                                            "
     ]
    },
    {
     "name": "stdout",
     "output_type": "stream",
     "text": [
      "MoviePy - Done !\n",
      "MoviePy - video ready SniffingSnippetsIsabelle/2638_snippet_22.mp4\n"
     ]
    },
    {
     "name": "stderr",
     "output_type": "stream",
     "text": [
      "\r"
     ]
    },
    {
     "name": "stdout",
     "output_type": "stream",
     "text": [
      "MoviePy - Building video SniffingSnippetsIsabelle/2638_snippet_23.mp4.\n",
      "MoviePy - Writing video SniffingSnippetsIsabelle/2638_snippet_23.mp4\n",
      "\n"
     ]
    },
    {
     "name": "stderr",
     "output_type": "stream",
     "text": [
      "                                                            "
     ]
    },
    {
     "name": "stdout",
     "output_type": "stream",
     "text": [
      "MoviePy - Done !\n",
      "MoviePy - video ready SniffingSnippetsIsabelle/2638_snippet_23.mp4\n"
     ]
    },
    {
     "name": "stderr",
     "output_type": "stream",
     "text": [
      "\r"
     ]
    },
    {
     "name": "stdout",
     "output_type": "stream",
     "text": [
      "MoviePy - Building video SniffingSnippetsIsabelle/2638_snippet_24.mp4.\n",
      "MoviePy - Writing video SniffingSnippetsIsabelle/2638_snippet_24.mp4\n",
      "\n"
     ]
    },
    {
     "name": "stderr",
     "output_type": "stream",
     "text": [
      "                                                                       \r"
     ]
    },
    {
     "name": "stdout",
     "output_type": "stream",
     "text": [
      "MoviePy - Done !\n",
      "MoviePy - video ready SniffingSnippetsIsabelle/2638_snippet_24.mp4\n",
      "MoviePy - Building video SniffingSnippetsIsabelle/2638_snippet_25.mp4.\n",
      "MoviePy - Writing video SniffingSnippetsIsabelle/2638_snippet_25.mp4\n",
      "\n"
     ]
    },
    {
     "name": "stderr",
     "output_type": "stream",
     "text": [
      "                                                            \r"
     ]
    },
    {
     "name": "stdout",
     "output_type": "stream",
     "text": [
      "MoviePy - Done !\n",
      "MoviePy - video ready SniffingSnippetsIsabelle/2638_snippet_25.mp4\n",
      "MoviePy - Building video SniffingSnippetsIsabelle/2638_snippet_26.mp4.\n",
      "MoviePy - Writing video SniffingSnippetsIsabelle/2638_snippet_26.mp4\n",
      "\n"
     ]
    },
    {
     "name": "stderr",
     "output_type": "stream",
     "text": [
      "                                                                       \r"
     ]
    },
    {
     "name": "stdout",
     "output_type": "stream",
     "text": [
      "MoviePy - Done !\n",
      "MoviePy - video ready SniffingSnippetsIsabelle/2638_snippet_26.mp4\n",
      "MoviePy - Building video SniffingSnippetsIsabelle/2638_snippet_27.mp4.\n",
      "MoviePy - Writing video SniffingSnippetsIsabelle/2638_snippet_27.mp4\n",
      "\n"
     ]
    },
    {
     "name": "stderr",
     "output_type": "stream",
     "text": [
      "                                                            "
     ]
    },
    {
     "name": "stdout",
     "output_type": "stream",
     "text": [
      "MoviePy - Done !\n",
      "MoviePy - video ready SniffingSnippetsIsabelle/2638_snippet_27.mp4\n"
     ]
    },
    {
     "name": "stderr",
     "output_type": "stream",
     "text": [
      "\r"
     ]
    },
    {
     "name": "stdout",
     "output_type": "stream",
     "text": [
      "MoviePy - Building video SniffingSnippetsIsabelle/2638_snippet_28.mp4.\n",
      "MoviePy - Writing video SniffingSnippetsIsabelle/2638_snippet_28.mp4\n",
      "\n"
     ]
    },
    {
     "name": "stderr",
     "output_type": "stream",
     "text": [
      "                                                                       \r"
     ]
    },
    {
     "name": "stdout",
     "output_type": "stream",
     "text": [
      "MoviePy - Done !\n",
      "MoviePy - video ready SniffingSnippetsIsabelle/2638_snippet_28.mp4\n",
      "MoviePy - Building video SniffingSnippetsIsabelle/2638_snippet_29.mp4.\n",
      "MoviePy - Writing video SniffingSnippetsIsabelle/2638_snippet_29.mp4\n",
      "\n"
     ]
    },
    {
     "name": "stderr",
     "output_type": "stream",
     "text": [
      "                                                            \r"
     ]
    },
    {
     "name": "stdout",
     "output_type": "stream",
     "text": [
      "MoviePy - Done !\n",
      "MoviePy - video ready SniffingSnippetsIsabelle/2638_snippet_29.mp4\n",
      "MoviePy - Building video SniffingSnippetsIsabelle/2638_snippet_30.mp4.\n",
      "MoviePy - Writing video SniffingSnippetsIsabelle/2638_snippet_30.mp4\n",
      "\n"
     ]
    },
    {
     "name": "stderr",
     "output_type": "stream",
     "text": [
      "                                                            "
     ]
    },
    {
     "name": "stdout",
     "output_type": "stream",
     "text": [
      "MoviePy - Done !\n",
      "MoviePy - video ready SniffingSnippetsIsabelle/2638_snippet_30.mp4\n"
     ]
    },
    {
     "name": "stderr",
     "output_type": "stream",
     "text": [
      "\r"
     ]
    },
    {
     "name": "stdout",
     "output_type": "stream",
     "text": [
      "MoviePy - Building video SniffingSnippetsIsabelle/2638_snippet_31.mp4.\n",
      "MoviePy - Writing video SniffingSnippetsIsabelle/2638_snippet_31.mp4\n",
      "\n"
     ]
    },
    {
     "name": "stderr",
     "output_type": "stream",
     "text": [
      "                                                                       \r"
     ]
    },
    {
     "name": "stdout",
     "output_type": "stream",
     "text": [
      "MoviePy - Done !\n",
      "MoviePy - video ready SniffingSnippetsIsabelle/2638_snippet_31.mp4\n",
      "MoviePy - Building video SniffingSnippetsIsabelle/2638_snippet_32.mp4.\n",
      "MoviePy - Writing video SniffingSnippetsIsabelle/2638_snippet_32.mp4\n",
      "\n"
     ]
    },
    {
     "name": "stderr",
     "output_type": "stream",
     "text": [
      "                                                            "
     ]
    },
    {
     "name": "stdout",
     "output_type": "stream",
     "text": [
      "MoviePy - Done !\n",
      "MoviePy - video ready SniffingSnippetsIsabelle/2638_snippet_32.mp4\n"
     ]
    },
    {
     "name": "stderr",
     "output_type": "stream",
     "text": [
      "\r"
     ]
    },
    {
     "name": "stdout",
     "output_type": "stream",
     "text": [
      "MoviePy - Building video SniffingSnippetsIsabelle/2638_snippet_33.mp4.\n",
      "MoviePy - Writing video SniffingSnippetsIsabelle/2638_snippet_33.mp4\n",
      "\n"
     ]
    },
    {
     "name": "stderr",
     "output_type": "stream",
     "text": [
      "                                             "
     ]
    },
    {
     "name": "stdout",
     "output_type": "stream",
     "text": [
      "MoviePy - Done !\n",
      "MoviePy - video ready SniffingSnippetsIsabelle/2638_snippet_33.mp4\n"
     ]
    },
    {
     "name": "stderr",
     "output_type": "stream",
     "text": [
      "\r"
     ]
    },
    {
     "name": "stdout",
     "output_type": "stream",
     "text": [
      "MoviePy - Building video SniffingSnippetsIsabelle/2638_snippet_34.mp4.\n",
      "MoviePy - Writing video SniffingSnippetsIsabelle/2638_snippet_34.mp4\n",
      "\n"
     ]
    },
    {
     "name": "stderr",
     "output_type": "stream",
     "text": [
      "                                                            "
     ]
    },
    {
     "name": "stdout",
     "output_type": "stream",
     "text": [
      "MoviePy - Done !\n",
      "MoviePy - video ready SniffingSnippetsIsabelle/2638_snippet_34.mp4\n"
     ]
    },
    {
     "name": "stderr",
     "output_type": "stream",
     "text": [
      "\r"
     ]
    },
    {
     "name": "stdout",
     "output_type": "stream",
     "text": [
      "MoviePy - Building video SniffingSnippetsIsabelle/2638_snippet_35.mp4.\n",
      "MoviePy - Writing video SniffingSnippetsIsabelle/2638_snippet_35.mp4\n",
      "\n"
     ]
    },
    {
     "name": "stderr",
     "output_type": "stream",
     "text": [
      "                                                            "
     ]
    },
    {
     "name": "stdout",
     "output_type": "stream",
     "text": [
      "MoviePy - Done !\n",
      "MoviePy - video ready SniffingSnippetsIsabelle/2638_snippet_35.mp4\n"
     ]
    },
    {
     "name": "stderr",
     "output_type": "stream",
     "text": [
      "\r"
     ]
    },
    {
     "name": "stdout",
     "output_type": "stream",
     "text": [
      "MoviePy - Building video SniffingSnippetsIsabelle/2638_snippet_36.mp4.\n",
      "MoviePy - Writing video SniffingSnippetsIsabelle/2638_snippet_36.mp4\n",
      "\n"
     ]
    },
    {
     "name": "stderr",
     "output_type": "stream",
     "text": [
      "                                             "
     ]
    },
    {
     "name": "stdout",
     "output_type": "stream",
     "text": [
      "MoviePy - Done !\n",
      "MoviePy - video ready SniffingSnippetsIsabelle/2638_snippet_36.mp4\n"
     ]
    },
    {
     "name": "stderr",
     "output_type": "stream",
     "text": [
      "\r"
     ]
    },
    {
     "name": "stdout",
     "output_type": "stream",
     "text": [
      "MoviePy - Building video SniffingSnippetsIsabelle/2638_snippet_37.mp4.\n",
      "MoviePy - Writing video SniffingSnippetsIsabelle/2638_snippet_37.mp4\n",
      "\n"
     ]
    },
    {
     "name": "stderr",
     "output_type": "stream",
     "text": [
      "                                                            "
     ]
    },
    {
     "name": "stdout",
     "output_type": "stream",
     "text": [
      "MoviePy - Done !\n",
      "MoviePy - video ready SniffingSnippetsIsabelle/2638_snippet_37.mp4\n"
     ]
    },
    {
     "name": "stderr",
     "output_type": "stream",
     "text": [
      "\r"
     ]
    },
    {
     "name": "stdout",
     "output_type": "stream",
     "text": [
      "MoviePy - Building video SniffingSnippetsIsabelle/2638_snippet_38.mp4.\n",
      "MoviePy - Writing video SniffingSnippetsIsabelle/2638_snippet_38.mp4\n",
      "\n"
     ]
    },
    {
     "name": "stderr",
     "output_type": "stream",
     "text": [
      "                                                            \r"
     ]
    },
    {
     "name": "stdout",
     "output_type": "stream",
     "text": [
      "MoviePy - Done !\n",
      "MoviePy - video ready SniffingSnippetsIsabelle/2638_snippet_38.mp4\n",
      "MoviePy - Building video SniffingSnippetsIsabelle/2638_snippet_39.mp4.\n",
      "MoviePy - Writing video SniffingSnippetsIsabelle/2638_snippet_39.mp4\n",
      "\n"
     ]
    },
    {
     "name": "stderr",
     "output_type": "stream",
     "text": [
      "                                                                      \r"
     ]
    },
    {
     "name": "stdout",
     "output_type": "stream",
     "text": [
      "MoviePy - Done !\n",
      "MoviePy - video ready SniffingSnippetsIsabelle/2638_snippet_39.mp4\n",
      "MoviePy - Building video SniffingSnippetsIsabelle/2638_snippet_40.mp4.\n",
      "MoviePy - Writing video SniffingSnippetsIsabelle/2638_snippet_40.mp4\n",
      "\n"
     ]
    },
    {
     "name": "stderr",
     "output_type": "stream",
     "text": [
      "                                                                    \r"
     ]
    },
    {
     "name": "stdout",
     "output_type": "stream",
     "text": [
      "MoviePy - Done !\n",
      "MoviePy - video ready SniffingSnippetsIsabelle/2638_snippet_40.mp4\n",
      "MoviePy - Building video SniffingSnippetsIsabelle/2638_snippet_41.mp4.\n",
      "MoviePy - Writing video SniffingSnippetsIsabelle/2638_snippet_41.mp4\n",
      "\n"
     ]
    },
    {
     "name": "stderr",
     "output_type": "stream",
     "text": [
      "                                                             \r"
     ]
    },
    {
     "name": "stdout",
     "output_type": "stream",
     "text": [
      "MoviePy - Done !\n",
      "MoviePy - video ready SniffingSnippetsIsabelle/2638_snippet_41.mp4\n",
      "MoviePy - Building video SniffingSnippetsIsabelle/2638_snippet_42.mp4.\n",
      "MoviePy - Writing video SniffingSnippetsIsabelle/2638_snippet_42.mp4\n",
      "\n"
     ]
    },
    {
     "name": "stderr",
     "output_type": "stream",
     "text": [
      "                                                            "
     ]
    },
    {
     "name": "stdout",
     "output_type": "stream",
     "text": [
      "MoviePy - Done !\n",
      "MoviePy - video ready SniffingSnippetsIsabelle/2638_snippet_42.mp4\n"
     ]
    },
    {
     "name": "stderr",
     "output_type": "stream",
     "text": [
      "\r"
     ]
    },
    {
     "name": "stdout",
     "output_type": "stream",
     "text": [
      "MoviePy - Building video SniffingSnippetsIsabelle/2638_snippet_43.mp4.\n",
      "MoviePy - Writing video SniffingSnippetsIsabelle/2638_snippet_43.mp4\n",
      "\n"
     ]
    },
    {
     "name": "stderr",
     "output_type": "stream",
     "text": [
      "                                             "
     ]
    },
    {
     "name": "stdout",
     "output_type": "stream",
     "text": [
      "MoviePy - Done !\n",
      "MoviePy - video ready SniffingSnippetsIsabelle/2638_snippet_43.mp4\n"
     ]
    },
    {
     "name": "stderr",
     "output_type": "stream",
     "text": [
      "\r"
     ]
    },
    {
     "name": "stdout",
     "output_type": "stream",
     "text": [
      "MoviePy - Building video SniffingSnippetsIsabelle/2638_snippet_44.mp4.\n",
      "MoviePy - Writing video SniffingSnippetsIsabelle/2638_snippet_44.mp4\n",
      "\n"
     ]
    },
    {
     "name": "stderr",
     "output_type": "stream",
     "text": [
      "                                             "
     ]
    },
    {
     "name": "stdout",
     "output_type": "stream",
     "text": [
      "MoviePy - Done !\n",
      "MoviePy - video ready SniffingSnippetsIsabelle/2638_snippet_44.mp4\n"
     ]
    },
    {
     "name": "stderr",
     "output_type": "stream",
     "text": [
      "\r"
     ]
    },
    {
     "name": "stdout",
     "output_type": "stream",
     "text": [
      "MoviePy - Building video SniffingSnippetsIsabelle/2638_snippet_45.mp4.\n",
      "MoviePy - Writing video SniffingSnippetsIsabelle/2638_snippet_45.mp4\n",
      "\n"
     ]
    },
    {
     "name": "stderr",
     "output_type": "stream",
     "text": [
      "                                                            \r"
     ]
    },
    {
     "name": "stdout",
     "output_type": "stream",
     "text": [
      "MoviePy - Done !\n",
      "MoviePy - video ready SniffingSnippetsIsabelle/2638_snippet_45.mp4\n",
      "MoviePy - Building video SniffingSnippetsIsabelle/2638_snippet_46.mp4.\n",
      "MoviePy - Writing video SniffingSnippetsIsabelle/2638_snippet_46.mp4\n",
      "\n"
     ]
    },
    {
     "name": "stderr",
     "output_type": "stream",
     "text": [
      "                                                                     \r"
     ]
    },
    {
     "name": "stdout",
     "output_type": "stream",
     "text": [
      "MoviePy - Done !\n",
      "MoviePy - video ready SniffingSnippetsIsabelle/2638_snippet_46.mp4\n",
      "MoviePy - Building video SniffingSnippetsIsabelle/2638_snippet_47.mp4.\n",
      "MoviePy - Writing video SniffingSnippetsIsabelle/2638_snippet_47.mp4\n",
      "\n"
     ]
    },
    {
     "name": "stderr",
     "output_type": "stream",
     "text": [
      "                                                            \r"
     ]
    },
    {
     "name": "stdout",
     "output_type": "stream",
     "text": [
      "MoviePy - Done !\n",
      "MoviePy - video ready SniffingSnippetsIsabelle/2638_snippet_47.mp4\n",
      "MoviePy - Building video SniffingSnippetsIsabelle/2638_snippet_48.mp4.\n",
      "MoviePy - Writing video SniffingSnippetsIsabelle/2638_snippet_48.mp4\n",
      "\n"
     ]
    },
    {
     "name": "stderr",
     "output_type": "stream",
     "text": [
      "                                                            "
     ]
    },
    {
     "name": "stdout",
     "output_type": "stream",
     "text": [
      "MoviePy - Done !\n",
      "MoviePy - video ready SniffingSnippetsIsabelle/2638_snippet_48.mp4\n"
     ]
    },
    {
     "name": "stderr",
     "output_type": "stream",
     "text": [
      "\r"
     ]
    },
    {
     "name": "stdout",
     "output_type": "stream",
     "text": [
      "MoviePy - Building video SniffingSnippetsIsabelle/2638_snippet_49.mp4.\n",
      "MoviePy - Writing video SniffingSnippetsIsabelle/2638_snippet_49.mp4\n",
      "\n"
     ]
    },
    {
     "name": "stderr",
     "output_type": "stream",
     "text": [
      "                                             "
     ]
    },
    {
     "name": "stdout",
     "output_type": "stream",
     "text": [
      "MoviePy - Done !\n",
      "MoviePy - video ready SniffingSnippetsIsabelle/2638_snippet_49.mp4\n"
     ]
    },
    {
     "name": "stderr",
     "output_type": "stream",
     "text": [
      "\r"
     ]
    },
    {
     "name": "stdout",
     "output_type": "stream",
     "text": [
      "MoviePy - Building video SniffingSnippetsIsabelle/2638_snippet_50.mp4.\n",
      "MoviePy - Writing video SniffingSnippetsIsabelle/2638_snippet_50.mp4\n",
      "\n"
     ]
    },
    {
     "name": "stderr",
     "output_type": "stream",
     "text": [
      "                                                             \r"
     ]
    },
    {
     "name": "stdout",
     "output_type": "stream",
     "text": [
      "MoviePy - Done !\n",
      "MoviePy - video ready SniffingSnippetsIsabelle/2638_snippet_50.mp4\n",
      "MoviePy - Building video SniffingSnippetsIsabelle/2638_snippet_51.mp4.\n",
      "MoviePy - Writing video SniffingSnippetsIsabelle/2638_snippet_51.mp4\n",
      "\n"
     ]
    },
    {
     "name": "stderr",
     "output_type": "stream",
     "text": [
      "                                                            "
     ]
    },
    {
     "name": "stdout",
     "output_type": "stream",
     "text": [
      "MoviePy - Done !\n",
      "MoviePy - video ready SniffingSnippetsIsabelle/2638_snippet_51.mp4\n"
     ]
    },
    {
     "name": "stderr",
     "output_type": "stream",
     "text": [
      "\r"
     ]
    },
    {
     "name": "stdout",
     "output_type": "stream",
     "text": [
      "MoviePy - Building video SniffingSnippetsIsabelle/2638_snippet_52.mp4.\n",
      "MoviePy - Writing video SniffingSnippetsIsabelle/2638_snippet_52.mp4\n",
      "\n"
     ]
    },
    {
     "name": "stderr",
     "output_type": "stream",
     "text": [
      "                                                            "
     ]
    },
    {
     "name": "stdout",
     "output_type": "stream",
     "text": [
      "MoviePy - Done !\n",
      "MoviePy - video ready SniffingSnippetsIsabelle/2638_snippet_52.mp4\n"
     ]
    },
    {
     "name": "stderr",
     "output_type": "stream",
     "text": [
      "\r"
     ]
    },
    {
     "name": "stdout",
     "output_type": "stream",
     "text": [
      "MoviePy - Building video SniffingSnippetsIsabelle/2638_snippet_53.mp4.\n",
      "MoviePy - Writing video SniffingSnippetsIsabelle/2638_snippet_53.mp4\n",
      "\n"
     ]
    },
    {
     "name": "stderr",
     "output_type": "stream",
     "text": [
      "                                                            "
     ]
    },
    {
     "name": "stdout",
     "output_type": "stream",
     "text": [
      "MoviePy - Done !\n",
      "MoviePy - video ready SniffingSnippetsIsabelle/2638_snippet_53.mp4\n"
     ]
    },
    {
     "name": "stderr",
     "output_type": "stream",
     "text": [
      "\r"
     ]
    },
    {
     "name": "stdout",
     "output_type": "stream",
     "text": [
      "MoviePy - Building video SniffingSnippetsIsabelle/2638_snippet_54.mp4.\n",
      "MoviePy - Writing video SniffingSnippetsIsabelle/2638_snippet_54.mp4\n",
      "\n"
     ]
    },
    {
     "name": "stderr",
     "output_type": "stream",
     "text": [
      "                                                                       \r"
     ]
    },
    {
     "name": "stdout",
     "output_type": "stream",
     "text": [
      "MoviePy - Done !\n",
      "MoviePy - video ready SniffingSnippetsIsabelle/2638_snippet_54.mp4\n",
      "Video number: 2639\n",
      "Input video duration: 24.42 seconds\n",
      "\u001b[32m[05/27 21:59:17 d2.checkpoint.detection_checkpoint]: \u001b[0m[DetectionCheckpointer] Loading from ./output/model_final.pth ...\n"
     ]
    },
    {
     "name": "stderr",
     "output_type": "stream",
     "text": [
      "INFO:fvcore.common.checkpoint:[Checkpointer] Loading from ./output/model_final.pth ...\n"
     ]
    },
    {
     "name": "stdout",
     "output_type": "stream",
     "text": [
      "2639\n",
      "MoviePy - Building video SniffingSnippetsIsabelle/2639_snippet_0.mp4.\n",
      "MoviePy - Writing video SniffingSnippetsIsabelle/2639_snippet_0.mp4\n",
      "\n"
     ]
    },
    {
     "name": "stderr",
     "output_type": "stream",
     "text": [
      "                                                            "
     ]
    },
    {
     "name": "stdout",
     "output_type": "stream",
     "text": [
      "MoviePy - Done !\n",
      "MoviePy - video ready SniffingSnippetsIsabelle/2639_snippet_0.mp4\n"
     ]
    },
    {
     "name": "stderr",
     "output_type": "stream",
     "text": [
      "\r"
     ]
    },
    {
     "name": "stdout",
     "output_type": "stream",
     "text": [
      "MoviePy - Building video SniffingSnippetsIsabelle/2639_snippet_1.mp4.\n",
      "MoviePy - Writing video SniffingSnippetsIsabelle/2639_snippet_1.mp4\n",
      "\n"
     ]
    },
    {
     "name": "stderr",
     "output_type": "stream",
     "text": [
      "                                                                    \r"
     ]
    },
    {
     "name": "stdout",
     "output_type": "stream",
     "text": [
      "MoviePy - Done !\n",
      "MoviePy - video ready SniffingSnippetsIsabelle/2639_snippet_1.mp4\n",
      "MoviePy - Building video SniffingSnippetsIsabelle/2639_snippet_2.mp4.\n",
      "MoviePy - Writing video SniffingSnippetsIsabelle/2639_snippet_2.mp4\n",
      "\n"
     ]
    },
    {
     "name": "stderr",
     "output_type": "stream",
     "text": [
      "                                                            "
     ]
    },
    {
     "name": "stdout",
     "output_type": "stream",
     "text": [
      "MoviePy - Done !\n",
      "MoviePy - video ready SniffingSnippetsIsabelle/2639_snippet_2.mp4\n"
     ]
    },
    {
     "name": "stderr",
     "output_type": "stream",
     "text": [
      "\r"
     ]
    },
    {
     "name": "stdout",
     "output_type": "stream",
     "text": [
      "MoviePy - Building video SniffingSnippetsIsabelle/2639_snippet_3.mp4.\n",
      "MoviePy - Writing video SniffingSnippetsIsabelle/2639_snippet_3.mp4\n",
      "\n"
     ]
    },
    {
     "name": "stderr",
     "output_type": "stream",
     "text": [
      "                                                            "
     ]
    },
    {
     "name": "stdout",
     "output_type": "stream",
     "text": [
      "MoviePy - Done !\n",
      "MoviePy - video ready SniffingSnippetsIsabelle/2639_snippet_3.mp4\n"
     ]
    },
    {
     "name": "stderr",
     "output_type": "stream",
     "text": [
      "\r"
     ]
    },
    {
     "name": "stdout",
     "output_type": "stream",
     "text": [
      "MoviePy - Building video SniffingSnippetsIsabelle/2639_snippet_4.mp4.\n",
      "MoviePy - Writing video SniffingSnippetsIsabelle/2639_snippet_4.mp4\n",
      "\n"
     ]
    },
    {
     "name": "stderr",
     "output_type": "stream",
     "text": [
      "                                                             \r"
     ]
    },
    {
     "name": "stdout",
     "output_type": "stream",
     "text": [
      "MoviePy - Done !\n",
      "MoviePy - video ready SniffingSnippetsIsabelle/2639_snippet_4.mp4\n",
      "MoviePy - Building video SniffingSnippetsIsabelle/2639_snippet_5.mp4.\n",
      "MoviePy - Writing video SniffingSnippetsIsabelle/2639_snippet_5.mp4\n",
      "\n"
     ]
    },
    {
     "name": "stderr",
     "output_type": "stream",
     "text": [
      "                                                                       \r"
     ]
    },
    {
     "name": "stdout",
     "output_type": "stream",
     "text": [
      "MoviePy - Done !\n",
      "MoviePy - video ready SniffingSnippetsIsabelle/2639_snippet_5.mp4\n",
      "MoviePy - Building video SniffingSnippetsIsabelle/2639_snippet_6.mp4.\n",
      "MoviePy - Writing video SniffingSnippetsIsabelle/2639_snippet_6.mp4\n",
      "\n"
     ]
    },
    {
     "name": "stderr",
     "output_type": "stream",
     "text": [
      "                                             "
     ]
    },
    {
     "name": "stdout",
     "output_type": "stream",
     "text": [
      "MoviePy - Done !\n",
      "MoviePy - video ready SniffingSnippetsIsabelle/2639_snippet_6.mp4\n"
     ]
    },
    {
     "name": "stderr",
     "output_type": "stream",
     "text": [
      "\r"
     ]
    },
    {
     "name": "stdout",
     "output_type": "stream",
     "text": [
      "MoviePy - Building video SniffingSnippetsIsabelle/2639_snippet_7.mp4.\n",
      "MoviePy - Writing video SniffingSnippetsIsabelle/2639_snippet_7.mp4\n",
      "\n"
     ]
    },
    {
     "name": "stderr",
     "output_type": "stream",
     "text": [
      "                                                            "
     ]
    },
    {
     "name": "stdout",
     "output_type": "stream",
     "text": [
      "MoviePy - Done !\n",
      "MoviePy - video ready SniffingSnippetsIsabelle/2639_snippet_7.mp4\n"
     ]
    },
    {
     "name": "stderr",
     "output_type": "stream",
     "text": [
      "\r"
     ]
    },
    {
     "name": "stdout",
     "output_type": "stream",
     "text": [
      "MoviePy - Building video SniffingSnippetsIsabelle/2639_snippet_8.mp4.\n",
      "MoviePy - Writing video SniffingSnippetsIsabelle/2639_snippet_8.mp4\n",
      "\n"
     ]
    },
    {
     "name": "stderr",
     "output_type": "stream",
     "text": [
      "                                                                       \r"
     ]
    },
    {
     "name": "stdout",
     "output_type": "stream",
     "text": [
      "MoviePy - Done !\n",
      "MoviePy - video ready SniffingSnippetsIsabelle/2639_snippet_8.mp4\n",
      "MoviePy - Building video SniffingSnippetsIsabelle/2639_snippet_9.mp4.\n",
      "MoviePy - Writing video SniffingSnippetsIsabelle/2639_snippet_9.mp4\n",
      "\n"
     ]
    },
    {
     "name": "stderr",
     "output_type": "stream",
     "text": [
      "                                                            "
     ]
    },
    {
     "name": "stdout",
     "output_type": "stream",
     "text": [
      "MoviePy - Done !\n",
      "MoviePy - video ready SniffingSnippetsIsabelle/2639_snippet_9.mp4\n"
     ]
    },
    {
     "name": "stderr",
     "output_type": "stream",
     "text": [
      "\r"
     ]
    },
    {
     "name": "stdout",
     "output_type": "stream",
     "text": [
      "MoviePy - Building video SniffingSnippetsIsabelle/2639_snippet_10.mp4.\n",
      "MoviePy - Writing video SniffingSnippetsIsabelle/2639_snippet_10.mp4\n",
      "\n"
     ]
    },
    {
     "name": "stderr",
     "output_type": "stream",
     "text": [
      "                                                            "
     ]
    },
    {
     "name": "stdout",
     "output_type": "stream",
     "text": [
      "MoviePy - Done !\n",
      "MoviePy - video ready SniffingSnippetsIsabelle/2639_snippet_10.mp4\n"
     ]
    },
    {
     "name": "stderr",
     "output_type": "stream",
     "text": [
      "\r"
     ]
    },
    {
     "name": "stdout",
     "output_type": "stream",
     "text": [
      "MoviePy - Building video SniffingSnippetsIsabelle/2639_snippet_11.mp4.\n",
      "MoviePy - Writing video SniffingSnippetsIsabelle/2639_snippet_11.mp4\n",
      "\n"
     ]
    },
    {
     "name": "stderr",
     "output_type": "stream",
     "text": [
      "                                                            "
     ]
    },
    {
     "name": "stdout",
     "output_type": "stream",
     "text": [
      "MoviePy - Done !\n",
      "MoviePy - video ready SniffingSnippetsIsabelle/2639_snippet_11.mp4\n"
     ]
    },
    {
     "name": "stderr",
     "output_type": "stream",
     "text": [
      "\r"
     ]
    },
    {
     "name": "stdout",
     "output_type": "stream",
     "text": [
      "MoviePy - Building video SniffingSnippetsIsabelle/2639_snippet_12.mp4.\n",
      "MoviePy - Writing video SniffingSnippetsIsabelle/2639_snippet_12.mp4\n",
      "\n"
     ]
    },
    {
     "name": "stderr",
     "output_type": "stream",
     "text": [
      "                                                            "
     ]
    },
    {
     "name": "stdout",
     "output_type": "stream",
     "text": [
      "MoviePy - Done !\n",
      "MoviePy - video ready SniffingSnippetsIsabelle/2639_snippet_12.mp4\n"
     ]
    },
    {
     "name": "stderr",
     "output_type": "stream",
     "text": [
      "\r"
     ]
    },
    {
     "name": "stdout",
     "output_type": "stream",
     "text": [
      "MoviePy - Building video SniffingSnippetsIsabelle/2639_snippet_13.mp4.\n",
      "MoviePy - Writing video SniffingSnippetsIsabelle/2639_snippet_13.mp4\n",
      "\n"
     ]
    },
    {
     "name": "stderr",
     "output_type": "stream",
     "text": [
      "                                                            "
     ]
    },
    {
     "name": "stdout",
     "output_type": "stream",
     "text": [
      "MoviePy - Done !\n",
      "MoviePy - video ready SniffingSnippetsIsabelle/2639_snippet_13.mp4\n"
     ]
    },
    {
     "name": "stderr",
     "output_type": "stream",
     "text": [
      "\r"
     ]
    },
    {
     "name": "stdout",
     "output_type": "stream",
     "text": [
      "MoviePy - Building video SniffingSnippetsIsabelle/2639_snippet_14.mp4.\n",
      "MoviePy - Writing video SniffingSnippetsIsabelle/2639_snippet_14.mp4\n",
      "\n"
     ]
    },
    {
     "name": "stderr",
     "output_type": "stream",
     "text": [
      "                                                            "
     ]
    },
    {
     "name": "stdout",
     "output_type": "stream",
     "text": [
      "MoviePy - Done !\n",
      "MoviePy - video ready SniffingSnippetsIsabelle/2639_snippet_14.mp4\n"
     ]
    },
    {
     "name": "stderr",
     "output_type": "stream",
     "text": [
      "\r"
     ]
    },
    {
     "name": "stdout",
     "output_type": "stream",
     "text": [
      "MoviePy - Building video SniffingSnippetsIsabelle/2639_snippet_15.mp4.\n",
      "MoviePy - Writing video SniffingSnippetsIsabelle/2639_snippet_15.mp4\n",
      "\n"
     ]
    },
    {
     "name": "stderr",
     "output_type": "stream",
     "text": [
      "                                                             \r"
     ]
    },
    {
     "name": "stdout",
     "output_type": "stream",
     "text": [
      "MoviePy - Done !\n",
      "MoviePy - video ready SniffingSnippetsIsabelle/2639_snippet_15.mp4\n",
      "MoviePy - Building video SniffingSnippetsIsabelle/2639_snippet_16.mp4.\n",
      "MoviePy - Writing video SniffingSnippetsIsabelle/2639_snippet_16.mp4\n",
      "\n"
     ]
    },
    {
     "name": "stderr",
     "output_type": "stream",
     "text": [
      "                                             "
     ]
    },
    {
     "name": "stdout",
     "output_type": "stream",
     "text": [
      "MoviePy - Done !\n",
      "MoviePy - video ready SniffingSnippetsIsabelle/2639_snippet_16.mp4\n"
     ]
    },
    {
     "name": "stderr",
     "output_type": "stream",
     "text": [
      "\r"
     ]
    },
    {
     "name": "stdout",
     "output_type": "stream",
     "text": [
      "MoviePy - Building video SniffingSnippetsIsabelle/2639_snippet_17.mp4.\n",
      "MoviePy - Writing video SniffingSnippetsIsabelle/2639_snippet_17.mp4\n",
      "\n"
     ]
    },
    {
     "name": "stderr",
     "output_type": "stream",
     "text": [
      "                                                            "
     ]
    },
    {
     "name": "stdout",
     "output_type": "stream",
     "text": [
      "MoviePy - Done !\n",
      "MoviePy - video ready SniffingSnippetsIsabelle/2639_snippet_17.mp4\n"
     ]
    },
    {
     "name": "stderr",
     "output_type": "stream",
     "text": [
      "\r"
     ]
    },
    {
     "name": "stdout",
     "output_type": "stream",
     "text": [
      "MoviePy - Building video SniffingSnippetsIsabelle/2639_snippet_18.mp4.\n",
      "MoviePy - Writing video SniffingSnippetsIsabelle/2639_snippet_18.mp4\n",
      "\n"
     ]
    },
    {
     "name": "stderr",
     "output_type": "stream",
     "text": [
      "                                                                       \r"
     ]
    },
    {
     "name": "stdout",
     "output_type": "stream",
     "text": [
      "MoviePy - Done !\n",
      "MoviePy - video ready SniffingSnippetsIsabelle/2639_snippet_18.mp4\n",
      "MoviePy - Building video SniffingSnippetsIsabelle/2639_snippet_19.mp4.\n",
      "MoviePy - Writing video SniffingSnippetsIsabelle/2639_snippet_19.mp4\n",
      "\n"
     ]
    },
    {
     "name": "stderr",
     "output_type": "stream",
     "text": [
      "                                                            "
     ]
    },
    {
     "name": "stdout",
     "output_type": "stream",
     "text": [
      "MoviePy - Done !\n",
      "MoviePy - video ready SniffingSnippetsIsabelle/2639_snippet_19.mp4\n"
     ]
    },
    {
     "name": "stderr",
     "output_type": "stream",
     "text": [
      "\r"
     ]
    },
    {
     "name": "stdout",
     "output_type": "stream",
     "text": [
      "MoviePy - Building video SniffingSnippetsIsabelle/2639_snippet_20.mp4.\n",
      "MoviePy - Writing video SniffingSnippetsIsabelle/2639_snippet_20.mp4\n",
      "\n"
     ]
    },
    {
     "name": "stderr",
     "output_type": "stream",
     "text": [
      "                                                                      \r"
     ]
    },
    {
     "name": "stdout",
     "output_type": "stream",
     "text": [
      "MoviePy - Done !\n",
      "MoviePy - video ready SniffingSnippetsIsabelle/2639_snippet_20.mp4\n",
      "MoviePy - Building video SniffingSnippetsIsabelle/2639_snippet_21.mp4.\n",
      "MoviePy - Writing video SniffingSnippetsIsabelle/2639_snippet_21.mp4\n",
      "\n"
     ]
    },
    {
     "name": "stderr",
     "output_type": "stream",
     "text": [
      "                                                            "
     ]
    },
    {
     "name": "stdout",
     "output_type": "stream",
     "text": [
      "MoviePy - Done !\n",
      "MoviePy - video ready SniffingSnippetsIsabelle/2639_snippet_21.mp4\n"
     ]
    },
    {
     "name": "stderr",
     "output_type": "stream",
     "text": [
      "\r"
     ]
    },
    {
     "name": "stdout",
     "output_type": "stream",
     "text": [
      "MoviePy - Building video SniffingSnippetsIsabelle/2639_snippet_22.mp4.\n",
      "MoviePy - Writing video SniffingSnippetsIsabelle/2639_snippet_22.mp4\n",
      "\n"
     ]
    },
    {
     "name": "stderr",
     "output_type": "stream",
     "text": [
      "                                                                      \r"
     ]
    },
    {
     "name": "stdout",
     "output_type": "stream",
     "text": [
      "MoviePy - Done !\n",
      "MoviePy - video ready SniffingSnippetsIsabelle/2639_snippet_22.mp4\n",
      "MoviePy - Building video SniffingSnippetsIsabelle/2639_snippet_23.mp4.\n",
      "MoviePy - Writing video SniffingSnippetsIsabelle/2639_snippet_23.mp4\n",
      "\n"
     ]
    },
    {
     "name": "stderr",
     "output_type": "stream",
     "text": [
      "                                             "
     ]
    },
    {
     "name": "stdout",
     "output_type": "stream",
     "text": [
      "MoviePy - Done !\n",
      "MoviePy - video ready SniffingSnippetsIsabelle/2639_snippet_23.mp4\n"
     ]
    },
    {
     "name": "stderr",
     "output_type": "stream",
     "text": [
      "\r"
     ]
    },
    {
     "name": "stdout",
     "output_type": "stream",
     "text": [
      "MoviePy - Building video SniffingSnippetsIsabelle/2639_snippet_24.mp4.\n",
      "MoviePy - Writing video SniffingSnippetsIsabelle/2639_snippet_24.mp4\n",
      "\n"
     ]
    },
    {
     "name": "stderr",
     "output_type": "stream",
     "text": [
      "                                                                       \r"
     ]
    },
    {
     "name": "stdout",
     "output_type": "stream",
     "text": [
      "MoviePy - Done !\n",
      "MoviePy - video ready SniffingSnippetsIsabelle/2639_snippet_24.mp4\n",
      "MoviePy - Building video SniffingSnippetsIsabelle/2639_snippet_25.mp4.\n",
      "MoviePy - Writing video SniffingSnippetsIsabelle/2639_snippet_25.mp4\n",
      "\n"
     ]
    },
    {
     "name": "stderr",
     "output_type": "stream",
     "text": [
      "                                                                      \r"
     ]
    },
    {
     "name": "stdout",
     "output_type": "stream",
     "text": [
      "MoviePy - Done !\n",
      "MoviePy - video ready SniffingSnippetsIsabelle/2639_snippet_25.mp4\n",
      "MoviePy - Building video SniffingSnippetsIsabelle/2639_snippet_26.mp4.\n",
      "MoviePy - Writing video SniffingSnippetsIsabelle/2639_snippet_26.mp4\n",
      "\n"
     ]
    },
    {
     "name": "stderr",
     "output_type": "stream",
     "text": [
      "                                                                       \r"
     ]
    },
    {
     "name": "stdout",
     "output_type": "stream",
     "text": [
      "MoviePy - Done !\n",
      "MoviePy - video ready SniffingSnippetsIsabelle/2639_snippet_26.mp4\n",
      "MoviePy - Building video SniffingSnippetsIsabelle/2639_snippet_27.mp4.\n",
      "MoviePy - Writing video SniffingSnippetsIsabelle/2639_snippet_27.mp4\n",
      "\n"
     ]
    },
    {
     "name": "stderr",
     "output_type": "stream",
     "text": [
      "                                                            "
     ]
    },
    {
     "name": "stdout",
     "output_type": "stream",
     "text": [
      "MoviePy - Done !\n",
      "MoviePy - video ready SniffingSnippetsIsabelle/2639_snippet_27.mp4\n"
     ]
    },
    {
     "name": "stderr",
     "output_type": "stream",
     "text": [
      "\r"
     ]
    },
    {
     "name": "stdout",
     "output_type": "stream",
     "text": [
      "MoviePy - Building video SniffingSnippetsIsabelle/2639_snippet_28.mp4.\n",
      "MoviePy - Writing video SniffingSnippetsIsabelle/2639_snippet_28.mp4\n",
      "\n"
     ]
    },
    {
     "name": "stderr",
     "output_type": "stream",
     "text": [
      "                                             "
     ]
    },
    {
     "name": "stdout",
     "output_type": "stream",
     "text": [
      "MoviePy - Done !\n",
      "MoviePy - video ready SniffingSnippetsIsabelle/2639_snippet_28.mp4\n"
     ]
    },
    {
     "name": "stderr",
     "output_type": "stream",
     "text": [
      "\r"
     ]
    },
    {
     "name": "stdout",
     "output_type": "stream",
     "text": [
      "MoviePy - Building video SniffingSnippetsIsabelle/2639_snippet_29.mp4.\n",
      "MoviePy - Writing video SniffingSnippetsIsabelle/2639_snippet_29.mp4\n",
      "\n"
     ]
    },
    {
     "name": "stderr",
     "output_type": "stream",
     "text": [
      "                                                            \r"
     ]
    },
    {
     "name": "stdout",
     "output_type": "stream",
     "text": [
      "MoviePy - Done !\n",
      "MoviePy - video ready SniffingSnippetsIsabelle/2639_snippet_29.mp4\n",
      "MoviePy - Building video SniffingSnippetsIsabelle/2639_snippet_30.mp4.\n",
      "MoviePy - Writing video SniffingSnippetsIsabelle/2639_snippet_30.mp4\n",
      "\n"
     ]
    },
    {
     "name": "stderr",
     "output_type": "stream",
     "text": [
      "                                                            "
     ]
    },
    {
     "name": "stdout",
     "output_type": "stream",
     "text": [
      "MoviePy - Done !\n",
      "MoviePy - video ready SniffingSnippetsIsabelle/2639_snippet_30.mp4\n"
     ]
    },
    {
     "name": "stderr",
     "output_type": "stream",
     "text": [
      "\r"
     ]
    },
    {
     "name": "stdout",
     "output_type": "stream",
     "text": [
      "MoviePy - Building video SniffingSnippetsIsabelle/2639_snippet_31.mp4.\n",
      "MoviePy - Writing video SniffingSnippetsIsabelle/2639_snippet_31.mp4\n",
      "\n"
     ]
    },
    {
     "name": "stderr",
     "output_type": "stream",
     "text": [
      "                                             "
     ]
    },
    {
     "name": "stdout",
     "output_type": "stream",
     "text": [
      "MoviePy - Done !\n",
      "MoviePy - video ready SniffingSnippetsIsabelle/2639_snippet_31.mp4\n"
     ]
    },
    {
     "name": "stderr",
     "output_type": "stream",
     "text": [
      "\r"
     ]
    },
    {
     "name": "stdout",
     "output_type": "stream",
     "text": [
      "MoviePy - Building video SniffingSnippetsIsabelle/2639_snippet_32.mp4.\n",
      "MoviePy - Writing video SniffingSnippetsIsabelle/2639_snippet_32.mp4\n",
      "\n"
     ]
    },
    {
     "name": "stderr",
     "output_type": "stream",
     "text": [
      "                                                            "
     ]
    },
    {
     "name": "stdout",
     "output_type": "stream",
     "text": [
      "MoviePy - Done !\n",
      "MoviePy - video ready SniffingSnippetsIsabelle/2639_snippet_32.mp4\n"
     ]
    },
    {
     "name": "stderr",
     "output_type": "stream",
     "text": [
      "\r"
     ]
    },
    {
     "name": "stdout",
     "output_type": "stream",
     "text": [
      "MoviePy - Building video SniffingSnippetsIsabelle/2639_snippet_33.mp4.\n",
      "MoviePy - Writing video SniffingSnippetsIsabelle/2639_snippet_33.mp4\n",
      "\n"
     ]
    },
    {
     "name": "stderr",
     "output_type": "stream",
     "text": [
      "                                             "
     ]
    },
    {
     "name": "stdout",
     "output_type": "stream",
     "text": [
      "MoviePy - Done !\n",
      "MoviePy - video ready SniffingSnippetsIsabelle/2639_snippet_33.mp4\n"
     ]
    },
    {
     "name": "stderr",
     "output_type": "stream",
     "text": [
      "\r"
     ]
    },
    {
     "name": "stdout",
     "output_type": "stream",
     "text": [
      "MoviePy - Building video SniffingSnippetsIsabelle/2639_snippet_34.mp4.\n",
      "MoviePy - Writing video SniffingSnippetsIsabelle/2639_snippet_34.mp4\n",
      "\n"
     ]
    },
    {
     "name": "stderr",
     "output_type": "stream",
     "text": [
      "                                                            "
     ]
    },
    {
     "name": "stdout",
     "output_type": "stream",
     "text": [
      "MoviePy - Done !\n",
      "MoviePy - video ready SniffingSnippetsIsabelle/2639_snippet_34.mp4\n"
     ]
    },
    {
     "name": "stderr",
     "output_type": "stream",
     "text": [
      "\r"
     ]
    },
    {
     "name": "stdout",
     "output_type": "stream",
     "text": [
      "MoviePy - Building video SniffingSnippetsIsabelle/2639_snippet_35.mp4.\n",
      "MoviePy - Writing video SniffingSnippetsIsabelle/2639_snippet_35.mp4\n",
      "\n"
     ]
    },
    {
     "name": "stderr",
     "output_type": "stream",
     "text": [
      "                                             "
     ]
    },
    {
     "name": "stdout",
     "output_type": "stream",
     "text": [
      "MoviePy - Done !\n",
      "MoviePy - video ready SniffingSnippetsIsabelle/2639_snippet_35.mp4\n"
     ]
    },
    {
     "name": "stderr",
     "output_type": "stream",
     "text": [
      "\r"
     ]
    },
    {
     "name": "stdout",
     "output_type": "stream",
     "text": [
      "MoviePy - Building video SniffingSnippetsIsabelle/2639_snippet_36.mp4.\n",
      "MoviePy - Writing video SniffingSnippetsIsabelle/2639_snippet_36.mp4\n",
      "\n"
     ]
    },
    {
     "name": "stderr",
     "output_type": "stream",
     "text": [
      "                                                                     \r"
     ]
    },
    {
     "name": "stdout",
     "output_type": "stream",
     "text": [
      "MoviePy - Done !\n",
      "MoviePy - video ready SniffingSnippetsIsabelle/2639_snippet_36.mp4\n",
      "MoviePy - Building video SniffingSnippetsIsabelle/2639_snippet_37.mp4.\n",
      "MoviePy - Writing video SniffingSnippetsIsabelle/2639_snippet_37.mp4\n",
      "\n"
     ]
    },
    {
     "name": "stderr",
     "output_type": "stream",
     "text": [
      "                                                                     \r"
     ]
    },
    {
     "name": "stdout",
     "output_type": "stream",
     "text": [
      "MoviePy - Done !\n",
      "MoviePy - video ready SniffingSnippetsIsabelle/2639_snippet_37.mp4\n",
      "MoviePy - Building video SniffingSnippetsIsabelle/2639_snippet_38.mp4.\n",
      "MoviePy - Writing video SniffingSnippetsIsabelle/2639_snippet_38.mp4\n",
      "\n"
     ]
    },
    {
     "name": "stderr",
     "output_type": "stream",
     "text": [
      "                                                                     \r"
     ]
    },
    {
     "name": "stdout",
     "output_type": "stream",
     "text": [
      "MoviePy - Done !\n",
      "MoviePy - video ready SniffingSnippetsIsabelle/2639_snippet_38.mp4\n",
      "MoviePy - Building video SniffingSnippetsIsabelle/2639_snippet_39.mp4.\n",
      "MoviePy - Writing video SniffingSnippetsIsabelle/2639_snippet_39.mp4\n",
      "\n"
     ]
    },
    {
     "name": "stderr",
     "output_type": "stream",
     "text": [
      "                                                                       \r"
     ]
    },
    {
     "name": "stdout",
     "output_type": "stream",
     "text": [
      "MoviePy - Done !\n",
      "MoviePy - video ready SniffingSnippetsIsabelle/2639_snippet_39.mp4\n",
      "MoviePy - Building video SniffingSnippetsIsabelle/2639_snippet_40.mp4.\n",
      "MoviePy - Writing video SniffingSnippetsIsabelle/2639_snippet_40.mp4\n",
      "\n"
     ]
    },
    {
     "name": "stderr",
     "output_type": "stream",
     "text": [
      "                                                                       \r"
     ]
    },
    {
     "name": "stdout",
     "output_type": "stream",
     "text": [
      "MoviePy - Done !\n",
      "MoviePy - video ready SniffingSnippetsIsabelle/2639_snippet_40.mp4\n",
      "MoviePy - Building video SniffingSnippetsIsabelle/2639_snippet_41.mp4.\n",
      "MoviePy - Writing video SniffingSnippetsIsabelle/2639_snippet_41.mp4\n",
      "\n"
     ]
    },
    {
     "name": "stderr",
     "output_type": "stream",
     "text": [
      "                                             "
     ]
    },
    {
     "name": "stdout",
     "output_type": "stream",
     "text": [
      "MoviePy - Done !\n",
      "MoviePy - video ready SniffingSnippetsIsabelle/2639_snippet_41.mp4\n"
     ]
    },
    {
     "name": "stderr",
     "output_type": "stream",
     "text": [
      "\r"
     ]
    },
    {
     "name": "stdout",
     "output_type": "stream",
     "text": [
      "MoviePy - Building video SniffingSnippetsIsabelle/2639_snippet_42.mp4.\n",
      "MoviePy - Writing video SniffingSnippetsIsabelle/2639_snippet_42.mp4\n",
      "\n"
     ]
    },
    {
     "name": "stderr",
     "output_type": "stream",
     "text": [
      "                                                            \r"
     ]
    },
    {
     "name": "stdout",
     "output_type": "stream",
     "text": [
      "MoviePy - Done !\n",
      "MoviePy - video ready SniffingSnippetsIsabelle/2639_snippet_42.mp4\n",
      "MoviePy - Building video SniffingSnippetsIsabelle/2639_snippet_43.mp4.\n",
      "MoviePy - Writing video SniffingSnippetsIsabelle/2639_snippet_43.mp4\n",
      "\n"
     ]
    },
    {
     "name": "stderr",
     "output_type": "stream",
     "text": [
      "                                             "
     ]
    },
    {
     "name": "stdout",
     "output_type": "stream",
     "text": [
      "MoviePy - Done !\n",
      "MoviePy - video ready SniffingSnippetsIsabelle/2639_snippet_43.mp4\n"
     ]
    },
    {
     "name": "stderr",
     "output_type": "stream",
     "text": [
      "\r"
     ]
    },
    {
     "name": "stdout",
     "output_type": "stream",
     "text": [
      "MoviePy - Building video SniffingSnippetsIsabelle/2639_snippet_44.mp4.\n",
      "MoviePy - Writing video SniffingSnippetsIsabelle/2639_snippet_44.mp4\n",
      "\n"
     ]
    },
    {
     "name": "stderr",
     "output_type": "stream",
     "text": [
      "                                             "
     ]
    },
    {
     "name": "stdout",
     "output_type": "stream",
     "text": [
      "MoviePy - Done !\n",
      "MoviePy - video ready SniffingSnippetsIsabelle/2639_snippet_44.mp4\n"
     ]
    },
    {
     "name": "stderr",
     "output_type": "stream",
     "text": [
      "\r"
     ]
    },
    {
     "name": "stdout",
     "output_type": "stream",
     "text": [
      "MoviePy - Building video SniffingSnippetsIsabelle/2639_snippet_45.mp4.\n",
      "MoviePy - Writing video SniffingSnippetsIsabelle/2639_snippet_45.mp4\n",
      "\n"
     ]
    },
    {
     "name": "stderr",
     "output_type": "stream",
     "text": [
      "                                                                       \r"
     ]
    },
    {
     "name": "stdout",
     "output_type": "stream",
     "text": [
      "MoviePy - Done !\n",
      "MoviePy - video ready SniffingSnippetsIsabelle/2639_snippet_45.mp4\n",
      "MoviePy - Building video SniffingSnippetsIsabelle/2639_snippet_46.mp4.\n",
      "MoviePy - Writing video SniffingSnippetsIsabelle/2639_snippet_46.mp4\n",
      "\n"
     ]
    },
    {
     "name": "stderr",
     "output_type": "stream",
     "text": [
      "                                                            \r"
     ]
    },
    {
     "name": "stdout",
     "output_type": "stream",
     "text": [
      "MoviePy - Done !\n",
      "MoviePy - video ready SniffingSnippetsIsabelle/2639_snippet_46.mp4\n",
      "MoviePy - Building video SniffingSnippetsIsabelle/2639_snippet_47.mp4.\n",
      "MoviePy - Writing video SniffingSnippetsIsabelle/2639_snippet_47.mp4\n",
      "\n"
     ]
    },
    {
     "name": "stderr",
     "output_type": "stream",
     "text": [
      "                                                             \r"
     ]
    },
    {
     "name": "stdout",
     "output_type": "stream",
     "text": [
      "MoviePy - Done !\n",
      "MoviePy - video ready SniffingSnippetsIsabelle/2639_snippet_47.mp4\n",
      "Video number: 2640\n",
      "Input video duration: 19.25 seconds\n",
      "\u001b[32m[05/27 22:01:53 d2.checkpoint.detection_checkpoint]: \u001b[0m[DetectionCheckpointer] Loading from ./output/model_final.pth ...\n"
     ]
    },
    {
     "name": "stderr",
     "output_type": "stream",
     "text": [
      "INFO:fvcore.common.checkpoint:[Checkpointer] Loading from ./output/model_final.pth ...\n"
     ]
    },
    {
     "name": "stdout",
     "output_type": "stream",
     "text": [
      "2640\n",
      "MoviePy - Building video SniffingSnippetsIsabelle/2640_snippet_0.mp4.\n",
      "MoviePy - Writing video SniffingSnippetsIsabelle/2640_snippet_0.mp4\n",
      "\n"
     ]
    },
    {
     "name": "stderr",
     "output_type": "stream",
     "text": [
      "                                                            "
     ]
    },
    {
     "name": "stdout",
     "output_type": "stream",
     "text": [
      "MoviePy - Done !\n",
      "MoviePy - video ready SniffingSnippetsIsabelle/2640_snippet_0.mp4\n"
     ]
    },
    {
     "name": "stderr",
     "output_type": "stream",
     "text": [
      "\r"
     ]
    },
    {
     "name": "stdout",
     "output_type": "stream",
     "text": [
      "MoviePy - Building video SniffingSnippetsIsabelle/2640_snippet_1.mp4.\n",
      "MoviePy - Writing video SniffingSnippetsIsabelle/2640_snippet_1.mp4\n",
      "\n"
     ]
    },
    {
     "name": "stderr",
     "output_type": "stream",
     "text": [
      "                                                             \r"
     ]
    },
    {
     "name": "stdout",
     "output_type": "stream",
     "text": [
      "MoviePy - Done !\n",
      "MoviePy - video ready SniffingSnippetsIsabelle/2640_snippet_1.mp4\n",
      "MoviePy - Building video SniffingSnippetsIsabelle/2640_snippet_2.mp4.\n",
      "MoviePy - Writing video SniffingSnippetsIsabelle/2640_snippet_2.mp4\n",
      "\n"
     ]
    },
    {
     "name": "stderr",
     "output_type": "stream",
     "text": [
      "                                                             \r"
     ]
    },
    {
     "name": "stdout",
     "output_type": "stream",
     "text": [
      "MoviePy - Done !\n",
      "MoviePy - video ready SniffingSnippetsIsabelle/2640_snippet_2.mp4\n",
      "MoviePy - Building video SniffingSnippetsIsabelle/2640_snippet_3.mp4.\n",
      "MoviePy - Writing video SniffingSnippetsIsabelle/2640_snippet_3.mp4\n",
      "\n"
     ]
    },
    {
     "name": "stderr",
     "output_type": "stream",
     "text": [
      "                                                            "
     ]
    },
    {
     "name": "stdout",
     "output_type": "stream",
     "text": [
      "MoviePy - Done !\n",
      "MoviePy - video ready SniffingSnippetsIsabelle/2640_snippet_3.mp4\n"
     ]
    },
    {
     "name": "stderr",
     "output_type": "stream",
     "text": [
      "\r"
     ]
    },
    {
     "name": "stdout",
     "output_type": "stream",
     "text": [
      "MoviePy - Building video SniffingSnippetsIsabelle/2640_snippet_4.mp4.\n",
      "MoviePy - Writing video SniffingSnippetsIsabelle/2640_snippet_4.mp4\n",
      "\n"
     ]
    },
    {
     "name": "stderr",
     "output_type": "stream",
     "text": [
      "                                                            "
     ]
    },
    {
     "name": "stdout",
     "output_type": "stream",
     "text": [
      "MoviePy - Done !\n",
      "MoviePy - video ready SniffingSnippetsIsabelle/2640_snippet_4.mp4\n"
     ]
    },
    {
     "name": "stderr",
     "output_type": "stream",
     "text": [
      "\r"
     ]
    },
    {
     "name": "stdout",
     "output_type": "stream",
     "text": [
      "MoviePy - Building video SniffingSnippetsIsabelle/2640_snippet_5.mp4.\n",
      "MoviePy - Writing video SniffingSnippetsIsabelle/2640_snippet_5.mp4\n",
      "\n"
     ]
    },
    {
     "name": "stderr",
     "output_type": "stream",
     "text": [
      "                                                             \r"
     ]
    },
    {
     "name": "stdout",
     "output_type": "stream",
     "text": [
      "MoviePy - Done !\n",
      "MoviePy - video ready SniffingSnippetsIsabelle/2640_snippet_5.mp4\n",
      "MoviePy - Building video SniffingSnippetsIsabelle/2640_snippet_6.mp4.\n",
      "MoviePy - Writing video SniffingSnippetsIsabelle/2640_snippet_6.mp4\n",
      "\n"
     ]
    },
    {
     "name": "stderr",
     "output_type": "stream",
     "text": [
      "                                                             \r"
     ]
    },
    {
     "name": "stdout",
     "output_type": "stream",
     "text": [
      "MoviePy - Done !\n",
      "MoviePy - video ready SniffingSnippetsIsabelle/2640_snippet_6.mp4\n",
      "MoviePy - Building video SniffingSnippetsIsabelle/2640_snippet_7.mp4.\n",
      "MoviePy - Writing video SniffingSnippetsIsabelle/2640_snippet_7.mp4\n",
      "\n"
     ]
    },
    {
     "name": "stderr",
     "output_type": "stream",
     "text": [
      "                                                             \r"
     ]
    },
    {
     "name": "stdout",
     "output_type": "stream",
     "text": [
      "MoviePy - Done !\n",
      "MoviePy - video ready SniffingSnippetsIsabelle/2640_snippet_7.mp4\n",
      "MoviePy - Building video SniffingSnippetsIsabelle/2640_snippet_8.mp4.\n",
      "MoviePy - Writing video SniffingSnippetsIsabelle/2640_snippet_8.mp4\n",
      "\n"
     ]
    },
    {
     "name": "stderr",
     "output_type": "stream",
     "text": [
      "                                             "
     ]
    },
    {
     "name": "stdout",
     "output_type": "stream",
     "text": [
      "MoviePy - Done !\n",
      "MoviePy - video ready SniffingSnippetsIsabelle/2640_snippet_8.mp4\n"
     ]
    },
    {
     "name": "stderr",
     "output_type": "stream",
     "text": [
      "\r"
     ]
    },
    {
     "name": "stdout",
     "output_type": "stream",
     "text": [
      "MoviePy - Building video SniffingSnippetsIsabelle/2640_snippet_9.mp4.\n",
      "MoviePy - Writing video SniffingSnippetsIsabelle/2640_snippet_9.mp4\n",
      "\n"
     ]
    },
    {
     "name": "stderr",
     "output_type": "stream",
     "text": [
      "                                                            "
     ]
    },
    {
     "name": "stdout",
     "output_type": "stream",
     "text": [
      "MoviePy - Done !\n",
      "MoviePy - video ready SniffingSnippetsIsabelle/2640_snippet_9.mp4\n"
     ]
    },
    {
     "name": "stderr",
     "output_type": "stream",
     "text": [
      "\r"
     ]
    },
    {
     "name": "stdout",
     "output_type": "stream",
     "text": [
      "MoviePy - Building video SniffingSnippetsIsabelle/2640_snippet_10.mp4.\n",
      "MoviePy - Writing video SniffingSnippetsIsabelle/2640_snippet_10.mp4\n",
      "\n"
     ]
    },
    {
     "name": "stderr",
     "output_type": "stream",
     "text": [
      "                                                            "
     ]
    },
    {
     "name": "stdout",
     "output_type": "stream",
     "text": [
      "MoviePy - Done !\n",
      "MoviePy - video ready SniffingSnippetsIsabelle/2640_snippet_10.mp4\n"
     ]
    },
    {
     "name": "stderr",
     "output_type": "stream",
     "text": [
      "\r"
     ]
    },
    {
     "name": "stdout",
     "output_type": "stream",
     "text": [
      "MoviePy - Building video SniffingSnippetsIsabelle/2640_snippet_11.mp4.\n",
      "MoviePy - Writing video SniffingSnippetsIsabelle/2640_snippet_11.mp4\n",
      "\n"
     ]
    },
    {
     "name": "stderr",
     "output_type": "stream",
     "text": [
      "                                                            "
     ]
    },
    {
     "name": "stdout",
     "output_type": "stream",
     "text": [
      "MoviePy - Done !\n",
      "MoviePy - video ready SniffingSnippetsIsabelle/2640_snippet_11.mp4\n"
     ]
    },
    {
     "name": "stderr",
     "output_type": "stream",
     "text": [
      "\r"
     ]
    },
    {
     "name": "stdout",
     "output_type": "stream",
     "text": [
      "MoviePy - Building video SniffingSnippetsIsabelle/2640_snippet_12.mp4.\n",
      "MoviePy - Writing video SniffingSnippetsIsabelle/2640_snippet_12.mp4\n",
      "\n"
     ]
    },
    {
     "name": "stderr",
     "output_type": "stream",
     "text": [
      "                                                             \r"
     ]
    },
    {
     "name": "stdout",
     "output_type": "stream",
     "text": [
      "MoviePy - Done !\n",
      "MoviePy - video ready SniffingSnippetsIsabelle/2640_snippet_12.mp4\n",
      "MoviePy - Building video SniffingSnippetsIsabelle/2640_snippet_13.mp4.\n",
      "MoviePy - Writing video SniffingSnippetsIsabelle/2640_snippet_13.mp4\n",
      "\n"
     ]
    },
    {
     "name": "stderr",
     "output_type": "stream",
     "text": [
      "                                             "
     ]
    },
    {
     "name": "stdout",
     "output_type": "stream",
     "text": [
      "MoviePy - Done !\n",
      "MoviePy - video ready SniffingSnippetsIsabelle/2640_snippet_13.mp4\n"
     ]
    },
    {
     "name": "stderr",
     "output_type": "stream",
     "text": [
      "\r"
     ]
    },
    {
     "name": "stdout",
     "output_type": "stream",
     "text": [
      "MoviePy - Building video SniffingSnippetsIsabelle/2640_snippet_14.mp4.\n",
      "MoviePy - Writing video SniffingSnippetsIsabelle/2640_snippet_14.mp4\n",
      "\n"
     ]
    },
    {
     "name": "stderr",
     "output_type": "stream",
     "text": [
      "                                                                       \r"
     ]
    },
    {
     "name": "stdout",
     "output_type": "stream",
     "text": [
      "MoviePy - Done !\n",
      "MoviePy - video ready SniffingSnippetsIsabelle/2640_snippet_14.mp4\n",
      "MoviePy - Building video SniffingSnippetsIsabelle/2640_snippet_15.mp4.\n",
      "MoviePy - Writing video SniffingSnippetsIsabelle/2640_snippet_15.mp4\n",
      "\n"
     ]
    },
    {
     "name": "stderr",
     "output_type": "stream",
     "text": [
      "                                                            "
     ]
    },
    {
     "name": "stdout",
     "output_type": "stream",
     "text": [
      "MoviePy - Done !\n",
      "MoviePy - video ready SniffingSnippetsIsabelle/2640_snippet_15.mp4\n"
     ]
    },
    {
     "name": "stderr",
     "output_type": "stream",
     "text": [
      "\r"
     ]
    },
    {
     "name": "stdout",
     "output_type": "stream",
     "text": [
      "MoviePy - Building video SniffingSnippetsIsabelle/2640_snippet_16.mp4.\n",
      "MoviePy - Writing video SniffingSnippetsIsabelle/2640_snippet_16.mp4\n",
      "\n"
     ]
    },
    {
     "name": "stderr",
     "output_type": "stream",
     "text": [
      "                                                            "
     ]
    },
    {
     "name": "stdout",
     "output_type": "stream",
     "text": [
      "MoviePy - Done !\n",
      "MoviePy - video ready SniffingSnippetsIsabelle/2640_snippet_16.mp4\n"
     ]
    },
    {
     "name": "stderr",
     "output_type": "stream",
     "text": [
      "\r"
     ]
    },
    {
     "name": "stdout",
     "output_type": "stream",
     "text": [
      "MoviePy - Building video SniffingSnippetsIsabelle/2640_snippet_17.mp4.\n",
      "MoviePy - Writing video SniffingSnippetsIsabelle/2640_snippet_17.mp4\n",
      "\n"
     ]
    },
    {
     "name": "stderr",
     "output_type": "stream",
     "text": [
      "                                                            "
     ]
    },
    {
     "name": "stdout",
     "output_type": "stream",
     "text": [
      "MoviePy - Done !\n",
      "MoviePy - video ready SniffingSnippetsIsabelle/2640_snippet_17.mp4\n"
     ]
    },
    {
     "name": "stderr",
     "output_type": "stream",
     "text": [
      "\r"
     ]
    },
    {
     "name": "stdout",
     "output_type": "stream",
     "text": [
      "MoviePy - Building video SniffingSnippetsIsabelle/2640_snippet_18.mp4.\n",
      "MoviePy - Writing video SniffingSnippetsIsabelle/2640_snippet_18.mp4\n",
      "\n"
     ]
    },
    {
     "name": "stderr",
     "output_type": "stream",
     "text": [
      "                                                            \r"
     ]
    },
    {
     "name": "stdout",
     "output_type": "stream",
     "text": [
      "MoviePy - Done !\n",
      "MoviePy - video ready SniffingSnippetsIsabelle/2640_snippet_18.mp4\n",
      "MoviePy - Building video SniffingSnippetsIsabelle/2640_snippet_19.mp4.\n",
      "MoviePy - Writing video SniffingSnippetsIsabelle/2640_snippet_19.mp4\n",
      "\n"
     ]
    },
    {
     "name": "stderr",
     "output_type": "stream",
     "text": [
      "                                                                       \r"
     ]
    },
    {
     "name": "stdout",
     "output_type": "stream",
     "text": [
      "MoviePy - Done !\n",
      "MoviePy - video ready SniffingSnippetsIsabelle/2640_snippet_19.mp4\n",
      "MoviePy - Building video SniffingSnippetsIsabelle/2640_snippet_20.mp4.\n",
      "MoviePy - Writing video SniffingSnippetsIsabelle/2640_snippet_20.mp4\n",
      "\n"
     ]
    },
    {
     "name": "stderr",
     "output_type": "stream",
     "text": [
      "                                                             \r"
     ]
    },
    {
     "name": "stdout",
     "output_type": "stream",
     "text": [
      "MoviePy - Done !\n",
      "MoviePy - video ready SniffingSnippetsIsabelle/2640_snippet_20.mp4\n",
      "MoviePy - Building video SniffingSnippetsIsabelle/2640_snippet_21.mp4.\n",
      "MoviePy - Writing video SniffingSnippetsIsabelle/2640_snippet_21.mp4\n",
      "\n"
     ]
    },
    {
     "name": "stderr",
     "output_type": "stream",
     "text": [
      "                                                                       \r"
     ]
    },
    {
     "name": "stdout",
     "output_type": "stream",
     "text": [
      "MoviePy - Done !\n",
      "MoviePy - video ready SniffingSnippetsIsabelle/2640_snippet_21.mp4\n",
      "MoviePy - Building video SniffingSnippetsIsabelle/2640_snippet_22.mp4.\n",
      "MoviePy - Writing video SniffingSnippetsIsabelle/2640_snippet_22.mp4\n",
      "\n"
     ]
    },
    {
     "name": "stderr",
     "output_type": "stream",
     "text": [
      "                                                                       \r"
     ]
    },
    {
     "name": "stdout",
     "output_type": "stream",
     "text": [
      "MoviePy - Done !\n",
      "MoviePy - video ready SniffingSnippetsIsabelle/2640_snippet_22.mp4\n",
      "MoviePy - Building video SniffingSnippetsIsabelle/2640_snippet_23.mp4.\n",
      "MoviePy - Writing video SniffingSnippetsIsabelle/2640_snippet_23.mp4\n",
      "\n"
     ]
    },
    {
     "name": "stderr",
     "output_type": "stream",
     "text": [
      "                                                            \r"
     ]
    },
    {
     "name": "stdout",
     "output_type": "stream",
     "text": [
      "MoviePy - Done !\n",
      "MoviePy - video ready SniffingSnippetsIsabelle/2640_snippet_23.mp4\n",
      "MoviePy - Building video SniffingSnippetsIsabelle/2640_snippet_24.mp4.\n",
      "MoviePy - Writing video SniffingSnippetsIsabelle/2640_snippet_24.mp4\n",
      "\n"
     ]
    },
    {
     "name": "stderr",
     "output_type": "stream",
     "text": [
      "                                                            "
     ]
    },
    {
     "name": "stdout",
     "output_type": "stream",
     "text": [
      "MoviePy - Done !\n",
      "MoviePy - video ready SniffingSnippetsIsabelle/2640_snippet_24.mp4\n"
     ]
    },
    {
     "name": "stderr",
     "output_type": "stream",
     "text": [
      "\r"
     ]
    },
    {
     "name": "stdout",
     "output_type": "stream",
     "text": [
      "MoviePy - Building video SniffingSnippetsIsabelle/2640_snippet_25.mp4.\n",
      "MoviePy - Writing video SniffingSnippetsIsabelle/2640_snippet_25.mp4\n",
      "\n"
     ]
    },
    {
     "name": "stderr",
     "output_type": "stream",
     "text": [
      "                                                            "
     ]
    },
    {
     "name": "stdout",
     "output_type": "stream",
     "text": [
      "MoviePy - Done !\n",
      "MoviePy - video ready SniffingSnippetsIsabelle/2640_snippet_25.mp4\n"
     ]
    },
    {
     "name": "stderr",
     "output_type": "stream",
     "text": [
      "\r"
     ]
    },
    {
     "name": "stdout",
     "output_type": "stream",
     "text": [
      "MoviePy - Building video SniffingSnippetsIsabelle/2640_snippet_26.mp4.\n",
      "MoviePy - Writing video SniffingSnippetsIsabelle/2640_snippet_26.mp4\n",
      "\n"
     ]
    },
    {
     "name": "stderr",
     "output_type": "stream",
     "text": [
      "                                                            "
     ]
    },
    {
     "name": "stdout",
     "output_type": "stream",
     "text": [
      "MoviePy - Done !\n",
      "MoviePy - video ready SniffingSnippetsIsabelle/2640_snippet_26.mp4\n"
     ]
    },
    {
     "name": "stderr",
     "output_type": "stream",
     "text": [
      "\r"
     ]
    },
    {
     "name": "stdout",
     "output_type": "stream",
     "text": [
      "MoviePy - Building video SniffingSnippetsIsabelle/2640_snippet_27.mp4.\n",
      "MoviePy - Writing video SniffingSnippetsIsabelle/2640_snippet_27.mp4\n",
      "\n"
     ]
    },
    {
     "name": "stderr",
     "output_type": "stream",
     "text": [
      "                                                            "
     ]
    },
    {
     "name": "stdout",
     "output_type": "stream",
     "text": [
      "MoviePy - Done !\n",
      "MoviePy - video ready SniffingSnippetsIsabelle/2640_snippet_27.mp4\n"
     ]
    },
    {
     "name": "stderr",
     "output_type": "stream",
     "text": [
      "\r"
     ]
    },
    {
     "name": "stdout",
     "output_type": "stream",
     "text": [
      "MoviePy - Building video SniffingSnippetsIsabelle/2640_snippet_28.mp4.\n",
      "MoviePy - Writing video SniffingSnippetsIsabelle/2640_snippet_28.mp4\n",
      "\n"
     ]
    },
    {
     "name": "stderr",
     "output_type": "stream",
     "text": [
      "                                             "
     ]
    },
    {
     "name": "stdout",
     "output_type": "stream",
     "text": [
      "MoviePy - Done !\n",
      "MoviePy - video ready SniffingSnippetsIsabelle/2640_snippet_28.mp4\n"
     ]
    },
    {
     "name": "stderr",
     "output_type": "stream",
     "text": [
      "\r"
     ]
    },
    {
     "name": "stdout",
     "output_type": "stream",
     "text": [
      "MoviePy - Building video SniffingSnippetsIsabelle/2640_snippet_29.mp4.\n",
      "MoviePy - Writing video SniffingSnippetsIsabelle/2640_snippet_29.mp4\n",
      "\n"
     ]
    },
    {
     "name": "stderr",
     "output_type": "stream",
     "text": [
      "                                             "
     ]
    },
    {
     "name": "stdout",
     "output_type": "stream",
     "text": [
      "MoviePy - Done !\n",
      "MoviePy - video ready SniffingSnippetsIsabelle/2640_snippet_29.mp4\n"
     ]
    },
    {
     "name": "stderr",
     "output_type": "stream",
     "text": [
      "\r"
     ]
    },
    {
     "name": "stdout",
     "output_type": "stream",
     "text": [
      "MoviePy - Building video SniffingSnippetsIsabelle/2640_snippet_30.mp4.\n",
      "MoviePy - Writing video SniffingSnippetsIsabelle/2640_snippet_30.mp4\n",
      "\n"
     ]
    },
    {
     "name": "stderr",
     "output_type": "stream",
     "text": [
      "                                                            "
     ]
    },
    {
     "name": "stdout",
     "output_type": "stream",
     "text": [
      "MoviePy - Done !\n",
      "MoviePy - video ready SniffingSnippetsIsabelle/2640_snippet_30.mp4\n"
     ]
    },
    {
     "name": "stderr",
     "output_type": "stream",
     "text": [
      "\r"
     ]
    },
    {
     "name": "stdout",
     "output_type": "stream",
     "text": [
      "MoviePy - Building video SniffingSnippetsIsabelle/2640_snippet_31.mp4.\n",
      "MoviePy - Writing video SniffingSnippetsIsabelle/2640_snippet_31.mp4\n",
      "\n"
     ]
    },
    {
     "name": "stderr",
     "output_type": "stream",
     "text": [
      "                                                            "
     ]
    },
    {
     "name": "stdout",
     "output_type": "stream",
     "text": [
      "MoviePy - Done !\n",
      "MoviePy - video ready SniffingSnippetsIsabelle/2640_snippet_31.mp4\n"
     ]
    },
    {
     "name": "stderr",
     "output_type": "stream",
     "text": [
      "\r"
     ]
    },
    {
     "name": "stdout",
     "output_type": "stream",
     "text": [
      "MoviePy - Building video SniffingSnippetsIsabelle/2640_snippet_32.mp4.\n",
      "MoviePy - Writing video SniffingSnippetsIsabelle/2640_snippet_32.mp4\n",
      "\n"
     ]
    },
    {
     "name": "stderr",
     "output_type": "stream",
     "text": [
      "                                             "
     ]
    },
    {
     "name": "stdout",
     "output_type": "stream",
     "text": [
      "MoviePy - Done !\n",
      "MoviePy - video ready SniffingSnippetsIsabelle/2640_snippet_32.mp4\n"
     ]
    },
    {
     "name": "stderr",
     "output_type": "stream",
     "text": [
      "\r"
     ]
    },
    {
     "name": "stdout",
     "output_type": "stream",
     "text": [
      "MoviePy - Building video SniffingSnippetsIsabelle/2640_snippet_33.mp4.\n",
      "MoviePy - Writing video SniffingSnippetsIsabelle/2640_snippet_33.mp4\n",
      "\n"
     ]
    },
    {
     "name": "stderr",
     "output_type": "stream",
     "text": [
      "                                                            "
     ]
    },
    {
     "name": "stdout",
     "output_type": "stream",
     "text": [
      "MoviePy - Done !\n",
      "MoviePy - video ready SniffingSnippetsIsabelle/2640_snippet_33.mp4\n"
     ]
    },
    {
     "name": "stderr",
     "output_type": "stream",
     "text": [
      "\r"
     ]
    },
    {
     "name": "stdout",
     "output_type": "stream",
     "text": [
      "MoviePy - Building video SniffingSnippetsIsabelle/2640_snippet_34.mp4.\n",
      "MoviePy - Writing video SniffingSnippetsIsabelle/2640_snippet_34.mp4\n",
      "\n"
     ]
    },
    {
     "name": "stderr",
     "output_type": "stream",
     "text": [
      "                                                            "
     ]
    },
    {
     "name": "stdout",
     "output_type": "stream",
     "text": [
      "MoviePy - Done !"
     ]
    },
    {
     "name": "stderr",
     "output_type": "stream",
     "text": [
      "\r"
     ]
    },
    {
     "name": "stdout",
     "output_type": "stream",
     "text": [
      "\n",
      "MoviePy - video ready SniffingSnippetsIsabelle/2640_snippet_34.mp4\n",
      "MoviePy - Building video SniffingSnippetsIsabelle/2640_snippet_35.mp4.\n",
      "MoviePy - Writing video SniffingSnippetsIsabelle/2640_snippet_35.mp4\n",
      "\n"
     ]
    },
    {
     "name": "stderr",
     "output_type": "stream",
     "text": [
      "                                                            "
     ]
    },
    {
     "name": "stdout",
     "output_type": "stream",
     "text": [
      "MoviePy - Done !\n",
      "MoviePy - video ready SniffingSnippetsIsabelle/2640_snippet_35.mp4\n"
     ]
    },
    {
     "name": "stderr",
     "output_type": "stream",
     "text": [
      "\r"
     ]
    },
    {
     "name": "stdout",
     "output_type": "stream",
     "text": [
      "MoviePy - Building video SniffingSnippetsIsabelle/2640_snippet_36.mp4.\n",
      "MoviePy - Writing video SniffingSnippetsIsabelle/2640_snippet_36.mp4\n",
      "\n"
     ]
    },
    {
     "name": "stderr",
     "output_type": "stream",
     "text": [
      "                                                                       \r"
     ]
    },
    {
     "name": "stdout",
     "output_type": "stream",
     "text": [
      "MoviePy - Done !\n",
      "MoviePy - video ready SniffingSnippetsIsabelle/2640_snippet_36.mp4\n",
      "MoviePy - Building video SniffingSnippetsIsabelle/2640_snippet_37.mp4.\n",
      "MoviePy - Writing video SniffingSnippetsIsabelle/2640_snippet_37.mp4\n",
      "\n"
     ]
    },
    {
     "name": "stderr",
     "output_type": "stream",
     "text": [
      "                                                             \r"
     ]
    },
    {
     "name": "stdout",
     "output_type": "stream",
     "text": [
      "MoviePy - Done !\n",
      "MoviePy - video ready SniffingSnippetsIsabelle/2640_snippet_37.mp4\n",
      "MoviePy - Building video SniffingSnippetsIsabelle/2640_snippet_38.mp4.\n",
      "MoviePy - Writing video SniffingSnippetsIsabelle/2640_snippet_38.mp4\n",
      "\n"
     ]
    },
    {
     "name": "stderr",
     "output_type": "stream",
     "text": [
      "                                                            "
     ]
    },
    {
     "name": "stdout",
     "output_type": "stream",
     "text": [
      "MoviePy - Done !\n",
      "MoviePy - video ready SniffingSnippetsIsabelle/2640_snippet_38.mp4\n"
     ]
    },
    {
     "name": "stderr",
     "output_type": "stream",
     "text": [
      "\r"
     ]
    },
    {
     "name": "stdout",
     "output_type": "stream",
     "text": [
      "MoviePy - Building video SniffingSnippetsIsabelle/2640_snippet_39.mp4.\n",
      "MoviePy - Writing video SniffingSnippetsIsabelle/2640_snippet_39.mp4\n",
      "\n"
     ]
    },
    {
     "name": "stderr",
     "output_type": "stream",
     "text": [
      "                                                            \r"
     ]
    },
    {
     "name": "stdout",
     "output_type": "stream",
     "text": [
      "MoviePy - Done !\n",
      "MoviePy - video ready SniffingSnippetsIsabelle/2640_snippet_39.mp4\n",
      "MoviePy - Building video SniffingSnippetsIsabelle/2640_snippet_40.mp4.\n",
      "MoviePy - Writing video SniffingSnippetsIsabelle/2640_snippet_40.mp4\n",
      "\n"
     ]
    },
    {
     "name": "stderr",
     "output_type": "stream",
     "text": [
      "                                             "
     ]
    },
    {
     "name": "stdout",
     "output_type": "stream",
     "text": [
      "MoviePy - Done !\n",
      "MoviePy - video ready SniffingSnippetsIsabelle/2640_snippet_40.mp4\n"
     ]
    },
    {
     "name": "stderr",
     "output_type": "stream",
     "text": [
      "\r"
     ]
    },
    {
     "name": "stdout",
     "output_type": "stream",
     "text": [
      "MoviePy - Building video SniffingSnippetsIsabelle/2640_snippet_41.mp4.\n",
      "MoviePy - Writing video SniffingSnippetsIsabelle/2640_snippet_41.mp4\n",
      "\n"
     ]
    },
    {
     "name": "stderr",
     "output_type": "stream",
     "text": [
      "                                                            "
     ]
    },
    {
     "name": "stdout",
     "output_type": "stream",
     "text": [
      "MoviePy - Done !\n",
      "MoviePy - video ready SniffingSnippetsIsabelle/2640_snippet_41.mp4\n"
     ]
    },
    {
     "name": "stderr",
     "output_type": "stream",
     "text": [
      "\r"
     ]
    },
    {
     "name": "stdout",
     "output_type": "stream",
     "text": [
      "MoviePy - Building video SniffingSnippetsIsabelle/2640_snippet_42.mp4.\n",
      "MoviePy - Writing video SniffingSnippetsIsabelle/2640_snippet_42.mp4\n",
      "\n"
     ]
    },
    {
     "name": "stderr",
     "output_type": "stream",
     "text": [
      "                                                            "
     ]
    },
    {
     "name": "stdout",
     "output_type": "stream",
     "text": [
      "MoviePy - Done !\n",
      "MoviePy - video ready SniffingSnippetsIsabelle/2640_snippet_42.mp4\n"
     ]
    },
    {
     "name": "stderr",
     "output_type": "stream",
     "text": [
      "\r"
     ]
    },
    {
     "name": "stdout",
     "output_type": "stream",
     "text": [
      "MoviePy - Building video SniffingSnippetsIsabelle/2640_snippet_43.mp4.\n",
      "MoviePy - Writing video SniffingSnippetsIsabelle/2640_snippet_43.mp4\n",
      "\n"
     ]
    },
    {
     "name": "stderr",
     "output_type": "stream",
     "text": [
      "                                             "
     ]
    },
    {
     "name": "stdout",
     "output_type": "stream",
     "text": [
      "MoviePy - Done !\n",
      "MoviePy - video ready SniffingSnippetsIsabelle/2640_snippet_43.mp4\n"
     ]
    },
    {
     "name": "stderr",
     "output_type": "stream",
     "text": [
      "\r"
     ]
    },
    {
     "name": "stdout",
     "output_type": "stream",
     "text": [
      "MoviePy - Building video SniffingSnippetsIsabelle/2640_snippet_44.mp4.\n",
      "MoviePy - Writing video SniffingSnippetsIsabelle/2640_snippet_44.mp4\n",
      "\n"
     ]
    },
    {
     "name": "stderr",
     "output_type": "stream",
     "text": [
      "                                                                      \r"
     ]
    },
    {
     "name": "stdout",
     "output_type": "stream",
     "text": [
      "MoviePy - Done !\n",
      "MoviePy - video ready SniffingSnippetsIsabelle/2640_snippet_44.mp4\n",
      "MoviePy - Building video SniffingSnippetsIsabelle/2640_snippet_45.mp4.\n",
      "MoviePy - Writing video SniffingSnippetsIsabelle/2640_snippet_45.mp4\n",
      "\n"
     ]
    },
    {
     "name": "stderr",
     "output_type": "stream",
     "text": [
      "                                                            "
     ]
    },
    {
     "name": "stdout",
     "output_type": "stream",
     "text": [
      "MoviePy - Done !\n",
      "MoviePy - video ready SniffingSnippetsIsabelle/2640_snippet_45.mp4\n"
     ]
    },
    {
     "name": "stderr",
     "output_type": "stream",
     "text": [
      "\r"
     ]
    },
    {
     "name": "stdout",
     "output_type": "stream",
     "text": [
      "MoviePy - Building video SniffingSnippetsIsabelle/2640_snippet_46.mp4.\n",
      "MoviePy - Writing video SniffingSnippetsIsabelle/2640_snippet_46.mp4\n",
      "\n"
     ]
    },
    {
     "name": "stderr",
     "output_type": "stream",
     "text": [
      "                                                             \r"
     ]
    },
    {
     "name": "stdout",
     "output_type": "stream",
     "text": [
      "MoviePy - Done !\n",
      "MoviePy - video ready SniffingSnippetsIsabelle/2640_snippet_46.mp4\n",
      "Video number: 2641\n",
      "Input video duration: 35.6 seconds\n",
      "\u001b[32m[05/27 22:04:05 d2.checkpoint.detection_checkpoint]: \u001b[0m[DetectionCheckpointer] Loading from ./output/model_final.pth ...\n"
     ]
    },
    {
     "name": "stderr",
     "output_type": "stream",
     "text": [
      "INFO:fvcore.common.checkpoint:[Checkpointer] Loading from ./output/model_final.pth ...\n"
     ]
    },
    {
     "name": "stdout",
     "output_type": "stream",
     "text": [
      "2641\n",
      "MoviePy - Building video SniffingSnippetsIsabelle/2641_snippet_0.mp4.\n",
      "MoviePy - Writing video SniffingSnippetsIsabelle/2641_snippet_0.mp4\n",
      "\n"
     ]
    },
    {
     "name": "stderr",
     "output_type": "stream",
     "text": [
      "                                             \r"
     ]
    },
    {
     "name": "stdout",
     "output_type": "stream",
     "text": [
      "MoviePy - Done !\n",
      "MoviePy - video ready SniffingSnippetsIsabelle/2641_snippet_0.mp4\n",
      "MoviePy - Building video SniffingSnippetsIsabelle/2641_snippet_1.mp4.\n",
      "MoviePy - Writing video SniffingSnippetsIsabelle/2641_snippet_1.mp4\n",
      "\n"
     ]
    },
    {
     "name": "stderr",
     "output_type": "stream",
     "text": [
      "                                             "
     ]
    },
    {
     "name": "stdout",
     "output_type": "stream",
     "text": [
      "MoviePy - Done !\n",
      "MoviePy - video ready SniffingSnippetsIsabelle/2641_snippet_1.mp4\n"
     ]
    },
    {
     "name": "stderr",
     "output_type": "stream",
     "text": [
      "\r"
     ]
    },
    {
     "name": "stdout",
     "output_type": "stream",
     "text": [
      "MoviePy - Building video SniffingSnippetsIsabelle/2641_snippet_2.mp4.\n",
      "MoviePy - Writing video SniffingSnippetsIsabelle/2641_snippet_2.mp4\n",
      "\n"
     ]
    },
    {
     "name": "stderr",
     "output_type": "stream",
     "text": [
      "                                                            "
     ]
    },
    {
     "name": "stdout",
     "output_type": "stream",
     "text": [
      "MoviePy - Done !\n",
      "MoviePy - video ready SniffingSnippetsIsabelle/2641_snippet_2.mp4\n"
     ]
    },
    {
     "name": "stderr",
     "output_type": "stream",
     "text": [
      "\r"
     ]
    },
    {
     "name": "stdout",
     "output_type": "stream",
     "text": [
      "MoviePy - Building video SniffingSnippetsIsabelle/2641_snippet_3.mp4.\n",
      "MoviePy - Writing video SniffingSnippetsIsabelle/2641_snippet_3.mp4\n",
      "\n"
     ]
    },
    {
     "name": "stderr",
     "output_type": "stream",
     "text": [
      "                                                            "
     ]
    },
    {
     "name": "stdout",
     "output_type": "stream",
     "text": [
      "MoviePy - Done !\n",
      "MoviePy - video ready SniffingSnippetsIsabelle/2641_snippet_3.mp4\n"
     ]
    },
    {
     "name": "stderr",
     "output_type": "stream",
     "text": [
      "\r"
     ]
    },
    {
     "name": "stdout",
     "output_type": "stream",
     "text": [
      "MoviePy - Building video SniffingSnippetsIsabelle/2641_snippet_4.mp4.\n",
      "MoviePy - Writing video SniffingSnippetsIsabelle/2641_snippet_4.mp4\n",
      "\n"
     ]
    },
    {
     "name": "stderr",
     "output_type": "stream",
     "text": [
      "                                                            "
     ]
    },
    {
     "name": "stdout",
     "output_type": "stream",
     "text": [
      "MoviePy - Done !\n",
      "MoviePy - video ready SniffingSnippetsIsabelle/2641_snippet_4.mp4\n"
     ]
    },
    {
     "name": "stderr",
     "output_type": "stream",
     "text": [
      "\r"
     ]
    },
    {
     "name": "stdout",
     "output_type": "stream",
     "text": [
      "MoviePy - Building video SniffingSnippetsIsabelle/2641_snippet_5.mp4.\n",
      "MoviePy - Writing video SniffingSnippetsIsabelle/2641_snippet_5.mp4\n",
      "\n"
     ]
    },
    {
     "name": "stderr",
     "output_type": "stream",
     "text": [
      "                                                            "
     ]
    },
    {
     "name": "stdout",
     "output_type": "stream",
     "text": [
      "MoviePy - Done !\n",
      "MoviePy - video ready SniffingSnippetsIsabelle/2641_snippet_5.mp4\n"
     ]
    },
    {
     "name": "stderr",
     "output_type": "stream",
     "text": [
      "\r"
     ]
    },
    {
     "name": "stdout",
     "output_type": "stream",
     "text": [
      "MoviePy - Building video SniffingSnippetsIsabelle/2641_snippet_6.mp4.\n",
      "MoviePy - Writing video SniffingSnippetsIsabelle/2641_snippet_6.mp4\n",
      "\n"
     ]
    },
    {
     "name": "stderr",
     "output_type": "stream",
     "text": [
      "                                                                       \r"
     ]
    },
    {
     "name": "stdout",
     "output_type": "stream",
     "text": [
      "MoviePy - Done !\n",
      "MoviePy - video ready SniffingSnippetsIsabelle/2641_snippet_6.mp4\n",
      "MoviePy - Building video SniffingSnippetsIsabelle/2641_snippet_7.mp4.\n",
      "MoviePy - Writing video SniffingSnippetsIsabelle/2641_snippet_7.mp4\n",
      "\n"
     ]
    },
    {
     "name": "stderr",
     "output_type": "stream",
     "text": [
      "                                                            "
     ]
    },
    {
     "name": "stdout",
     "output_type": "stream",
     "text": [
      "MoviePy - Done !\n",
      "MoviePy - video ready SniffingSnippetsIsabelle/2641_snippet_7.mp4\n"
     ]
    },
    {
     "name": "stderr",
     "output_type": "stream",
     "text": [
      "\r"
     ]
    },
    {
     "name": "stdout",
     "output_type": "stream",
     "text": [
      "MoviePy - Building video SniffingSnippetsIsabelle/2641_snippet_8.mp4.\n",
      "MoviePy - Writing video SniffingSnippetsIsabelle/2641_snippet_8.mp4\n",
      "\n"
     ]
    },
    {
     "name": "stderr",
     "output_type": "stream",
     "text": [
      "                                                            "
     ]
    },
    {
     "name": "stdout",
     "output_type": "stream",
     "text": [
      "MoviePy - Done !\n",
      "MoviePy - video ready SniffingSnippetsIsabelle/2641_snippet_8.mp4\n"
     ]
    },
    {
     "name": "stderr",
     "output_type": "stream",
     "text": [
      "\r"
     ]
    },
    {
     "name": "stdout",
     "output_type": "stream",
     "text": [
      "MoviePy - Building video SniffingSnippetsIsabelle/2641_snippet_9.mp4.\n",
      "MoviePy - Writing video SniffingSnippetsIsabelle/2641_snippet_9.mp4\n",
      "\n"
     ]
    },
    {
     "name": "stderr",
     "output_type": "stream",
     "text": [
      "                                                            "
     ]
    },
    {
     "name": "stdout",
     "output_type": "stream",
     "text": [
      "MoviePy - Done !\n",
      "MoviePy - video ready SniffingSnippetsIsabelle/2641_snippet_9.mp4\n"
     ]
    },
    {
     "name": "stderr",
     "output_type": "stream",
     "text": [
      "\r"
     ]
    },
    {
     "name": "stdout",
     "output_type": "stream",
     "text": [
      "MoviePy - Building video SniffingSnippetsIsabelle/2641_snippet_10.mp4.\n",
      "MoviePy - Writing video SniffingSnippetsIsabelle/2641_snippet_10.mp4\n",
      "\n"
     ]
    },
    {
     "name": "stderr",
     "output_type": "stream",
     "text": [
      "                                                            \r"
     ]
    },
    {
     "name": "stdout",
     "output_type": "stream",
     "text": [
      "MoviePy - Done !\n",
      "MoviePy - video ready SniffingSnippetsIsabelle/2641_snippet_10.mp4\n",
      "MoviePy - Building video SniffingSnippetsIsabelle/2641_snippet_11.mp4.\n",
      "MoviePy - Writing video SniffingSnippetsIsabelle/2641_snippet_11.mp4\n",
      "\n"
     ]
    },
    {
     "name": "stderr",
     "output_type": "stream",
     "text": [
      "                                                                     \r"
     ]
    },
    {
     "name": "stdout",
     "output_type": "stream",
     "text": [
      "MoviePy - Done !\n",
      "MoviePy - video ready SniffingSnippetsIsabelle/2641_snippet_11.mp4\n",
      "MoviePy - Building video SniffingSnippetsIsabelle/2641_snippet_12.mp4.\n",
      "MoviePy - Writing video SniffingSnippetsIsabelle/2641_snippet_12.mp4\n",
      "\n"
     ]
    },
    {
     "name": "stderr",
     "output_type": "stream",
     "text": [
      "                                                                       \r"
     ]
    },
    {
     "name": "stdout",
     "output_type": "stream",
     "text": [
      "MoviePy - Done !\n",
      "MoviePy - video ready SniffingSnippetsIsabelle/2641_snippet_12.mp4\n",
      "MoviePy - Building video SniffingSnippetsIsabelle/2641_snippet_13.mp4.\n",
      "MoviePy - Writing video SniffingSnippetsIsabelle/2641_snippet_13.mp4\n",
      "\n"
     ]
    },
    {
     "name": "stderr",
     "output_type": "stream",
     "text": [
      "                                                                       \r"
     ]
    },
    {
     "name": "stdout",
     "output_type": "stream",
     "text": [
      "MoviePy - Done !\n",
      "MoviePy - video ready SniffingSnippetsIsabelle/2641_snippet_13.mp4\n",
      "MoviePy - Building video SniffingSnippetsIsabelle/2641_snippet_14.mp4.\n",
      "MoviePy - Writing video SniffingSnippetsIsabelle/2641_snippet_14.mp4\n",
      "\n"
     ]
    },
    {
     "name": "stderr",
     "output_type": "stream",
     "text": [
      "                                                            "
     ]
    },
    {
     "name": "stdout",
     "output_type": "stream",
     "text": [
      "MoviePy - Done !\n",
      "MoviePy - video ready SniffingSnippetsIsabelle/2641_snippet_14.mp4\n"
     ]
    },
    {
     "name": "stderr",
     "output_type": "stream",
     "text": [
      "\r"
     ]
    },
    {
     "name": "stdout",
     "output_type": "stream",
     "text": [
      "MoviePy - Building video SniffingSnippetsIsabelle/2641_snippet_15.mp4.\n",
      "MoviePy - Writing video SniffingSnippetsIsabelle/2641_snippet_15.mp4\n",
      "\n"
     ]
    },
    {
     "name": "stderr",
     "output_type": "stream",
     "text": [
      "                                                            "
     ]
    },
    {
     "name": "stdout",
     "output_type": "stream",
     "text": [
      "MoviePy - Done !\n",
      "MoviePy - video ready SniffingSnippetsIsabelle/2641_snippet_15.mp4\n"
     ]
    },
    {
     "name": "stderr",
     "output_type": "stream",
     "text": [
      "\r"
     ]
    },
    {
     "name": "stdout",
     "output_type": "stream",
     "text": [
      "MoviePy - Building video SniffingSnippetsIsabelle/2641_snippet_16.mp4.\n",
      "MoviePy - Writing video SniffingSnippetsIsabelle/2641_snippet_16.mp4\n",
      "\n"
     ]
    },
    {
     "name": "stderr",
     "output_type": "stream",
     "text": [
      "                                                            "
     ]
    },
    {
     "name": "stdout",
     "output_type": "stream",
     "text": [
      "MoviePy - Done !\n",
      "MoviePy - video ready SniffingSnippetsIsabelle/2641_snippet_16.mp4\n"
     ]
    },
    {
     "name": "stderr",
     "output_type": "stream",
     "text": [
      "\r"
     ]
    },
    {
     "name": "stdout",
     "output_type": "stream",
     "text": [
      "MoviePy - Building video SniffingSnippetsIsabelle/2641_snippet_17.mp4.\n",
      "MoviePy - Writing video SniffingSnippetsIsabelle/2641_snippet_17.mp4\n",
      "\n"
     ]
    },
    {
     "name": "stderr",
     "output_type": "stream",
     "text": [
      "                                                            "
     ]
    },
    {
     "name": "stdout",
     "output_type": "stream",
     "text": [
      "MoviePy - Done !\n",
      "MoviePy - video ready SniffingSnippetsIsabelle/2641_snippet_17.mp4\n"
     ]
    },
    {
     "name": "stderr",
     "output_type": "stream",
     "text": [
      "\r"
     ]
    },
    {
     "name": "stdout",
     "output_type": "stream",
     "text": [
      "MoviePy - Building video SniffingSnippetsIsabelle/2641_snippet_18.mp4.\n",
      "MoviePy - Writing video SniffingSnippetsIsabelle/2641_snippet_18.mp4\n",
      "\n"
     ]
    },
    {
     "name": "stderr",
     "output_type": "stream",
     "text": [
      "                                             "
     ]
    },
    {
     "name": "stdout",
     "output_type": "stream",
     "text": [
      "MoviePy - Done !\n",
      "MoviePy - video ready SniffingSnippetsIsabelle/2641_snippet_18.mp4\n"
     ]
    },
    {
     "name": "stderr",
     "output_type": "stream",
     "text": [
      "\r"
     ]
    },
    {
     "name": "stdout",
     "output_type": "stream",
     "text": [
      "MoviePy - Building video SniffingSnippetsIsabelle/2641_snippet_19.mp4.\n",
      "MoviePy - Writing video SniffingSnippetsIsabelle/2641_snippet_19.mp4\n",
      "\n"
     ]
    },
    {
     "name": "stderr",
     "output_type": "stream",
     "text": [
      "                                                            "
     ]
    },
    {
     "name": "stdout",
     "output_type": "stream",
     "text": [
      "MoviePy - Done !\n",
      "MoviePy - video ready SniffingSnippetsIsabelle/2641_snippet_19.mp4\n"
     ]
    },
    {
     "name": "stderr",
     "output_type": "stream",
     "text": [
      "\r"
     ]
    },
    {
     "name": "stdout",
     "output_type": "stream",
     "text": [
      "MoviePy - Building video SniffingSnippetsIsabelle/2641_snippet_20.mp4.\n",
      "MoviePy - Writing video SniffingSnippetsIsabelle/2641_snippet_20.mp4\n",
      "\n"
     ]
    },
    {
     "name": "stderr",
     "output_type": "stream",
     "text": [
      "                                                            "
     ]
    },
    {
     "name": "stdout",
     "output_type": "stream",
     "text": [
      "MoviePy - Done !\n",
      "MoviePy - video ready SniffingSnippetsIsabelle/2641_snippet_20.mp4\n"
     ]
    },
    {
     "name": "stderr",
     "output_type": "stream",
     "text": [
      "\r"
     ]
    },
    {
     "name": "stdout",
     "output_type": "stream",
     "text": [
      "MoviePy - Building video SniffingSnippetsIsabelle/2641_snippet_21.mp4.\n",
      "MoviePy - Writing video SniffingSnippetsIsabelle/2641_snippet_21.mp4\n",
      "\n"
     ]
    },
    {
     "name": "stderr",
     "output_type": "stream",
     "text": [
      "                                                            "
     ]
    },
    {
     "name": "stdout",
     "output_type": "stream",
     "text": [
      "MoviePy - Done !\n",
      "MoviePy - video ready SniffingSnippetsIsabelle/2641_snippet_21.mp4\n"
     ]
    },
    {
     "name": "stderr",
     "output_type": "stream",
     "text": [
      "\r"
     ]
    },
    {
     "name": "stdout",
     "output_type": "stream",
     "text": [
      "MoviePy - Building video SniffingSnippetsIsabelle/2641_snippet_22.mp4.\n",
      "MoviePy - Writing video SniffingSnippetsIsabelle/2641_snippet_22.mp4\n",
      "\n"
     ]
    },
    {
     "name": "stderr",
     "output_type": "stream",
     "text": [
      "                                                             \r"
     ]
    },
    {
     "name": "stdout",
     "output_type": "stream",
     "text": [
      "MoviePy - Done !\n",
      "MoviePy - video ready SniffingSnippetsIsabelle/2641_snippet_22.mp4\n",
      "MoviePy - Building video SniffingSnippetsIsabelle/2641_snippet_23.mp4.\n",
      "MoviePy - Writing video SniffingSnippetsIsabelle/2641_snippet_23.mp4\n",
      "\n"
     ]
    },
    {
     "name": "stderr",
     "output_type": "stream",
     "text": [
      "                                             "
     ]
    },
    {
     "name": "stdout",
     "output_type": "stream",
     "text": [
      "MoviePy - Done !\n",
      "MoviePy - video ready SniffingSnippetsIsabelle/2641_snippet_23.mp4\n"
     ]
    },
    {
     "name": "stderr",
     "output_type": "stream",
     "text": [
      "\r"
     ]
    },
    {
     "name": "stdout",
     "output_type": "stream",
     "text": [
      "MoviePy - Building video SniffingSnippetsIsabelle/2641_snippet_24.mp4.\n",
      "MoviePy - Writing video SniffingSnippetsIsabelle/2641_snippet_24.mp4\n",
      "\n"
     ]
    },
    {
     "name": "stderr",
     "output_type": "stream",
     "text": [
      "                                                                      \r"
     ]
    },
    {
     "name": "stdout",
     "output_type": "stream",
     "text": [
      "MoviePy - Done !\n",
      "MoviePy - video ready SniffingSnippetsIsabelle/2641_snippet_24.mp4\n",
      "MoviePy - Building video SniffingSnippetsIsabelle/2641_snippet_25.mp4.\n",
      "MoviePy - Writing video SniffingSnippetsIsabelle/2641_snippet_25.mp4\n",
      "\n"
     ]
    },
    {
     "name": "stderr",
     "output_type": "stream",
     "text": [
      "                                                            \r"
     ]
    },
    {
     "name": "stdout",
     "output_type": "stream",
     "text": [
      "MoviePy - Done !\n",
      "MoviePy - video ready SniffingSnippetsIsabelle/2641_snippet_25.mp4\n",
      "MoviePy - Building video SniffingSnippetsIsabelle/2641_snippet_26.mp4.\n",
      "MoviePy - Writing video SniffingSnippetsIsabelle/2641_snippet_26.mp4\n",
      "\n"
     ]
    },
    {
     "name": "stderr",
     "output_type": "stream",
     "text": [
      "                                             "
     ]
    },
    {
     "name": "stdout",
     "output_type": "stream",
     "text": [
      "MoviePy - Done !\n",
      "MoviePy - video ready SniffingSnippetsIsabelle/2641_snippet_26.mp4\n"
     ]
    },
    {
     "name": "stderr",
     "output_type": "stream",
     "text": [
      "\r"
     ]
    },
    {
     "name": "stdout",
     "output_type": "stream",
     "text": [
      "MoviePy - Building video SniffingSnippetsIsabelle/2641_snippet_27.mp4.\n",
      "MoviePy - Writing video SniffingSnippetsIsabelle/2641_snippet_27.mp4\n",
      "\n"
     ]
    },
    {
     "name": "stderr",
     "output_type": "stream",
     "text": [
      "                                                            \r"
     ]
    },
    {
     "name": "stdout",
     "output_type": "stream",
     "text": [
      "MoviePy - Done !\n",
      "MoviePy - video ready SniffingSnippetsIsabelle/2641_snippet_27.mp4\n",
      "MoviePy - Building video SniffingSnippetsIsabelle/2641_snippet_28.mp4.\n",
      "MoviePy - Writing video SniffingSnippetsIsabelle/2641_snippet_28.mp4\n",
      "\n"
     ]
    },
    {
     "name": "stderr",
     "output_type": "stream",
     "text": [
      "                                             "
     ]
    },
    {
     "name": "stdout",
     "output_type": "stream",
     "text": [
      "MoviePy - Done !\n",
      "MoviePy - video ready SniffingSnippetsIsabelle/2641_snippet_28.mp4\n"
     ]
    },
    {
     "name": "stderr",
     "output_type": "stream",
     "text": [
      "\r"
     ]
    },
    {
     "name": "stdout",
     "output_type": "stream",
     "text": [
      "MoviePy - Building video SniffingSnippetsIsabelle/2641_snippet_29.mp4.\n",
      "MoviePy - Writing video SniffingSnippetsIsabelle/2641_snippet_29.mp4\n",
      "\n"
     ]
    },
    {
     "name": "stderr",
     "output_type": "stream",
     "text": [
      "                                                            "
     ]
    },
    {
     "name": "stdout",
     "output_type": "stream",
     "text": [
      "MoviePy - Done !\n",
      "MoviePy - video ready SniffingSnippetsIsabelle/2641_snippet_29.mp4\n"
     ]
    },
    {
     "name": "stderr",
     "output_type": "stream",
     "text": [
      "\r"
     ]
    },
    {
     "name": "stdout",
     "output_type": "stream",
     "text": [
      "MoviePy - Building video SniffingSnippetsIsabelle/2641_snippet_30.mp4.\n",
      "MoviePy - Writing video SniffingSnippetsIsabelle/2641_snippet_30.mp4\n",
      "\n"
     ]
    },
    {
     "name": "stderr",
     "output_type": "stream",
     "text": [
      "                                                            "
     ]
    },
    {
     "name": "stdout",
     "output_type": "stream",
     "text": [
      "MoviePy - Done !\n",
      "MoviePy - video ready SniffingSnippetsIsabelle/2641_snippet_30.mp4\n"
     ]
    },
    {
     "name": "stderr",
     "output_type": "stream",
     "text": [
      "\r"
     ]
    },
    {
     "name": "stdout",
     "output_type": "stream",
     "text": [
      "MoviePy - Building video SniffingSnippetsIsabelle/2641_snippet_31.mp4.\n",
      "MoviePy - Writing video SniffingSnippetsIsabelle/2641_snippet_31.mp4\n",
      "\n"
     ]
    },
    {
     "name": "stderr",
     "output_type": "stream",
     "text": [
      "                                                            "
     ]
    },
    {
     "name": "stdout",
     "output_type": "stream",
     "text": [
      "MoviePy - Done !\n",
      "MoviePy - video ready SniffingSnippetsIsabelle/2641_snippet_31.mp4\n"
     ]
    },
    {
     "name": "stderr",
     "output_type": "stream",
     "text": [
      "\r"
     ]
    },
    {
     "name": "stdout",
     "output_type": "stream",
     "text": [
      "MoviePy - Building video SniffingSnippetsIsabelle/2641_snippet_32.mp4.\n",
      "MoviePy - Writing video SniffingSnippetsIsabelle/2641_snippet_32.mp4\n",
      "\n"
     ]
    },
    {
     "name": "stderr",
     "output_type": "stream",
     "text": [
      "                                             "
     ]
    },
    {
     "name": "stdout",
     "output_type": "stream",
     "text": [
      "MoviePy - Done !\n",
      "MoviePy - video ready SniffingSnippetsIsabelle/2641_snippet_32.mp4\n"
     ]
    },
    {
     "name": "stderr",
     "output_type": "stream",
     "text": [
      "\r"
     ]
    },
    {
     "name": "stdout",
     "output_type": "stream",
     "text": [
      "MoviePy - Building video SniffingSnippetsIsabelle/2641_snippet_33.mp4.\n",
      "MoviePy - Writing video SniffingSnippetsIsabelle/2641_snippet_33.mp4\n",
      "\n"
     ]
    },
    {
     "name": "stderr",
     "output_type": "stream",
     "text": [
      "                                                                    \r"
     ]
    },
    {
     "name": "stdout",
     "output_type": "stream",
     "text": [
      "MoviePy - Done !\n",
      "MoviePy - video ready SniffingSnippetsIsabelle/2641_snippet_33.mp4\n",
      "MoviePy - Building video SniffingSnippetsIsabelle/2641_snippet_34.mp4.\n",
      "MoviePy - Writing video SniffingSnippetsIsabelle/2641_snippet_34.mp4\n",
      "\n"
     ]
    },
    {
     "name": "stderr",
     "output_type": "stream",
     "text": [
      "                                                            "
     ]
    },
    {
     "name": "stdout",
     "output_type": "stream",
     "text": [
      "MoviePy - Done !\n",
      "MoviePy - video ready SniffingSnippetsIsabelle/2641_snippet_34.mp4\n"
     ]
    },
    {
     "name": "stderr",
     "output_type": "stream",
     "text": [
      "\r"
     ]
    },
    {
     "name": "stdout",
     "output_type": "stream",
     "text": [
      "MoviePy - Building video SniffingSnippetsIsabelle/2641_snippet_35.mp4.\n",
      "MoviePy - Writing video SniffingSnippetsIsabelle/2641_snippet_35.mp4\n",
      "\n"
     ]
    },
    {
     "name": "stderr",
     "output_type": "stream",
     "text": [
      "                                                            \r"
     ]
    },
    {
     "name": "stdout",
     "output_type": "stream",
     "text": [
      "MoviePy - Done !\n",
      "MoviePy - video ready SniffingSnippetsIsabelle/2641_snippet_35.mp4\n",
      "MoviePy - Building video SniffingSnippetsIsabelle/2641_snippet_36.mp4.\n",
      "MoviePy - Writing video SniffingSnippetsIsabelle/2641_snippet_36.mp4\n",
      "\n"
     ]
    },
    {
     "name": "stderr",
     "output_type": "stream",
     "text": [
      "                                             "
     ]
    },
    {
     "name": "stdout",
     "output_type": "stream",
     "text": [
      "MoviePy - Done !\n",
      "MoviePy - video ready SniffingSnippetsIsabelle/2641_snippet_36.mp4\n"
     ]
    },
    {
     "name": "stderr",
     "output_type": "stream",
     "text": [
      "\r"
     ]
    },
    {
     "name": "stdout",
     "output_type": "stream",
     "text": [
      "MoviePy - Building video SniffingSnippetsIsabelle/2641_snippet_37.mp4.\n",
      "MoviePy - Writing video SniffingSnippetsIsabelle/2641_snippet_37.mp4\n",
      "\n"
     ]
    },
    {
     "name": "stderr",
     "output_type": "stream",
     "text": [
      "                                                            \r"
     ]
    },
    {
     "name": "stdout",
     "output_type": "stream",
     "text": [
      "MoviePy - Done !\n",
      "MoviePy - video ready SniffingSnippetsIsabelle/2641_snippet_37.mp4\n",
      "MoviePy - Building video SniffingSnippetsIsabelle/2641_snippet_38.mp4.\n",
      "MoviePy - Writing video SniffingSnippetsIsabelle/2641_snippet_38.mp4\n",
      "\n"
     ]
    },
    {
     "name": "stderr",
     "output_type": "stream",
     "text": [
      "                                                            \r"
     ]
    },
    {
     "name": "stdout",
     "output_type": "stream",
     "text": [
      "MoviePy - Done !\n",
      "MoviePy - video ready SniffingSnippetsIsabelle/2641_snippet_38.mp4\n",
      "MoviePy - Building video SniffingSnippetsIsabelle/2641_snippet_39.mp4.\n",
      "MoviePy - Writing video SniffingSnippetsIsabelle/2641_snippet_39.mp4\n",
      "\n"
     ]
    },
    {
     "name": "stderr",
     "output_type": "stream",
     "text": [
      "                                                            \r"
     ]
    },
    {
     "name": "stdout",
     "output_type": "stream",
     "text": [
      "MoviePy - Done !\n",
      "MoviePy - video ready SniffingSnippetsIsabelle/2641_snippet_39.mp4\n",
      "MoviePy - Building video SniffingSnippetsIsabelle/2641_snippet_40.mp4.\n",
      "MoviePy - Writing video SniffingSnippetsIsabelle/2641_snippet_40.mp4\n",
      "\n"
     ]
    },
    {
     "name": "stderr",
     "output_type": "stream",
     "text": [
      "                                             "
     ]
    },
    {
     "name": "stdout",
     "output_type": "stream",
     "text": [
      "MoviePy - Done !\n",
      "MoviePy - video ready SniffingSnippetsIsabelle/2641_snippet_40.mp4\n"
     ]
    },
    {
     "name": "stderr",
     "output_type": "stream",
     "text": [
      "\r"
     ]
    },
    {
     "name": "stdout",
     "output_type": "stream",
     "text": [
      "MoviePy - Building video SniffingSnippetsIsabelle/2641_snippet_41.mp4.\n",
      "MoviePy - Writing video SniffingSnippetsIsabelle/2641_snippet_41.mp4\n",
      "\n"
     ]
    },
    {
     "name": "stderr",
     "output_type": "stream",
     "text": [
      "                                                                     \r"
     ]
    },
    {
     "name": "stdout",
     "output_type": "stream",
     "text": [
      "MoviePy - Done !\n",
      "MoviePy - video ready SniffingSnippetsIsabelle/2641_snippet_41.mp4\n",
      "MoviePy - Building video SniffingSnippetsIsabelle/2641_snippet_42.mp4.\n",
      "MoviePy - Writing video SniffingSnippetsIsabelle/2641_snippet_42.mp4\n",
      "\n"
     ]
    },
    {
     "name": "stderr",
     "output_type": "stream",
     "text": [
      "                                                                     \r"
     ]
    },
    {
     "name": "stdout",
     "output_type": "stream",
     "text": [
      "MoviePy - Done !\n",
      "MoviePy - video ready SniffingSnippetsIsabelle/2641_snippet_42.mp4\n",
      "MoviePy - Building video SniffingSnippetsIsabelle/2641_snippet_43.mp4.\n",
      "MoviePy - Writing video SniffingSnippetsIsabelle/2641_snippet_43.mp4\n",
      "\n"
     ]
    },
    {
     "name": "stderr",
     "output_type": "stream",
     "text": [
      "                                                            \r"
     ]
    },
    {
     "name": "stdout",
     "output_type": "stream",
     "text": [
      "MoviePy - Done !\n",
      "MoviePy - video ready SniffingSnippetsIsabelle/2641_snippet_43.mp4\n",
      "MoviePy - Building video SniffingSnippetsIsabelle/2641_snippet_44.mp4.\n",
      "MoviePy - Writing video SniffingSnippetsIsabelle/2641_snippet_44.mp4\n",
      "\n"
     ]
    },
    {
     "name": "stderr",
     "output_type": "stream",
     "text": [
      "                                                            \r"
     ]
    },
    {
     "name": "stdout",
     "output_type": "stream",
     "text": [
      "MoviePy - Done !\n",
      "MoviePy - video ready SniffingSnippetsIsabelle/2641_snippet_44.mp4\n",
      "MoviePy - Building video SniffingSnippetsIsabelle/2641_snippet_45.mp4.\n",
      "MoviePy - Writing video SniffingSnippetsIsabelle/2641_snippet_45.mp4\n",
      "\n"
     ]
    },
    {
     "name": "stderr",
     "output_type": "stream",
     "text": [
      "                                             "
     ]
    },
    {
     "name": "stdout",
     "output_type": "stream",
     "text": [
      "MoviePy - Done !\n",
      "MoviePy - video ready SniffingSnippetsIsabelle/2641_snippet_45.mp4\n"
     ]
    },
    {
     "name": "stderr",
     "output_type": "stream",
     "text": [
      "\r"
     ]
    },
    {
     "name": "stdout",
     "output_type": "stream",
     "text": [
      "MoviePy - Building video SniffingSnippetsIsabelle/2641_snippet_46.mp4.\n",
      "MoviePy - Writing video SniffingSnippetsIsabelle/2641_snippet_46.mp4\n",
      "\n"
     ]
    },
    {
     "name": "stderr",
     "output_type": "stream",
     "text": [
      "                                                            \r"
     ]
    },
    {
     "name": "stdout",
     "output_type": "stream",
     "text": [
      "MoviePy - Done !\n",
      "MoviePy - video ready SniffingSnippetsIsabelle/2641_snippet_46.mp4\n",
      "MoviePy - Building video SniffingSnippetsIsabelle/2641_snippet_47.mp4.\n",
      "MoviePy - Writing video SniffingSnippetsIsabelle/2641_snippet_47.mp4\n",
      "\n"
     ]
    },
    {
     "name": "stderr",
     "output_type": "stream",
     "text": [
      "                                                                     \r"
     ]
    },
    {
     "name": "stdout",
     "output_type": "stream",
     "text": [
      "MoviePy - Done !\n",
      "MoviePy - video ready SniffingSnippetsIsabelle/2641_snippet_47.mp4\n",
      "MoviePy - Building video SniffingSnippetsIsabelle/2641_snippet_48.mp4.\n",
      "MoviePy - Writing video SniffingSnippetsIsabelle/2641_snippet_48.mp4\n",
      "\n"
     ]
    },
    {
     "name": "stderr",
     "output_type": "stream",
     "text": [
      "                                                            "
     ]
    },
    {
     "name": "stdout",
     "output_type": "stream",
     "text": [
      "MoviePy - Done !\n",
      "MoviePy - video ready SniffingSnippetsIsabelle/2641_snippet_48.mp4\n"
     ]
    },
    {
     "name": "stderr",
     "output_type": "stream",
     "text": [
      "\r"
     ]
    },
    {
     "name": "stdout",
     "output_type": "stream",
     "text": [
      "MoviePy - Building video SniffingSnippetsIsabelle/2641_snippet_49.mp4.\n",
      "MoviePy - Writing video SniffingSnippetsIsabelle/2641_snippet_49.mp4\n",
      "\n"
     ]
    },
    {
     "name": "stderr",
     "output_type": "stream",
     "text": [
      "                                             "
     ]
    },
    {
     "name": "stdout",
     "output_type": "stream",
     "text": [
      "MoviePy - Done !\n",
      "MoviePy - video ready SniffingSnippetsIsabelle/2641_snippet_49.mp4\n"
     ]
    },
    {
     "name": "stderr",
     "output_type": "stream",
     "text": [
      "\r"
     ]
    },
    {
     "name": "stdout",
     "output_type": "stream",
     "text": [
      "MoviePy - Building video SniffingSnippetsIsabelle/2641_snippet_50.mp4.\n",
      "MoviePy - Writing video SniffingSnippetsIsabelle/2641_snippet_50.mp4\n",
      "\n"
     ]
    },
    {
     "name": "stderr",
     "output_type": "stream",
     "text": [
      "                                                                      \r"
     ]
    },
    {
     "name": "stdout",
     "output_type": "stream",
     "text": [
      "MoviePy - Done !\n",
      "MoviePy - video ready SniffingSnippetsIsabelle/2641_snippet_50.mp4\n",
      "MoviePy - Building video SniffingSnippetsIsabelle/2641_snippet_51.mp4.\n",
      "MoviePy - Writing video SniffingSnippetsIsabelle/2641_snippet_51.mp4\n",
      "\n"
     ]
    },
    {
     "name": "stderr",
     "output_type": "stream",
     "text": [
      "                                                            "
     ]
    },
    {
     "name": "stdout",
     "output_type": "stream",
     "text": [
      "MoviePy - Done !\n",
      "MoviePy - video ready SniffingSnippetsIsabelle/2641_snippet_51.mp4\n"
     ]
    },
    {
     "name": "stderr",
     "output_type": "stream",
     "text": [
      "\r"
     ]
    },
    {
     "name": "stdout",
     "output_type": "stream",
     "text": [
      "MoviePy - Building video SniffingSnippetsIsabelle/2641_snippet_52.mp4.\n",
      "MoviePy - Writing video SniffingSnippetsIsabelle/2641_snippet_52.mp4\n",
      "\n"
     ]
    },
    {
     "name": "stderr",
     "output_type": "stream",
     "text": [
      "                                                            "
     ]
    },
    {
     "name": "stdout",
     "output_type": "stream",
     "text": [
      "MoviePy - Done !\n",
      "MoviePy - video ready SniffingSnippetsIsabelle/2641_snippet_52.mp4\n"
     ]
    },
    {
     "name": "stderr",
     "output_type": "stream",
     "text": [
      "\r"
     ]
    },
    {
     "name": "stdout",
     "output_type": "stream",
     "text": [
      "MoviePy - Building video SniffingSnippetsIsabelle/2641_snippet_53.mp4.\n",
      "MoviePy - Writing video SniffingSnippetsIsabelle/2641_snippet_53.mp4\n",
      "\n"
     ]
    },
    {
     "name": "stderr",
     "output_type": "stream",
     "text": [
      "                                                                      \r"
     ]
    },
    {
     "name": "stdout",
     "output_type": "stream",
     "text": [
      "MoviePy - Done !\n",
      "MoviePy - video ready SniffingSnippetsIsabelle/2641_snippet_53.mp4\n",
      "MoviePy - Building video SniffingSnippetsIsabelle/2641_snippet_54.mp4.\n",
      "MoviePy - Writing video SniffingSnippetsIsabelle/2641_snippet_54.mp4\n",
      "\n"
     ]
    },
    {
     "name": "stderr",
     "output_type": "stream",
     "text": [
      "                                                            "
     ]
    },
    {
     "name": "stdout",
     "output_type": "stream",
     "text": [
      "MoviePy - Done !\n",
      "MoviePy - video ready SniffingSnippetsIsabelle/2641_snippet_54.mp4\n"
     ]
    },
    {
     "name": "stderr",
     "output_type": "stream",
     "text": [
      "\r"
     ]
    },
    {
     "name": "stdout",
     "output_type": "stream",
     "text": [
      "MoviePy - Building video SniffingSnippetsIsabelle/2641_snippet_55.mp4.\n",
      "MoviePy - Writing video SniffingSnippetsIsabelle/2641_snippet_55.mp4\n",
      "\n"
     ]
    },
    {
     "name": "stderr",
     "output_type": "stream",
     "text": [
      "                                                                    \r"
     ]
    },
    {
     "name": "stdout",
     "output_type": "stream",
     "text": [
      "MoviePy - Done !\n",
      "MoviePy - video ready SniffingSnippetsIsabelle/2641_snippet_55.mp4\n",
      "MoviePy - Building video SniffingSnippetsIsabelle/2641_snippet_56.mp4.\n",
      "MoviePy - Writing video SniffingSnippetsIsabelle/2641_snippet_56.mp4\n",
      "\n"
     ]
    },
    {
     "name": "stderr",
     "output_type": "stream",
     "text": [
      "                                             "
     ]
    },
    {
     "name": "stdout",
     "output_type": "stream",
     "text": [
      "MoviePy - Done !\n",
      "MoviePy - video ready SniffingSnippetsIsabelle/2641_snippet_56.mp4\n"
     ]
    },
    {
     "name": "stderr",
     "output_type": "stream",
     "text": [
      "\r"
     ]
    },
    {
     "name": "stdout",
     "output_type": "stream",
     "text": [
      "MoviePy - Building video SniffingSnippetsIsabelle/2641_snippet_57.mp4.\n",
      "MoviePy - Writing video SniffingSnippetsIsabelle/2641_snippet_57.mp4\n",
      "\n"
     ]
    },
    {
     "name": "stderr",
     "output_type": "stream",
     "text": [
      "                                                            "
     ]
    },
    {
     "name": "stdout",
     "output_type": "stream",
     "text": [
      "MoviePy - Done !\n",
      "MoviePy - video ready SniffingSnippetsIsabelle/2641_snippet_57.mp4\n"
     ]
    },
    {
     "name": "stderr",
     "output_type": "stream",
     "text": [
      "\r"
     ]
    },
    {
     "name": "stdout",
     "output_type": "stream",
     "text": [
      "MoviePy - Building video SniffingSnippetsIsabelle/2641_snippet_58.mp4.\n",
      "MoviePy - Writing video SniffingSnippetsIsabelle/2641_snippet_58.mp4\n",
      "\n"
     ]
    },
    {
     "name": "stderr",
     "output_type": "stream",
     "text": [
      "                                                            \r"
     ]
    },
    {
     "name": "stdout",
     "output_type": "stream",
     "text": [
      "MoviePy - Done !\n",
      "MoviePy - video ready SniffingSnippetsIsabelle/2641_snippet_58.mp4\n",
      "MoviePy - Building video SniffingSnippetsIsabelle/2641_snippet_59.mp4.\n",
      "MoviePy - Writing video SniffingSnippetsIsabelle/2641_snippet_59.mp4\n",
      "\n"
     ]
    },
    {
     "name": "stderr",
     "output_type": "stream",
     "text": [
      "                                             "
     ]
    },
    {
     "name": "stdout",
     "output_type": "stream",
     "text": [
      "MoviePy - Done !\n",
      "MoviePy - video ready SniffingSnippetsIsabelle/2641_snippet_59.mp4\n"
     ]
    },
    {
     "name": "stderr",
     "output_type": "stream",
     "text": [
      "\r"
     ]
    },
    {
     "name": "stdout",
     "output_type": "stream",
     "text": [
      "MoviePy - Building video SniffingSnippetsIsabelle/2641_snippet_60.mp4.\n",
      "MoviePy - Writing video SniffingSnippetsIsabelle/2641_snippet_60.mp4\n",
      "\n"
     ]
    },
    {
     "name": "stderr",
     "output_type": "stream",
     "text": [
      "                                                                      \r"
     ]
    },
    {
     "name": "stdout",
     "output_type": "stream",
     "text": [
      "MoviePy - Done !\n",
      "MoviePy - video ready SniffingSnippetsIsabelle/2641_snippet_60.mp4\n",
      "MoviePy - Building video SniffingSnippetsIsabelle/2641_snippet_61.mp4.\n",
      "MoviePy - Writing video SniffingSnippetsIsabelle/2641_snippet_61.mp4\n",
      "\n"
     ]
    },
    {
     "name": "stderr",
     "output_type": "stream",
     "text": [
      "                                                            "
     ]
    },
    {
     "name": "stdout",
     "output_type": "stream",
     "text": [
      "MoviePy - Done !\n",
      "MoviePy - video ready SniffingSnippetsIsabelle/2641_snippet_61.mp4\n",
      "Video number: 2642\n"
     ]
    },
    {
     "name": "stderr",
     "output_type": "stream",
     "text": [
      "\r"
     ]
    },
    {
     "name": "stdout",
     "output_type": "stream",
     "text": [
      "Input video duration: 25.53 seconds\n",
      "\u001b[32m[05/27 22:07:06 d2.checkpoint.detection_checkpoint]: \u001b[0m[DetectionCheckpointer] Loading from ./output/model_final.pth ...\n"
     ]
    },
    {
     "name": "stderr",
     "output_type": "stream",
     "text": [
      "INFO:fvcore.common.checkpoint:[Checkpointer] Loading from ./output/model_final.pth ...\n"
     ]
    },
    {
     "name": "stdout",
     "output_type": "stream",
     "text": [
      "2642\n",
      "MoviePy - Building video SniffingSnippetsIsabelle/2642_snippet_0.mp4.\n",
      "MoviePy - Writing video SniffingSnippetsIsabelle/2642_snippet_0.mp4\n",
      "\n"
     ]
    },
    {
     "name": "stderr",
     "output_type": "stream",
     "text": [
      "                                                            "
     ]
    },
    {
     "name": "stdout",
     "output_type": "stream",
     "text": [
      "MoviePy - Done !\n",
      "MoviePy - video ready SniffingSnippetsIsabelle/2642_snippet_0.mp4\n"
     ]
    },
    {
     "name": "stderr",
     "output_type": "stream",
     "text": [
      "\r"
     ]
    },
    {
     "name": "stdout",
     "output_type": "stream",
     "text": [
      "MoviePy - Building video SniffingSnippetsIsabelle/2642_snippet_1.mp4.\n",
      "MoviePy - Writing video SniffingSnippetsIsabelle/2642_snippet_1.mp4\n",
      "\n"
     ]
    },
    {
     "name": "stderr",
     "output_type": "stream",
     "text": [
      "                                                            "
     ]
    },
    {
     "name": "stdout",
     "output_type": "stream",
     "text": [
      "MoviePy - Done !\n",
      "MoviePy - video ready SniffingSnippetsIsabelle/2642_snippet_1.mp4\n"
     ]
    },
    {
     "name": "stderr",
     "output_type": "stream",
     "text": [
      "\r"
     ]
    },
    {
     "name": "stdout",
     "output_type": "stream",
     "text": [
      "MoviePy - Building video SniffingSnippetsIsabelle/2642_snippet_2.mp4.\n",
      "MoviePy - Writing video SniffingSnippetsIsabelle/2642_snippet_2.mp4\n",
      "\n"
     ]
    },
    {
     "name": "stderr",
     "output_type": "stream",
     "text": [
      "                                             "
     ]
    },
    {
     "name": "stdout",
     "output_type": "stream",
     "text": [
      "MoviePy - Done !\n",
      "MoviePy - video ready SniffingSnippetsIsabelle/2642_snippet_2.mp4\n"
     ]
    },
    {
     "name": "stderr",
     "output_type": "stream",
     "text": [
      "\r"
     ]
    },
    {
     "name": "stdout",
     "output_type": "stream",
     "text": [
      "MoviePy - Building video SniffingSnippetsIsabelle/2642_snippet_3.mp4.\n",
      "MoviePy - Writing video SniffingSnippetsIsabelle/2642_snippet_3.mp4\n",
      "\n"
     ]
    },
    {
     "name": "stderr",
     "output_type": "stream",
     "text": [
      "                                                             \r"
     ]
    },
    {
     "name": "stdout",
     "output_type": "stream",
     "text": [
      "MoviePy - Done !\n",
      "MoviePy - video ready SniffingSnippetsIsabelle/2642_snippet_3.mp4\n",
      "MoviePy - Building video SniffingSnippetsIsabelle/2642_snippet_4.mp4.\n",
      "MoviePy - Writing video SniffingSnippetsIsabelle/2642_snippet_4.mp4\n",
      "\n"
     ]
    },
    {
     "name": "stderr",
     "output_type": "stream",
     "text": [
      "                                                                       \r"
     ]
    },
    {
     "name": "stdout",
     "output_type": "stream",
     "text": [
      "MoviePy - Done !\n",
      "MoviePy - video ready SniffingSnippetsIsabelle/2642_snippet_4.mp4\n",
      "MoviePy - Building video SniffingSnippetsIsabelle/2642_snippet_5.mp4.\n",
      "MoviePy - Writing video SniffingSnippetsIsabelle/2642_snippet_5.mp4\n",
      "\n"
     ]
    },
    {
     "name": "stderr",
     "output_type": "stream",
     "text": [
      "                                                            "
     ]
    },
    {
     "name": "stdout",
     "output_type": "stream",
     "text": [
      "MoviePy - Done !\n",
      "MoviePy - video ready SniffingSnippetsIsabelle/2642_snippet_5.mp4\n"
     ]
    },
    {
     "name": "stderr",
     "output_type": "stream",
     "text": [
      "\r"
     ]
    },
    {
     "name": "stdout",
     "output_type": "stream",
     "text": [
      "MoviePy - Building video SniffingSnippetsIsabelle/2642_snippet_6.mp4.\n",
      "MoviePy - Writing video SniffingSnippetsIsabelle/2642_snippet_6.mp4\n",
      "\n"
     ]
    },
    {
     "name": "stderr",
     "output_type": "stream",
     "text": [
      "                                                             \r"
     ]
    },
    {
     "name": "stdout",
     "output_type": "stream",
     "text": [
      "MoviePy - Done !\n",
      "MoviePy - video ready SniffingSnippetsIsabelle/2642_snippet_6.mp4\n",
      "MoviePy - Building video SniffingSnippetsIsabelle/2642_snippet_7.mp4.\n",
      "MoviePy - Writing video SniffingSnippetsIsabelle/2642_snippet_7.mp4\n",
      "\n"
     ]
    },
    {
     "name": "stderr",
     "output_type": "stream",
     "text": [
      "                                                             \r"
     ]
    },
    {
     "name": "stdout",
     "output_type": "stream",
     "text": [
      "MoviePy - Done !\n",
      "MoviePy - video ready SniffingSnippetsIsabelle/2642_snippet_7.mp4\n",
      "MoviePy - Building video SniffingSnippetsIsabelle/2642_snippet_8.mp4.\n",
      "MoviePy - Writing video SniffingSnippetsIsabelle/2642_snippet_8.mp4\n",
      "\n"
     ]
    },
    {
     "name": "stderr",
     "output_type": "stream",
     "text": [
      "                                                                       \r"
     ]
    },
    {
     "name": "stdout",
     "output_type": "stream",
     "text": [
      "MoviePy - Done !\n",
      "MoviePy - video ready SniffingSnippetsIsabelle/2642_snippet_8.mp4\n",
      "MoviePy - Building video SniffingSnippetsIsabelle/2642_snippet_9.mp4.\n",
      "MoviePy - Writing video SniffingSnippetsIsabelle/2642_snippet_9.mp4\n",
      "\n"
     ]
    },
    {
     "name": "stderr",
     "output_type": "stream",
     "text": [
      "                                                            "
     ]
    },
    {
     "name": "stdout",
     "output_type": "stream",
     "text": [
      "MoviePy - Done !\n",
      "MoviePy - video ready SniffingSnippetsIsabelle/2642_snippet_9.mp4\n"
     ]
    },
    {
     "name": "stderr",
     "output_type": "stream",
     "text": [
      "\r"
     ]
    },
    {
     "name": "stdout",
     "output_type": "stream",
     "text": [
      "MoviePy - Building video SniffingSnippetsIsabelle/2642_snippet_10.mp4.\n",
      "MoviePy - Writing video SniffingSnippetsIsabelle/2642_snippet_10.mp4\n",
      "\n"
     ]
    },
    {
     "name": "stderr",
     "output_type": "stream",
     "text": [
      "                                                            "
     ]
    },
    {
     "name": "stdout",
     "output_type": "stream",
     "text": [
      "MoviePy - Done !\n",
      "MoviePy - video ready SniffingSnippetsIsabelle/2642_snippet_10.mp4\n"
     ]
    },
    {
     "name": "stderr",
     "output_type": "stream",
     "text": [
      "\r"
     ]
    },
    {
     "name": "stdout",
     "output_type": "stream",
     "text": [
      "MoviePy - Building video SniffingSnippetsIsabelle/2642_snippet_11.mp4.\n",
      "MoviePy - Writing video SniffingSnippetsIsabelle/2642_snippet_11.mp4\n",
      "\n"
     ]
    },
    {
     "name": "stderr",
     "output_type": "stream",
     "text": [
      "                                                            "
     ]
    },
    {
     "name": "stdout",
     "output_type": "stream",
     "text": [
      "MoviePy - Done !\n",
      "MoviePy - video ready SniffingSnippetsIsabelle/2642_snippet_11.mp4\n"
     ]
    },
    {
     "name": "stderr",
     "output_type": "stream",
     "text": [
      "\r"
     ]
    },
    {
     "name": "stdout",
     "output_type": "stream",
     "text": [
      "MoviePy - Building video SniffingSnippetsIsabelle/2642_snippet_12.mp4.\n",
      "MoviePy - Writing video SniffingSnippetsIsabelle/2642_snippet_12.mp4\n",
      "\n"
     ]
    },
    {
     "name": "stderr",
     "output_type": "stream",
     "text": [
      "                                                                       \r"
     ]
    },
    {
     "name": "stdout",
     "output_type": "stream",
     "text": [
      "MoviePy - Done !\n",
      "MoviePy - video ready SniffingSnippetsIsabelle/2642_snippet_12.mp4\n",
      "MoviePy - Building video SniffingSnippetsIsabelle/2642_snippet_13.mp4.\n",
      "MoviePy - Writing video SniffingSnippetsIsabelle/2642_snippet_13.mp4\n",
      "\n"
     ]
    },
    {
     "name": "stderr",
     "output_type": "stream",
     "text": [
      "                                                            "
     ]
    },
    {
     "name": "stdout",
     "output_type": "stream",
     "text": [
      "MoviePy - Done !\n",
      "MoviePy - video ready SniffingSnippetsIsabelle/2642_snippet_13.mp4\n"
     ]
    },
    {
     "name": "stderr",
     "output_type": "stream",
     "text": [
      "\r"
     ]
    },
    {
     "name": "stdout",
     "output_type": "stream",
     "text": [
      "MoviePy - Building video SniffingSnippetsIsabelle/2642_snippet_14.mp4.\n",
      "MoviePy - Writing video SniffingSnippetsIsabelle/2642_snippet_14.mp4\n",
      "\n"
     ]
    },
    {
     "name": "stderr",
     "output_type": "stream",
     "text": [
      "                                                            \r"
     ]
    },
    {
     "name": "stdout",
     "output_type": "stream",
     "text": [
      "MoviePy - Done !\n",
      "MoviePy - video ready SniffingSnippetsIsabelle/2642_snippet_14.mp4\n",
      "MoviePy - Building video SniffingSnippetsIsabelle/2642_snippet_15.mp4.\n",
      "MoviePy - Writing video SniffingSnippetsIsabelle/2642_snippet_15.mp4\n",
      "\n"
     ]
    },
    {
     "name": "stderr",
     "output_type": "stream",
     "text": [
      "                                                            \r"
     ]
    },
    {
     "name": "stdout",
     "output_type": "stream",
     "text": [
      "MoviePy - Done !\n",
      "MoviePy - video ready SniffingSnippetsIsabelle/2642_snippet_15.mp4\n",
      "MoviePy - Building video SniffingSnippetsIsabelle/2642_snippet_16.mp4.\n",
      "MoviePy - Writing video SniffingSnippetsIsabelle/2642_snippet_16.mp4\n",
      "\n"
     ]
    },
    {
     "name": "stderr",
     "output_type": "stream",
     "text": [
      "                                                                       \r"
     ]
    },
    {
     "name": "stdout",
     "output_type": "stream",
     "text": [
      "MoviePy - Done !\n",
      "MoviePy - video ready SniffingSnippetsIsabelle/2642_snippet_16.mp4\n",
      "MoviePy - Building video SniffingSnippetsIsabelle/2642_snippet_17.mp4.\n",
      "MoviePy - Writing video SniffingSnippetsIsabelle/2642_snippet_17.mp4\n",
      "\n"
     ]
    },
    {
     "name": "stderr",
     "output_type": "stream",
     "text": [
      "                                                            "
     ]
    },
    {
     "name": "stdout",
     "output_type": "stream",
     "text": [
      "MoviePy - Done !\n",
      "MoviePy - video ready SniffingSnippetsIsabelle/2642_snippet_17.mp4\n"
     ]
    },
    {
     "name": "stderr",
     "output_type": "stream",
     "text": [
      "\r"
     ]
    },
    {
     "name": "stdout",
     "output_type": "stream",
     "text": [
      "MoviePy - Building video SniffingSnippetsIsabelle/2642_snippet_18.mp4.\n",
      "MoviePy - Writing video SniffingSnippetsIsabelle/2642_snippet_18.mp4\n",
      "\n"
     ]
    },
    {
     "name": "stderr",
     "output_type": "stream",
     "text": [
      "                                                                       \r"
     ]
    },
    {
     "name": "stdout",
     "output_type": "stream",
     "text": [
      "MoviePy - Done !\n",
      "MoviePy - video ready SniffingSnippetsIsabelle/2642_snippet_18.mp4\n",
      "MoviePy - Building video SniffingSnippetsIsabelle/2642_snippet_19.mp4.\n",
      "MoviePy - Writing video SniffingSnippetsIsabelle/2642_snippet_19.mp4\n",
      "\n"
     ]
    },
    {
     "name": "stderr",
     "output_type": "stream",
     "text": [
      "                                                                       \r"
     ]
    },
    {
     "name": "stdout",
     "output_type": "stream",
     "text": [
      "MoviePy - Done !\n",
      "MoviePy - video ready SniffingSnippetsIsabelle/2642_snippet_19.mp4\n",
      "MoviePy - Building video SniffingSnippetsIsabelle/2642_snippet_20.mp4.\n",
      "MoviePy - Writing video SniffingSnippetsIsabelle/2642_snippet_20.mp4\n",
      "\n"
     ]
    },
    {
     "name": "stderr",
     "output_type": "stream",
     "text": [
      "                                                             \r"
     ]
    },
    {
     "name": "stdout",
     "output_type": "stream",
     "text": [
      "MoviePy - Done !\n",
      "MoviePy - video ready SniffingSnippetsIsabelle/2642_snippet_20.mp4\n",
      "MoviePy - Building video SniffingSnippetsIsabelle/2642_snippet_21.mp4.\n",
      "MoviePy - Writing video SniffingSnippetsIsabelle/2642_snippet_21.mp4\n",
      "\n"
     ]
    },
    {
     "name": "stderr",
     "output_type": "stream",
     "text": [
      "                                                            "
     ]
    },
    {
     "name": "stdout",
     "output_type": "stream",
     "text": [
      "MoviePy - Done !\n",
      "MoviePy - video ready SniffingSnippetsIsabelle/2642_snippet_21.mp4\n"
     ]
    },
    {
     "name": "stderr",
     "output_type": "stream",
     "text": [
      "\r"
     ]
    },
    {
     "name": "stdout",
     "output_type": "stream",
     "text": [
      "MoviePy - Building video SniffingSnippetsIsabelle/2642_snippet_22.mp4.\n",
      "MoviePy - Writing video SniffingSnippetsIsabelle/2642_snippet_22.mp4\n",
      "\n"
     ]
    },
    {
     "name": "stderr",
     "output_type": "stream",
     "text": [
      "                                                            "
     ]
    },
    {
     "name": "stdout",
     "output_type": "stream",
     "text": [
      "MoviePy - Done !\n",
      "MoviePy - video ready SniffingSnippetsIsabelle/2642_snippet_22.mp4\n"
     ]
    },
    {
     "name": "stderr",
     "output_type": "stream",
     "text": [
      "\r"
     ]
    },
    {
     "name": "stdout",
     "output_type": "stream",
     "text": [
      "MoviePy - Building video SniffingSnippetsIsabelle/2642_snippet_23.mp4.\n",
      "MoviePy - Writing video SniffingSnippetsIsabelle/2642_snippet_23.mp4\n",
      "\n"
     ]
    },
    {
     "name": "stderr",
     "output_type": "stream",
     "text": [
      "                                             "
     ]
    },
    {
     "name": "stdout",
     "output_type": "stream",
     "text": [
      "MoviePy - Done !\n",
      "MoviePy - video ready SniffingSnippetsIsabelle/2642_snippet_23.mp4\n"
     ]
    },
    {
     "name": "stderr",
     "output_type": "stream",
     "text": [
      "\r"
     ]
    },
    {
     "name": "stdout",
     "output_type": "stream",
     "text": [
      "MoviePy - Building video SniffingSnippetsIsabelle/2642_snippet_24.mp4.\n",
      "MoviePy - Writing video SniffingSnippetsIsabelle/2642_snippet_24.mp4\n",
      "\n"
     ]
    },
    {
     "name": "stderr",
     "output_type": "stream",
     "text": [
      "                                                            \r"
     ]
    },
    {
     "name": "stdout",
     "output_type": "stream",
     "text": [
      "MoviePy - Done !\n",
      "MoviePy - video ready SniffingSnippetsIsabelle/2642_snippet_24.mp4\n",
      "MoviePy - Building video SniffingSnippetsIsabelle/2642_snippet_25.mp4.\n",
      "MoviePy - Writing video SniffingSnippetsIsabelle/2642_snippet_25.mp4\n",
      "\n"
     ]
    },
    {
     "name": "stderr",
     "output_type": "stream",
     "text": [
      "                                                             \r"
     ]
    },
    {
     "name": "stdout",
     "output_type": "stream",
     "text": [
      "MoviePy - Done !\n",
      "MoviePy - video ready SniffingSnippetsIsabelle/2642_snippet_25.mp4\n",
      "MoviePy - Building video SniffingSnippetsIsabelle/2642_snippet_26.mp4.\n",
      "MoviePy - Writing video SniffingSnippetsIsabelle/2642_snippet_26.mp4\n",
      "\n"
     ]
    },
    {
     "name": "stderr",
     "output_type": "stream",
     "text": [
      "                                                                       \r"
     ]
    },
    {
     "name": "stdout",
     "output_type": "stream",
     "text": [
      "MoviePy - Done !\n",
      "MoviePy - video ready SniffingSnippetsIsabelle/2642_snippet_26.mp4\n",
      "MoviePy - Building video SniffingSnippetsIsabelle/2642_snippet_27.mp4.\n",
      "MoviePy - Writing video SniffingSnippetsIsabelle/2642_snippet_27.mp4\n",
      "\n"
     ]
    },
    {
     "name": "stderr",
     "output_type": "stream",
     "text": [
      "                                                            "
     ]
    },
    {
     "name": "stdout",
     "output_type": "stream",
     "text": [
      "MoviePy - Done !\n",
      "MoviePy - video ready SniffingSnippetsIsabelle/2642_snippet_27.mp4\n"
     ]
    },
    {
     "name": "stderr",
     "output_type": "stream",
     "text": [
      "\r"
     ]
    },
    {
     "name": "stdout",
     "output_type": "stream",
     "text": [
      "MoviePy - Building video SniffingSnippetsIsabelle/2642_snippet_28.mp4.\n",
      "MoviePy - Writing video SniffingSnippetsIsabelle/2642_snippet_28.mp4\n",
      "\n"
     ]
    },
    {
     "name": "stderr",
     "output_type": "stream",
     "text": [
      "                                                            "
     ]
    },
    {
     "name": "stdout",
     "output_type": "stream",
     "text": [
      "MoviePy - Done !\n",
      "MoviePy - video ready SniffingSnippetsIsabelle/2642_snippet_28.mp4\n"
     ]
    },
    {
     "name": "stderr",
     "output_type": "stream",
     "text": [
      "\r"
     ]
    },
    {
     "name": "stdout",
     "output_type": "stream",
     "text": [
      "MoviePy - Building video SniffingSnippetsIsabelle/2642_snippet_29.mp4.\n",
      "MoviePy - Writing video SniffingSnippetsIsabelle/2642_snippet_29.mp4\n",
      "\n"
     ]
    },
    {
     "name": "stderr",
     "output_type": "stream",
     "text": [
      "                                                            "
     ]
    },
    {
     "name": "stdout",
     "output_type": "stream",
     "text": [
      "MoviePy - Done !\n",
      "MoviePy - video ready SniffingSnippetsIsabelle/2642_snippet_29.mp4\n"
     ]
    },
    {
     "name": "stderr",
     "output_type": "stream",
     "text": [
      "\r"
     ]
    },
    {
     "name": "stdout",
     "output_type": "stream",
     "text": [
      "MoviePy - Building video SniffingSnippetsIsabelle/2642_snippet_30.mp4.\n",
      "MoviePy - Writing video SniffingSnippetsIsabelle/2642_snippet_30.mp4\n",
      "\n"
     ]
    },
    {
     "name": "stderr",
     "output_type": "stream",
     "text": [
      "                                                            "
     ]
    },
    {
     "name": "stdout",
     "output_type": "stream",
     "text": [
      "MoviePy - Done !\n",
      "MoviePy - video ready SniffingSnippetsIsabelle/2642_snippet_30.mp4\n"
     ]
    },
    {
     "name": "stderr",
     "output_type": "stream",
     "text": [
      "\r"
     ]
    },
    {
     "name": "stdout",
     "output_type": "stream",
     "text": [
      "MoviePy - Building video SniffingSnippetsIsabelle/2642_snippet_31.mp4.\n",
      "MoviePy - Writing video SniffingSnippetsIsabelle/2642_snippet_31.mp4\n",
      "\n"
     ]
    },
    {
     "name": "stderr",
     "output_type": "stream",
     "text": [
      "                                                            \r"
     ]
    },
    {
     "name": "stdout",
     "output_type": "stream",
     "text": [
      "MoviePy - Done !\n",
      "MoviePy - video ready SniffingSnippetsIsabelle/2642_snippet_31.mp4\n",
      "MoviePy - Building video SniffingSnippetsIsabelle/2642_snippet_32.mp4.\n",
      "MoviePy - Writing video SniffingSnippetsIsabelle/2642_snippet_32.mp4\n",
      "\n"
     ]
    },
    {
     "name": "stderr",
     "output_type": "stream",
     "text": [
      "                                             "
     ]
    },
    {
     "name": "stdout",
     "output_type": "stream",
     "text": [
      "MoviePy - Done !\n",
      "MoviePy - video ready SniffingSnippetsIsabelle/2642_snippet_32.mp4\n"
     ]
    },
    {
     "name": "stderr",
     "output_type": "stream",
     "text": [
      "\r"
     ]
    },
    {
     "name": "stdout",
     "output_type": "stream",
     "text": [
      "MoviePy - Building video SniffingSnippetsIsabelle/2642_snippet_33.mp4.\n",
      "MoviePy - Writing video SniffingSnippetsIsabelle/2642_snippet_33.mp4\n",
      "\n"
     ]
    },
    {
     "name": "stderr",
     "output_type": "stream",
     "text": [
      "                                                             \r"
     ]
    },
    {
     "name": "stdout",
     "output_type": "stream",
     "text": [
      "MoviePy - Done !\n",
      "MoviePy - video ready SniffingSnippetsIsabelle/2642_snippet_33.mp4\n",
      "MoviePy - Building video SniffingSnippetsIsabelle/2642_snippet_34.mp4.\n",
      "MoviePy - Writing video SniffingSnippetsIsabelle/2642_snippet_34.mp4\n",
      "\n"
     ]
    },
    {
     "name": "stderr",
     "output_type": "stream",
     "text": [
      "                                                            "
     ]
    },
    {
     "name": "stdout",
     "output_type": "stream",
     "text": [
      "MoviePy - Done !\n",
      "MoviePy - video ready SniffingSnippetsIsabelle/2642_snippet_34.mp4\n"
     ]
    },
    {
     "name": "stderr",
     "output_type": "stream",
     "text": [
      "\r"
     ]
    },
    {
     "name": "stdout",
     "output_type": "stream",
     "text": [
      "MoviePy - Building video SniffingSnippetsIsabelle/2642_snippet_35.mp4.\n",
      "MoviePy - Writing video SniffingSnippetsIsabelle/2642_snippet_35.mp4\n",
      "\n"
     ]
    },
    {
     "name": "stderr",
     "output_type": "stream",
     "text": [
      "                                                                       \r"
     ]
    },
    {
     "name": "stdout",
     "output_type": "stream",
     "text": [
      "MoviePy - Done !\n",
      "MoviePy - video ready SniffingSnippetsIsabelle/2642_snippet_35.mp4\n",
      "MoviePy - Building video SniffingSnippetsIsabelle/2642_snippet_36.mp4.\n",
      "MoviePy - Writing video SniffingSnippetsIsabelle/2642_snippet_36.mp4\n",
      "\n"
     ]
    },
    {
     "name": "stderr",
     "output_type": "stream",
     "text": [
      "                                                                     \r"
     ]
    },
    {
     "name": "stdout",
     "output_type": "stream",
     "text": [
      "MoviePy - Done !\n",
      "MoviePy - video ready SniffingSnippetsIsabelle/2642_snippet_36.mp4\n",
      "MoviePy - Building video SniffingSnippetsIsabelle/2642_snippet_37.mp4.\n",
      "MoviePy - Writing video SniffingSnippetsIsabelle/2642_snippet_37.mp4\n",
      "\n"
     ]
    },
    {
     "name": "stderr",
     "output_type": "stream",
     "text": [
      "                                                            "
     ]
    },
    {
     "name": "stdout",
     "output_type": "stream",
     "text": [
      "MoviePy - Done !\n",
      "MoviePy - video ready SniffingSnippetsIsabelle/2642_snippet_37.mp4\n"
     ]
    },
    {
     "name": "stderr",
     "output_type": "stream",
     "text": [
      "\r"
     ]
    },
    {
     "name": "stdout",
     "output_type": "stream",
     "text": [
      "MoviePy - Building video SniffingSnippetsIsabelle/2642_snippet_38.mp4.\n",
      "MoviePy - Writing video SniffingSnippetsIsabelle/2642_snippet_38.mp4\n",
      "\n"
     ]
    },
    {
     "name": "stderr",
     "output_type": "stream",
     "text": [
      "                                                                      \r"
     ]
    },
    {
     "name": "stdout",
     "output_type": "stream",
     "text": [
      "MoviePy - Done !\n",
      "MoviePy - video ready SniffingSnippetsIsabelle/2642_snippet_38.mp4\n",
      "MoviePy - Building video SniffingSnippetsIsabelle/2642_snippet_39.mp4.\n",
      "MoviePy - Writing video SniffingSnippetsIsabelle/2642_snippet_39.mp4\n",
      "\n"
     ]
    },
    {
     "name": "stderr",
     "output_type": "stream",
     "text": [
      "                                                                      \r"
     ]
    },
    {
     "name": "stdout",
     "output_type": "stream",
     "text": [
      "MoviePy - Done !\n",
      "MoviePy - video ready SniffingSnippetsIsabelle/2642_snippet_39.mp4\n",
      "MoviePy - Building video SniffingSnippetsIsabelle/2642_snippet_40.mp4.\n",
      "MoviePy - Writing video SniffingSnippetsIsabelle/2642_snippet_40.mp4\n",
      "\n"
     ]
    },
    {
     "name": "stderr",
     "output_type": "stream",
     "text": [
      "                                                            "
     ]
    },
    {
     "name": "stdout",
     "output_type": "stream",
     "text": [
      "MoviePy - Done !\n",
      "MoviePy - video ready SniffingSnippetsIsabelle/2642_snippet_40.mp4\n"
     ]
    },
    {
     "name": "stderr",
     "output_type": "stream",
     "text": [
      "\r"
     ]
    },
    {
     "name": "stdout",
     "output_type": "stream",
     "text": [
      "MoviePy - Building video SniffingSnippetsIsabelle/2642_snippet_41.mp4.\n",
      "MoviePy - Writing video SniffingSnippetsIsabelle/2642_snippet_41.mp4\n",
      "\n"
     ]
    },
    {
     "name": "stderr",
     "output_type": "stream",
     "text": [
      "                                                                       \r"
     ]
    },
    {
     "name": "stdout",
     "output_type": "stream",
     "text": [
      "MoviePy - Done !\n",
      "MoviePy - video ready SniffingSnippetsIsabelle/2642_snippet_41.mp4\n",
      "MoviePy - Building video SniffingSnippetsIsabelle/2642_snippet_42.mp4.\n",
      "MoviePy - Writing video SniffingSnippetsIsabelle/2642_snippet_42.mp4\n",
      "\n"
     ]
    },
    {
     "name": "stderr",
     "output_type": "stream",
     "text": [
      "                                                            "
     ]
    },
    {
     "name": "stdout",
     "output_type": "stream",
     "text": [
      "MoviePy - Done !\n",
      "MoviePy - video ready SniffingSnippetsIsabelle/2642_snippet_42.mp4\n"
     ]
    },
    {
     "name": "stderr",
     "output_type": "stream",
     "text": [
      "\r"
     ]
    },
    {
     "name": "stdout",
     "output_type": "stream",
     "text": [
      "MoviePy - Building video SniffingSnippetsIsabelle/2642_snippet_43.mp4.\n",
      "MoviePy - Writing video SniffingSnippetsIsabelle/2642_snippet_43.mp4\n",
      "\n"
     ]
    },
    {
     "name": "stderr",
     "output_type": "stream",
     "text": [
      "                                             "
     ]
    },
    {
     "name": "stdout",
     "output_type": "stream",
     "text": [
      "MoviePy - Done !\n",
      "MoviePy - video ready SniffingSnippetsIsabelle/2642_snippet_43.mp4\n"
     ]
    },
    {
     "name": "stderr",
     "output_type": "stream",
     "text": [
      "\r"
     ]
    },
    {
     "name": "stdout",
     "output_type": "stream",
     "text": [
      "MoviePy - Building video SniffingSnippetsIsabelle/2642_snippet_44.mp4.\n",
      "MoviePy - Writing video SniffingSnippetsIsabelle/2642_snippet_44.mp4\n",
      "\n"
     ]
    },
    {
     "name": "stderr",
     "output_type": "stream",
     "text": [
      "                                                            \r"
     ]
    },
    {
     "name": "stdout",
     "output_type": "stream",
     "text": [
      "MoviePy - Done !\n",
      "MoviePy - video ready SniffingSnippetsIsabelle/2642_snippet_44.mp4\n",
      "MoviePy - Building video SniffingSnippetsIsabelle/2642_snippet_45.mp4.\n",
      "MoviePy - Writing video SniffingSnippetsIsabelle/2642_snippet_45.mp4\n",
      "\n"
     ]
    },
    {
     "name": "stderr",
     "output_type": "stream",
     "text": [
      "                                                                       \r"
     ]
    },
    {
     "name": "stdout",
     "output_type": "stream",
     "text": [
      "MoviePy - Done !\n",
      "MoviePy - video ready SniffingSnippetsIsabelle/2642_snippet_45.mp4\n",
      "MoviePy - Building video SniffingSnippetsIsabelle/2642_snippet_46.mp4.\n",
      "MoviePy - Writing video SniffingSnippetsIsabelle/2642_snippet_46.mp4\n",
      "\n"
     ]
    },
    {
     "name": "stderr",
     "output_type": "stream",
     "text": [
      "                                                                       \r"
     ]
    },
    {
     "name": "stdout",
     "output_type": "stream",
     "text": [
      "MoviePy - Done !\n",
      "MoviePy - video ready SniffingSnippetsIsabelle/2642_snippet_46.mp4\n",
      "Video number: 2643\n",
      "Input video duration: 18.62 seconds\n",
      "\u001b[32m[05/27 22:09:40 d2.checkpoint.detection_checkpoint]: \u001b[0m[DetectionCheckpointer] Loading from ./output/model_final.pth ...\n"
     ]
    },
    {
     "name": "stderr",
     "output_type": "stream",
     "text": [
      "INFO:fvcore.common.checkpoint:[Checkpointer] Loading from ./output/model_final.pth ...\n"
     ]
    },
    {
     "name": "stdout",
     "output_type": "stream",
     "text": [
      "2643\n",
      "MoviePy - Building video SniffingSnippetsIsabelle/2643_snippet_0.mp4.\n",
      "MoviePy - Writing video SniffingSnippetsIsabelle/2643_snippet_0.mp4\n",
      "\n"
     ]
    },
    {
     "name": "stderr",
     "output_type": "stream",
     "text": [
      "                                                            "
     ]
    },
    {
     "name": "stdout",
     "output_type": "stream",
     "text": [
      "MoviePy - Done !\n",
      "MoviePy - video ready SniffingSnippetsIsabelle/2643_snippet_0.mp4\n"
     ]
    },
    {
     "name": "stderr",
     "output_type": "stream",
     "text": [
      "\r"
     ]
    },
    {
     "name": "stdout",
     "output_type": "stream",
     "text": [
      "MoviePy - Building video SniffingSnippetsIsabelle/2643_snippet_1.mp4.\n",
      "MoviePy - Writing video SniffingSnippetsIsabelle/2643_snippet_1.mp4\n",
      "\n"
     ]
    },
    {
     "name": "stderr",
     "output_type": "stream",
     "text": [
      "                                                            "
     ]
    },
    {
     "name": "stdout",
     "output_type": "stream",
     "text": [
      "MoviePy - Done !\n",
      "MoviePy - video ready SniffingSnippetsIsabelle/2643_snippet_1.mp4\n"
     ]
    },
    {
     "name": "stderr",
     "output_type": "stream",
     "text": [
      "\r"
     ]
    },
    {
     "name": "stdout",
     "output_type": "stream",
     "text": [
      "MoviePy - Building video SniffingSnippetsIsabelle/2643_snippet_2.mp4.\n",
      "MoviePy - Writing video SniffingSnippetsIsabelle/2643_snippet_2.mp4\n",
      "\n"
     ]
    },
    {
     "name": "stderr",
     "output_type": "stream",
     "text": [
      "                                                            "
     ]
    },
    {
     "name": "stdout",
     "output_type": "stream",
     "text": [
      "MoviePy - Done !\n",
      "MoviePy - video ready SniffingSnippetsIsabelle/2643_snippet_2.mp4\n"
     ]
    },
    {
     "name": "stderr",
     "output_type": "stream",
     "text": [
      "\r"
     ]
    },
    {
     "name": "stdout",
     "output_type": "stream",
     "text": [
      "MoviePy - Building video SniffingSnippetsIsabelle/2643_snippet_3.mp4.\n",
      "MoviePy - Writing video SniffingSnippetsIsabelle/2643_snippet_3.mp4\n",
      "\n"
     ]
    },
    {
     "name": "stderr",
     "output_type": "stream",
     "text": [
      "                                                             \r"
     ]
    },
    {
     "name": "stdout",
     "output_type": "stream",
     "text": [
      "MoviePy - Done !\n",
      "MoviePy - video ready SniffingSnippetsIsabelle/2643_snippet_3.mp4\n",
      "MoviePy - Building video SniffingSnippetsIsabelle/2643_snippet_4.mp4.\n",
      "MoviePy - Writing video SniffingSnippetsIsabelle/2643_snippet_4.mp4\n",
      "\n"
     ]
    },
    {
     "name": "stderr",
     "output_type": "stream",
     "text": [
      "                                                            \r"
     ]
    },
    {
     "name": "stdout",
     "output_type": "stream",
     "text": [
      "MoviePy - Done !\n",
      "MoviePy - video ready SniffingSnippetsIsabelle/2643_snippet_4.mp4\n",
      "MoviePy - Building video SniffingSnippetsIsabelle/2643_snippet_5.mp4.\n",
      "MoviePy - Writing video SniffingSnippetsIsabelle/2643_snippet_5.mp4\n",
      "\n"
     ]
    },
    {
     "name": "stderr",
     "output_type": "stream",
     "text": [
      "                                                            "
     ]
    },
    {
     "name": "stdout",
     "output_type": "stream",
     "text": [
      "MoviePy - Done !\n",
      "MoviePy - video ready SniffingSnippetsIsabelle/2643_snippet_5.mp4\n"
     ]
    },
    {
     "name": "stderr",
     "output_type": "stream",
     "text": [
      "\r"
     ]
    },
    {
     "name": "stdout",
     "output_type": "stream",
     "text": [
      "MoviePy - Building video SniffingSnippetsIsabelle/2643_snippet_6.mp4.\n",
      "MoviePy - Writing video SniffingSnippetsIsabelle/2643_snippet_6.mp4\n",
      "\n"
     ]
    },
    {
     "name": "stderr",
     "output_type": "stream",
     "text": [
      "                                             "
     ]
    },
    {
     "name": "stdout",
     "output_type": "stream",
     "text": [
      "MoviePy - Done !\n",
      "MoviePy - video ready SniffingSnippetsIsabelle/2643_snippet_6.mp4\n"
     ]
    },
    {
     "name": "stderr",
     "output_type": "stream",
     "text": [
      "\r"
     ]
    },
    {
     "name": "stdout",
     "output_type": "stream",
     "text": [
      "MoviePy - Building video SniffingSnippetsIsabelle/2643_snippet_7.mp4.\n",
      "MoviePy - Writing video SniffingSnippetsIsabelle/2643_snippet_7.mp4\n",
      "\n"
     ]
    },
    {
     "name": "stderr",
     "output_type": "stream",
     "text": [
      "                                                            \r"
     ]
    },
    {
     "name": "stdout",
     "output_type": "stream",
     "text": [
      "MoviePy - Done !\n",
      "MoviePy - video ready SniffingSnippetsIsabelle/2643_snippet_7.mp4\n",
      "MoviePy - Building video SniffingSnippetsIsabelle/2643_snippet_8.mp4.\n",
      "MoviePy - Writing video SniffingSnippetsIsabelle/2643_snippet_8.mp4\n",
      "\n"
     ]
    },
    {
     "name": "stderr",
     "output_type": "stream",
     "text": [
      "                                                            "
     ]
    },
    {
     "name": "stdout",
     "output_type": "stream",
     "text": [
      "MoviePy - Done !\n",
      "MoviePy - video ready SniffingSnippetsIsabelle/2643_snippet_8.mp4\n"
     ]
    },
    {
     "name": "stderr",
     "output_type": "stream",
     "text": [
      "\r"
     ]
    },
    {
     "name": "stdout",
     "output_type": "stream",
     "text": [
      "MoviePy - Building video SniffingSnippetsIsabelle/2643_snippet_9.mp4.\n",
      "MoviePy - Writing video SniffingSnippetsIsabelle/2643_snippet_9.mp4\n",
      "\n"
     ]
    },
    {
     "name": "stderr",
     "output_type": "stream",
     "text": [
      "                                                            "
     ]
    },
    {
     "name": "stdout",
     "output_type": "stream",
     "text": [
      "MoviePy - Done !\n",
      "MoviePy - video ready SniffingSnippetsIsabelle/2643_snippet_9.mp4\n"
     ]
    },
    {
     "name": "stderr",
     "output_type": "stream",
     "text": [
      "\r"
     ]
    },
    {
     "name": "stdout",
     "output_type": "stream",
     "text": [
      "MoviePy - Building video SniffingSnippetsIsabelle/2643_snippet_10.mp4.\n",
      "MoviePy - Writing video SniffingSnippetsIsabelle/2643_snippet_10.mp4\n",
      "\n"
     ]
    },
    {
     "name": "stderr",
     "output_type": "stream",
     "text": [
      "                                                            \r"
     ]
    },
    {
     "name": "stdout",
     "output_type": "stream",
     "text": [
      "MoviePy - Done !\n",
      "MoviePy - video ready SniffingSnippetsIsabelle/2643_snippet_10.mp4\n",
      "MoviePy - Building video SniffingSnippetsIsabelle/2643_snippet_11.mp4.\n",
      "MoviePy - Writing video SniffingSnippetsIsabelle/2643_snippet_11.mp4\n",
      "\n"
     ]
    },
    {
     "name": "stderr",
     "output_type": "stream",
     "text": [
      "                                                            "
     ]
    },
    {
     "name": "stdout",
     "output_type": "stream",
     "text": [
      "MoviePy - Done !\n",
      "MoviePy - video ready SniffingSnippetsIsabelle/2643_snippet_11.mp4\n"
     ]
    },
    {
     "name": "stderr",
     "output_type": "stream",
     "text": [
      "\r"
     ]
    },
    {
     "name": "stdout",
     "output_type": "stream",
     "text": [
      "MoviePy - Building video SniffingSnippetsIsabelle/2643_snippet_12.mp4.\n",
      "MoviePy - Writing video SniffingSnippetsIsabelle/2643_snippet_12.mp4\n",
      "\n"
     ]
    },
    {
     "name": "stderr",
     "output_type": "stream",
     "text": [
      "                                                                       \r"
     ]
    },
    {
     "name": "stdout",
     "output_type": "stream",
     "text": [
      "MoviePy - Done !\n",
      "MoviePy - video ready SniffingSnippetsIsabelle/2643_snippet_12.mp4\n",
      "MoviePy - Building video SniffingSnippetsIsabelle/2643_snippet_13.mp4.\n",
      "MoviePy - Writing video SniffingSnippetsIsabelle/2643_snippet_13.mp4\n",
      "\n"
     ]
    },
    {
     "name": "stderr",
     "output_type": "stream",
     "text": [
      "                                                             \r"
     ]
    },
    {
     "name": "stdout",
     "output_type": "stream",
     "text": [
      "MoviePy - Done !\n",
      "MoviePy - video ready SniffingSnippetsIsabelle/2643_snippet_13.mp4\n",
      "MoviePy - Building video SniffingSnippetsIsabelle/2643_snippet_14.mp4.\n",
      "MoviePy - Writing video SniffingSnippetsIsabelle/2643_snippet_14.mp4\n",
      "\n"
     ]
    },
    {
     "name": "stderr",
     "output_type": "stream",
     "text": [
      "                                                            \r"
     ]
    },
    {
     "name": "stdout",
     "output_type": "stream",
     "text": [
      "MoviePy - Done !\n",
      "MoviePy - video ready SniffingSnippetsIsabelle/2643_snippet_14.mp4\n",
      "MoviePy - Building video SniffingSnippetsIsabelle/2643_snippet_15.mp4.\n",
      "MoviePy - Writing video SniffingSnippetsIsabelle/2643_snippet_15.mp4\n",
      "\n"
     ]
    },
    {
     "name": "stderr",
     "output_type": "stream",
     "text": [
      "                                                             \r"
     ]
    },
    {
     "name": "stdout",
     "output_type": "stream",
     "text": [
      "MoviePy - Done !\n",
      "MoviePy - video ready SniffingSnippetsIsabelle/2643_snippet_15.mp4\n",
      "MoviePy - Building video SniffingSnippetsIsabelle/2643_snippet_16.mp4.\n",
      "MoviePy - Writing video SniffingSnippetsIsabelle/2643_snippet_16.mp4\n",
      "\n"
     ]
    },
    {
     "name": "stderr",
     "output_type": "stream",
     "text": [
      "                                                            \r"
     ]
    },
    {
     "name": "stdout",
     "output_type": "stream",
     "text": [
      "MoviePy - Done !\n",
      "MoviePy - video ready SniffingSnippetsIsabelle/2643_snippet_16.mp4\n",
      "MoviePy - Building video SniffingSnippetsIsabelle/2643_snippet_17.mp4.\n",
      "MoviePy - Writing video SniffingSnippetsIsabelle/2643_snippet_17.mp4\n",
      "\n"
     ]
    },
    {
     "name": "stderr",
     "output_type": "stream",
     "text": [
      "                                                            "
     ]
    },
    {
     "name": "stdout",
     "output_type": "stream",
     "text": [
      "MoviePy - Done !\n",
      "MoviePy - video ready SniffingSnippetsIsabelle/2643_snippet_17.mp4\n"
     ]
    },
    {
     "name": "stderr",
     "output_type": "stream",
     "text": [
      "\r"
     ]
    },
    {
     "name": "stdout",
     "output_type": "stream",
     "text": [
      "MoviePy - Building video SniffingSnippetsIsabelle/2643_snippet_18.mp4.\n",
      "MoviePy - Writing video SniffingSnippetsIsabelle/2643_snippet_18.mp4\n",
      "\n"
     ]
    },
    {
     "name": "stderr",
     "output_type": "stream",
     "text": [
      "                                                                       \r"
     ]
    },
    {
     "name": "stdout",
     "output_type": "stream",
     "text": [
      "MoviePy - Done !\n",
      "MoviePy - video ready SniffingSnippetsIsabelle/2643_snippet_18.mp4\n",
      "MoviePy - Building video SniffingSnippetsIsabelle/2643_snippet_19.mp4.\n",
      "MoviePy - Writing video SniffingSnippetsIsabelle/2643_snippet_19.mp4\n",
      "\n"
     ]
    },
    {
     "name": "stderr",
     "output_type": "stream",
     "text": [
      "                                                            "
     ]
    },
    {
     "name": "stdout",
     "output_type": "stream",
     "text": [
      "MoviePy - Done !\n",
      "MoviePy - video ready SniffingSnippetsIsabelle/2643_snippet_19.mp4\n"
     ]
    },
    {
     "name": "stderr",
     "output_type": "stream",
     "text": [
      "\r"
     ]
    },
    {
     "name": "stdout",
     "output_type": "stream",
     "text": [
      "MoviePy - Building video SniffingSnippetsIsabelle/2643_snippet_20.mp4.\n",
      "MoviePy - Writing video SniffingSnippetsIsabelle/2643_snippet_20.mp4\n",
      "\n"
     ]
    },
    {
     "name": "stderr",
     "output_type": "stream",
     "text": [
      "                                             "
     ]
    },
    {
     "name": "stdout",
     "output_type": "stream",
     "text": [
      "MoviePy - Done !\n",
      "MoviePy - video ready SniffingSnippetsIsabelle/2643_snippet_20.mp4\n"
     ]
    },
    {
     "name": "stderr",
     "output_type": "stream",
     "text": [
      "\r"
     ]
    },
    {
     "name": "stdout",
     "output_type": "stream",
     "text": [
      "MoviePy - Building video SniffingSnippetsIsabelle/2643_snippet_21.mp4.\n",
      "MoviePy - Writing video SniffingSnippetsIsabelle/2643_snippet_21.mp4\n",
      "\n"
     ]
    },
    {
     "name": "stderr",
     "output_type": "stream",
     "text": [
      "                                                            \r"
     ]
    },
    {
     "name": "stdout",
     "output_type": "stream",
     "text": [
      "MoviePy - Done !\n",
      "MoviePy - video ready SniffingSnippetsIsabelle/2643_snippet_21.mp4\n",
      "MoviePy - Building video SniffingSnippetsIsabelle/2643_snippet_22.mp4.\n",
      "MoviePy - Writing video SniffingSnippetsIsabelle/2643_snippet_22.mp4\n",
      "\n"
     ]
    },
    {
     "name": "stderr",
     "output_type": "stream",
     "text": [
      "                                                            \r"
     ]
    },
    {
     "name": "stdout",
     "output_type": "stream",
     "text": [
      "MoviePy - Done !\n",
      "MoviePy - video ready SniffingSnippetsIsabelle/2643_snippet_22.mp4\n",
      "MoviePy - Building video SniffingSnippetsIsabelle/2643_snippet_23.mp4.\n",
      "MoviePy - Writing video SniffingSnippetsIsabelle/2643_snippet_23.mp4\n",
      "\n"
     ]
    },
    {
     "name": "stderr",
     "output_type": "stream",
     "text": [
      "                                                            \r"
     ]
    },
    {
     "name": "stdout",
     "output_type": "stream",
     "text": [
      "MoviePy - Done !\n",
      "MoviePy - video ready SniffingSnippetsIsabelle/2643_snippet_23.mp4\n",
      "MoviePy - Building video SniffingSnippetsIsabelle/2643_snippet_24.mp4.\n",
      "MoviePy - Writing video SniffingSnippetsIsabelle/2643_snippet_24.mp4\n",
      "\n"
     ]
    },
    {
     "name": "stderr",
     "output_type": "stream",
     "text": [
      "                                                             \r"
     ]
    },
    {
     "name": "stdout",
     "output_type": "stream",
     "text": [
      "MoviePy - Done !\n",
      "MoviePy - video ready SniffingSnippetsIsabelle/2643_snippet_24.mp4\n",
      "MoviePy - Building video SniffingSnippetsIsabelle/2643_snippet_25.mp4.\n",
      "MoviePy - Writing video SniffingSnippetsIsabelle/2643_snippet_25.mp4\n",
      "\n"
     ]
    },
    {
     "name": "stderr",
     "output_type": "stream",
     "text": [
      "                                                            "
     ]
    },
    {
     "name": "stdout",
     "output_type": "stream",
     "text": [
      "MoviePy - Done !\n",
      "MoviePy - video ready SniffingSnippetsIsabelle/2643_snippet_25.mp4\n"
     ]
    },
    {
     "name": "stderr",
     "output_type": "stream",
     "text": [
      "\r"
     ]
    },
    {
     "name": "stdout",
     "output_type": "stream",
     "text": [
      "MoviePy - Building video SniffingSnippetsIsabelle/2643_snippet_26.mp4.\n",
      "MoviePy - Writing video SniffingSnippetsIsabelle/2643_snippet_26.mp4\n",
      "\n"
     ]
    },
    {
     "name": "stderr",
     "output_type": "stream",
     "text": [
      "                                                            "
     ]
    },
    {
     "name": "stdout",
     "output_type": "stream",
     "text": [
      "MoviePy - Done !\n",
      "MoviePy - video ready SniffingSnippetsIsabelle/2643_snippet_26.mp4\n"
     ]
    },
    {
     "name": "stderr",
     "output_type": "stream",
     "text": [
      "\r"
     ]
    },
    {
     "name": "stdout",
     "output_type": "stream",
     "text": [
      "MoviePy - Building video SniffingSnippetsIsabelle/2643_snippet_27.mp4.\n",
      "MoviePy - Writing video SniffingSnippetsIsabelle/2643_snippet_27.mp4\n",
      "\n"
     ]
    },
    {
     "name": "stderr",
     "output_type": "stream",
     "text": [
      "                                             "
     ]
    },
    {
     "name": "stdout",
     "output_type": "stream",
     "text": [
      "MoviePy - Done !\n",
      "MoviePy - video ready SniffingSnippetsIsabelle/2643_snippet_27.mp4\n"
     ]
    },
    {
     "name": "stderr",
     "output_type": "stream",
     "text": [
      "\r"
     ]
    },
    {
     "name": "stdout",
     "output_type": "stream",
     "text": [
      "MoviePy - Building video SniffingSnippetsIsabelle/2643_snippet_28.mp4.\n",
      "MoviePy - Writing video SniffingSnippetsIsabelle/2643_snippet_28.mp4\n",
      "\n"
     ]
    },
    {
     "name": "stderr",
     "output_type": "stream",
     "text": [
      "                                                            "
     ]
    },
    {
     "name": "stdout",
     "output_type": "stream",
     "text": [
      "MoviePy - Done !\n",
      "MoviePy - video ready SniffingSnippetsIsabelle/2643_snippet_28.mp4\n"
     ]
    },
    {
     "name": "stderr",
     "output_type": "stream",
     "text": [
      "\r"
     ]
    },
    {
     "name": "stdout",
     "output_type": "stream",
     "text": [
      "MoviePy - Building video SniffingSnippetsIsabelle/2643_snippet_29.mp4.\n",
      "MoviePy - Writing video SniffingSnippetsIsabelle/2643_snippet_29.mp4\n",
      "\n"
     ]
    },
    {
     "name": "stderr",
     "output_type": "stream",
     "text": [
      "                                                            "
     ]
    },
    {
     "name": "stdout",
     "output_type": "stream",
     "text": [
      "MoviePy - Done !\n",
      "MoviePy - video ready SniffingSnippetsIsabelle/2643_snippet_29.mp4\n"
     ]
    },
    {
     "name": "stderr",
     "output_type": "stream",
     "text": [
      "\r"
     ]
    },
    {
     "name": "stdout",
     "output_type": "stream",
     "text": [
      "MoviePy - Building video SniffingSnippetsIsabelle/2643_snippet_30.mp4.\n",
      "MoviePy - Writing video SniffingSnippetsIsabelle/2643_snippet_30.mp4\n",
      "\n"
     ]
    },
    {
     "name": "stderr",
     "output_type": "stream",
     "text": [
      "                                             "
     ]
    },
    {
     "name": "stdout",
     "output_type": "stream",
     "text": [
      "MoviePy - Done !\n",
      "MoviePy - video ready SniffingSnippetsIsabelle/2643_snippet_30.mp4\n"
     ]
    },
    {
     "name": "stderr",
     "output_type": "stream",
     "text": [
      "\r"
     ]
    },
    {
     "name": "stdout",
     "output_type": "stream",
     "text": [
      "MoviePy - Building video SniffingSnippetsIsabelle/2643_snippet_31.mp4.\n",
      "MoviePy - Writing video SniffingSnippetsIsabelle/2643_snippet_31.mp4\n",
      "\n"
     ]
    },
    {
     "name": "stderr",
     "output_type": "stream",
     "text": [
      "                                                            "
     ]
    },
    {
     "name": "stdout",
     "output_type": "stream",
     "text": [
      "MoviePy - Done !\n",
      "MoviePy - video ready SniffingSnippetsIsabelle/2643_snippet_31.mp4\n"
     ]
    },
    {
     "name": "stderr",
     "output_type": "stream",
     "text": [
      "\r"
     ]
    },
    {
     "name": "stdout",
     "output_type": "stream",
     "text": [
      "MoviePy - Building video SniffingSnippetsIsabelle/2643_snippet_32.mp4.\n",
      "MoviePy - Writing video SniffingSnippetsIsabelle/2643_snippet_32.mp4\n",
      "\n"
     ]
    },
    {
     "name": "stderr",
     "output_type": "stream",
     "text": [
      "                                                            "
     ]
    },
    {
     "name": "stdout",
     "output_type": "stream",
     "text": [
      "MoviePy - Done !\n",
      "MoviePy - video ready SniffingSnippetsIsabelle/2643_snippet_32.mp4\n"
     ]
    },
    {
     "name": "stderr",
     "output_type": "stream",
     "text": [
      "\r"
     ]
    },
    {
     "name": "stdout",
     "output_type": "stream",
     "text": [
      "MoviePy - Building video SniffingSnippetsIsabelle/2643_snippet_33.mp4.\n",
      "MoviePy - Writing video SniffingSnippetsIsabelle/2643_snippet_33.mp4\n",
      "\n"
     ]
    },
    {
     "name": "stderr",
     "output_type": "stream",
     "text": [
      "                                                                       \r"
     ]
    },
    {
     "name": "stdout",
     "output_type": "stream",
     "text": [
      "MoviePy - Done !\n",
      "MoviePy - video ready SniffingSnippetsIsabelle/2643_snippet_33.mp4\n",
      "MoviePy - Building video SniffingSnippetsIsabelle/2643_snippet_34.mp4.\n",
      "MoviePy - Writing video SniffingSnippetsIsabelle/2643_snippet_34.mp4\n",
      "\n"
     ]
    },
    {
     "name": "stderr",
     "output_type": "stream",
     "text": [
      "                                                            "
     ]
    },
    {
     "name": "stdout",
     "output_type": "stream",
     "text": [
      "MoviePy - Done !\n",
      "MoviePy - video ready SniffingSnippetsIsabelle/2643_snippet_34.mp4\n"
     ]
    },
    {
     "name": "stderr",
     "output_type": "stream",
     "text": [
      "\r"
     ]
    },
    {
     "name": "stdout",
     "output_type": "stream",
     "text": [
      "MoviePy - Building video SniffingSnippetsIsabelle/2643_snippet_35.mp4.\n",
      "MoviePy - Writing video SniffingSnippetsIsabelle/2643_snippet_35.mp4\n",
      "\n"
     ]
    },
    {
     "name": "stderr",
     "output_type": "stream",
     "text": [
      "                                                            "
     ]
    },
    {
     "name": "stdout",
     "output_type": "stream",
     "text": [
      "MoviePy - Done !\n",
      "MoviePy - video ready SniffingSnippetsIsabelle/2643_snippet_35.mp4\n"
     ]
    },
    {
     "name": "stderr",
     "output_type": "stream",
     "text": [
      "\r"
     ]
    },
    {
     "name": "stdout",
     "output_type": "stream",
     "text": [
      "MoviePy - Building video SniffingSnippetsIsabelle/2643_snippet_36.mp4.\n",
      "MoviePy - Writing video SniffingSnippetsIsabelle/2643_snippet_36.mp4\n",
      "\n"
     ]
    },
    {
     "name": "stderr",
     "output_type": "stream",
     "text": [
      "                                                            "
     ]
    },
    {
     "name": "stdout",
     "output_type": "stream",
     "text": [
      "MoviePy - Done !\n",
      "MoviePy - video ready SniffingSnippetsIsabelle/2643_snippet_36.mp4\n"
     ]
    },
    {
     "name": "stderr",
     "output_type": "stream",
     "text": [
      "\r"
     ]
    },
    {
     "name": "stdout",
     "output_type": "stream",
     "text": [
      "MoviePy - Building video SniffingSnippetsIsabelle/2643_snippet_37.mp4.\n",
      "MoviePy - Writing video SniffingSnippetsIsabelle/2643_snippet_37.mp4\n",
      "\n"
     ]
    },
    {
     "name": "stderr",
     "output_type": "stream",
     "text": [
      "                                             "
     ]
    },
    {
     "name": "stdout",
     "output_type": "stream",
     "text": [
      "MoviePy - Done !\n",
      "MoviePy - video ready SniffingSnippetsIsabelle/2643_snippet_37.mp4\n"
     ]
    },
    {
     "name": "stderr",
     "output_type": "stream",
     "text": [
      "\r"
     ]
    },
    {
     "name": "stdout",
     "output_type": "stream",
     "text": [
      "MoviePy - Building video SniffingSnippetsIsabelle/2643_snippet_38.mp4.\n",
      "MoviePy - Writing video SniffingSnippetsIsabelle/2643_snippet_38.mp4\n",
      "\n"
     ]
    },
    {
     "name": "stderr",
     "output_type": "stream",
     "text": [
      "                                                            "
     ]
    },
    {
     "name": "stdout",
     "output_type": "stream",
     "text": [
      "MoviePy - Done !\n",
      "MoviePy - video ready SniffingSnippetsIsabelle/2643_snippet_38.mp4\n"
     ]
    },
    {
     "name": "stderr",
     "output_type": "stream",
     "text": [
      "\r"
     ]
    },
    {
     "name": "stdout",
     "output_type": "stream",
     "text": [
      "MoviePy - Building video SniffingSnippetsIsabelle/2643_snippet_39.mp4.\n",
      "MoviePy - Writing video SniffingSnippetsIsabelle/2643_snippet_39.mp4\n",
      "\n"
     ]
    },
    {
     "name": "stderr",
     "output_type": "stream",
     "text": [
      "                                                            \r"
     ]
    },
    {
     "name": "stdout",
     "output_type": "stream",
     "text": [
      "MoviePy - Done !\n",
      "MoviePy - video ready SniffingSnippetsIsabelle/2643_snippet_39.mp4\n",
      "Video number: 2644\n",
      "Input video duration: 55.89 seconds\n",
      "\u001b[32m[05/27 22:11:50 d2.checkpoint.detection_checkpoint]: \u001b[0m[DetectionCheckpointer] Loading from ./output/model_final.pth ...\n"
     ]
    },
    {
     "name": "stderr",
     "output_type": "stream",
     "text": [
      "INFO:fvcore.common.checkpoint:[Checkpointer] Loading from ./output/model_final.pth ...\n"
     ]
    },
    {
     "name": "stdout",
     "output_type": "stream",
     "text": [
      "2644\n",
      "MoviePy - Building video SniffingSnippetsIsabelle/2644_snippet_0.mp4.\n",
      "MoviePy - Writing video SniffingSnippetsIsabelle/2644_snippet_0.mp4\n",
      "\n"
     ]
    },
    {
     "name": "stderr",
     "output_type": "stream",
     "text": [
      "                                                            \r"
     ]
    },
    {
     "name": "stdout",
     "output_type": "stream",
     "text": [
      "MoviePy - Done !\n",
      "MoviePy - video ready SniffingSnippetsIsabelle/2644_snippet_0.mp4\n",
      "MoviePy - Building video SniffingSnippetsIsabelle/2644_snippet_1.mp4.\n",
      "MoviePy - Writing video SniffingSnippetsIsabelle/2644_snippet_1.mp4\n",
      "\n"
     ]
    },
    {
     "name": "stderr",
     "output_type": "stream",
     "text": [
      "                                                                       \r"
     ]
    },
    {
     "name": "stdout",
     "output_type": "stream",
     "text": [
      "MoviePy - Done !\n",
      "MoviePy - video ready SniffingSnippetsIsabelle/2644_snippet_1.mp4\n",
      "MoviePy - Building video SniffingSnippetsIsabelle/2644_snippet_2.mp4.\n",
      "MoviePy - Writing video SniffingSnippetsIsabelle/2644_snippet_2.mp4\n",
      "\n"
     ]
    },
    {
     "name": "stderr",
     "output_type": "stream",
     "text": [
      "                                                             \r"
     ]
    },
    {
     "name": "stdout",
     "output_type": "stream",
     "text": [
      "MoviePy - Done !\n",
      "MoviePy - video ready SniffingSnippetsIsabelle/2644_snippet_2.mp4\n",
      "MoviePy - Building video SniffingSnippetsIsabelle/2644_snippet_3.mp4.\n",
      "MoviePy - Writing video SniffingSnippetsIsabelle/2644_snippet_3.mp4\n",
      "\n"
     ]
    },
    {
     "name": "stderr",
     "output_type": "stream",
     "text": [
      "                                                            \r"
     ]
    },
    {
     "name": "stdout",
     "output_type": "stream",
     "text": [
      "MoviePy - Done !\n",
      "MoviePy - video ready SniffingSnippetsIsabelle/2644_snippet_3.mp4\n",
      "MoviePy - Building video SniffingSnippetsIsabelle/2644_snippet_4.mp4.\n",
      "MoviePy - Writing video SniffingSnippetsIsabelle/2644_snippet_4.mp4\n",
      "\n"
     ]
    },
    {
     "name": "stderr",
     "output_type": "stream",
     "text": [
      "                                                             \r"
     ]
    },
    {
     "name": "stdout",
     "output_type": "stream",
     "text": [
      "MoviePy - Done !\n",
      "MoviePy - video ready SniffingSnippetsIsabelle/2644_snippet_4.mp4\n",
      "MoviePy - Building video SniffingSnippetsIsabelle/2644_snippet_5.mp4.\n",
      "MoviePy - Writing video SniffingSnippetsIsabelle/2644_snippet_5.mp4\n",
      "\n"
     ]
    },
    {
     "name": "stderr",
     "output_type": "stream",
     "text": [
      "                                                            "
     ]
    },
    {
     "name": "stdout",
     "output_type": "stream",
     "text": [
      "MoviePy - Done !\n",
      "MoviePy - video ready SniffingSnippetsIsabelle/2644_snippet_5.mp4\n"
     ]
    },
    {
     "name": "stderr",
     "output_type": "stream",
     "text": [
      "\r"
     ]
    },
    {
     "name": "stdout",
     "output_type": "stream",
     "text": [
      "MoviePy - Building video SniffingSnippetsIsabelle/2644_snippet_6.mp4.\n",
      "MoviePy - Writing video SniffingSnippetsIsabelle/2644_snippet_6.mp4\n",
      "\n"
     ]
    },
    {
     "name": "stderr",
     "output_type": "stream",
     "text": [
      "                                                            \r"
     ]
    },
    {
     "name": "stdout",
     "output_type": "stream",
     "text": [
      "MoviePy - Done !\n",
      "MoviePy - video ready SniffingSnippetsIsabelle/2644_snippet_6.mp4\n",
      "MoviePy - Building video SniffingSnippetsIsabelle/2644_snippet_7.mp4.\n",
      "MoviePy - Writing video SniffingSnippetsIsabelle/2644_snippet_7.mp4\n",
      "\n"
     ]
    },
    {
     "name": "stderr",
     "output_type": "stream",
     "text": [
      "                                                            "
     ]
    },
    {
     "name": "stdout",
     "output_type": "stream",
     "text": [
      "MoviePy - Done !\n",
      "MoviePy - video ready SniffingSnippetsIsabelle/2644_snippet_7.mp4\n"
     ]
    },
    {
     "name": "stderr",
     "output_type": "stream",
     "text": [
      "\r"
     ]
    },
    {
     "name": "stdout",
     "output_type": "stream",
     "text": [
      "MoviePy - Building video SniffingSnippetsIsabelle/2644_snippet_8.mp4.\n",
      "MoviePy - Writing video SniffingSnippetsIsabelle/2644_snippet_8.mp4\n",
      "\n"
     ]
    },
    {
     "name": "stderr",
     "output_type": "stream",
     "text": [
      "                                                                       \r"
     ]
    },
    {
     "name": "stdout",
     "output_type": "stream",
     "text": [
      "MoviePy - Done !\n",
      "MoviePy - video ready SniffingSnippetsIsabelle/2644_snippet_8.mp4\n",
      "MoviePy - Building video SniffingSnippetsIsabelle/2644_snippet_9.mp4.\n",
      "MoviePy - Writing video SniffingSnippetsIsabelle/2644_snippet_9.mp4\n",
      "\n"
     ]
    },
    {
     "name": "stderr",
     "output_type": "stream",
     "text": [
      "                                                             \r"
     ]
    },
    {
     "name": "stdout",
     "output_type": "stream",
     "text": [
      "MoviePy - Done !\n",
      "MoviePy - video ready SniffingSnippetsIsabelle/2644_snippet_9.mp4\n",
      "MoviePy - Building video SniffingSnippetsIsabelle/2644_snippet_10.mp4.\n",
      "MoviePy - Writing video SniffingSnippetsIsabelle/2644_snippet_10.mp4\n",
      "\n"
     ]
    },
    {
     "name": "stderr",
     "output_type": "stream",
     "text": [
      "                                                            "
     ]
    },
    {
     "name": "stdout",
     "output_type": "stream",
     "text": [
      "MoviePy - Done !\n",
      "MoviePy - video ready SniffingSnippetsIsabelle/2644_snippet_10.mp4\n"
     ]
    },
    {
     "name": "stderr",
     "output_type": "stream",
     "text": [
      "\r"
     ]
    },
    {
     "name": "stdout",
     "output_type": "stream",
     "text": [
      "MoviePy - Building video SniffingSnippetsIsabelle/2644_snippet_11.mp4.\n",
      "MoviePy - Writing video SniffingSnippetsIsabelle/2644_snippet_11.mp4\n",
      "\n"
     ]
    },
    {
     "name": "stderr",
     "output_type": "stream",
     "text": [
      "                                                             \r"
     ]
    },
    {
     "name": "stdout",
     "output_type": "stream",
     "text": [
      "MoviePy - Done !\n",
      "MoviePy - video ready SniffingSnippetsIsabelle/2644_snippet_11.mp4\n",
      "MoviePy - Building video SniffingSnippetsIsabelle/2644_snippet_12.mp4.\n",
      "MoviePy - Writing video SniffingSnippetsIsabelle/2644_snippet_12.mp4\n",
      "\n"
     ]
    },
    {
     "name": "stderr",
     "output_type": "stream",
     "text": [
      "                                                            "
     ]
    },
    {
     "name": "stdout",
     "output_type": "stream",
     "text": [
      "MoviePy - Done !\n",
      "MoviePy - video ready SniffingSnippetsIsabelle/2644_snippet_12.mp4\n"
     ]
    },
    {
     "name": "stderr",
     "output_type": "stream",
     "text": [
      "\r"
     ]
    },
    {
     "name": "stdout",
     "output_type": "stream",
     "text": [
      "MoviePy - Building video SniffingSnippetsIsabelle/2644_snippet_13.mp4.\n",
      "MoviePy - Writing video SniffingSnippetsIsabelle/2644_snippet_13.mp4\n",
      "\n"
     ]
    },
    {
     "name": "stderr",
     "output_type": "stream",
     "text": [
      "                                                            "
     ]
    },
    {
     "name": "stdout",
     "output_type": "stream",
     "text": [
      "MoviePy - Done !\n",
      "MoviePy - video ready SniffingSnippetsIsabelle/2644_snippet_13.mp4\n"
     ]
    },
    {
     "name": "stderr",
     "output_type": "stream",
     "text": [
      "\r"
     ]
    },
    {
     "name": "stdout",
     "output_type": "stream",
     "text": [
      "MoviePy - Building video SniffingSnippetsIsabelle/2644_snippet_14.mp4.\n",
      "MoviePy - Writing video SniffingSnippetsIsabelle/2644_snippet_14.mp4\n",
      "\n"
     ]
    },
    {
     "name": "stderr",
     "output_type": "stream",
     "text": [
      "                                                            "
     ]
    },
    {
     "name": "stdout",
     "output_type": "stream",
     "text": [
      "MoviePy - Done !\n",
      "MoviePy - video ready SniffingSnippetsIsabelle/2644_snippet_14.mp4\n"
     ]
    },
    {
     "name": "stderr",
     "output_type": "stream",
     "text": [
      "\r"
     ]
    },
    {
     "name": "stdout",
     "output_type": "stream",
     "text": [
      "MoviePy - Building video SniffingSnippetsIsabelle/2644_snippet_15.mp4.\n",
      "MoviePy - Writing video SniffingSnippetsIsabelle/2644_snippet_15.mp4\n",
      "\n"
     ]
    },
    {
     "name": "stderr",
     "output_type": "stream",
     "text": [
      "                                                            "
     ]
    },
    {
     "name": "stdout",
     "output_type": "stream",
     "text": [
      "MoviePy - Done !\n",
      "MoviePy - video ready SniffingSnippetsIsabelle/2644_snippet_15.mp4\n"
     ]
    },
    {
     "name": "stderr",
     "output_type": "stream",
     "text": [
      "\r"
     ]
    },
    {
     "name": "stdout",
     "output_type": "stream",
     "text": [
      "MoviePy - Building video SniffingSnippetsIsabelle/2644_snippet_16.mp4.\n",
      "MoviePy - Writing video SniffingSnippetsIsabelle/2644_snippet_16.mp4\n",
      "\n"
     ]
    },
    {
     "name": "stderr",
     "output_type": "stream",
     "text": [
      "                                                            "
     ]
    },
    {
     "name": "stdout",
     "output_type": "stream",
     "text": [
      "MoviePy - Done !\n",
      "MoviePy - video ready SniffingSnippetsIsabelle/2644_snippet_16.mp4\n"
     ]
    },
    {
     "name": "stderr",
     "output_type": "stream",
     "text": [
      "\r"
     ]
    },
    {
     "name": "stdout",
     "output_type": "stream",
     "text": [
      "MoviePy - Building video SniffingSnippetsIsabelle/2644_snippet_17.mp4.\n",
      "MoviePy - Writing video SniffingSnippetsIsabelle/2644_snippet_17.mp4\n",
      "\n"
     ]
    },
    {
     "name": "stderr",
     "output_type": "stream",
     "text": [
      "                                                            "
     ]
    },
    {
     "name": "stdout",
     "output_type": "stream",
     "text": [
      "MoviePy - Done !\n",
      "MoviePy - video ready SniffingSnippetsIsabelle/2644_snippet_17.mp4\n"
     ]
    },
    {
     "name": "stderr",
     "output_type": "stream",
     "text": [
      "\r"
     ]
    },
    {
     "name": "stdout",
     "output_type": "stream",
     "text": [
      "MoviePy - Building video SniffingSnippetsIsabelle/2644_snippet_18.mp4.\n",
      "MoviePy - Writing video SniffingSnippetsIsabelle/2644_snippet_18.mp4\n",
      "\n"
     ]
    },
    {
     "name": "stderr",
     "output_type": "stream",
     "text": [
      "                                                             \r"
     ]
    },
    {
     "name": "stdout",
     "output_type": "stream",
     "text": [
      "MoviePy - Done !\n",
      "MoviePy - video ready SniffingSnippetsIsabelle/2644_snippet_18.mp4\n",
      "MoviePy - Building video SniffingSnippetsIsabelle/2644_snippet_19.mp4.\n",
      "MoviePy - Writing video SniffingSnippetsIsabelle/2644_snippet_19.mp4\n",
      "\n"
     ]
    },
    {
     "name": "stderr",
     "output_type": "stream",
     "text": [
      "                                                                       \r"
     ]
    },
    {
     "name": "stdout",
     "output_type": "stream",
     "text": [
      "MoviePy - Done !\n",
      "MoviePy - video ready SniffingSnippetsIsabelle/2644_snippet_19.mp4\n",
      "MoviePy - Building video SniffingSnippetsIsabelle/2644_snippet_20.mp4.\n",
      "MoviePy - Writing video SniffingSnippetsIsabelle/2644_snippet_20.mp4\n",
      "\n"
     ]
    },
    {
     "name": "stderr",
     "output_type": "stream",
     "text": [
      "                                                            \r"
     ]
    },
    {
     "name": "stdout",
     "output_type": "stream",
     "text": [
      "MoviePy - Done !\n",
      "MoviePy - video ready SniffingSnippetsIsabelle/2644_snippet_20.mp4\n",
      "MoviePy - Building video SniffingSnippetsIsabelle/2644_snippet_21.mp4.\n",
      "MoviePy - Writing video SniffingSnippetsIsabelle/2644_snippet_21.mp4\n",
      "\n"
     ]
    },
    {
     "name": "stderr",
     "output_type": "stream",
     "text": [
      "                                                            "
     ]
    },
    {
     "name": "stdout",
     "output_type": "stream",
     "text": [
      "MoviePy - Done !\n",
      "MoviePy - video ready SniffingSnippetsIsabelle/2644_snippet_21.mp4\n"
     ]
    },
    {
     "name": "stderr",
     "output_type": "stream",
     "text": [
      "\r"
     ]
    },
    {
     "name": "stdout",
     "output_type": "stream",
     "text": [
      "MoviePy - Building video SniffingSnippetsIsabelle/2644_snippet_22.mp4.\n",
      "MoviePy - Writing video SniffingSnippetsIsabelle/2644_snippet_22.mp4\n",
      "\n"
     ]
    },
    {
     "name": "stderr",
     "output_type": "stream",
     "text": [
      "                                                            "
     ]
    },
    {
     "name": "stdout",
     "output_type": "stream",
     "text": [
      "MoviePy - Done !\n",
      "MoviePy - video ready SniffingSnippetsIsabelle/2644_snippet_22.mp4\n"
     ]
    },
    {
     "name": "stderr",
     "output_type": "stream",
     "text": [
      "\r"
     ]
    },
    {
     "name": "stdout",
     "output_type": "stream",
     "text": [
      "MoviePy - Building video SniffingSnippetsIsabelle/2644_snippet_23.mp4.\n",
      "MoviePy - Writing video SniffingSnippetsIsabelle/2644_snippet_23.mp4\n",
      "\n"
     ]
    },
    {
     "name": "stderr",
     "output_type": "stream",
     "text": [
      "                                                             \r"
     ]
    },
    {
     "name": "stdout",
     "output_type": "stream",
     "text": [
      "MoviePy - Done !\n",
      "MoviePy - video ready SniffingSnippetsIsabelle/2644_snippet_23.mp4\n",
      "MoviePy - Building video SniffingSnippetsIsabelle/2644_snippet_24.mp4.\n",
      "MoviePy - Writing video SniffingSnippetsIsabelle/2644_snippet_24.mp4\n",
      "\n"
     ]
    },
    {
     "name": "stderr",
     "output_type": "stream",
     "text": [
      "                                                                       \r"
     ]
    },
    {
     "name": "stdout",
     "output_type": "stream",
     "text": [
      "MoviePy - Done !\n",
      "MoviePy - video ready SniffingSnippetsIsabelle/2644_snippet_24.mp4\n",
      "MoviePy - Building video SniffingSnippetsIsabelle/2644_snippet_25.mp4.\n",
      "MoviePy - Writing video SniffingSnippetsIsabelle/2644_snippet_25.mp4\n",
      "\n"
     ]
    },
    {
     "name": "stderr",
     "output_type": "stream",
     "text": [
      "                                                             \r"
     ]
    },
    {
     "name": "stdout",
     "output_type": "stream",
     "text": [
      "MoviePy - Done !\n",
      "MoviePy - video ready SniffingSnippetsIsabelle/2644_snippet_25.mp4\n",
      "MoviePy - Building video SniffingSnippetsIsabelle/2644_snippet_26.mp4.\n",
      "MoviePy - Writing video SniffingSnippetsIsabelle/2644_snippet_26.mp4\n",
      "\n"
     ]
    },
    {
     "name": "stderr",
     "output_type": "stream",
     "text": [
      "                                                            "
     ]
    },
    {
     "name": "stdout",
     "output_type": "stream",
     "text": [
      "MoviePy - Done !\n",
      "MoviePy - video ready SniffingSnippetsIsabelle/2644_snippet_26.mp4\n"
     ]
    },
    {
     "name": "stderr",
     "output_type": "stream",
     "text": [
      "\r"
     ]
    },
    {
     "name": "stdout",
     "output_type": "stream",
     "text": [
      "MoviePy - Building video SniffingSnippetsIsabelle/2644_snippet_27.mp4.\n",
      "MoviePy - Writing video SniffingSnippetsIsabelle/2644_snippet_27.mp4\n",
      "\n"
     ]
    },
    {
     "name": "stderr",
     "output_type": "stream",
     "text": [
      "                                                             \r"
     ]
    },
    {
     "name": "stdout",
     "output_type": "stream",
     "text": [
      "MoviePy - Done !\n",
      "MoviePy - video ready SniffingSnippetsIsabelle/2644_snippet_27.mp4\n",
      "MoviePy - Building video SniffingSnippetsIsabelle/2644_snippet_28.mp4.\n",
      "MoviePy - Writing video SniffingSnippetsIsabelle/2644_snippet_28.mp4\n",
      "\n"
     ]
    },
    {
     "name": "stderr",
     "output_type": "stream",
     "text": [
      "                                             "
     ]
    },
    {
     "name": "stdout",
     "output_type": "stream",
     "text": [
      "MoviePy - Done !\n",
      "MoviePy - video ready SniffingSnippetsIsabelle/2644_snippet_28.mp4\n"
     ]
    },
    {
     "name": "stderr",
     "output_type": "stream",
     "text": [
      "\r"
     ]
    },
    {
     "name": "stdout",
     "output_type": "stream",
     "text": [
      "MoviePy - Building video SniffingSnippetsIsabelle/2644_snippet_29.mp4.\n",
      "MoviePy - Writing video SniffingSnippetsIsabelle/2644_snippet_29.mp4\n",
      "\n"
     ]
    },
    {
     "name": "stderr",
     "output_type": "stream",
     "text": [
      "                                                            \r"
     ]
    },
    {
     "name": "stdout",
     "output_type": "stream",
     "text": [
      "MoviePy - Done !\n",
      "MoviePy - video ready SniffingSnippetsIsabelle/2644_snippet_29.mp4\n",
      "MoviePy - Building video SniffingSnippetsIsabelle/2644_snippet_30.mp4.\n",
      "MoviePy - Writing video SniffingSnippetsIsabelle/2644_snippet_30.mp4\n",
      "\n"
     ]
    },
    {
     "name": "stderr",
     "output_type": "stream",
     "text": [
      "                                                                       \r"
     ]
    },
    {
     "name": "stdout",
     "output_type": "stream",
     "text": [
      "MoviePy - Done !\n",
      "MoviePy - video ready SniffingSnippetsIsabelle/2644_snippet_30.mp4\n",
      "MoviePy - Building video SniffingSnippetsIsabelle/2644_snippet_31.mp4.\n",
      "MoviePy - Writing video SniffingSnippetsIsabelle/2644_snippet_31.mp4\n",
      "\n"
     ]
    },
    {
     "name": "stderr",
     "output_type": "stream",
     "text": [
      "                                                            \r"
     ]
    },
    {
     "name": "stdout",
     "output_type": "stream",
     "text": [
      "MoviePy - Done !\n",
      "MoviePy - video ready SniffingSnippetsIsabelle/2644_snippet_31.mp4\n",
      "MoviePy - Building video SniffingSnippetsIsabelle/2644_snippet_32.mp4.\n",
      "MoviePy - Writing video SniffingSnippetsIsabelle/2644_snippet_32.mp4\n",
      "\n"
     ]
    },
    {
     "name": "stderr",
     "output_type": "stream",
     "text": [
      "                                             "
     ]
    },
    {
     "name": "stdout",
     "output_type": "stream",
     "text": [
      "MoviePy - Done !\n",
      "MoviePy - video ready SniffingSnippetsIsabelle/2644_snippet_32.mp4\n"
     ]
    },
    {
     "name": "stderr",
     "output_type": "stream",
     "text": [
      "\r"
     ]
    },
    {
     "name": "stdout",
     "output_type": "stream",
     "text": [
      "MoviePy - Building video SniffingSnippetsIsabelle/2644_snippet_33.mp4.\n",
      "MoviePy - Writing video SniffingSnippetsIsabelle/2644_snippet_33.mp4\n",
      "\n"
     ]
    },
    {
     "name": "stderr",
     "output_type": "stream",
     "text": [
      "                                             "
     ]
    },
    {
     "name": "stdout",
     "output_type": "stream",
     "text": [
      "MoviePy - Done !\n",
      "MoviePy - video ready SniffingSnippetsIsabelle/2644_snippet_33.mp4\n"
     ]
    },
    {
     "name": "stderr",
     "output_type": "stream",
     "text": [
      "\r"
     ]
    },
    {
     "name": "stdout",
     "output_type": "stream",
     "text": [
      "MoviePy - Building video SniffingSnippetsIsabelle/2644_snippet_34.mp4.\n",
      "MoviePy - Writing video SniffingSnippetsIsabelle/2644_snippet_34.mp4\n",
      "\n"
     ]
    },
    {
     "name": "stderr",
     "output_type": "stream",
     "text": [
      "                                             "
     ]
    },
    {
     "name": "stdout",
     "output_type": "stream",
     "text": [
      "MoviePy - Done !\n",
      "MoviePy - video ready SniffingSnippetsIsabelle/2644_snippet_34.mp4\n"
     ]
    },
    {
     "name": "stderr",
     "output_type": "stream",
     "text": [
      "\r"
     ]
    },
    {
     "name": "stdout",
     "output_type": "stream",
     "text": [
      "MoviePy - Building video SniffingSnippetsIsabelle/2644_snippet_35.mp4.\n",
      "MoviePy - Writing video SniffingSnippetsIsabelle/2644_snippet_35.mp4\n",
      "\n"
     ]
    },
    {
     "name": "stderr",
     "output_type": "stream",
     "text": [
      "                                                                     \r"
     ]
    },
    {
     "name": "stdout",
     "output_type": "stream",
     "text": [
      "MoviePy - Done !\n",
      "MoviePy - video ready SniffingSnippetsIsabelle/2644_snippet_35.mp4\n",
      "MoviePy - Building video SniffingSnippetsIsabelle/2644_snippet_36.mp4.\n",
      "MoviePy - Writing video SniffingSnippetsIsabelle/2644_snippet_36.mp4\n",
      "\n"
     ]
    },
    {
     "name": "stderr",
     "output_type": "stream",
     "text": [
      "                                                                      \r"
     ]
    },
    {
     "name": "stdout",
     "output_type": "stream",
     "text": [
      "MoviePy - Done !\n",
      "MoviePy - video ready SniffingSnippetsIsabelle/2644_snippet_36.mp4\n",
      "MoviePy - Building video SniffingSnippetsIsabelle/2644_snippet_37.mp4.\n",
      "MoviePy - Writing video SniffingSnippetsIsabelle/2644_snippet_37.mp4\n",
      "\n"
     ]
    },
    {
     "name": "stderr",
     "output_type": "stream",
     "text": [
      "                                                            \r"
     ]
    },
    {
     "name": "stdout",
     "output_type": "stream",
     "text": [
      "MoviePy - Done !\n",
      "MoviePy - video ready SniffingSnippetsIsabelle/2644_snippet_37.mp4\n",
      "MoviePy - Building video SniffingSnippetsIsabelle/2644_snippet_38.mp4.\n",
      "MoviePy - Writing video SniffingSnippetsIsabelle/2644_snippet_38.mp4\n",
      "\n"
     ]
    },
    {
     "name": "stderr",
     "output_type": "stream",
     "text": [
      "                                             \r"
     ]
    },
    {
     "name": "stdout",
     "output_type": "stream",
     "text": [
      "MoviePy - Done !\n",
      "MoviePy - video ready SniffingSnippetsIsabelle/2644_snippet_38.mp4\n",
      "MoviePy - Building video SniffingSnippetsIsabelle/2644_snippet_39.mp4.\n",
      "MoviePy - Writing video SniffingSnippetsIsabelle/2644_snippet_39.mp4\n",
      "\n"
     ]
    },
    {
     "name": "stderr",
     "output_type": "stream",
     "text": [
      "                                                            "
     ]
    },
    {
     "name": "stdout",
     "output_type": "stream",
     "text": [
      "MoviePy - Done !\n",
      "MoviePy - video ready SniffingSnippetsIsabelle/2644_snippet_39.mp4\n"
     ]
    },
    {
     "name": "stderr",
     "output_type": "stream",
     "text": [
      "\r"
     ]
    },
    {
     "name": "stdout",
     "output_type": "stream",
     "text": [
      "MoviePy - Building video SniffingSnippetsIsabelle/2644_snippet_40.mp4.\n",
      "MoviePy - Writing video SniffingSnippetsIsabelle/2644_snippet_40.mp4\n",
      "\n"
     ]
    },
    {
     "name": "stderr",
     "output_type": "stream",
     "text": [
      "                                                            "
     ]
    },
    {
     "name": "stdout",
     "output_type": "stream",
     "text": [
      "MoviePy - Done !\n",
      "MoviePy - video ready SniffingSnippetsIsabelle/2644_snippet_40.mp4\n"
     ]
    },
    {
     "name": "stderr",
     "output_type": "stream",
     "text": [
      "\r"
     ]
    },
    {
     "name": "stdout",
     "output_type": "stream",
     "text": [
      "MoviePy - Building video SniffingSnippetsIsabelle/2644_snippet_41.mp4.\n",
      "MoviePy - Writing video SniffingSnippetsIsabelle/2644_snippet_41.mp4\n",
      "\n"
     ]
    },
    {
     "name": "stderr",
     "output_type": "stream",
     "text": [
      "                                             "
     ]
    },
    {
     "name": "stdout",
     "output_type": "stream",
     "text": [
      "MoviePy - Done !\n",
      "MoviePy - video ready SniffingSnippetsIsabelle/2644_snippet_41.mp4\n"
     ]
    },
    {
     "name": "stderr",
     "output_type": "stream",
     "text": [
      "\r"
     ]
    },
    {
     "name": "stdout",
     "output_type": "stream",
     "text": [
      "MoviePy - Building video SniffingSnippetsIsabelle/2644_snippet_42.mp4.\n",
      "MoviePy - Writing video SniffingSnippetsIsabelle/2644_snippet_42.mp4\n",
      "\n"
     ]
    },
    {
     "name": "stderr",
     "output_type": "stream",
     "text": [
      "                                                            \r"
     ]
    },
    {
     "name": "stdout",
     "output_type": "stream",
     "text": [
      "MoviePy - Done !\n",
      "MoviePy - video ready SniffingSnippetsIsabelle/2644_snippet_42.mp4\n",
      "MoviePy - Building video SniffingSnippetsIsabelle/2644_snippet_43.mp4.\n",
      "MoviePy - Writing video SniffingSnippetsIsabelle/2644_snippet_43.mp4\n",
      "\n"
     ]
    },
    {
     "name": "stderr",
     "output_type": "stream",
     "text": [
      "                                                            "
     ]
    },
    {
     "name": "stdout",
     "output_type": "stream",
     "text": [
      "MoviePy - Done !\n",
      "MoviePy - video ready SniffingSnippetsIsabelle/2644_snippet_43.mp4\n"
     ]
    },
    {
     "name": "stderr",
     "output_type": "stream",
     "text": [
      "\r"
     ]
    },
    {
     "name": "stdout",
     "output_type": "stream",
     "text": [
      "MoviePy - Building video SniffingSnippetsIsabelle/2644_snippet_44.mp4.\n",
      "MoviePy - Writing video SniffingSnippetsIsabelle/2644_snippet_44.mp4\n",
      "\n"
     ]
    },
    {
     "name": "stderr",
     "output_type": "stream",
     "text": [
      "                                                                     \r"
     ]
    },
    {
     "name": "stdout",
     "output_type": "stream",
     "text": [
      "MoviePy - Done !\n",
      "MoviePy - video ready SniffingSnippetsIsabelle/2644_snippet_44.mp4\n",
      "MoviePy - Building video SniffingSnippetsIsabelle/2644_snippet_45.mp4.\n",
      "MoviePy - Writing video SniffingSnippetsIsabelle/2644_snippet_45.mp4\n",
      "\n"
     ]
    },
    {
     "name": "stderr",
     "output_type": "stream",
     "text": [
      "                                                                      \r"
     ]
    },
    {
     "name": "stdout",
     "output_type": "stream",
     "text": [
      "MoviePy - Done !\n",
      "MoviePy - video ready SniffingSnippetsIsabelle/2644_snippet_45.mp4\n",
      "MoviePy - Building video SniffingSnippetsIsabelle/2644_snippet_46.mp4.\n",
      "MoviePy - Writing video SniffingSnippetsIsabelle/2644_snippet_46.mp4\n",
      "\n"
     ]
    },
    {
     "name": "stderr",
     "output_type": "stream",
     "text": [
      "                                                                     \r"
     ]
    },
    {
     "name": "stdout",
     "output_type": "stream",
     "text": [
      "MoviePy - Done !\n",
      "MoviePy - video ready SniffingSnippetsIsabelle/2644_snippet_46.mp4\n",
      "MoviePy - Building video SniffingSnippetsIsabelle/2644_snippet_47.mp4.\n",
      "MoviePy - Writing video SniffingSnippetsIsabelle/2644_snippet_47.mp4\n",
      "\n"
     ]
    },
    {
     "name": "stderr",
     "output_type": "stream",
     "text": [
      "                                                                     \r"
     ]
    },
    {
     "name": "stdout",
     "output_type": "stream",
     "text": [
      "MoviePy - Done !\n",
      "MoviePy - video ready SniffingSnippetsIsabelle/2644_snippet_47.mp4\n",
      "MoviePy - Building video SniffingSnippetsIsabelle/2644_snippet_48.mp4.\n",
      "MoviePy - Writing video SniffingSnippetsIsabelle/2644_snippet_48.mp4\n",
      "\n"
     ]
    },
    {
     "name": "stderr",
     "output_type": "stream",
     "text": [
      "                                             "
     ]
    },
    {
     "name": "stdout",
     "output_type": "stream",
     "text": [
      "MoviePy - Done !\n",
      "MoviePy - video ready SniffingSnippetsIsabelle/2644_snippet_48.mp4\n"
     ]
    },
    {
     "name": "stderr",
     "output_type": "stream",
     "text": [
      "\r"
     ]
    },
    {
     "name": "stdout",
     "output_type": "stream",
     "text": [
      "MoviePy - Building video SniffingSnippetsIsabelle/2644_snippet_49.mp4.\n",
      "MoviePy - Writing video SniffingSnippetsIsabelle/2644_snippet_49.mp4\n",
      "\n"
     ]
    },
    {
     "name": "stderr",
     "output_type": "stream",
     "text": [
      "                                                            "
     ]
    },
    {
     "name": "stdout",
     "output_type": "stream",
     "text": [
      "MoviePy - Done !\n",
      "MoviePy - video ready SniffingSnippetsIsabelle/2644_snippet_49.mp4\n"
     ]
    },
    {
     "name": "stderr",
     "output_type": "stream",
     "text": [
      "\r"
     ]
    },
    {
     "name": "stdout",
     "output_type": "stream",
     "text": [
      "MoviePy - Building video SniffingSnippetsIsabelle/2644_snippet_50.mp4.\n",
      "MoviePy - Writing video SniffingSnippetsIsabelle/2644_snippet_50.mp4\n",
      "\n"
     ]
    },
    {
     "name": "stderr",
     "output_type": "stream",
     "text": [
      "                                                                     \r"
     ]
    },
    {
     "name": "stdout",
     "output_type": "stream",
     "text": [
      "MoviePy - Done !\n",
      "MoviePy - video ready SniffingSnippetsIsabelle/2644_snippet_50.mp4\n",
      "MoviePy - Building video SniffingSnippetsIsabelle/2644_snippet_51.mp4.\n",
      "MoviePy - Writing video SniffingSnippetsIsabelle/2644_snippet_51.mp4\n",
      "\n"
     ]
    },
    {
     "name": "stderr",
     "output_type": "stream",
     "text": [
      "                                             "
     ]
    },
    {
     "name": "stdout",
     "output_type": "stream",
     "text": [
      "MoviePy - Done !\n",
      "MoviePy - video ready SniffingSnippetsIsabelle/2644_snippet_51.mp4\n"
     ]
    },
    {
     "name": "stderr",
     "output_type": "stream",
     "text": [
      "\r"
     ]
    },
    {
     "name": "stdout",
     "output_type": "stream",
     "text": [
      "MoviePy - Building video SniffingSnippetsIsabelle/2644_snippet_52.mp4.\n",
      "MoviePy - Writing video SniffingSnippetsIsabelle/2644_snippet_52.mp4\n",
      "\n"
     ]
    },
    {
     "name": "stderr",
     "output_type": "stream",
     "text": [
      "                                                            \r"
     ]
    },
    {
     "name": "stdout",
     "output_type": "stream",
     "text": [
      "MoviePy - Done !\n",
      "MoviePy - video ready SniffingSnippetsIsabelle/2644_snippet_52.mp4\n",
      "MoviePy - Building video SniffingSnippetsIsabelle/2644_snippet_53.mp4.\n",
      "MoviePy - Writing video SniffingSnippetsIsabelle/2644_snippet_53.mp4\n",
      "\n"
     ]
    },
    {
     "name": "stderr",
     "output_type": "stream",
     "text": [
      "                                                            \r"
     ]
    },
    {
     "name": "stdout",
     "output_type": "stream",
     "text": [
      "MoviePy - Done !\n",
      "MoviePy - video ready SniffingSnippetsIsabelle/2644_snippet_53.mp4\n",
      "MoviePy - Building video SniffingSnippetsIsabelle/2644_snippet_54.mp4.\n",
      "MoviePy - Writing video SniffingSnippetsIsabelle/2644_snippet_54.mp4\n",
      "\n"
     ]
    },
    {
     "name": "stderr",
     "output_type": "stream",
     "text": [
      "                                                            \r"
     ]
    },
    {
     "name": "stdout",
     "output_type": "stream",
     "text": [
      "MoviePy - Done !\n",
      "MoviePy - video ready SniffingSnippetsIsabelle/2644_snippet_54.mp4\n",
      "MoviePy - Building video SniffingSnippetsIsabelle/2644_snippet_55.mp4.\n",
      "MoviePy - Writing video SniffingSnippetsIsabelle/2644_snippet_55.mp4\n",
      "\n"
     ]
    },
    {
     "name": "stderr",
     "output_type": "stream",
     "text": [
      "                                                            "
     ]
    },
    {
     "name": "stdout",
     "output_type": "stream",
     "text": [
      "MoviePy - Done !\n",
      "MoviePy - video ready SniffingSnippetsIsabelle/2644_snippet_55.mp4\n"
     ]
    },
    {
     "name": "stderr",
     "output_type": "stream",
     "text": [
      "\r"
     ]
    },
    {
     "name": "stdout",
     "output_type": "stream",
     "text": [
      "MoviePy - Building video SniffingSnippetsIsabelle/2644_snippet_56.mp4.\n",
      "MoviePy - Writing video SniffingSnippetsIsabelle/2644_snippet_56.mp4\n",
      "\n"
     ]
    },
    {
     "name": "stderr",
     "output_type": "stream",
     "text": [
      "                                                                    \r"
     ]
    },
    {
     "name": "stdout",
     "output_type": "stream",
     "text": [
      "MoviePy - Done !\n",
      "MoviePy - video ready SniffingSnippetsIsabelle/2644_snippet_56.mp4\n",
      "MoviePy - Building video SniffingSnippetsIsabelle/2644_snippet_57.mp4.\n",
      "MoviePy - Writing video SniffingSnippetsIsabelle/2644_snippet_57.mp4\n",
      "\n"
     ]
    },
    {
     "name": "stderr",
     "output_type": "stream",
     "text": [
      "                                                                    \r"
     ]
    },
    {
     "name": "stdout",
     "output_type": "stream",
     "text": [
      "MoviePy - Done !\n",
      "MoviePy - video ready SniffingSnippetsIsabelle/2644_snippet_57.mp4\n",
      "MoviePy - Building video SniffingSnippetsIsabelle/2644_snippet_58.mp4.\n",
      "MoviePy - Writing video SniffingSnippetsIsabelle/2644_snippet_58.mp4\n",
      "\n"
     ]
    },
    {
     "name": "stderr",
     "output_type": "stream",
     "text": [
      "                                                                    \r"
     ]
    },
    {
     "name": "stdout",
     "output_type": "stream",
     "text": [
      "MoviePy - Done !\n",
      "MoviePy - video ready SniffingSnippetsIsabelle/2644_snippet_58.mp4\n",
      "MoviePy - Building video SniffingSnippetsIsabelle/2644_snippet_59.mp4.\n",
      "MoviePy - Writing video SniffingSnippetsIsabelle/2644_snippet_59.mp4\n",
      "\n"
     ]
    },
    {
     "name": "stderr",
     "output_type": "stream",
     "text": [
      "                                                            "
     ]
    },
    {
     "name": "stdout",
     "output_type": "stream",
     "text": [
      "MoviePy - Done !\n",
      "MoviePy - video ready SniffingSnippetsIsabelle/2644_snippet_59.mp4\n"
     ]
    },
    {
     "name": "stderr",
     "output_type": "stream",
     "text": [
      "\r"
     ]
    },
    {
     "name": "stdout",
     "output_type": "stream",
     "text": [
      "MoviePy - Building video SniffingSnippetsIsabelle/2644_snippet_60.mp4.\n",
      "MoviePy - Writing video SniffingSnippetsIsabelle/2644_snippet_60.mp4\n",
      "\n"
     ]
    },
    {
     "name": "stderr",
     "output_type": "stream",
     "text": [
      "                                                                      \r"
     ]
    },
    {
     "name": "stdout",
     "output_type": "stream",
     "text": [
      "MoviePy - Done !\n",
      "MoviePy - video ready SniffingSnippetsIsabelle/2644_snippet_60.mp4\n",
      "MoviePy - Building video SniffingSnippetsIsabelle/2644_snippet_61.mp4.\n",
      "MoviePy - Writing video SniffingSnippetsIsabelle/2644_snippet_61.mp4\n",
      "\n"
     ]
    },
    {
     "name": "stderr",
     "output_type": "stream",
     "text": [
      "                                             "
     ]
    },
    {
     "name": "stdout",
     "output_type": "stream",
     "text": [
      "MoviePy - Done !\n",
      "MoviePy - video ready SniffingSnippetsIsabelle/2644_snippet_61.mp4\n"
     ]
    },
    {
     "name": "stderr",
     "output_type": "stream",
     "text": [
      "\r"
     ]
    },
    {
     "name": "stdout",
     "output_type": "stream",
     "text": [
      "MoviePy - Building video SniffingSnippetsIsabelle/2644_snippet_62.mp4.\n",
      "MoviePy - Writing video SniffingSnippetsIsabelle/2644_snippet_62.mp4\n",
      "\n"
     ]
    },
    {
     "name": "stderr",
     "output_type": "stream",
     "text": [
      "                                             "
     ]
    },
    {
     "name": "stdout",
     "output_type": "stream",
     "text": [
      "MoviePy - Done !\n",
      "MoviePy - video ready SniffingSnippetsIsabelle/2644_snippet_62.mp4\n"
     ]
    },
    {
     "name": "stderr",
     "output_type": "stream",
     "text": [
      "\r"
     ]
    },
    {
     "name": "stdout",
     "output_type": "stream",
     "text": [
      "MoviePy - Building video SniffingSnippetsIsabelle/2644_snippet_63.mp4.\n",
      "MoviePy - Writing video SniffingSnippetsIsabelle/2644_snippet_63.mp4\n",
      "\n"
     ]
    },
    {
     "name": "stderr",
     "output_type": "stream",
     "text": [
      "                                             "
     ]
    },
    {
     "name": "stdout",
     "output_type": "stream",
     "text": [
      "MoviePy - Done !\n",
      "MoviePy - video ready SniffingSnippetsIsabelle/2644_snippet_63.mp4\n"
     ]
    },
    {
     "name": "stderr",
     "output_type": "stream",
     "text": [
      "\r"
     ]
    },
    {
     "name": "stdout",
     "output_type": "stream",
     "text": [
      "MoviePy - Building video SniffingSnippetsIsabelle/2644_snippet_64.mp4.\n",
      "MoviePy - Writing video SniffingSnippetsIsabelle/2644_snippet_64.mp4\n",
      "\n"
     ]
    },
    {
     "name": "stderr",
     "output_type": "stream",
     "text": [
      "                                                                    \r"
     ]
    },
    {
     "name": "stdout",
     "output_type": "stream",
     "text": [
      "MoviePy - Done !\n",
      "MoviePy - video ready SniffingSnippetsIsabelle/2644_snippet_64.mp4\n",
      "MoviePy - Building video SniffingSnippetsIsabelle/2644_snippet_65.mp4.\n",
      "MoviePy - Writing video SniffingSnippetsIsabelle/2644_snippet_65.mp4\n",
      "\n"
     ]
    },
    {
     "name": "stderr",
     "output_type": "stream",
     "text": [
      "                                                                      \r"
     ]
    },
    {
     "name": "stdout",
     "output_type": "stream",
     "text": [
      "MoviePy - Done !\n",
      "MoviePy - video ready SniffingSnippetsIsabelle/2644_snippet_65.mp4\n",
      "MoviePy - Building video SniffingSnippetsIsabelle/2644_snippet_66.mp4.\n",
      "MoviePy - Writing video SniffingSnippetsIsabelle/2644_snippet_66.mp4\n",
      "\n"
     ]
    },
    {
     "name": "stderr",
     "output_type": "stream",
     "text": [
      "                                                            \r"
     ]
    },
    {
     "name": "stdout",
     "output_type": "stream",
     "text": [
      "MoviePy - Done !\n",
      "MoviePy - video ready SniffingSnippetsIsabelle/2644_snippet_66.mp4\n",
      "MoviePy - Building video SniffingSnippetsIsabelle/2644_snippet_67.mp4.\n",
      "MoviePy - Writing video SniffingSnippetsIsabelle/2644_snippet_67.mp4\n",
      "\n"
     ]
    },
    {
     "name": "stderr",
     "output_type": "stream",
     "text": [
      "                                             \r"
     ]
    },
    {
     "name": "stdout",
     "output_type": "stream",
     "text": [
      "MoviePy - Done !\n",
      "MoviePy - video ready SniffingSnippetsIsabelle/2644_snippet_67.mp4\n",
      "MoviePy - Building video SniffingSnippetsIsabelle/2644_snippet_68.mp4.\n",
      "MoviePy - Writing video SniffingSnippetsIsabelle/2644_snippet_68.mp4\n",
      "\n"
     ]
    },
    {
     "name": "stderr",
     "output_type": "stream",
     "text": [
      "                                                                     \r"
     ]
    },
    {
     "name": "stdout",
     "output_type": "stream",
     "text": [
      "MoviePy - Done !\n",
      "MoviePy - video ready SniffingSnippetsIsabelle/2644_snippet_68.mp4\n",
      "MoviePy - Building video SniffingSnippetsIsabelle/2644_snippet_69.mp4.\n",
      "MoviePy - Writing video SniffingSnippetsIsabelle/2644_snippet_69.mp4\n",
      "\n"
     ]
    },
    {
     "name": "stderr",
     "output_type": "stream",
     "text": [
      "                                                                     \r"
     ]
    },
    {
     "name": "stdout",
     "output_type": "stream",
     "text": [
      "MoviePy - Done !\n",
      "MoviePy - video ready SniffingSnippetsIsabelle/2644_snippet_69.mp4\n",
      "MoviePy - Building video SniffingSnippetsIsabelle/2644_snippet_70.mp4.\n",
      "MoviePy - Writing video SniffingSnippetsIsabelle/2644_snippet_70.mp4\n",
      "\n"
     ]
    },
    {
     "name": "stderr",
     "output_type": "stream",
     "text": [
      "                                                            \r"
     ]
    },
    {
     "name": "stdout",
     "output_type": "stream",
     "text": [
      "MoviePy - Done !\n",
      "MoviePy - video ready SniffingSnippetsIsabelle/2644_snippet_70.mp4\n",
      "MoviePy - Building video SniffingSnippetsIsabelle/2644_snippet_71.mp4.\n",
      "MoviePy - Writing video SniffingSnippetsIsabelle/2644_snippet_71.mp4\n",
      "\n"
     ]
    },
    {
     "name": "stderr",
     "output_type": "stream",
     "text": [
      "                                             \r"
     ]
    },
    {
     "name": "stdout",
     "output_type": "stream",
     "text": [
      "MoviePy - Done !\n",
      "MoviePy - video ready SniffingSnippetsIsabelle/2644_snippet_71.mp4\n",
      "MoviePy - Building video SniffingSnippetsIsabelle/2644_snippet_72.mp4.\n",
      "MoviePy - Writing video SniffingSnippetsIsabelle/2644_snippet_72.mp4\n",
      "\n"
     ]
    },
    {
     "name": "stderr",
     "output_type": "stream",
     "text": [
      "                                                            \r"
     ]
    },
    {
     "name": "stdout",
     "output_type": "stream",
     "text": [
      "MoviePy - Done !\n",
      "MoviePy - video ready SniffingSnippetsIsabelle/2644_snippet_72.mp4\n",
      "MoviePy - Building video SniffingSnippetsIsabelle/2644_snippet_73.mp4.\n",
      "MoviePy - Writing video SniffingSnippetsIsabelle/2644_snippet_73.mp4\n",
      "\n"
     ]
    },
    {
     "name": "stderr",
     "output_type": "stream",
     "text": [
      "                                             \r"
     ]
    },
    {
     "name": "stdout",
     "output_type": "stream",
     "text": [
      "MoviePy - Done !\n",
      "MoviePy - video ready SniffingSnippetsIsabelle/2644_snippet_73.mp4\n",
      "MoviePy - Building video SniffingSnippetsIsabelle/2644_snippet_74.mp4.\n",
      "MoviePy - Writing video SniffingSnippetsIsabelle/2644_snippet_74.mp4\n",
      "\n"
     ]
    },
    {
     "name": "stderr",
     "output_type": "stream",
     "text": [
      "                                             \r"
     ]
    },
    {
     "name": "stdout",
     "output_type": "stream",
     "text": [
      "MoviePy - Done !\n",
      "MoviePy - video ready SniffingSnippetsIsabelle/2644_snippet_74.mp4\n",
      "MoviePy - Building video SniffingSnippetsIsabelle/2644_snippet_75.mp4.\n",
      "MoviePy - Writing video SniffingSnippetsIsabelle/2644_snippet_75.mp4\n",
      "\n"
     ]
    },
    {
     "name": "stderr",
     "output_type": "stream",
     "text": [
      "                                                                      \r"
     ]
    },
    {
     "name": "stdout",
     "output_type": "stream",
     "text": [
      "MoviePy - Done !\n",
      "MoviePy - video ready SniffingSnippetsIsabelle/2644_snippet_75.mp4\n",
      "MoviePy - Building video SniffingSnippetsIsabelle/2644_snippet_76.mp4.\n",
      "MoviePy - Writing video SniffingSnippetsIsabelle/2644_snippet_76.mp4\n",
      "\n"
     ]
    },
    {
     "name": "stderr",
     "output_type": "stream",
     "text": [
      "                                             \r"
     ]
    },
    {
     "name": "stdout",
     "output_type": "stream",
     "text": [
      "MoviePy - Done !\n",
      "MoviePy - video ready SniffingSnippetsIsabelle/2644_snippet_76.mp4\n",
      "MoviePy - Building video SniffingSnippetsIsabelle/2644_snippet_77.mp4.\n",
      "MoviePy - Writing video SniffingSnippetsIsabelle/2644_snippet_77.mp4\n",
      "\n"
     ]
    },
    {
     "name": "stderr",
     "output_type": "stream",
     "text": [
      "                                                                     \r"
     ]
    },
    {
     "name": "stdout",
     "output_type": "stream",
     "text": [
      "MoviePy - Done !\n",
      "MoviePy - video ready SniffingSnippetsIsabelle/2644_snippet_77.mp4\n",
      "MoviePy - Building video SniffingSnippetsIsabelle/2644_snippet_78.mp4.\n",
      "MoviePy - Writing video SniffingSnippetsIsabelle/2644_snippet_78.mp4\n",
      "\n"
     ]
    },
    {
     "name": "stderr",
     "output_type": "stream",
     "text": [
      "IOStream.flush timed out                     \n",
      "frame_index: 2it [00:13,  6.51s/it, now=None]"
     ]
    },
    {
     "name": "stdout",
     "output_type": "stream",
     "text": [
      "MoviePy - Done !\n",
      "MoviePy - video ready SniffingSnippetsIsabelle/2644_snippet_78.mp4\n"
     ]
    },
    {
     "name": "stderr",
     "output_type": "stream",
     "text": [
      "                                             \r"
     ]
    },
    {
     "name": "stdout",
     "output_type": "stream",
     "text": [
      "MoviePy - Building video SniffingSnippetsIsabelle/2644_snippet_79.mp4.\n",
      "MoviePy - Writing video SniffingSnippetsIsabelle/2644_snippet_79.mp4\n",
      "\n"
     ]
    },
    {
     "name": "stderr",
     "output_type": "stream",
     "text": [
      "                                             \r"
     ]
    },
    {
     "name": "stdout",
     "output_type": "stream",
     "text": [
      "MoviePy - Done !\n",
      "MoviePy - video ready SniffingSnippetsIsabelle/2644_snippet_79.mp4\n",
      "MoviePy - Building video SniffingSnippetsIsabelle/2644_snippet_80.mp4.\n",
      "MoviePy - Writing video SniffingSnippetsIsabelle/2644_snippet_80.mp4\n",
      "\n"
     ]
    },
    {
     "name": "stderr",
     "output_type": "stream",
     "text": [
      "                                                                    \r"
     ]
    },
    {
     "name": "stdout",
     "output_type": "stream",
     "text": [
      "MoviePy - Done !\n",
      "MoviePy - video ready SniffingSnippetsIsabelle/2644_snippet_80.mp4\n",
      "MoviePy - Building video SniffingSnippetsIsabelle/2644_snippet_81.mp4.\n",
      "MoviePy - Writing video SniffingSnippetsIsabelle/2644_snippet_81.mp4\n",
      "\n"
     ]
    },
    {
     "name": "stderr",
     "output_type": "stream",
     "text": [
      "                                                            \r"
     ]
    },
    {
     "name": "stdout",
     "output_type": "stream",
     "text": [
      "MoviePy - Done !\n",
      "MoviePy - video ready SniffingSnippetsIsabelle/2644_snippet_81.mp4\n",
      "MoviePy - Building video SniffingSnippetsIsabelle/2644_snippet_82.mp4.\n",
      "MoviePy - Writing video SniffingSnippetsIsabelle/2644_snippet_82.mp4\n",
      "\n"
     ]
    },
    {
     "name": "stderr",
     "output_type": "stream",
     "text": [
      "                                                            \r"
     ]
    },
    {
     "name": "stdout",
     "output_type": "stream",
     "text": [
      "MoviePy - Done !\n",
      "MoviePy - video ready SniffingSnippetsIsabelle/2644_snippet_82.mp4\n",
      "MoviePy - Building video SniffingSnippetsIsabelle/2644_snippet_83.mp4.\n",
      "MoviePy - Writing video SniffingSnippetsIsabelle/2644_snippet_83.mp4\n",
      "\n"
     ]
    },
    {
     "name": "stderr",
     "output_type": "stream",
     "text": [
      "                                                                    \r"
     ]
    },
    {
     "name": "stdout",
     "output_type": "stream",
     "text": [
      "MoviePy - Done !\n",
      "MoviePy - video ready SniffingSnippetsIsabelle/2644_snippet_83.mp4\n",
      "MoviePy - Building video SniffingSnippetsIsabelle/2644_snippet_84.mp4.\n",
      "MoviePy - Writing video SniffingSnippetsIsabelle/2644_snippet_84.mp4\n",
      "\n"
     ]
    },
    {
     "name": "stderr",
     "output_type": "stream",
     "text": [
      "                                                            "
     ]
    },
    {
     "name": "stdout",
     "output_type": "stream",
     "text": [
      "MoviePy - Done !\n",
      "MoviePy - video ready SniffingSnippetsIsabelle/2644_snippet_84.mp4\n"
     ]
    },
    {
     "name": "stderr",
     "output_type": "stream",
     "text": [
      "\r"
     ]
    },
    {
     "name": "stdout",
     "output_type": "stream",
     "text": [
      "MoviePy - Building video SniffingSnippetsIsabelle/2644_snippet_85.mp4.\n",
      "MoviePy - Writing video SniffingSnippetsIsabelle/2644_snippet_85.mp4\n",
      "\n"
     ]
    },
    {
     "name": "stderr",
     "output_type": "stream",
     "text": [
      "                                                                    \r"
     ]
    },
    {
     "name": "stdout",
     "output_type": "stream",
     "text": [
      "MoviePy - Done !\n",
      "MoviePy - video ready SniffingSnippetsIsabelle/2644_snippet_85.mp4\n",
      "MoviePy - Building video SniffingSnippetsIsabelle/2644_snippet_86.mp4.\n",
      "MoviePy - Writing video SniffingSnippetsIsabelle/2644_snippet_86.mp4\n",
      "\n"
     ]
    },
    {
     "name": "stderr",
     "output_type": "stream",
     "text": [
      "                                             \r"
     ]
    },
    {
     "name": "stdout",
     "output_type": "stream",
     "text": [
      "MoviePy - Done !\n",
      "MoviePy - video ready SniffingSnippetsIsabelle/2644_snippet_86.mp4\n",
      "MoviePy - Building video SniffingSnippetsIsabelle/2644_snippet_87.mp4.\n",
      "MoviePy - Writing video SniffingSnippetsIsabelle/2644_snippet_87.mp4\n",
      "\n"
     ]
    },
    {
     "name": "stderr",
     "output_type": "stream",
     "text": [
      "                                                                    \r"
     ]
    },
    {
     "name": "stdout",
     "output_type": "stream",
     "text": [
      "MoviePy - Done !\n",
      "MoviePy - video ready SniffingSnippetsIsabelle/2644_snippet_87.mp4\n",
      "MoviePy - Building video SniffingSnippetsIsabelle/2644_snippet_88.mp4.\n",
      "MoviePy - Writing video SniffingSnippetsIsabelle/2644_snippet_88.mp4\n",
      "\n"
     ]
    },
    {
     "name": "stderr",
     "output_type": "stream",
     "text": [
      "                                                             \r"
     ]
    },
    {
     "name": "stdout",
     "output_type": "stream",
     "text": [
      "MoviePy - Done !\n",
      "MoviePy - video ready SniffingSnippetsIsabelle/2644_snippet_88.mp4\n",
      "MoviePy - Building video SniffingSnippetsIsabelle/2644_snippet_89.mp4.\n",
      "MoviePy - Writing video SniffingSnippetsIsabelle/2644_snippet_89.mp4\n",
      "\n"
     ]
    },
    {
     "name": "stderr",
     "output_type": "stream",
     "text": [
      "                                                                       \r"
     ]
    },
    {
     "name": "stdout",
     "output_type": "stream",
     "text": [
      "MoviePy - Done !\n",
      "MoviePy - video ready SniffingSnippetsIsabelle/2644_snippet_89.mp4\n",
      "MoviePy - Building video SniffingSnippetsIsabelle/2644_snippet_90.mp4.\n",
      "MoviePy - Writing video SniffingSnippetsIsabelle/2644_snippet_90.mp4\n",
      "\n"
     ]
    },
    {
     "name": "stderr",
     "output_type": "stream",
     "text": [
      "                                                                      \r"
     ]
    },
    {
     "name": "stdout",
     "output_type": "stream",
     "text": [
      "MoviePy - Done !\n",
      "MoviePy - video ready SniffingSnippetsIsabelle/2644_snippet_90.mp4\n",
      "MoviePy - Building video SniffingSnippetsIsabelle/2644_snippet_91.mp4.\n",
      "MoviePy - Writing video SniffingSnippetsIsabelle/2644_snippet_91.mp4\n",
      "\n"
     ]
    },
    {
     "name": "stderr",
     "output_type": "stream",
     "text": [
      "                                             "
     ]
    },
    {
     "name": "stdout",
     "output_type": "stream",
     "text": [
      "MoviePy - Done !\n",
      "MoviePy - video ready SniffingSnippetsIsabelle/2644_snippet_91.mp4\n"
     ]
    },
    {
     "name": "stderr",
     "output_type": "stream",
     "text": [
      "\r"
     ]
    },
    {
     "name": "stdout",
     "output_type": "stream",
     "text": [
      "MoviePy - Building video SniffingSnippetsIsabelle/2644_snippet_92.mp4.\n",
      "MoviePy - Writing video SniffingSnippetsIsabelle/2644_snippet_92.mp4\n",
      "\n"
     ]
    },
    {
     "name": "stderr",
     "output_type": "stream",
     "text": [
      "                                             "
     ]
    },
    {
     "name": "stdout",
     "output_type": "stream",
     "text": [
      "MoviePy - Done !\n",
      "MoviePy - video ready SniffingSnippetsIsabelle/2644_snippet_92.mp4\n"
     ]
    },
    {
     "name": "stderr",
     "output_type": "stream",
     "text": [
      "\r"
     ]
    },
    {
     "name": "stdout",
     "output_type": "stream",
     "text": [
      "MoviePy - Building video SniffingSnippetsIsabelle/2644_snippet_93.mp4.\n",
      "MoviePy - Writing video SniffingSnippetsIsabelle/2644_snippet_93.mp4\n",
      "\n"
     ]
    },
    {
     "name": "stderr",
     "output_type": "stream",
     "text": [
      "                                             "
     ]
    },
    {
     "name": "stdout",
     "output_type": "stream",
     "text": [
      "MoviePy - Done !\n",
      "MoviePy - video ready SniffingSnippetsIsabelle/2644_snippet_93.mp4\n"
     ]
    },
    {
     "name": "stderr",
     "output_type": "stream",
     "text": [
      "\r"
     ]
    },
    {
     "name": "stdout",
     "output_type": "stream",
     "text": [
      "MoviePy - Building video SniffingSnippetsIsabelle/2644_snippet_94.mp4.\n",
      "MoviePy - Writing video SniffingSnippetsIsabelle/2644_snippet_94.mp4\n",
      "\n"
     ]
    },
    {
     "name": "stderr",
     "output_type": "stream",
     "text": [
      "                                                                      \r"
     ]
    },
    {
     "name": "stdout",
     "output_type": "stream",
     "text": [
      "MoviePy - Done !\n",
      "MoviePy - video ready SniffingSnippetsIsabelle/2644_snippet_94.mp4\n",
      "MoviePy - Building video SniffingSnippetsIsabelle/2644_snippet_95.mp4.\n",
      "MoviePy - Writing video SniffingSnippetsIsabelle/2644_snippet_95.mp4\n",
      "\n"
     ]
    },
    {
     "name": "stderr",
     "output_type": "stream",
     "text": [
      "                                                                       \r"
     ]
    },
    {
     "name": "stdout",
     "output_type": "stream",
     "text": [
      "MoviePy - Done !\n",
      "MoviePy - video ready SniffingSnippetsIsabelle/2644_snippet_95.mp4\n",
      "Video number: 2645\n",
      "Input video duration: 22.16 seconds\n",
      "\u001b[32m[05/27 22:18:44 d2.checkpoint.detection_checkpoint]: \u001b[0m[DetectionCheckpointer] Loading from ./output/model_final.pth ...\n"
     ]
    },
    {
     "name": "stderr",
     "output_type": "stream",
     "text": [
      "INFO:fvcore.common.checkpoint:[Checkpointer] Loading from ./output/model_final.pth ...\n"
     ]
    },
    {
     "name": "stdout",
     "output_type": "stream",
     "text": [
      "2645\n",
      "MoviePy - Building video SniffingSnippetsIsabelle/2645_snippet_0.mp4.\n",
      "MoviePy - Writing video SniffingSnippetsIsabelle/2645_snippet_0.mp4\n",
      "\n"
     ]
    },
    {
     "name": "stderr",
     "output_type": "stream",
     "text": [
      "                                                            "
     ]
    },
    {
     "name": "stdout",
     "output_type": "stream",
     "text": [
      "MoviePy - Done !\n",
      "MoviePy - video ready SniffingSnippetsIsabelle/2645_snippet_0.mp4\n"
     ]
    },
    {
     "name": "stderr",
     "output_type": "stream",
     "text": [
      "\r"
     ]
    },
    {
     "name": "stdout",
     "output_type": "stream",
     "text": [
      "MoviePy - Building video SniffingSnippetsIsabelle/2645_snippet_1.mp4.\n",
      "MoviePy - Writing video SniffingSnippetsIsabelle/2645_snippet_1.mp4\n",
      "\n"
     ]
    },
    {
     "name": "stderr",
     "output_type": "stream",
     "text": [
      "                                             "
     ]
    },
    {
     "name": "stdout",
     "output_type": "stream",
     "text": [
      "MoviePy - Done !\n",
      "MoviePy - video ready SniffingSnippetsIsabelle/2645_snippet_1.mp4\n"
     ]
    },
    {
     "name": "stderr",
     "output_type": "stream",
     "text": [
      "\r"
     ]
    },
    {
     "name": "stdout",
     "output_type": "stream",
     "text": [
      "MoviePy - Building video SniffingSnippetsIsabelle/2645_snippet_2.mp4.\n",
      "MoviePy - Writing video SniffingSnippetsIsabelle/2645_snippet_2.mp4\n",
      "\n"
     ]
    },
    {
     "name": "stderr",
     "output_type": "stream",
     "text": [
      "                                                             \r"
     ]
    },
    {
     "name": "stdout",
     "output_type": "stream",
     "text": [
      "MoviePy - Done !\n",
      "MoviePy - video ready SniffingSnippetsIsabelle/2645_snippet_2.mp4\n",
      "MoviePy - Building video SniffingSnippetsIsabelle/2645_snippet_3.mp4.\n",
      "MoviePy - Writing video SniffingSnippetsIsabelle/2645_snippet_3.mp4\n",
      "\n"
     ]
    },
    {
     "name": "stderr",
     "output_type": "stream",
     "text": [
      "                                                             \r"
     ]
    },
    {
     "name": "stdout",
     "output_type": "stream",
     "text": [
      "MoviePy - Done !\n",
      "MoviePy - video ready SniffingSnippetsIsabelle/2645_snippet_3.mp4\n",
      "MoviePy - Building video SniffingSnippetsIsabelle/2645_snippet_4.mp4.\n",
      "MoviePy - Writing video SniffingSnippetsIsabelle/2645_snippet_4.mp4\n",
      "\n"
     ]
    },
    {
     "name": "stderr",
     "output_type": "stream",
     "text": [
      "                                                                       \r"
     ]
    },
    {
     "name": "stdout",
     "output_type": "stream",
     "text": [
      "MoviePy - Done !\n",
      "MoviePy - video ready SniffingSnippetsIsabelle/2645_snippet_4.mp4\n",
      "MoviePy - Building video SniffingSnippetsIsabelle/2645_snippet_5.mp4.\n",
      "MoviePy - Writing video SniffingSnippetsIsabelle/2645_snippet_5.mp4\n",
      "\n"
     ]
    },
    {
     "name": "stderr",
     "output_type": "stream",
     "text": [
      "                                                            "
     ]
    },
    {
     "name": "stdout",
     "output_type": "stream",
     "text": [
      "MoviePy - Done !\n",
      "MoviePy - video ready SniffingSnippetsIsabelle/2645_snippet_5.mp4\n"
     ]
    },
    {
     "name": "stderr",
     "output_type": "stream",
     "text": [
      "\r"
     ]
    },
    {
     "name": "stdout",
     "output_type": "stream",
     "text": [
      "MoviePy - Building video SniffingSnippetsIsabelle/2645_snippet_6.mp4.\n",
      "MoviePy - Writing video SniffingSnippetsIsabelle/2645_snippet_6.mp4\n",
      "\n"
     ]
    },
    {
     "name": "stderr",
     "output_type": "stream",
     "text": [
      "                                                                       \r"
     ]
    },
    {
     "name": "stdout",
     "output_type": "stream",
     "text": [
      "MoviePy - Done !\n",
      "MoviePy - video ready SniffingSnippetsIsabelle/2645_snippet_6.mp4\n",
      "MoviePy - Building video SniffingSnippetsIsabelle/2645_snippet_7.mp4.\n",
      "MoviePy - Writing video SniffingSnippetsIsabelle/2645_snippet_7.mp4\n",
      "\n"
     ]
    },
    {
     "name": "stderr",
     "output_type": "stream",
     "text": [
      "                                                            "
     ]
    },
    {
     "name": "stdout",
     "output_type": "stream",
     "text": [
      "MoviePy - Done !\n",
      "MoviePy - video ready SniffingSnippetsIsabelle/2645_snippet_7.mp4\n"
     ]
    },
    {
     "name": "stderr",
     "output_type": "stream",
     "text": [
      "\r"
     ]
    },
    {
     "name": "stdout",
     "output_type": "stream",
     "text": [
      "MoviePy - Building video SniffingSnippetsIsabelle/2645_snippet_8.mp4.\n",
      "MoviePy - Writing video SniffingSnippetsIsabelle/2645_snippet_8.mp4\n",
      "\n"
     ]
    },
    {
     "name": "stderr",
     "output_type": "stream",
     "text": [
      "                                                                       \r"
     ]
    },
    {
     "name": "stdout",
     "output_type": "stream",
     "text": [
      "MoviePy - Done !\n",
      "MoviePy - video ready SniffingSnippetsIsabelle/2645_snippet_8.mp4\n",
      "MoviePy - Building video SniffingSnippetsIsabelle/2645_snippet_9.mp4.\n",
      "MoviePy - Writing video SniffingSnippetsIsabelle/2645_snippet_9.mp4\n",
      "\n"
     ]
    },
    {
     "name": "stderr",
     "output_type": "stream",
     "text": [
      "                                                            "
     ]
    },
    {
     "name": "stdout",
     "output_type": "stream",
     "text": [
      "MoviePy - Done !\n",
      "MoviePy - video ready SniffingSnippetsIsabelle/2645_snippet_9.mp4\n"
     ]
    },
    {
     "name": "stderr",
     "output_type": "stream",
     "text": [
      "\r"
     ]
    },
    {
     "name": "stdout",
     "output_type": "stream",
     "text": [
      "MoviePy - Building video SniffingSnippetsIsabelle/2645_snippet_10.mp4.\n",
      "MoviePy - Writing video SniffingSnippetsIsabelle/2645_snippet_10.mp4\n",
      "\n"
     ]
    },
    {
     "name": "stderr",
     "output_type": "stream",
     "text": [
      "                                                            "
     ]
    },
    {
     "name": "stdout",
     "output_type": "stream",
     "text": [
      "MoviePy - Done !\n",
      "MoviePy - video ready SniffingSnippetsIsabelle/2645_snippet_10.mp4\n"
     ]
    },
    {
     "name": "stderr",
     "output_type": "stream",
     "text": [
      "\r"
     ]
    },
    {
     "name": "stdout",
     "output_type": "stream",
     "text": [
      "MoviePy - Building video SniffingSnippetsIsabelle/2645_snippet_11.mp4.\n",
      "MoviePy - Writing video SniffingSnippetsIsabelle/2645_snippet_11.mp4\n",
      "\n"
     ]
    },
    {
     "name": "stderr",
     "output_type": "stream",
     "text": [
      "                                                             \r"
     ]
    },
    {
     "name": "stdout",
     "output_type": "stream",
     "text": [
      "MoviePy - Done !\n",
      "MoviePy - video ready SniffingSnippetsIsabelle/2645_snippet_11.mp4\n",
      "MoviePy - Building video SniffingSnippetsIsabelle/2645_snippet_12.mp4.\n",
      "MoviePy - Writing video SniffingSnippetsIsabelle/2645_snippet_12.mp4\n",
      "\n"
     ]
    },
    {
     "name": "stderr",
     "output_type": "stream",
     "text": [
      "                                                             \r"
     ]
    },
    {
     "name": "stdout",
     "output_type": "stream",
     "text": [
      "MoviePy - Done !\n",
      "MoviePy - video ready SniffingSnippetsIsabelle/2645_snippet_12.mp4\n",
      "MoviePy - Building video SniffingSnippetsIsabelle/2645_snippet_13.mp4.\n",
      "MoviePy - Writing video SniffingSnippetsIsabelle/2645_snippet_13.mp4\n",
      "\n"
     ]
    },
    {
     "name": "stderr",
     "output_type": "stream",
     "text": [
      "                                                                       \r"
     ]
    },
    {
     "name": "stdout",
     "output_type": "stream",
     "text": [
      "MoviePy - Done !\n",
      "MoviePy - video ready SniffingSnippetsIsabelle/2645_snippet_13.mp4\n",
      "MoviePy - Building video SniffingSnippetsIsabelle/2645_snippet_14.mp4.\n",
      "MoviePy - Writing video SniffingSnippetsIsabelle/2645_snippet_14.mp4\n",
      "\n"
     ]
    },
    {
     "name": "stderr",
     "output_type": "stream",
     "text": [
      "                                                                       \r"
     ]
    },
    {
     "name": "stdout",
     "output_type": "stream",
     "text": [
      "MoviePy - Done !\n",
      "MoviePy - video ready SniffingSnippetsIsabelle/2645_snippet_14.mp4\n",
      "MoviePy - Building video SniffingSnippetsIsabelle/2645_snippet_15.mp4.\n",
      "MoviePy - Writing video SniffingSnippetsIsabelle/2645_snippet_15.mp4\n",
      "\n"
     ]
    },
    {
     "name": "stderr",
     "output_type": "stream",
     "text": [
      "                                                            "
     ]
    },
    {
     "name": "stdout",
     "output_type": "stream",
     "text": [
      "MoviePy - Done !\n",
      "MoviePy - video ready SniffingSnippetsIsabelle/2645_snippet_15.mp4\n"
     ]
    },
    {
     "name": "stderr",
     "output_type": "stream",
     "text": [
      "\r"
     ]
    },
    {
     "name": "stdout",
     "output_type": "stream",
     "text": [
      "MoviePy - Building video SniffingSnippetsIsabelle/2645_snippet_16.mp4.\n",
      "MoviePy - Writing video SniffingSnippetsIsabelle/2645_snippet_16.mp4\n",
      "\n"
     ]
    },
    {
     "name": "stderr",
     "output_type": "stream",
     "text": [
      "                                             "
     ]
    },
    {
     "name": "stdout",
     "output_type": "stream",
     "text": [
      "MoviePy - Done !\n",
      "MoviePy - video ready SniffingSnippetsIsabelle/2645_snippet_16.mp4\n"
     ]
    },
    {
     "name": "stderr",
     "output_type": "stream",
     "text": [
      "\r"
     ]
    },
    {
     "name": "stdout",
     "output_type": "stream",
     "text": [
      "MoviePy - Building video SniffingSnippetsIsabelle/2645_snippet_17.mp4.\n",
      "MoviePy - Writing video SniffingSnippetsIsabelle/2645_snippet_17.mp4\n",
      "\n"
     ]
    },
    {
     "name": "stderr",
     "output_type": "stream",
     "text": [
      "                                                                       \r"
     ]
    },
    {
     "name": "stdout",
     "output_type": "stream",
     "text": [
      "MoviePy - Done !\n",
      "MoviePy - video ready SniffingSnippetsIsabelle/2645_snippet_17.mp4\n",
      "MoviePy - Building video SniffingSnippetsIsabelle/2645_snippet_18.mp4.\n",
      "MoviePy - Writing video SniffingSnippetsIsabelle/2645_snippet_18.mp4\n",
      "\n"
     ]
    },
    {
     "name": "stderr",
     "output_type": "stream",
     "text": [
      "                                                                       \r"
     ]
    },
    {
     "name": "stdout",
     "output_type": "stream",
     "text": [
      "MoviePy - Done !\n",
      "MoviePy - video ready SniffingSnippetsIsabelle/2645_snippet_18.mp4\n",
      "MoviePy - Building video SniffingSnippetsIsabelle/2645_snippet_19.mp4.\n",
      "MoviePy - Writing video SniffingSnippetsIsabelle/2645_snippet_19.mp4\n",
      "\n"
     ]
    },
    {
     "name": "stderr",
     "output_type": "stream",
     "text": [
      "                                                                       \r"
     ]
    },
    {
     "name": "stdout",
     "output_type": "stream",
     "text": [
      "MoviePy - Done !\n",
      "MoviePy - video ready SniffingSnippetsIsabelle/2645_snippet_19.mp4\n",
      "MoviePy - Building video SniffingSnippetsIsabelle/2645_snippet_20.mp4.\n",
      "MoviePy - Writing video SniffingSnippetsIsabelle/2645_snippet_20.mp4\n",
      "\n"
     ]
    },
    {
     "name": "stderr",
     "output_type": "stream",
     "text": [
      "                                             "
     ]
    },
    {
     "name": "stdout",
     "output_type": "stream",
     "text": [
      "MoviePy - Done !\n",
      "MoviePy - video ready SniffingSnippetsIsabelle/2645_snippet_20.mp4\n"
     ]
    },
    {
     "name": "stderr",
     "output_type": "stream",
     "text": [
      "\r"
     ]
    },
    {
     "name": "stdout",
     "output_type": "stream",
     "text": [
      "MoviePy - Building video SniffingSnippetsIsabelle/2645_snippet_21.mp4.\n",
      "MoviePy - Writing video SniffingSnippetsIsabelle/2645_snippet_21.mp4\n",
      "\n"
     ]
    },
    {
     "name": "stderr",
     "output_type": "stream",
     "text": [
      "                                                            "
     ]
    },
    {
     "name": "stdout",
     "output_type": "stream",
     "text": [
      "MoviePy - Done !\n",
      "MoviePy - video ready SniffingSnippetsIsabelle/2645_snippet_21.mp4\n"
     ]
    },
    {
     "name": "stderr",
     "output_type": "stream",
     "text": [
      "\r"
     ]
    },
    {
     "name": "stdout",
     "output_type": "stream",
     "text": [
      "MoviePy - Building video SniffingSnippetsIsabelle/2645_snippet_22.mp4.\n",
      "MoviePy - Writing video SniffingSnippetsIsabelle/2645_snippet_22.mp4\n",
      "\n"
     ]
    },
    {
     "name": "stderr",
     "output_type": "stream",
     "text": [
      "                                                             \r"
     ]
    },
    {
     "name": "stdout",
     "output_type": "stream",
     "text": [
      "MoviePy - Done !\n",
      "MoviePy - video ready SniffingSnippetsIsabelle/2645_snippet_22.mp4\n",
      "MoviePy - Building video SniffingSnippetsIsabelle/2645_snippet_23.mp4.\n",
      "MoviePy - Writing video SniffingSnippetsIsabelle/2645_snippet_23.mp4\n",
      "\n"
     ]
    },
    {
     "name": "stderr",
     "output_type": "stream",
     "text": [
      "                                                            "
     ]
    },
    {
     "name": "stdout",
     "output_type": "stream",
     "text": [
      "MoviePy - Done !\n",
      "MoviePy - video ready SniffingSnippetsIsabelle/2645_snippet_23.mp4\n"
     ]
    },
    {
     "name": "stderr",
     "output_type": "stream",
     "text": [
      "\r"
     ]
    },
    {
     "name": "stdout",
     "output_type": "stream",
     "text": [
      "MoviePy - Building video SniffingSnippetsIsabelle/2645_snippet_24.mp4.\n",
      "MoviePy - Writing video SniffingSnippetsIsabelle/2645_snippet_24.mp4\n",
      "\n"
     ]
    },
    {
     "name": "stderr",
     "output_type": "stream",
     "text": [
      "                                                            "
     ]
    },
    {
     "name": "stdout",
     "output_type": "stream",
     "text": [
      "MoviePy - Done !\n",
      "MoviePy - video ready SniffingSnippetsIsabelle/2645_snippet_24.mp4\n"
     ]
    },
    {
     "name": "stderr",
     "output_type": "stream",
     "text": [
      "\r"
     ]
    },
    {
     "name": "stdout",
     "output_type": "stream",
     "text": [
      "MoviePy - Building video SniffingSnippetsIsabelle/2645_snippet_25.mp4.\n",
      "MoviePy - Writing video SniffingSnippetsIsabelle/2645_snippet_25.mp4\n",
      "\n"
     ]
    },
    {
     "name": "stderr",
     "output_type": "stream",
     "text": [
      "                                                            "
     ]
    },
    {
     "name": "stdout",
     "output_type": "stream",
     "text": [
      "MoviePy - Done !\n",
      "MoviePy - video ready SniffingSnippetsIsabelle/2645_snippet_25.mp4\n"
     ]
    },
    {
     "name": "stderr",
     "output_type": "stream",
     "text": [
      "\r"
     ]
    },
    {
     "name": "stdout",
     "output_type": "stream",
     "text": [
      "MoviePy - Building video SniffingSnippetsIsabelle/2645_snippet_26.mp4.\n",
      "MoviePy - Writing video SniffingSnippetsIsabelle/2645_snippet_26.mp4\n",
      "\n"
     ]
    },
    {
     "name": "stderr",
     "output_type": "stream",
     "text": [
      "                                                             \r"
     ]
    },
    {
     "name": "stdout",
     "output_type": "stream",
     "text": [
      "MoviePy - Done !\n",
      "MoviePy - video ready SniffingSnippetsIsabelle/2645_snippet_26.mp4\n",
      "MoviePy - Building video SniffingSnippetsIsabelle/2645_snippet_27.mp4.\n",
      "MoviePy - Writing video SniffingSnippetsIsabelle/2645_snippet_27.mp4\n",
      "\n"
     ]
    },
    {
     "name": "stderr",
     "output_type": "stream",
     "text": [
      "                                             "
     ]
    },
    {
     "name": "stdout",
     "output_type": "stream",
     "text": [
      "MoviePy - Done !\n",
      "MoviePy - video ready SniffingSnippetsIsabelle/2645_snippet_27.mp4\n"
     ]
    },
    {
     "name": "stderr",
     "output_type": "stream",
     "text": [
      "\r"
     ]
    },
    {
     "name": "stdout",
     "output_type": "stream",
     "text": [
      "MoviePy - Building video SniffingSnippetsIsabelle/2645_snippet_28.mp4.\n",
      "MoviePy - Writing video SniffingSnippetsIsabelle/2645_snippet_28.mp4\n",
      "\n"
     ]
    },
    {
     "name": "stderr",
     "output_type": "stream",
     "text": [
      "                                                                       \r"
     ]
    },
    {
     "name": "stdout",
     "output_type": "stream",
     "text": [
      "MoviePy - Done !\n",
      "MoviePy - video ready SniffingSnippetsIsabelle/2645_snippet_28.mp4\n",
      "MoviePy - Building video SniffingSnippetsIsabelle/2645_snippet_29.mp4.\n",
      "MoviePy - Writing video SniffingSnippetsIsabelle/2645_snippet_29.mp4\n",
      "\n"
     ]
    },
    {
     "name": "stderr",
     "output_type": "stream",
     "text": [
      "                                                                       \r"
     ]
    },
    {
     "name": "stdout",
     "output_type": "stream",
     "text": [
      "MoviePy - Done !\n",
      "MoviePy - video ready SniffingSnippetsIsabelle/2645_snippet_29.mp4\n",
      "MoviePy - Building video SniffingSnippetsIsabelle/2645_snippet_30.mp4.\n",
      "MoviePy - Writing video SniffingSnippetsIsabelle/2645_snippet_30.mp4\n",
      "\n"
     ]
    },
    {
     "name": "stderr",
     "output_type": "stream",
     "text": [
      "                                                                       \r"
     ]
    },
    {
     "name": "stdout",
     "output_type": "stream",
     "text": [
      "MoviePy - Done !\n",
      "MoviePy - video ready SniffingSnippetsIsabelle/2645_snippet_30.mp4\n",
      "MoviePy - Building video SniffingSnippetsIsabelle/2645_snippet_31.mp4.\n",
      "MoviePy - Writing video SniffingSnippetsIsabelle/2645_snippet_31.mp4\n",
      "\n"
     ]
    },
    {
     "name": "stderr",
     "output_type": "stream",
     "text": [
      "                                             "
     ]
    },
    {
     "name": "stdout",
     "output_type": "stream",
     "text": [
      "MoviePy - Done !\n",
      "MoviePy - video ready SniffingSnippetsIsabelle/2645_snippet_31.mp4\n"
     ]
    },
    {
     "name": "stderr",
     "output_type": "stream",
     "text": [
      "\r"
     ]
    },
    {
     "name": "stdout",
     "output_type": "stream",
     "text": [
      "MoviePy - Building video SniffingSnippetsIsabelle/2645_snippet_32.mp4.\n",
      "MoviePy - Writing video SniffingSnippetsIsabelle/2645_snippet_32.mp4\n",
      "\n"
     ]
    },
    {
     "name": "stderr",
     "output_type": "stream",
     "text": [
      "                                                            "
     ]
    },
    {
     "name": "stdout",
     "output_type": "stream",
     "text": [
      "MoviePy - Done !\n",
      "MoviePy - video ready SniffingSnippetsIsabelle/2645_snippet_32.mp4\n"
     ]
    },
    {
     "name": "stderr",
     "output_type": "stream",
     "text": [
      "\r"
     ]
    },
    {
     "name": "stdout",
     "output_type": "stream",
     "text": [
      "MoviePy - Building video SniffingSnippetsIsabelle/2645_snippet_33.mp4.\n",
      "MoviePy - Writing video SniffingSnippetsIsabelle/2645_snippet_33.mp4\n",
      "\n"
     ]
    },
    {
     "name": "stderr",
     "output_type": "stream",
     "text": [
      "                                             "
     ]
    },
    {
     "name": "stdout",
     "output_type": "stream",
     "text": [
      "MoviePy - Done !\n",
      "MoviePy - video ready SniffingSnippetsIsabelle/2645_snippet_33.mp4\n"
     ]
    },
    {
     "name": "stderr",
     "output_type": "stream",
     "text": [
      "\r"
     ]
    },
    {
     "name": "stdout",
     "output_type": "stream",
     "text": [
      "MoviePy - Building video SniffingSnippetsIsabelle/2645_snippet_34.mp4.\n",
      "MoviePy - Writing video SniffingSnippetsIsabelle/2645_snippet_34.mp4\n",
      "\n"
     ]
    },
    {
     "name": "stderr",
     "output_type": "stream",
     "text": [
      "                                             "
     ]
    },
    {
     "name": "stdout",
     "output_type": "stream",
     "text": [
      "MoviePy - Done !\n",
      "MoviePy - video ready SniffingSnippetsIsabelle/2645_snippet_34.mp4\n"
     ]
    },
    {
     "name": "stderr",
     "output_type": "stream",
     "text": [
      "\r"
     ]
    },
    {
     "name": "stdout",
     "output_type": "stream",
     "text": [
      "MoviePy - Building video SniffingSnippetsIsabelle/2645_snippet_35.mp4.\n",
      "MoviePy - Writing video SniffingSnippetsIsabelle/2645_snippet_35.mp4\n",
      "\n"
     ]
    },
    {
     "name": "stderr",
     "output_type": "stream",
     "text": [
      "                                             "
     ]
    },
    {
     "name": "stdout",
     "output_type": "stream",
     "text": [
      "MoviePy - Done !\n",
      "MoviePy - video ready SniffingSnippetsIsabelle/2645_snippet_35.mp4\n"
     ]
    },
    {
     "name": "stderr",
     "output_type": "stream",
     "text": [
      "\r"
     ]
    },
    {
     "name": "stdout",
     "output_type": "stream",
     "text": [
      "MoviePy - Building video SniffingSnippetsIsabelle/2645_snippet_36.mp4.\n",
      "MoviePy - Writing video SniffingSnippetsIsabelle/2645_snippet_36.mp4\n",
      "\n"
     ]
    },
    {
     "name": "stderr",
     "output_type": "stream",
     "text": [
      "                                                            "
     ]
    },
    {
     "name": "stdout",
     "output_type": "stream",
     "text": [
      "MoviePy - Done !\n",
      "MoviePy - video ready SniffingSnippetsIsabelle/2645_snippet_36.mp4\n"
     ]
    },
    {
     "name": "stderr",
     "output_type": "stream",
     "text": [
      "\r"
     ]
    },
    {
     "name": "stdout",
     "output_type": "stream",
     "text": [
      "MoviePy - Building video SniffingSnippetsIsabelle/2645_snippet_37.mp4.\n",
      "MoviePy - Writing video SniffingSnippetsIsabelle/2645_snippet_37.mp4\n",
      "\n"
     ]
    },
    {
     "name": "stderr",
     "output_type": "stream",
     "text": [
      "                                                             \r"
     ]
    },
    {
     "name": "stdout",
     "output_type": "stream",
     "text": [
      "MoviePy - Done !\n",
      "MoviePy - video ready SniffingSnippetsIsabelle/2645_snippet_37.mp4\n",
      "MoviePy - Building video SniffingSnippetsIsabelle/2645_snippet_38.mp4.\n",
      "MoviePy - Writing video SniffingSnippetsIsabelle/2645_snippet_38.mp4\n",
      "\n"
     ]
    },
    {
     "name": "stderr",
     "output_type": "stream",
     "text": [
      "                                                            "
     ]
    },
    {
     "name": "stdout",
     "output_type": "stream",
     "text": [
      "MoviePy - Done !\n",
      "MoviePy - video ready SniffingSnippetsIsabelle/2645_snippet_38.mp4\n"
     ]
    },
    {
     "name": "stderr",
     "output_type": "stream",
     "text": [
      "\r"
     ]
    },
    {
     "name": "stdout",
     "output_type": "stream",
     "text": [
      "MoviePy - Building video SniffingSnippetsIsabelle/2645_snippet_39.mp4.\n",
      "MoviePy - Writing video SniffingSnippetsIsabelle/2645_snippet_39.mp4\n",
      "\n"
     ]
    },
    {
     "name": "stderr",
     "output_type": "stream",
     "text": [
      "                                                            "
     ]
    },
    {
     "name": "stdout",
     "output_type": "stream",
     "text": [
      "MoviePy - Done !\n",
      "MoviePy - video ready SniffingSnippetsIsabelle/2645_snippet_39.mp4\n"
     ]
    },
    {
     "name": "stderr",
     "output_type": "stream",
     "text": [
      "\r"
     ]
    }
   ],
   "source": [
    "\n",
    "for vid  in list_to_do:\n",
    "    input_video_path = f\"Videos_Cut/DSCN{vid}.mp4\"\n",
    "    vid_nr = input_video_path[-8:-4]\n",
    "    print(\"Video number:\", vid_nr)\n",
    "    \n",
    "    f = \"SniffingSnippetsIsabelle/\"\n",
    "    output_video_name = vid_nr + 'processed_output.mp4'\n",
    "    output_video_path = os.path.join(f, output_video_name)\n",
    "\n",
    "    # duration of the video in seconds\n",
    "    input_video_duration = mp.VideoFileClip(input_video_path).duration\n",
    "    print(\"Input video duration:\", input_video_duration, \"seconds\")\n",
    "\n",
    "    bounding_box_location_tank_head, fps = process_video(input_video_path, output_video_path)\n",
    "    bb, bb2 , bb4 = start_stop_sniffing(bounding_box_location_tank_head)\n",
    "\n",
    "    save_csv(foldername = f, vid_nr = vid_nr, bb = bb, bb2 = bb2, bb4 = bb4)\n",
    "\n",
    "\n",
    "    # Create snippets for each start-stop pair\n",
    "    for index, row in bb4.iterrows():   \n",
    "        \n",
    "        start_time = row['start_timestamp']\n",
    "        stop_time = row['stop_timestamp']              \n",
    "\n",
    "        \n",
    "        output_path = os.path.join(f, f\"{vid_nr}_snippet_{index}.mp4\")\n",
    "\n",
    "        create_snippet(input_video_path, start_time, stop_time, output_path)\n",
    "\n"
   ]
  },
  {
   "cell_type": "code",
   "execution_count": null,
   "id": "c4dab643",
   "metadata": {},
   "outputs": [
    {
     "name": "stdout",
     "output_type": "stream",
     "text": [
      "\u001b[32m[05/27 21:35:48 d2.checkpoint.detection_checkpoint]: \u001b[0m[DetectionCheckpointer] Loading from ./output/model_final.pth ...\n"
     ]
    },
    {
     "name": "stderr",
     "output_type": "stream",
     "text": [
      "INFO:fvcore.common.checkpoint:[Checkpointer] Loading from ./output/model_final.pth ...\n"
     ]
    }
   ],
   "source": []
  },
  {
   "cell_type": "code",
   "execution_count": null,
   "id": "9f085434",
   "metadata": {},
   "outputs": [
    {
     "data": {
      "text/html": [
       "<div>\n",
       "<style scoped>\n",
       "    .dataframe tbody tr th:only-of-type {\n",
       "        vertical-align: middle;\n",
       "    }\n",
       "\n",
       "    .dataframe tbody tr th {\n",
       "        vertical-align: top;\n",
       "    }\n",
       "\n",
       "    .dataframe thead th {\n",
       "        text-align: right;\n",
       "    }\n",
       "</style>\n",
       "<table border=\"1\" class=\"dataframe\">\n",
       "  <thead>\n",
       "    <tr style=\"text-align: right;\">\n",
       "      <th></th>\n",
       "      <th>frame_number</th>\n",
       "      <th>timestamp</th>\n",
       "      <th>bounding_box</th>\n",
       "      <th>confidence</th>\n",
       "      <th>pred_classes</th>\n",
       "      <th>indexes_head</th>\n",
       "      <th>indexes_tank</th>\n",
       "      <th>indexes_nose</th>\n",
       "      <th>bboxes_head</th>\n",
       "      <th>bboxes_tanks</th>\n",
       "      <th>bboxes_nose</th>\n",
       "      <th>sniffing</th>\n",
       "      <th>prev_sniffing</th>\n",
       "      <th>next_sniffing</th>\n",
       "      <th>start-stop</th>\n",
       "    </tr>\n",
       "  </thead>\n",
       "  <tbody>\n",
       "    <tr>\n",
       "      <th>762</th>\n",
       "      <td>762</td>\n",
       "      <td>25.425400</td>\n",
       "      <td>[[318.9358215332031, 506.448974609375, 426.247...</td>\n",
       "      <td>[0.9008474946022034, 0.900312066078186, 0.8969...</td>\n",
       "      <td>[2, 1, 2, 2, 2, 4, 2, 2]</td>\n",
       "      <td>[1]</td>\n",
       "      <td>[0, 2, 3, 4, 6, 7]</td>\n",
       "      <td>[5]</td>\n",
       "      <td>[[354.86761474609375, 99.2551498413086, 534.25...</td>\n",
       "      <td>[[318.9358215332031, 506.448974609375, 426.247...</td>\n",
       "      <td>[[449.24609375, 266.8948059082031, 497.4188842...</td>\n",
       "      <td>sniffing</td>\n",
       "      <td>sniffing</td>\n",
       "      <td>sniffing</td>\n",
       "      <td>continue</td>\n",
       "    </tr>\n",
       "    <tr>\n",
       "      <th>763</th>\n",
       "      <td>763</td>\n",
       "      <td>25.458767</td>\n",
       "      <td>[[317.8729553222656, 506.0529479980469, 425.94...</td>\n",
       "      <td>[0.9043141603469849, 0.8849994540214539, 0.858...</td>\n",
       "      <td>[2, 2, 1, 2, 2, 1, 4, 2]</td>\n",
       "      <td>[2, 5]</td>\n",
       "      <td>[0, 1, 3, 4, 7]</td>\n",
       "      <td>[6]</td>\n",
       "      <td>[[355.37420654296875, 94.81307983398438, 531.2...</td>\n",
       "      <td>[[317.8729553222656, 506.0529479980469, 425.94...</td>\n",
       "      <td>[[440.8772888183594, 269.70849609375, 499.1054...</td>\n",
       "      <td>sniffing</td>\n",
       "      <td>sniffing</td>\n",
       "      <td>sniffing</td>\n",
       "      <td>continue</td>\n",
       "    </tr>\n",
       "    <tr>\n",
       "      <th>764</th>\n",
       "      <td>764</td>\n",
       "      <td>25.492133</td>\n",
       "      <td>[[317.6860656738281, 505.0966796875, 421.96160...</td>\n",
       "      <td>[0.9043645858764648, 0.8977053165435791, 0.886...</td>\n",
       "      <td>[2, 2, 2, 2, 1, 4, 2, 2]</td>\n",
       "      <td>[4]</td>\n",
       "      <td>[0, 1, 2, 3, 6, 7]</td>\n",
       "      <td>[5]</td>\n",
       "      <td>[[347.8482666015625, 88.65413665771484, 531.74...</td>\n",
       "      <td>[[317.6860656738281, 505.0966796875, 421.96160...</td>\n",
       "      <td>[[436.7652282714844, 265.4993591308594, 493.59...</td>\n",
       "      <td>sniffing</td>\n",
       "      <td>sniffing</td>\n",
       "      <td>sniffing</td>\n",
       "      <td>continue</td>\n",
       "    </tr>\n",
       "    <tr>\n",
       "      <th>765</th>\n",
       "      <td>765</td>\n",
       "      <td>25.525500</td>\n",
       "      <td>[[314.8800354003906, 506.94378662109375, 428.5...</td>\n",
       "      <td>[0.9025813341140747, 0.8896710872650146, 0.886...</td>\n",
       "      <td>[2, 2, 2, 2, 1, 4, 2, 2]</td>\n",
       "      <td>[4]</td>\n",
       "      <td>[0, 1, 2, 3, 6, 7]</td>\n",
       "      <td>[5]</td>\n",
       "      <td>[[345.1199035644531, 79.24298858642578, 522.31...</td>\n",
       "      <td>[[314.8800354003906, 506.94378662109375, 428.5...</td>\n",
       "      <td>[[434.2934875488281, 259.1200866699219, 492.26...</td>\n",
       "      <td>sniffing</td>\n",
       "      <td>sniffing</td>\n",
       "      <td>sniffing</td>\n",
       "      <td>continue</td>\n",
       "    </tr>\n",
       "    <tr>\n",
       "      <th>766</th>\n",
       "      <td>766</td>\n",
       "      <td>25.558867</td>\n",
       "      <td>[[316.53125, 505.4551086425781, 423.5974426269...</td>\n",
       "      <td>[0.891058087348938, 0.8800485730171204, 0.8784...</td>\n",
       "      <td>[2, 2, 2, 2, 1, 4, 4, 2]</td>\n",
       "      <td>[4]</td>\n",
       "      <td>[0, 1, 2, 3, 7]</td>\n",
       "      <td>[5, 6]</td>\n",
       "      <td>[[343.30352783203125, 75.50825500488281, 525.0...</td>\n",
       "      <td>[[316.53125, 505.4551086425781, 423.5974426269...</td>\n",
       "      <td>[[431.9200134277344, 260.65496826171875, 495.2...</td>\n",
       "      <td>sniffing</td>\n",
       "      <td>sniffing</td>\n",
       "      <td>sniffing</td>\n",
       "      <td>continue</td>\n",
       "    </tr>\n",
       "    <tr>\n",
       "      <th>767</th>\n",
       "      <td>767</td>\n",
       "      <td>25.592233</td>\n",
       "      <td>[[314.9231872558594, 505.67669677734375, 423.9...</td>\n",
       "      <td>[0.8991939425468445, 0.8810976147651672, 0.848...</td>\n",
       "      <td>[2, 2, 1, 2, 2, 4, 2, 4, 1]</td>\n",
       "      <td>[2, 8]</td>\n",
       "      <td>[0, 1, 3, 4, 6]</td>\n",
       "      <td>[5, 7]</td>\n",
       "      <td>[[354.3250427246094, 76.87438201904297, 521.58...</td>\n",
       "      <td>[[314.9231872558594, 505.67669677734375, 423.9...</td>\n",
       "      <td>[[429.52423095703125, 263.2339172363281, 492.9...</td>\n",
       "      <td>sniffing</td>\n",
       "      <td>sniffing</td>\n",
       "      <td>sniffing</td>\n",
       "      <td>continue</td>\n",
       "    </tr>\n",
       "    <tr>\n",
       "      <th>768</th>\n",
       "      <td>768</td>\n",
       "      <td>25.625600</td>\n",
       "      <td>[[356.0720520019531, 91.31932067871094, 523.65...</td>\n",
       "      <td>[0.9182637929916382, 0.9098331332206726, 0.893...</td>\n",
       "      <td>[1, 2, 2, 2, 2, 1, 4, 2, 2, 2]</td>\n",
       "      <td>[0, 5]</td>\n",
       "      <td>[1, 2, 3, 4, 7, 8, 9]</td>\n",
       "      <td>[6]</td>\n",
       "      <td>[[356.0720520019531, 91.31932067871094, 523.65...</td>\n",
       "      <td>[[316.5494689941406, 505.56109619140625, 422.2...</td>\n",
       "      <td>[[427.43951416015625, 273.7341003417969, 490.6...</td>\n",
       "      <td>sniffing</td>\n",
       "      <td>sniffing</td>\n",
       "      <td>sniffing</td>\n",
       "      <td>continue</td>\n",
       "    </tr>\n",
       "    <tr>\n",
       "      <th>769</th>\n",
       "      <td>769</td>\n",
       "      <td>25.658967</td>\n",
       "      <td>[[317.7554931640625, 506.02587890625, 422.7510...</td>\n",
       "      <td>[0.9029914140701294, 0.8996021151542664, 0.883...</td>\n",
       "      <td>[2, 2, 2, 1, 2, 4, 2, 2, 2, 1]</td>\n",
       "      <td>[3, 9]</td>\n",
       "      <td>[0, 1, 2, 4, 6, 7, 8]</td>\n",
       "      <td>[5]</td>\n",
       "      <td>[[353.0123596191406, 97.14250946044922, 538.53...</td>\n",
       "      <td>[[317.7554931640625, 506.02587890625, 422.7510...</td>\n",
       "      <td>[[429.57733154296875, 277.9071044921875, 475.5...</td>\n",
       "      <td>sniffing</td>\n",
       "      <td>sniffing</td>\n",
       "      <td>not_sniffing</td>\n",
       "      <td>continue</td>\n",
       "    </tr>\n",
       "    <tr>\n",
       "      <th>770</th>\n",
       "      <td>770</td>\n",
       "      <td>25.692333</td>\n",
       "      <td>[[1035.053955078125, 264.3686218261719, 1115.4...</td>\n",
       "      <td>[0.9074544906616211, 0.9058253169059753, 0.897...</td>\n",
       "      <td>[2, 2, 2, 1, 2, 4, 2]</td>\n",
       "      <td>[3]</td>\n",
       "      <td>[0, 1, 2, 4, 6]</td>\n",
       "      <td>[5]</td>\n",
       "      <td>[[351.03314208984375, 103.86978912353516, 518....</td>\n",
       "      <td>[[1035.053955078125, 264.3686218261719, 1115.4...</td>\n",
       "      <td>[[425.7305908203125, 274.8208312988281, 493.82...</td>\n",
       "      <td>not_sniffing</td>\n",
       "      <td>sniffing</td>\n",
       "      <td>not_sniffing</td>\n",
       "      <td>stop</td>\n",
       "    </tr>\n",
       "    <tr>\n",
       "      <th>771</th>\n",
       "      <td>771</td>\n",
       "      <td>25.725700</td>\n",
       "      <td>[[1166.5145263671875, 356.42218017578125, 1255...</td>\n",
       "      <td>[0.8981720209121704, 0.8980739712715149, 0.870...</td>\n",
       "      <td>[2, 2, 2, 1, 2, 4, 2]</td>\n",
       "      <td>[3]</td>\n",
       "      <td>[0, 1, 2, 4, 6]</td>\n",
       "      <td>[5]</td>\n",
       "      <td>[[347.2008972167969, 103.38174438476562, 513.9...</td>\n",
       "      <td>[[1166.5145263671875, 356.42218017578125, 1255...</td>\n",
       "      <td>[[422.1845703125, 268.92132568359375, 491.9032...</td>\n",
       "      <td>not_sniffing</td>\n",
       "      <td>not_sniffing</td>\n",
       "      <td>not_sniffing</td>\n",
       "      <td>continue</td>\n",
       "    </tr>\n",
       "    <tr>\n",
       "      <th>772</th>\n",
       "      <td>772</td>\n",
       "      <td>25.759067</td>\n",
       "      <td>[[317.13818359375, 505.6600036621094, 422.3688...</td>\n",
       "      <td>[0.9077545404434204, 0.9060450196266174, 0.893...</td>\n",
       "      <td>[2, 2, 2, 1, 2, 4]</td>\n",
       "      <td>[3]</td>\n",
       "      <td>[0, 1, 2, 4]</td>\n",
       "      <td>[5]</td>\n",
       "      <td>[[347.6038513183594, 99.85211181640625, 510.44...</td>\n",
       "      <td>[[317.13818359375, 505.6600036621094, 422.3688...</td>\n",
       "      <td>[[422.72216796875, 264.0462646484375, 491.1805...</td>\n",
       "      <td>not_sniffing</td>\n",
       "      <td>not_sniffing</td>\n",
       "      <td>sniffing</td>\n",
       "      <td>continue</td>\n",
       "    </tr>\n",
       "    <tr>\n",
       "      <th>773</th>\n",
       "      <td>773</td>\n",
       "      <td>25.792433</td>\n",
       "      <td>[[1033.4825439453125, 254.97848510742188, 1116...</td>\n",
       "      <td>[0.9147964119911194, 0.9081194400787354, 0.887...</td>\n",
       "      <td>[2, 2, 2, 1, 2, 2, 4]</td>\n",
       "      <td>[3]</td>\n",
       "      <td>[0, 1, 2, 4, 5]</td>\n",
       "      <td>[6]</td>\n",
       "      <td>[[344.5509033203125, 100.70967864990234, 506.6...</td>\n",
       "      <td>[[1033.4825439453125, 254.97848510742188, 1116...</td>\n",
       "      <td>[[425.94036865234375, 270.7285461425781, 489.8...</td>\n",
       "      <td>sniffing</td>\n",
       "      <td>not_sniffing</td>\n",
       "      <td>sniffing</td>\n",
       "      <td>start</td>\n",
       "    </tr>\n",
       "    <tr>\n",
       "      <th>774</th>\n",
       "      <td>774</td>\n",
       "      <td>25.825800</td>\n",
       "      <td>[[1165.6907958984375, 357.3981628417969, 1253....</td>\n",
       "      <td>[0.9108507037162781, 0.909659206867218, 0.9049...</td>\n",
       "      <td>[2, 2, 2, 1, 4, 2, 2, 2]</td>\n",
       "      <td>[3]</td>\n",
       "      <td>[0, 1, 2, 5, 6, 7]</td>\n",
       "      <td>[4]</td>\n",
       "      <td>[[347.9912109375, 106.78292846679688, 501.9927...</td>\n",
       "      <td>[[1165.6907958984375, 357.3981628417969, 1253....</td>\n",
       "      <td>[[429.25799560546875, 269.4118347167969, 492.8...</td>\n",
       "      <td>sniffing</td>\n",
       "      <td>sniffing</td>\n",
       "      <td>sniffing</td>\n",
       "      <td>continue</td>\n",
       "    </tr>\n",
       "    <tr>\n",
       "      <th>775</th>\n",
       "      <td>775</td>\n",
       "      <td>25.859167</td>\n",
       "      <td>[[1031.5576171875, 249.544677734375, 1118.5411...</td>\n",
       "      <td>[0.9025079011917114, 0.9018500447273254, 0.893...</td>\n",
       "      <td>[2, 2, 2, 1, 2, 4, 2]</td>\n",
       "      <td>[3]</td>\n",
       "      <td>[0, 1, 2, 4, 6]</td>\n",
       "      <td>[5]</td>\n",
       "      <td>[[353.7363586425781, 118.3086929321289, 502.67...</td>\n",
       "      <td>[[1031.5576171875, 249.544677734375, 1118.5411...</td>\n",
       "      <td>[[435.61322021484375, 294.6681823730469, 491.4...</td>\n",
       "      <td>sniffing</td>\n",
       "      <td>sniffing</td>\n",
       "      <td>sniffing</td>\n",
       "      <td>continue</td>\n",
       "    </tr>\n",
       "    <tr>\n",
       "      <th>776</th>\n",
       "      <td>776</td>\n",
       "      <td>25.892533</td>\n",
       "      <td>[[318.2449645996094, 505.7403869628906, 421.79...</td>\n",
       "      <td>[0.9085609912872314, 0.9033055305480957, 0.880...</td>\n",
       "      <td>[2, 2, 1, 2, 2, 2, 2, 4, 1]</td>\n",
       "      <td>[2, 8]</td>\n",
       "      <td>[0, 1, 3, 4, 5, 6]</td>\n",
       "      <td>[7]</td>\n",
       "      <td>[[359.5986022949219, 123.1827392578125, 505.45...</td>\n",
       "      <td>[[318.2449645996094, 505.7403869628906, 421.79...</td>\n",
       "      <td>[[436.97698974609375, 288.98431396484375, 496....</td>\n",
       "      <td>sniffing</td>\n",
       "      <td>sniffing</td>\n",
       "      <td>sniffing</td>\n",
       "      <td>continue</td>\n",
       "    </tr>\n",
       "    <tr>\n",
       "      <th>777</th>\n",
       "      <td>777</td>\n",
       "      <td>25.925900</td>\n",
       "      <td>[[364.97216796875, 127.62986755371094, 508.632...</td>\n",
       "      <td>[0.9120360016822815, 0.9062272906303406, 0.899...</td>\n",
       "      <td>[1, 2, 2, 2, 2, 4, 2, 2, 4]</td>\n",
       "      <td>[0]</td>\n",
       "      <td>[1, 2, 3, 4, 6, 7]</td>\n",
       "      <td>[5, 8]</td>\n",
       "      <td>[[364.97216796875, 127.62986755371094, 508.632...</td>\n",
       "      <td>[[1034.3392333984375, 249.68099975585938, 1116...</td>\n",
       "      <td>[[439.16094970703125, 271.0177917480469, 502.8...</td>\n",
       "      <td>sniffing</td>\n",
       "      <td>sniffing</td>\n",
       "      <td>sniffing</td>\n",
       "      <td>continue</td>\n",
       "    </tr>\n",
       "    <tr>\n",
       "      <th>778</th>\n",
       "      <td>778</td>\n",
       "      <td>25.959267</td>\n",
       "      <td>[[1032.23095703125, 254.3890380859375, 1118.95...</td>\n",
       "      <td>[0.912330687046051, 0.9121133685112, 0.8952925...</td>\n",
       "      <td>[2, 2, 1, 2, 2, 2, 2, 4]</td>\n",
       "      <td>[2]</td>\n",
       "      <td>[0, 1, 3, 4, 5, 6]</td>\n",
       "      <td>[7]</td>\n",
       "      <td>[[369.57196044921875, 130.06991577148438, 513....</td>\n",
       "      <td>[[1032.23095703125, 254.3890380859375, 1118.95...</td>\n",
       "      <td>[[440.1237487792969, 288.7282409667969, 497.58...</td>\n",
       "      <td>sniffing</td>\n",
       "      <td>sniffing</td>\n",
       "      <td>sniffing</td>\n",
       "      <td>continue</td>\n",
       "    </tr>\n",
       "    <tr>\n",
       "      <th>779</th>\n",
       "      <td>779</td>\n",
       "      <td>25.992633</td>\n",
       "      <td>[[373.3588562011719, 129.51766967773438, 513.6...</td>\n",
       "      <td>[0.9065406918525696, 0.9036949276924133, 0.886...</td>\n",
       "      <td>[1, 2, 2, 2, 2, 2, 2, 2, 4]</td>\n",
       "      <td>[0]</td>\n",
       "      <td>[1, 2, 3, 4, 5, 6, 7]</td>\n",
       "      <td>[8]</td>\n",
       "      <td>[[373.3588562011719, 129.51766967773438, 513.6...</td>\n",
       "      <td>[[318.2457580566406, 504.73394775390625, 422.1...</td>\n",
       "      <td>[[433.9847412109375, 283.534423828125, 494.018...</td>\n",
       "      <td>sniffing</td>\n",
       "      <td>sniffing</td>\n",
       "      <td>sniffing</td>\n",
       "      <td>continue</td>\n",
       "    </tr>\n",
       "    <tr>\n",
       "      <th>780</th>\n",
       "      <td>780</td>\n",
       "      <td>26.026000</td>\n",
       "      <td>[[379.7771911621094, 128.30873107910156, 512.5...</td>\n",
       "      <td>[0.8747966885566711, 0.8708018064498901, 0.852...</td>\n",
       "      <td>[1, 2, 2, 2, 2, 2, 2, 2, 4]</td>\n",
       "      <td>[0]</td>\n",
       "      <td>[1, 2, 3, 4, 5, 6, 7]</td>\n",
       "      <td>[8]</td>\n",
       "      <td>[[379.7771911621094, 128.30873107910156, 512.5...</td>\n",
       "      <td>[[315.91357421875, 505.5377197265625, 423.7357...</td>\n",
       "      <td>[[430.51544189453125, 268.08746337890625, 490....</td>\n",
       "      <td>sniffing</td>\n",
       "      <td>sniffing</td>\n",
       "      <td>sniffing</td>\n",
       "      <td>continue</td>\n",
       "    </tr>\n",
       "    <tr>\n",
       "      <th>781</th>\n",
       "      <td>781</td>\n",
       "      <td>26.059367</td>\n",
       "      <td>[[377.1939697265625, 134.96644592285156, 515.7...</td>\n",
       "      <td>[0.9049922823905945, 0.8818294405937195, 0.877...</td>\n",
       "      <td>[1, 2, 2, 2, 2, 4, 2]</td>\n",
       "      <td>[0]</td>\n",
       "      <td>[1, 2, 3, 4, 6]</td>\n",
       "      <td>[5]</td>\n",
       "      <td>[[377.1939697265625, 134.96644592285156, 515.7...</td>\n",
       "      <td>[[319.84197998046875, 504.72607421875, 421.406...</td>\n",
       "      <td>[[437.1513977050781, 285.8395690917969, 481.81...</td>\n",
       "      <td>sniffing</td>\n",
       "      <td>sniffing</td>\n",
       "      <td>None</td>\n",
       "      <td>stop</td>\n",
       "    </tr>\n",
       "  </tbody>\n",
       "</table>\n",
       "</div>"
      ],
      "text/plain": [
       "     frame_number  timestamp  \\\n",
       "762           762  25.425400   \n",
       "763           763  25.458767   \n",
       "764           764  25.492133   \n",
       "765           765  25.525500   \n",
       "766           766  25.558867   \n",
       "767           767  25.592233   \n",
       "768           768  25.625600   \n",
       "769           769  25.658967   \n",
       "770           770  25.692333   \n",
       "771           771  25.725700   \n",
       "772           772  25.759067   \n",
       "773           773  25.792433   \n",
       "774           774  25.825800   \n",
       "775           775  25.859167   \n",
       "776           776  25.892533   \n",
       "777           777  25.925900   \n",
       "778           778  25.959267   \n",
       "779           779  25.992633   \n",
       "780           780  26.026000   \n",
       "781           781  26.059367   \n",
       "\n",
       "                                          bounding_box  \\\n",
       "762  [[318.9358215332031, 506.448974609375, 426.247...   \n",
       "763  [[317.8729553222656, 506.0529479980469, 425.94...   \n",
       "764  [[317.6860656738281, 505.0966796875, 421.96160...   \n",
       "765  [[314.8800354003906, 506.94378662109375, 428.5...   \n",
       "766  [[316.53125, 505.4551086425781, 423.5974426269...   \n",
       "767  [[314.9231872558594, 505.67669677734375, 423.9...   \n",
       "768  [[356.0720520019531, 91.31932067871094, 523.65...   \n",
       "769  [[317.7554931640625, 506.02587890625, 422.7510...   \n",
       "770  [[1035.053955078125, 264.3686218261719, 1115.4...   \n",
       "771  [[1166.5145263671875, 356.42218017578125, 1255...   \n",
       "772  [[317.13818359375, 505.6600036621094, 422.3688...   \n",
       "773  [[1033.4825439453125, 254.97848510742188, 1116...   \n",
       "774  [[1165.6907958984375, 357.3981628417969, 1253....   \n",
       "775  [[1031.5576171875, 249.544677734375, 1118.5411...   \n",
       "776  [[318.2449645996094, 505.7403869628906, 421.79...   \n",
       "777  [[364.97216796875, 127.62986755371094, 508.632...   \n",
       "778  [[1032.23095703125, 254.3890380859375, 1118.95...   \n",
       "779  [[373.3588562011719, 129.51766967773438, 513.6...   \n",
       "780  [[379.7771911621094, 128.30873107910156, 512.5...   \n",
       "781  [[377.1939697265625, 134.96644592285156, 515.7...   \n",
       "\n",
       "                                            confidence  \\\n",
       "762  [0.9008474946022034, 0.900312066078186, 0.8969...   \n",
       "763  [0.9043141603469849, 0.8849994540214539, 0.858...   \n",
       "764  [0.9043645858764648, 0.8977053165435791, 0.886...   \n",
       "765  [0.9025813341140747, 0.8896710872650146, 0.886...   \n",
       "766  [0.891058087348938, 0.8800485730171204, 0.8784...   \n",
       "767  [0.8991939425468445, 0.8810976147651672, 0.848...   \n",
       "768  [0.9182637929916382, 0.9098331332206726, 0.893...   \n",
       "769  [0.9029914140701294, 0.8996021151542664, 0.883...   \n",
       "770  [0.9074544906616211, 0.9058253169059753, 0.897...   \n",
       "771  [0.8981720209121704, 0.8980739712715149, 0.870...   \n",
       "772  [0.9077545404434204, 0.9060450196266174, 0.893...   \n",
       "773  [0.9147964119911194, 0.9081194400787354, 0.887...   \n",
       "774  [0.9108507037162781, 0.909659206867218, 0.9049...   \n",
       "775  [0.9025079011917114, 0.9018500447273254, 0.893...   \n",
       "776  [0.9085609912872314, 0.9033055305480957, 0.880...   \n",
       "777  [0.9120360016822815, 0.9062272906303406, 0.899...   \n",
       "778  [0.912330687046051, 0.9121133685112, 0.8952925...   \n",
       "779  [0.9065406918525696, 0.9036949276924133, 0.886...   \n",
       "780  [0.8747966885566711, 0.8708018064498901, 0.852...   \n",
       "781  [0.9049922823905945, 0.8818294405937195, 0.877...   \n",
       "\n",
       "                       pred_classes indexes_head           indexes_tank  \\\n",
       "762        [2, 1, 2, 2, 2, 4, 2, 2]          [1]     [0, 2, 3, 4, 6, 7]   \n",
       "763        [2, 2, 1, 2, 2, 1, 4, 2]       [2, 5]        [0, 1, 3, 4, 7]   \n",
       "764        [2, 2, 2, 2, 1, 4, 2, 2]          [4]     [0, 1, 2, 3, 6, 7]   \n",
       "765        [2, 2, 2, 2, 1, 4, 2, 2]          [4]     [0, 1, 2, 3, 6, 7]   \n",
       "766        [2, 2, 2, 2, 1, 4, 4, 2]          [4]        [0, 1, 2, 3, 7]   \n",
       "767     [2, 2, 1, 2, 2, 4, 2, 4, 1]       [2, 8]        [0, 1, 3, 4, 6]   \n",
       "768  [1, 2, 2, 2, 2, 1, 4, 2, 2, 2]       [0, 5]  [1, 2, 3, 4, 7, 8, 9]   \n",
       "769  [2, 2, 2, 1, 2, 4, 2, 2, 2, 1]       [3, 9]  [0, 1, 2, 4, 6, 7, 8]   \n",
       "770           [2, 2, 2, 1, 2, 4, 2]          [3]        [0, 1, 2, 4, 6]   \n",
       "771           [2, 2, 2, 1, 2, 4, 2]          [3]        [0, 1, 2, 4, 6]   \n",
       "772              [2, 2, 2, 1, 2, 4]          [3]           [0, 1, 2, 4]   \n",
       "773           [2, 2, 2, 1, 2, 2, 4]          [3]        [0, 1, 2, 4, 5]   \n",
       "774        [2, 2, 2, 1, 4, 2, 2, 2]          [3]     [0, 1, 2, 5, 6, 7]   \n",
       "775           [2, 2, 2, 1, 2, 4, 2]          [3]        [0, 1, 2, 4, 6]   \n",
       "776     [2, 2, 1, 2, 2, 2, 2, 4, 1]       [2, 8]     [0, 1, 3, 4, 5, 6]   \n",
       "777     [1, 2, 2, 2, 2, 4, 2, 2, 4]          [0]     [1, 2, 3, 4, 6, 7]   \n",
       "778        [2, 2, 1, 2, 2, 2, 2, 4]          [2]     [0, 1, 3, 4, 5, 6]   \n",
       "779     [1, 2, 2, 2, 2, 2, 2, 2, 4]          [0]  [1, 2, 3, 4, 5, 6, 7]   \n",
       "780     [1, 2, 2, 2, 2, 2, 2, 2, 4]          [0]  [1, 2, 3, 4, 5, 6, 7]   \n",
       "781           [1, 2, 2, 2, 2, 4, 2]          [0]        [1, 2, 3, 4, 6]   \n",
       "\n",
       "    indexes_nose                                        bboxes_head  \\\n",
       "762          [5]  [[354.86761474609375, 99.2551498413086, 534.25...   \n",
       "763          [6]  [[355.37420654296875, 94.81307983398438, 531.2...   \n",
       "764          [5]  [[347.8482666015625, 88.65413665771484, 531.74...   \n",
       "765          [5]  [[345.1199035644531, 79.24298858642578, 522.31...   \n",
       "766       [5, 6]  [[343.30352783203125, 75.50825500488281, 525.0...   \n",
       "767       [5, 7]  [[354.3250427246094, 76.87438201904297, 521.58...   \n",
       "768          [6]  [[356.0720520019531, 91.31932067871094, 523.65...   \n",
       "769          [5]  [[353.0123596191406, 97.14250946044922, 538.53...   \n",
       "770          [5]  [[351.03314208984375, 103.86978912353516, 518....   \n",
       "771          [5]  [[347.2008972167969, 103.38174438476562, 513.9...   \n",
       "772          [5]  [[347.6038513183594, 99.85211181640625, 510.44...   \n",
       "773          [6]  [[344.5509033203125, 100.70967864990234, 506.6...   \n",
       "774          [4]  [[347.9912109375, 106.78292846679688, 501.9927...   \n",
       "775          [5]  [[353.7363586425781, 118.3086929321289, 502.67...   \n",
       "776          [7]  [[359.5986022949219, 123.1827392578125, 505.45...   \n",
       "777       [5, 8]  [[364.97216796875, 127.62986755371094, 508.632...   \n",
       "778          [7]  [[369.57196044921875, 130.06991577148438, 513....   \n",
       "779          [8]  [[373.3588562011719, 129.51766967773438, 513.6...   \n",
       "780          [8]  [[379.7771911621094, 128.30873107910156, 512.5...   \n",
       "781          [5]  [[377.1939697265625, 134.96644592285156, 515.7...   \n",
       "\n",
       "                                          bboxes_tanks  \\\n",
       "762  [[318.9358215332031, 506.448974609375, 426.247...   \n",
       "763  [[317.8729553222656, 506.0529479980469, 425.94...   \n",
       "764  [[317.6860656738281, 505.0966796875, 421.96160...   \n",
       "765  [[314.8800354003906, 506.94378662109375, 428.5...   \n",
       "766  [[316.53125, 505.4551086425781, 423.5974426269...   \n",
       "767  [[314.9231872558594, 505.67669677734375, 423.9...   \n",
       "768  [[316.5494689941406, 505.56109619140625, 422.2...   \n",
       "769  [[317.7554931640625, 506.02587890625, 422.7510...   \n",
       "770  [[1035.053955078125, 264.3686218261719, 1115.4...   \n",
       "771  [[1166.5145263671875, 356.42218017578125, 1255...   \n",
       "772  [[317.13818359375, 505.6600036621094, 422.3688...   \n",
       "773  [[1033.4825439453125, 254.97848510742188, 1116...   \n",
       "774  [[1165.6907958984375, 357.3981628417969, 1253....   \n",
       "775  [[1031.5576171875, 249.544677734375, 1118.5411...   \n",
       "776  [[318.2449645996094, 505.7403869628906, 421.79...   \n",
       "777  [[1034.3392333984375, 249.68099975585938, 1116...   \n",
       "778  [[1032.23095703125, 254.3890380859375, 1118.95...   \n",
       "779  [[318.2457580566406, 504.73394775390625, 422.1...   \n",
       "780  [[315.91357421875, 505.5377197265625, 423.7357...   \n",
       "781  [[319.84197998046875, 504.72607421875, 421.406...   \n",
       "\n",
       "                                           bboxes_nose      sniffing  \\\n",
       "762  [[449.24609375, 266.8948059082031, 497.4188842...      sniffing   \n",
       "763  [[440.8772888183594, 269.70849609375, 499.1054...      sniffing   \n",
       "764  [[436.7652282714844, 265.4993591308594, 493.59...      sniffing   \n",
       "765  [[434.2934875488281, 259.1200866699219, 492.26...      sniffing   \n",
       "766  [[431.9200134277344, 260.65496826171875, 495.2...      sniffing   \n",
       "767  [[429.52423095703125, 263.2339172363281, 492.9...      sniffing   \n",
       "768  [[427.43951416015625, 273.7341003417969, 490.6...      sniffing   \n",
       "769  [[429.57733154296875, 277.9071044921875, 475.5...      sniffing   \n",
       "770  [[425.7305908203125, 274.8208312988281, 493.82...  not_sniffing   \n",
       "771  [[422.1845703125, 268.92132568359375, 491.9032...  not_sniffing   \n",
       "772  [[422.72216796875, 264.0462646484375, 491.1805...  not_sniffing   \n",
       "773  [[425.94036865234375, 270.7285461425781, 489.8...      sniffing   \n",
       "774  [[429.25799560546875, 269.4118347167969, 492.8...      sniffing   \n",
       "775  [[435.61322021484375, 294.6681823730469, 491.4...      sniffing   \n",
       "776  [[436.97698974609375, 288.98431396484375, 496....      sniffing   \n",
       "777  [[439.16094970703125, 271.0177917480469, 502.8...      sniffing   \n",
       "778  [[440.1237487792969, 288.7282409667969, 497.58...      sniffing   \n",
       "779  [[433.9847412109375, 283.534423828125, 494.018...      sniffing   \n",
       "780  [[430.51544189453125, 268.08746337890625, 490....      sniffing   \n",
       "781  [[437.1513977050781, 285.8395690917969, 481.81...      sniffing   \n",
       "\n",
       "    prev_sniffing next_sniffing start-stop  \n",
       "762      sniffing      sniffing   continue  \n",
       "763      sniffing      sniffing   continue  \n",
       "764      sniffing      sniffing   continue  \n",
       "765      sniffing      sniffing   continue  \n",
       "766      sniffing      sniffing   continue  \n",
       "767      sniffing      sniffing   continue  \n",
       "768      sniffing      sniffing   continue  \n",
       "769      sniffing  not_sniffing   continue  \n",
       "770      sniffing  not_sniffing       stop  \n",
       "771  not_sniffing  not_sniffing   continue  \n",
       "772  not_sniffing      sniffing   continue  \n",
       "773  not_sniffing      sniffing      start  \n",
       "774      sniffing      sniffing   continue  \n",
       "775      sniffing      sniffing   continue  \n",
       "776      sniffing      sniffing   continue  \n",
       "777      sniffing      sniffing   continue  \n",
       "778      sniffing      sniffing   continue  \n",
       "779      sniffing      sniffing   continue  \n",
       "780      sniffing      sniffing   continue  \n",
       "781      sniffing          None       stop  "
      ]
     },
     "execution_count": 93,
     "metadata": {},
     "output_type": "execute_result"
    }
   ],
   "source": []
  },
  {
   "cell_type": "code",
   "execution_count": 94,
   "id": "b3f2748d",
   "metadata": {},
   "outputs": [
    {
     "data": {
      "text/html": [
       "<div>\n",
       "<style scoped>\n",
       "    .dataframe tbody tr th:only-of-type {\n",
       "        vertical-align: middle;\n",
       "    }\n",
       "\n",
       "    .dataframe tbody tr th {\n",
       "        vertical-align: top;\n",
       "    }\n",
       "\n",
       "    .dataframe thead th {\n",
       "        text-align: right;\n",
       "    }\n",
       "</style>\n",
       "<table border=\"1\" class=\"dataframe\">\n",
       "  <thead>\n",
       "    <tr style=\"text-align: right;\">\n",
       "      <th></th>\n",
       "      <th>frame_number</th>\n",
       "      <th>start_timestamp</th>\n",
       "      <th>stop_timestamp</th>\n",
       "      <th>duration</th>\n",
       "    </tr>\n",
       "  </thead>\n",
       "  <tbody>\n",
       "    <tr>\n",
       "      <th>0</th>\n",
       "      <td>21</td>\n",
       "      <td>0.700700</td>\n",
       "      <td>0.800800</td>\n",
       "      <td>0.100100</td>\n",
       "    </tr>\n",
       "    <tr>\n",
       "      <th>1</th>\n",
       "      <td>31</td>\n",
       "      <td>1.034367</td>\n",
       "      <td>1.167833</td>\n",
       "      <td>0.133467</td>\n",
       "    </tr>\n",
       "    <tr>\n",
       "      <th>2</th>\n",
       "      <td>37</td>\n",
       "      <td>1.234567</td>\n",
       "      <td>1.267933</td>\n",
       "      <td>0.033367</td>\n",
       "    </tr>\n",
       "    <tr>\n",
       "      <th>3</th>\n",
       "      <td>39</td>\n",
       "      <td>1.301300</td>\n",
       "      <td>1.401400</td>\n",
       "      <td>0.100100</td>\n",
       "    </tr>\n",
       "    <tr>\n",
       "      <th>4</th>\n",
       "      <td>45</td>\n",
       "      <td>1.501500</td>\n",
       "      <td>1.701700</td>\n",
       "      <td>0.200200</td>\n",
       "    </tr>\n",
       "    <tr>\n",
       "      <th>5</th>\n",
       "      <td>55</td>\n",
       "      <td>1.835167</td>\n",
       "      <td>2.135467</td>\n",
       "      <td>0.300300</td>\n",
       "    </tr>\n",
       "    <tr>\n",
       "      <th>6</th>\n",
       "      <td>65</td>\n",
       "      <td>2.168833</td>\n",
       "      <td>2.202200</td>\n",
       "      <td>0.033367</td>\n",
       "    </tr>\n",
       "    <tr>\n",
       "      <th>7</th>\n",
       "      <td>67</td>\n",
       "      <td>2.235567</td>\n",
       "      <td>2.535867</td>\n",
       "      <td>0.300300</td>\n",
       "    </tr>\n",
       "    <tr>\n",
       "      <th>8</th>\n",
       "      <td>77</td>\n",
       "      <td>2.569233</td>\n",
       "      <td>2.635967</td>\n",
       "      <td>0.066733</td>\n",
       "    </tr>\n",
       "    <tr>\n",
       "      <th>9</th>\n",
       "      <td>96</td>\n",
       "      <td>3.203200</td>\n",
       "      <td>3.336667</td>\n",
       "      <td>0.133467</td>\n",
       "    </tr>\n",
       "  </tbody>\n",
       "</table>\n",
       "</div>"
      ],
      "text/plain": [
       "   frame_number  start_timestamp  stop_timestamp  duration\n",
       "0            21         0.700700        0.800800  0.100100\n",
       "1            31         1.034367        1.167833  0.133467\n",
       "2            37         1.234567        1.267933  0.033367\n",
       "3            39         1.301300        1.401400  0.100100\n",
       "4            45         1.501500        1.701700  0.200200\n",
       "5            55         1.835167        2.135467  0.300300\n",
       "6            65         2.168833        2.202200  0.033367\n",
       "7            67         2.235567        2.535867  0.300300\n",
       "8            77         2.569233        2.635967  0.066733\n",
       "9            96         3.203200        3.336667  0.133467"
      ]
     },
     "execution_count": 94,
     "metadata": {},
     "output_type": "execute_result"
    }
   ],
   "source": []
  },
  {
   "cell_type": "code",
   "execution_count": 95,
   "id": "1fad1100",
   "metadata": {},
   "outputs": [
    {
     "name": "stdout",
     "output_type": "stream",
     "text": [
      "2630\n"
     ]
    }
   ],
   "source": []
  },
  {
   "cell_type": "code",
   "execution_count": null,
   "id": "11a79152",
   "metadata": {},
   "outputs": [
    {
     "name": "stdout",
     "output_type": "stream",
     "text": [
      "MoviePy - Building video SniffingSnippetsIsabelle/2630_snippet_0.mp4.\n",
      "MoviePy - Writing video SniffingSnippetsIsabelle/2630_snippet_0.mp4\n",
      "\n"
     ]
    },
    {
     "name": "stderr",
     "output_type": "stream",
     "text": [
      "                                                            "
     ]
    },
    {
     "name": "stdout",
     "output_type": "stream",
     "text": [
      "MoviePy - Done !\n",
      "MoviePy - video ready SniffingSnippetsIsabelle/2630_snippet_0.mp4\n"
     ]
    },
    {
     "name": "stderr",
     "output_type": "stream",
     "text": [
      "\r"
     ]
    },
    {
     "name": "stdout",
     "output_type": "stream",
     "text": [
      "MoviePy - Building video SniffingSnippetsIsabelle/2630_snippet_1.mp4.\n",
      "MoviePy - Writing video SniffingSnippetsIsabelle/2630_snippet_1.mp4\n",
      "\n"
     ]
    },
    {
     "name": "stderr",
     "output_type": "stream",
     "text": [
      "                                                            "
     ]
    },
    {
     "name": "stdout",
     "output_type": "stream",
     "text": [
      "MoviePy - Done !\n",
      "MoviePy - video ready SniffingSnippetsIsabelle/2630_snippet_1.mp4\n"
     ]
    },
    {
     "name": "stderr",
     "output_type": "stream",
     "text": [
      "\r"
     ]
    },
    {
     "name": "stdout",
     "output_type": "stream",
     "text": [
      "MoviePy - Building video SniffingSnippetsIsabelle/2630_snippet_2.mp4.\n",
      "MoviePy - Writing video SniffingSnippetsIsabelle/2630_snippet_2.mp4\n",
      "\n"
     ]
    },
    {
     "name": "stderr",
     "output_type": "stream",
     "text": [
      "                                                            "
     ]
    },
    {
     "name": "stdout",
     "output_type": "stream",
     "text": [
      "MoviePy - Done !\n",
      "MoviePy - video ready SniffingSnippetsIsabelle/2630_snippet_2.mp4\n"
     ]
    },
    {
     "name": "stderr",
     "output_type": "stream",
     "text": [
      "\r"
     ]
    },
    {
     "name": "stdout",
     "output_type": "stream",
     "text": [
      "MoviePy - Building video SniffingSnippetsIsabelle/2630_snippet_3.mp4.\n",
      "MoviePy - Writing video SniffingSnippetsIsabelle/2630_snippet_3.mp4\n",
      "\n"
     ]
    },
    {
     "name": "stderr",
     "output_type": "stream",
     "text": [
      "                                                            "
     ]
    },
    {
     "name": "stdout",
     "output_type": "stream",
     "text": [
      "MoviePy - Done !\n",
      "MoviePy - video ready SniffingSnippetsIsabelle/2630_snippet_3.mp4\n"
     ]
    },
    {
     "name": "stderr",
     "output_type": "stream",
     "text": [
      "\r"
     ]
    },
    {
     "name": "stdout",
     "output_type": "stream",
     "text": [
      "MoviePy - Building video SniffingSnippetsIsabelle/2630_snippet_4.mp4.\n",
      "MoviePy - Writing video SniffingSnippetsIsabelle/2630_snippet_4.mp4\n",
      "\n"
     ]
    },
    {
     "name": "stderr",
     "output_type": "stream",
     "text": [
      "                                                            "
     ]
    },
    {
     "name": "stdout",
     "output_type": "stream",
     "text": [
      "MoviePy - Done !\n",
      "MoviePy - video ready SniffingSnippetsIsabelle/2630_snippet_4.mp4\n"
     ]
    },
    {
     "name": "stderr",
     "output_type": "stream",
     "text": [
      "\r"
     ]
    },
    {
     "name": "stdout",
     "output_type": "stream",
     "text": [
      "MoviePy - Building video SniffingSnippetsIsabelle/2630_snippet_5.mp4.\n",
      "MoviePy - Writing video SniffingSnippetsIsabelle/2630_snippet_5.mp4\n",
      "\n"
     ]
    },
    {
     "name": "stderr",
     "output_type": "stream",
     "text": [
      "                                                            \r"
     ]
    },
    {
     "name": "stdout",
     "output_type": "stream",
     "text": [
      "MoviePy - Done !\n",
      "MoviePy - video ready SniffingSnippetsIsabelle/2630_snippet_5.mp4\n",
      "MoviePy - Building video SniffingSnippetsIsabelle/2630_snippet_6.mp4.\n",
      "MoviePy - Writing video SniffingSnippetsIsabelle/2630_snippet_6.mp4\n",
      "\n"
     ]
    },
    {
     "name": "stderr",
     "output_type": "stream",
     "text": [
      "                                                            "
     ]
    },
    {
     "name": "stdout",
     "output_type": "stream",
     "text": [
      "MoviePy - Done !\n",
      "MoviePy - video ready SniffingSnippetsIsabelle/2630_snippet_6.mp4\n"
     ]
    },
    {
     "name": "stderr",
     "output_type": "stream",
     "text": [
      "\r"
     ]
    },
    {
     "name": "stdout",
     "output_type": "stream",
     "text": [
      "MoviePy - Building video SniffingSnippetsIsabelle/2630_snippet_7.mp4.\n",
      "MoviePy - Writing video SniffingSnippetsIsabelle/2630_snippet_7.mp4\n",
      "\n"
     ]
    },
    {
     "name": "stderr",
     "output_type": "stream",
     "text": [
      "                                                            \r"
     ]
    },
    {
     "name": "stdout",
     "output_type": "stream",
     "text": [
      "MoviePy - Done !\n",
      "MoviePy - video ready SniffingSnippetsIsabelle/2630_snippet_7.mp4\n",
      "MoviePy - Building video SniffingSnippetsIsabelle/2630_snippet_8.mp4.\n",
      "MoviePy - Writing video SniffingSnippetsIsabelle/2630_snippet_8.mp4\n",
      "\n"
     ]
    },
    {
     "name": "stderr",
     "output_type": "stream",
     "text": [
      "                                                            "
     ]
    },
    {
     "name": "stdout",
     "output_type": "stream",
     "text": [
      "MoviePy - Done !\n",
      "MoviePy - video ready SniffingSnippetsIsabelle/2630_snippet_8.mp4\n"
     ]
    },
    {
     "name": "stderr",
     "output_type": "stream",
     "text": [
      "\r"
     ]
    },
    {
     "name": "stdout",
     "output_type": "stream",
     "text": [
      "MoviePy - Building video SniffingSnippetsIsabelle/2630_snippet_9.mp4.\n",
      "MoviePy - Writing video SniffingSnippetsIsabelle/2630_snippet_9.mp4\n",
      "\n"
     ]
    },
    {
     "name": "stderr",
     "output_type": "stream",
     "text": [
      "                                                            "
     ]
    },
    {
     "name": "stdout",
     "output_type": "stream",
     "text": [
      "MoviePy - Done !\n",
      "MoviePy - video ready SniffingSnippetsIsabelle/2630_snippet_9.mp4\n"
     ]
    },
    {
     "name": "stderr",
     "output_type": "stream",
     "text": [
      "\r"
     ]
    },
    {
     "name": "stdout",
     "output_type": "stream",
     "text": [
      "MoviePy - Building video SniffingSnippetsIsabelle/2630_snippet_10.mp4.\n",
      "MoviePy - Writing video SniffingSnippetsIsabelle/2630_snippet_10.mp4\n",
      "\n"
     ]
    },
    {
     "name": "stderr",
     "output_type": "stream",
     "text": [
      "                                                            \r"
     ]
    },
    {
     "name": "stdout",
     "output_type": "stream",
     "text": [
      "MoviePy - Done !\n",
      "MoviePy - video ready SniffingSnippetsIsabelle/2630_snippet_10.mp4\n",
      "MoviePy - Building video SniffingSnippetsIsabelle/2630_snippet_11.mp4.\n",
      "MoviePy - Writing video SniffingSnippetsIsabelle/2630_snippet_11.mp4\n",
      "\n"
     ]
    },
    {
     "name": "stderr",
     "output_type": "stream",
     "text": [
      "                                                            "
     ]
    },
    {
     "name": "stdout",
     "output_type": "stream",
     "text": [
      "MoviePy - Done !\n",
      "MoviePy - video ready SniffingSnippetsIsabelle/2630_snippet_11.mp4\n"
     ]
    },
    {
     "name": "stderr",
     "output_type": "stream",
     "text": [
      "\r"
     ]
    },
    {
     "name": "stdout",
     "output_type": "stream",
     "text": [
      "MoviePy - Building video SniffingSnippetsIsabelle/2630_snippet_12.mp4.\n",
      "MoviePy - Writing video SniffingSnippetsIsabelle/2630_snippet_12.mp4\n",
      "\n"
     ]
    },
    {
     "name": "stderr",
     "output_type": "stream",
     "text": [
      "                                                                     \r"
     ]
    },
    {
     "name": "stdout",
     "output_type": "stream",
     "text": [
      "MoviePy - Done !\n",
      "MoviePy - video ready SniffingSnippetsIsabelle/2630_snippet_12.mp4\n",
      "MoviePy - Building video SniffingSnippetsIsabelle/2630_snippet_13.mp4.\n",
      "MoviePy - Writing video SniffingSnippetsIsabelle/2630_snippet_13.mp4\n",
      "\n"
     ]
    },
    {
     "name": "stderr",
     "output_type": "stream",
     "text": [
      "                                                            "
     ]
    },
    {
     "name": "stdout",
     "output_type": "stream",
     "text": [
      "MoviePy - Done !\n",
      "MoviePy - video ready SniffingSnippetsIsabelle/2630_snippet_13.mp4\n"
     ]
    },
    {
     "name": "stderr",
     "output_type": "stream",
     "text": [
      "\r"
     ]
    },
    {
     "name": "stdout",
     "output_type": "stream",
     "text": [
      "MoviePy - Building video SniffingSnippetsIsabelle/2630_snippet_14.mp4.\n",
      "MoviePy - Writing video SniffingSnippetsIsabelle/2630_snippet_14.mp4\n",
      "\n"
     ]
    },
    {
     "name": "stderr",
     "output_type": "stream",
     "text": [
      "                                                             \r"
     ]
    },
    {
     "name": "stdout",
     "output_type": "stream",
     "text": [
      "MoviePy - Done !\n",
      "MoviePy - video ready SniffingSnippetsIsabelle/2630_snippet_14.mp4\n",
      "MoviePy - Building video SniffingSnippetsIsabelle/2630_snippet_15.mp4.\n",
      "MoviePy - Writing video SniffingSnippetsIsabelle/2630_snippet_15.mp4\n",
      "\n"
     ]
    },
    {
     "name": "stderr",
     "output_type": "stream",
     "text": [
      "                                                                     \r"
     ]
    },
    {
     "name": "stdout",
     "output_type": "stream",
     "text": [
      "MoviePy - Done !\n",
      "MoviePy - video ready SniffingSnippetsIsabelle/2630_snippet_15.mp4\n",
      "MoviePy - Building video SniffingSnippetsIsabelle/2630_snippet_16.mp4.\n",
      "MoviePy - Writing video SniffingSnippetsIsabelle/2630_snippet_16.mp4\n",
      "\n"
     ]
    },
    {
     "name": "stderr",
     "output_type": "stream",
     "text": [
      "                                                            "
     ]
    },
    {
     "name": "stdout",
     "output_type": "stream",
     "text": [
      "MoviePy - Done !\n",
      "MoviePy - video ready SniffingSnippetsIsabelle/2630_snippet_16.mp4\n"
     ]
    },
    {
     "name": "stderr",
     "output_type": "stream",
     "text": [
      "\r"
     ]
    },
    {
     "name": "stdout",
     "output_type": "stream",
     "text": [
      "MoviePy - Building video SniffingSnippetsIsabelle/2630_snippet_17.mp4.\n",
      "MoviePy - Writing video SniffingSnippetsIsabelle/2630_snippet_17.mp4\n",
      "\n"
     ]
    },
    {
     "name": "stderr",
     "output_type": "stream",
     "text": [
      "                                                            "
     ]
    },
    {
     "name": "stdout",
     "output_type": "stream",
     "text": [
      "MoviePy - Done !\n",
      "MoviePy - video ready SniffingSnippetsIsabelle/2630_snippet_17.mp4\n"
     ]
    },
    {
     "name": "stderr",
     "output_type": "stream",
     "text": [
      "\r"
     ]
    },
    {
     "name": "stdout",
     "output_type": "stream",
     "text": [
      "MoviePy - Building video SniffingSnippetsIsabelle/2630_snippet_18.mp4.\n",
      "MoviePy - Writing video SniffingSnippetsIsabelle/2630_snippet_18.mp4\n",
      "\n"
     ]
    },
    {
     "name": "stderr",
     "output_type": "stream",
     "text": [
      "                                                            "
     ]
    },
    {
     "name": "stdout",
     "output_type": "stream",
     "text": [
      "MoviePy - Done !\n",
      "MoviePy - video ready SniffingSnippetsIsabelle/2630_snippet_18.mp4\n"
     ]
    },
    {
     "name": "stderr",
     "output_type": "stream",
     "text": [
      "\r"
     ]
    },
    {
     "name": "stdout",
     "output_type": "stream",
     "text": [
      "MoviePy - Building video SniffingSnippetsIsabelle/2630_snippet_19.mp4.\n",
      "MoviePy - Writing video SniffingSnippetsIsabelle/2630_snippet_19.mp4\n",
      "\n"
     ]
    },
    {
     "name": "stderr",
     "output_type": "stream",
     "text": [
      "                                                                       \r"
     ]
    },
    {
     "name": "stdout",
     "output_type": "stream",
     "text": [
      "MoviePy - Done !\n",
      "MoviePy - video ready SniffingSnippetsIsabelle/2630_snippet_19.mp4\n",
      "MoviePy - Building video SniffingSnippetsIsabelle/2630_snippet_20.mp4.\n",
      "MoviePy - Writing video SniffingSnippetsIsabelle/2630_snippet_20.mp4\n",
      "\n"
     ]
    },
    {
     "name": "stderr",
     "output_type": "stream",
     "text": [
      "                                                            "
     ]
    },
    {
     "name": "stdout",
     "output_type": "stream",
     "text": [
      "MoviePy - Done !\n",
      "MoviePy - video ready SniffingSnippetsIsabelle/2630_snippet_20.mp4\n"
     ]
    },
    {
     "name": "stderr",
     "output_type": "stream",
     "text": [
      "\r"
     ]
    },
    {
     "name": "stdout",
     "output_type": "stream",
     "text": [
      "MoviePy - Building video SniffingSnippetsIsabelle/2630_snippet_21.mp4.\n",
      "MoviePy - Writing video SniffingSnippetsIsabelle/2630_snippet_21.mp4\n",
      "\n"
     ]
    },
    {
     "name": "stderr",
     "output_type": "stream",
     "text": [
      "                                                            "
     ]
    },
    {
     "name": "stdout",
     "output_type": "stream",
     "text": [
      "MoviePy - Done !\n",
      "MoviePy - video ready SniffingSnippetsIsabelle/2630_snippet_21.mp4\n"
     ]
    },
    {
     "name": "stderr",
     "output_type": "stream",
     "text": [
      "\r"
     ]
    },
    {
     "name": "stdout",
     "output_type": "stream",
     "text": [
      "MoviePy - Building video SniffingSnippetsIsabelle/2630_snippet_22.mp4.\n",
      "MoviePy - Writing video SniffingSnippetsIsabelle/2630_snippet_22.mp4\n",
      "\n"
     ]
    },
    {
     "name": "stderr",
     "output_type": "stream",
     "text": [
      "                                                            "
     ]
    },
    {
     "name": "stdout",
     "output_type": "stream",
     "text": [
      "MoviePy - Done !\n",
      "MoviePy - video ready SniffingSnippetsIsabelle/2630_snippet_22.mp4\n"
     ]
    },
    {
     "name": "stderr",
     "output_type": "stream",
     "text": [
      "\r"
     ]
    },
    {
     "name": "stdout",
     "output_type": "stream",
     "text": [
      "MoviePy - Building video SniffingSnippetsIsabelle/2630_snippet_23.mp4.\n",
      "MoviePy - Writing video SniffingSnippetsIsabelle/2630_snippet_23.mp4\n",
      "\n"
     ]
    },
    {
     "name": "stderr",
     "output_type": "stream",
     "text": [
      "                                                            "
     ]
    },
    {
     "name": "stdout",
     "output_type": "stream",
     "text": [
      "MoviePy - Done !\n",
      "MoviePy - video ready SniffingSnippetsIsabelle/2630_snippet_23.mp4\n"
     ]
    },
    {
     "name": "stderr",
     "output_type": "stream",
     "text": [
      "\r"
     ]
    },
    {
     "name": "stdout",
     "output_type": "stream",
     "text": [
      "MoviePy - Building video SniffingSnippetsIsabelle/2630_snippet_24.mp4.\n",
      "MoviePy - Writing video SniffingSnippetsIsabelle/2630_snippet_24.mp4\n",
      "\n"
     ]
    },
    {
     "name": "stderr",
     "output_type": "stream",
     "text": [
      "                                                                      \r"
     ]
    },
    {
     "name": "stdout",
     "output_type": "stream",
     "text": [
      "MoviePy - Done !\n",
      "MoviePy - video ready SniffingSnippetsIsabelle/2630_snippet_24.mp4\n",
      "MoviePy - Building video SniffingSnippetsIsabelle/2630_snippet_25.mp4.\n",
      "MoviePy - Writing video SniffingSnippetsIsabelle/2630_snippet_25.mp4\n",
      "\n"
     ]
    },
    {
     "name": "stderr",
     "output_type": "stream",
     "text": [
      "                                                            "
     ]
    },
    {
     "name": "stdout",
     "output_type": "stream",
     "text": [
      "MoviePy - Done !\n",
      "MoviePy - video ready SniffingSnippetsIsabelle/2630_snippet_25.mp4\n"
     ]
    },
    {
     "name": "stderr",
     "output_type": "stream",
     "text": [
      "\r"
     ]
    },
    {
     "name": "stdout",
     "output_type": "stream",
     "text": [
      "MoviePy - Building video SniffingSnippetsIsabelle/2630_snippet_26.mp4.\n",
      "MoviePy - Writing video SniffingSnippetsIsabelle/2630_snippet_26.mp4\n",
      "\n"
     ]
    },
    {
     "name": "stderr",
     "output_type": "stream",
     "text": [
      "                                                            "
     ]
    },
    {
     "name": "stdout",
     "output_type": "stream",
     "text": [
      "MoviePy - Done !\n",
      "MoviePy - video ready SniffingSnippetsIsabelle/2630_snippet_26.mp4\n"
     ]
    },
    {
     "name": "stderr",
     "output_type": "stream",
     "text": [
      "\r"
     ]
    },
    {
     "name": "stdout",
     "output_type": "stream",
     "text": [
      "MoviePy - Building video SniffingSnippetsIsabelle/2630_snippet_27.mp4.\n",
      "MoviePy - Writing video SniffingSnippetsIsabelle/2630_snippet_27.mp4\n",
      "\n"
     ]
    },
    {
     "name": "stderr",
     "output_type": "stream",
     "text": [
      "                                                            \r"
     ]
    },
    {
     "name": "stdout",
     "output_type": "stream",
     "text": [
      "MoviePy - Done !\n",
      "MoviePy - video ready SniffingSnippetsIsabelle/2630_snippet_27.mp4\n",
      "MoviePy - Building video SniffingSnippetsIsabelle/2630_snippet_28.mp4.\n",
      "MoviePy - Writing video SniffingSnippetsIsabelle/2630_snippet_28.mp4\n",
      "\n"
     ]
    },
    {
     "name": "stderr",
     "output_type": "stream",
     "text": [
      "                                                            "
     ]
    },
    {
     "name": "stdout",
     "output_type": "stream",
     "text": [
      "MoviePy - Done !\n",
      "MoviePy - video ready SniffingSnippetsIsabelle/2630_snippet_28.mp4\n"
     ]
    },
    {
     "name": "stderr",
     "output_type": "stream",
     "text": [
      "\r"
     ]
    },
    {
     "name": "stdout",
     "output_type": "stream",
     "text": [
      "MoviePy - Building video SniffingSnippetsIsabelle/2630_snippet_29.mp4.\n",
      "MoviePy - Writing video SniffingSnippetsIsabelle/2630_snippet_29.mp4\n",
      "\n"
     ]
    },
    {
     "name": "stderr",
     "output_type": "stream",
     "text": [
      "                                                                     \r"
     ]
    },
    {
     "name": "stdout",
     "output_type": "stream",
     "text": [
      "MoviePy - Done !\n",
      "MoviePy - video ready SniffingSnippetsIsabelle/2630_snippet_29.mp4\n",
      "MoviePy - Building video SniffingSnippetsIsabelle/2630_snippet_30.mp4.\n",
      "MoviePy - Writing video SniffingSnippetsIsabelle/2630_snippet_30.mp4\n",
      "\n"
     ]
    },
    {
     "name": "stderr",
     "output_type": "stream",
     "text": [
      "                                                            \r"
     ]
    },
    {
     "name": "stdout",
     "output_type": "stream",
     "text": [
      "MoviePy - Done !\n",
      "MoviePy - video ready SniffingSnippetsIsabelle/2630_snippet_30.mp4\n",
      "MoviePy - Building video SniffingSnippetsIsabelle/2630_snippet_31.mp4.\n",
      "MoviePy - Writing video SniffingSnippetsIsabelle/2630_snippet_31.mp4\n",
      "\n"
     ]
    },
    {
     "name": "stderr",
     "output_type": "stream",
     "text": [
      "                                                            "
     ]
    },
    {
     "name": "stdout",
     "output_type": "stream",
     "text": [
      "MoviePy - Done !\n",
      "MoviePy - video ready SniffingSnippetsIsabelle/2630_snippet_31.mp4\n"
     ]
    },
    {
     "name": "stderr",
     "output_type": "stream",
     "text": [
      "\r"
     ]
    },
    {
     "name": "stdout",
     "output_type": "stream",
     "text": [
      "MoviePy - Building video SniffingSnippetsIsabelle/2630_snippet_32.mp4.\n",
      "MoviePy - Writing video SniffingSnippetsIsabelle/2630_snippet_32.mp4\n",
      "\n"
     ]
    },
    {
     "name": "stderr",
     "output_type": "stream",
     "text": [
      "                                             \r"
     ]
    },
    {
     "name": "stdout",
     "output_type": "stream",
     "text": [
      "MoviePy - Done !\n",
      "MoviePy - video ready SniffingSnippetsIsabelle/2630_snippet_32.mp4\n",
      "MoviePy - Building video SniffingSnippetsIsabelle/2630_snippet_33.mp4.\n",
      "MoviePy - Writing video SniffingSnippetsIsabelle/2630_snippet_33.mp4\n",
      "\n"
     ]
    },
    {
     "name": "stderr",
     "output_type": "stream",
     "text": [
      "                                                            "
     ]
    },
    {
     "name": "stdout",
     "output_type": "stream",
     "text": [
      "MoviePy - Done !\n",
      "MoviePy - video ready SniffingSnippetsIsabelle/2630_snippet_33.mp4\n"
     ]
    },
    {
     "name": "stderr",
     "output_type": "stream",
     "text": [
      "\r"
     ]
    },
    {
     "name": "stdout",
     "output_type": "stream",
     "text": [
      "MoviePy - Building video SniffingSnippetsIsabelle/2630_snippet_34.mp4.\n",
      "MoviePy - Writing video SniffingSnippetsIsabelle/2630_snippet_34.mp4\n",
      "\n"
     ]
    },
    {
     "name": "stderr",
     "output_type": "stream",
     "text": [
      "                                                            "
     ]
    },
    {
     "name": "stdout",
     "output_type": "stream",
     "text": [
      "MoviePy - Done !\n",
      "MoviePy - video ready SniffingSnippetsIsabelle/2630_snippet_34.mp4\n"
     ]
    },
    {
     "name": "stderr",
     "output_type": "stream",
     "text": [
      "\r"
     ]
    },
    {
     "name": "stdout",
     "output_type": "stream",
     "text": [
      "MoviePy - Building video SniffingSnippetsIsabelle/2630_snippet_35.mp4.\n",
      "MoviePy - Writing video SniffingSnippetsIsabelle/2630_snippet_35.mp4\n",
      "\n"
     ]
    },
    {
     "name": "stderr",
     "output_type": "stream",
     "text": [
      "                                                            "
     ]
    },
    {
     "name": "stdout",
     "output_type": "stream",
     "text": [
      "MoviePy - Done !\n",
      "MoviePy - video ready SniffingSnippetsIsabelle/2630_snippet_35.mp4\n"
     ]
    },
    {
     "name": "stderr",
     "output_type": "stream",
     "text": [
      "\r"
     ]
    },
    {
     "name": "stdout",
     "output_type": "stream",
     "text": [
      "MoviePy - Building video SniffingSnippetsIsabelle/2630_snippet_36.mp4.\n",
      "MoviePy - Writing video SniffingSnippetsIsabelle/2630_snippet_36.mp4\n",
      "\n"
     ]
    },
    {
     "name": "stderr",
     "output_type": "stream",
     "text": [
      "                                             "
     ]
    },
    {
     "name": "stdout",
     "output_type": "stream",
     "text": [
      "MoviePy - Done !\n",
      "MoviePy - video ready SniffingSnippetsIsabelle/2630_snippet_36.mp4\n"
     ]
    },
    {
     "name": "stderr",
     "output_type": "stream",
     "text": [
      "\r"
     ]
    },
    {
     "name": "stdout",
     "output_type": "stream",
     "text": [
      "MoviePy - Building video SniffingSnippetsIsabelle/2630_snippet_37.mp4.\n",
      "MoviePy - Writing video SniffingSnippetsIsabelle/2630_snippet_37.mp4\n",
      "\n"
     ]
    },
    {
     "name": "stderr",
     "output_type": "stream",
     "text": [
      "                                                                       \r"
     ]
    },
    {
     "name": "stdout",
     "output_type": "stream",
     "text": [
      "MoviePy - Done !\n",
      "MoviePy - video ready SniffingSnippetsIsabelle/2630_snippet_37.mp4\n",
      "MoviePy - Building video SniffingSnippetsIsabelle/2630_snippet_38.mp4.\n",
      "MoviePy - Writing video SniffingSnippetsIsabelle/2630_snippet_38.mp4\n",
      "\n"
     ]
    },
    {
     "name": "stderr",
     "output_type": "stream",
     "text": [
      "                                             "
     ]
    },
    {
     "name": "stdout",
     "output_type": "stream",
     "text": [
      "MoviePy - Done !\n",
      "MoviePy - video ready SniffingSnippetsIsabelle/2630_snippet_38.mp4\n"
     ]
    },
    {
     "name": "stderr",
     "output_type": "stream",
     "text": [
      "\r"
     ]
    },
    {
     "name": "stdout",
     "output_type": "stream",
     "text": [
      "MoviePy - Building video SniffingSnippetsIsabelle/2630_snippet_39.mp4.\n",
      "MoviePy - Writing video SniffingSnippetsIsabelle/2630_snippet_39.mp4\n",
      "\n"
     ]
    },
    {
     "name": "stderr",
     "output_type": "stream",
     "text": [
      "                                                            "
     ]
    },
    {
     "name": "stdout",
     "output_type": "stream",
     "text": [
      "MoviePy - Done !\n",
      "MoviePy - video ready SniffingSnippetsIsabelle/2630_snippet_39.mp4\n"
     ]
    },
    {
     "name": "stderr",
     "output_type": "stream",
     "text": [
      "\r"
     ]
    },
    {
     "name": "stdout",
     "output_type": "stream",
     "text": [
      "MoviePy - Building video SniffingSnippetsIsabelle/2630_snippet_40.mp4.\n",
      "MoviePy - Writing video SniffingSnippetsIsabelle/2630_snippet_40.mp4\n",
      "\n"
     ]
    },
    {
     "name": "stderr",
     "output_type": "stream",
     "text": [
      "                                             "
     ]
    },
    {
     "name": "stdout",
     "output_type": "stream",
     "text": [
      "MoviePy - Done !\n",
      "MoviePy - video ready SniffingSnippetsIsabelle/2630_snippet_40.mp4\n"
     ]
    },
    {
     "name": "stderr",
     "output_type": "stream",
     "text": [
      "\r"
     ]
    },
    {
     "name": "stdout",
     "output_type": "stream",
     "text": [
      "MoviePy - Building video SniffingSnippetsIsabelle/2630_snippet_41.mp4.\n",
      "MoviePy - Writing video SniffingSnippetsIsabelle/2630_snippet_41.mp4\n",
      "\n"
     ]
    },
    {
     "name": "stderr",
     "output_type": "stream",
     "text": [
      "                                                            "
     ]
    },
    {
     "name": "stdout",
     "output_type": "stream",
     "text": [
      "MoviePy - Done !\n",
      "MoviePy - video ready SniffingSnippetsIsabelle/2630_snippet_41.mp4\n"
     ]
    },
    {
     "name": "stderr",
     "output_type": "stream",
     "text": [
      "\r"
     ]
    },
    {
     "name": "stdout",
     "output_type": "stream",
     "text": [
      "MoviePy - Building video SniffingSnippetsIsabelle/2630_snippet_42.mp4.\n",
      "MoviePy - Writing video SniffingSnippetsIsabelle/2630_snippet_42.mp4\n",
      "\n"
     ]
    },
    {
     "name": "stderr",
     "output_type": "stream",
     "text": [
      "                                                            \r"
     ]
    },
    {
     "name": "stdout",
     "output_type": "stream",
     "text": [
      "MoviePy - Done !\n",
      "MoviePy - video ready SniffingSnippetsIsabelle/2630_snippet_42.mp4\n",
      "MoviePy - Building video SniffingSnippetsIsabelle/2630_snippet_43.mp4.\n",
      "MoviePy - Writing video SniffingSnippetsIsabelle/2630_snippet_43.mp4\n",
      "\n"
     ]
    },
    {
     "name": "stderr",
     "output_type": "stream",
     "text": [
      "                                             "
     ]
    },
    {
     "name": "stdout",
     "output_type": "stream",
     "text": [
      "MoviePy - Done !\n",
      "MoviePy - video ready SniffingSnippetsIsabelle/2630_snippet_43.mp4\n"
     ]
    },
    {
     "name": "stderr",
     "output_type": "stream",
     "text": [
      "\r"
     ]
    },
    {
     "name": "stdout",
     "output_type": "stream",
     "text": [
      "MoviePy - Building video SniffingSnippetsIsabelle/2630_snippet_44.mp4.\n",
      "MoviePy - Writing video SniffingSnippetsIsabelle/2630_snippet_44.mp4\n",
      "\n"
     ]
    },
    {
     "name": "stderr",
     "output_type": "stream",
     "text": [
      "                                                            "
     ]
    },
    {
     "name": "stdout",
     "output_type": "stream",
     "text": [
      "MoviePy - Done !\n",
      "MoviePy - video ready SniffingSnippetsIsabelle/2630_snippet_44.mp4\n"
     ]
    },
    {
     "name": "stderr",
     "output_type": "stream",
     "text": [
      "\r"
     ]
    },
    {
     "name": "stdout",
     "output_type": "stream",
     "text": [
      "MoviePy - Building video SniffingSnippetsIsabelle/2630_snippet_45.mp4.\n",
      "MoviePy - Writing video SniffingSnippetsIsabelle/2630_snippet_45.mp4\n",
      "\n"
     ]
    },
    {
     "name": "stderr",
     "output_type": "stream",
     "text": [
      "                                             "
     ]
    },
    {
     "name": "stdout",
     "output_type": "stream",
     "text": [
      "MoviePy - Done !\n",
      "MoviePy - video ready SniffingSnippetsIsabelle/2630_snippet_45.mp4\n"
     ]
    },
    {
     "name": "stderr",
     "output_type": "stream",
     "text": [
      "\r"
     ]
    },
    {
     "name": "stdout",
     "output_type": "stream",
     "text": [
      "MoviePy - Building video SniffingSnippetsIsabelle/2630_snippet_46.mp4.\n",
      "MoviePy - Writing video SniffingSnippetsIsabelle/2630_snippet_46.mp4\n",
      "\n"
     ]
    },
    {
     "name": "stderr",
     "output_type": "stream",
     "text": [
      "                                                            "
     ]
    },
    {
     "name": "stdout",
     "output_type": "stream",
     "text": [
      "MoviePy - Done !\n",
      "MoviePy - video ready SniffingSnippetsIsabelle/2630_snippet_46.mp4\n"
     ]
    },
    {
     "name": "stderr",
     "output_type": "stream",
     "text": [
      "\r"
     ]
    },
    {
     "name": "stdout",
     "output_type": "stream",
     "text": [
      "MoviePy - Building video SniffingSnippetsIsabelle/2630_snippet_47.mp4.\n",
      "MoviePy - Writing video SniffingSnippetsIsabelle/2630_snippet_47.mp4\n",
      "\n"
     ]
    },
    {
     "name": "stderr",
     "output_type": "stream",
     "text": [
      "                                                            \r"
     ]
    },
    {
     "name": "stdout",
     "output_type": "stream",
     "text": [
      "MoviePy - Done !\n",
      "MoviePy - video ready SniffingSnippetsIsabelle/2630_snippet_47.mp4\n",
      "MoviePy - Building video SniffingSnippetsIsabelle/2630_snippet_48.mp4.\n",
      "MoviePy - Writing video SniffingSnippetsIsabelle/2630_snippet_48.mp4\n",
      "\n"
     ]
    },
    {
     "name": "stderr",
     "output_type": "stream",
     "text": [
      "                                                            "
     ]
    },
    {
     "name": "stdout",
     "output_type": "stream",
     "text": [
      "MoviePy - Done !\n",
      "MoviePy - video ready SniffingSnippetsIsabelle/2630_snippet_48.mp4\n"
     ]
    },
    {
     "name": "stderr",
     "output_type": "stream",
     "text": [
      "\r"
     ]
    },
    {
     "name": "stdout",
     "output_type": "stream",
     "text": [
      "MoviePy - Building video SniffingSnippetsIsabelle/2630_snippet_49.mp4.\n",
      "MoviePy - Writing video SniffingSnippetsIsabelle/2630_snippet_49.mp4\n",
      "\n"
     ]
    },
    {
     "name": "stderr",
     "output_type": "stream",
     "text": [
      "                                                            \r"
     ]
    },
    {
     "name": "stdout",
     "output_type": "stream",
     "text": [
      "MoviePy - Done !\n",
      "MoviePy - video ready SniffingSnippetsIsabelle/2630_snippet_49.mp4\n",
      "MoviePy - Building video SniffingSnippetsIsabelle/2630_snippet_50.mp4.\n",
      "MoviePy - Writing video SniffingSnippetsIsabelle/2630_snippet_50.mp4\n",
      "\n"
     ]
    },
    {
     "name": "stderr",
     "output_type": "stream",
     "text": [
      "                                             "
     ]
    },
    {
     "name": "stdout",
     "output_type": "stream",
     "text": [
      "MoviePy - Done !\n",
      "MoviePy - video ready SniffingSnippetsIsabelle/2630_snippet_50.mp4\n"
     ]
    },
    {
     "name": "stderr",
     "output_type": "stream",
     "text": [
      "\r"
     ]
    },
    {
     "name": "stdout",
     "output_type": "stream",
     "text": [
      "MoviePy - Building video SniffingSnippetsIsabelle/2630_snippet_51.mp4.\n",
      "MoviePy - Writing video SniffingSnippetsIsabelle/2630_snippet_51.mp4\n",
      "\n"
     ]
    },
    {
     "name": "stderr",
     "output_type": "stream",
     "text": [
      "                                             "
     ]
    },
    {
     "name": "stdout",
     "output_type": "stream",
     "text": [
      "MoviePy - Done !\n",
      "MoviePy - video ready SniffingSnippetsIsabelle/2630_snippet_51.mp4\n"
     ]
    },
    {
     "name": "stderr",
     "output_type": "stream",
     "text": [
      "\r"
     ]
    },
    {
     "name": "stdout",
     "output_type": "stream",
     "text": [
      "MoviePy - Building video SniffingSnippetsIsabelle/2630_snippet_52.mp4.\n",
      "MoviePy - Writing video SniffingSnippetsIsabelle/2630_snippet_52.mp4\n",
      "\n"
     ]
    },
    {
     "name": "stderr",
     "output_type": "stream",
     "text": [
      "                                                            "
     ]
    },
    {
     "name": "stdout",
     "output_type": "stream",
     "text": [
      "MoviePy - Done !\n",
      "MoviePy - video ready SniffingSnippetsIsabelle/2630_snippet_52.mp4\n"
     ]
    },
    {
     "name": "stderr",
     "output_type": "stream",
     "text": [
      "\r"
     ]
    },
    {
     "name": "stdout",
     "output_type": "stream",
     "text": [
      "MoviePy - Building video SniffingSnippetsIsabelle/2630_snippet_53.mp4.\n",
      "MoviePy - Writing video SniffingSnippetsIsabelle/2630_snippet_53.mp4\n",
      "\n"
     ]
    },
    {
     "name": "stderr",
     "output_type": "stream",
     "text": [
      "                                                                       \r"
     ]
    },
    {
     "name": "stdout",
     "output_type": "stream",
     "text": [
      "MoviePy - Done !\n",
      "MoviePy - video ready SniffingSnippetsIsabelle/2630_snippet_53.mp4\n",
      "MoviePy - Building video SniffingSnippetsIsabelle/2630_snippet_54.mp4.\n",
      "MoviePy - Writing video SniffingSnippetsIsabelle/2630_snippet_54.mp4\n",
      "\n"
     ]
    },
    {
     "name": "stderr",
     "output_type": "stream",
     "text": [
      "                                             "
     ]
    },
    {
     "name": "stdout",
     "output_type": "stream",
     "text": [
      "MoviePy - Done !\n",
      "MoviePy - video ready SniffingSnippetsIsabelle/2630_snippet_54.mp4\n"
     ]
    },
    {
     "name": "stderr",
     "output_type": "stream",
     "text": [
      "\r"
     ]
    },
    {
     "name": "stdout",
     "output_type": "stream",
     "text": [
      "MoviePy - Building video SniffingSnippetsIsabelle/2630_snippet_55.mp4.\n",
      "MoviePy - Writing video SniffingSnippetsIsabelle/2630_snippet_55.mp4\n",
      "\n"
     ]
    },
    {
     "name": "stderr",
     "output_type": "stream",
     "text": [
      "                                                            \r"
     ]
    },
    {
     "name": "stdout",
     "output_type": "stream",
     "text": [
      "MoviePy - Done !\n",
      "MoviePy - video ready SniffingSnippetsIsabelle/2630_snippet_55.mp4\n",
      "MoviePy - Building video SniffingSnippetsIsabelle/2630_snippet_56.mp4.\n",
      "MoviePy - Writing video SniffingSnippetsIsabelle/2630_snippet_56.mp4\n",
      "\n"
     ]
    },
    {
     "name": "stderr",
     "output_type": "stream",
     "text": [
      "                                                            \r"
     ]
    },
    {
     "name": "stdout",
     "output_type": "stream",
     "text": [
      "MoviePy - Done !\n",
      "MoviePy - video ready SniffingSnippetsIsabelle/2630_snippet_56.mp4\n",
      "MoviePy - Building video SniffingSnippetsIsabelle/2630_snippet_57.mp4.\n",
      "MoviePy - Writing video SniffingSnippetsIsabelle/2630_snippet_57.mp4\n",
      "\n"
     ]
    },
    {
     "name": "stderr",
     "output_type": "stream",
     "text": [
      "                                             "
     ]
    },
    {
     "name": "stdout",
     "output_type": "stream",
     "text": [
      "MoviePy - Done !\n",
      "MoviePy - video ready SniffingSnippetsIsabelle/2630_snippet_57.mp4\n"
     ]
    },
    {
     "name": "stderr",
     "output_type": "stream",
     "text": [
      "\r"
     ]
    },
    {
     "name": "stdout",
     "output_type": "stream",
     "text": [
      "MoviePy - Building video SniffingSnippetsIsabelle/2630_snippet_58.mp4.\n",
      "MoviePy - Writing video SniffingSnippetsIsabelle/2630_snippet_58.mp4\n",
      "\n"
     ]
    },
    {
     "name": "stderr",
     "output_type": "stream",
     "text": [
      "                                                            "
     ]
    },
    {
     "name": "stdout",
     "output_type": "stream",
     "text": [
      "MoviePy - Done !\n",
      "MoviePy - video ready SniffingSnippetsIsabelle/2630_snippet_58.mp4\n"
     ]
    },
    {
     "name": "stderr",
     "output_type": "stream",
     "text": [
      "\r"
     ]
    },
    {
     "name": "stdout",
     "output_type": "stream",
     "text": [
      "MoviePy - Building video SniffingSnippetsIsabelle/2630_snippet_59.mp4.\n",
      "MoviePy - Writing video SniffingSnippetsIsabelle/2630_snippet_59.mp4\n",
      "\n"
     ]
    },
    {
     "name": "stderr",
     "output_type": "stream",
     "text": [
      "                                             "
     ]
    },
    {
     "name": "stdout",
     "output_type": "stream",
     "text": [
      "MoviePy - Done !\n",
      "MoviePy - video ready SniffingSnippetsIsabelle/2630_snippet_59.mp4\n"
     ]
    },
    {
     "name": "stderr",
     "output_type": "stream",
     "text": [
      "\r"
     ]
    },
    {
     "name": "stdout",
     "output_type": "stream",
     "text": [
      "MoviePy - Building video SniffingSnippetsIsabelle/2630_snippet_60.mp4.\n",
      "MoviePy - Writing video SniffingSnippetsIsabelle/2630_snippet_60.mp4\n",
      "\n"
     ]
    },
    {
     "name": "stderr",
     "output_type": "stream",
     "text": [
      "                                             "
     ]
    },
    {
     "name": "stdout",
     "output_type": "stream",
     "text": [
      "MoviePy - Done !\n",
      "MoviePy - video ready SniffingSnippetsIsabelle/2630_snippet_60.mp4\n"
     ]
    },
    {
     "name": "stderr",
     "output_type": "stream",
     "text": [
      "\r"
     ]
    },
    {
     "name": "stdout",
     "output_type": "stream",
     "text": [
      "MoviePy - Building video SniffingSnippetsIsabelle/2630_snippet_61.mp4.\n",
      "MoviePy - Writing video SniffingSnippetsIsabelle/2630_snippet_61.mp4\n",
      "\n"
     ]
    },
    {
     "name": "stderr",
     "output_type": "stream",
     "text": [
      "                                             "
     ]
    },
    {
     "name": "stdout",
     "output_type": "stream",
     "text": [
      "MoviePy - Done !\n",
      "MoviePy - video ready SniffingSnippetsIsabelle/2630_snippet_61.mp4\n"
     ]
    },
    {
     "name": "stderr",
     "output_type": "stream",
     "text": [
      "\r"
     ]
    },
    {
     "name": "stdout",
     "output_type": "stream",
     "text": [
      "MoviePy - Building video SniffingSnippetsIsabelle/2630_snippet_62.mp4.\n",
      "MoviePy - Writing video SniffingSnippetsIsabelle/2630_snippet_62.mp4\n",
      "\n"
     ]
    },
    {
     "name": "stderr",
     "output_type": "stream",
     "text": [
      "                                                             \r"
     ]
    },
    {
     "name": "stdout",
     "output_type": "stream",
     "text": [
      "MoviePy - Done !\n",
      "MoviePy - video ready SniffingSnippetsIsabelle/2630_snippet_62.mp4\n",
      "MoviePy - Building video SniffingSnippetsIsabelle/2630_snippet_63.mp4.\n",
      "MoviePy - Writing video SniffingSnippetsIsabelle/2630_snippet_63.mp4\n",
      "\n"
     ]
    },
    {
     "name": "stderr",
     "output_type": "stream",
     "text": [
      "                                                            "
     ]
    },
    {
     "name": "stdout",
     "output_type": "stream",
     "text": [
      "MoviePy - Done !\n",
      "MoviePy - video ready SniffingSnippetsIsabelle/2630_snippet_63.mp4\n"
     ]
    },
    {
     "name": "stderr",
     "output_type": "stream",
     "text": [
      "\r"
     ]
    },
    {
     "name": "stdout",
     "output_type": "stream",
     "text": [
      "MoviePy - Building video SniffingSnippetsIsabelle/2630_snippet_64.mp4.\n",
      "MoviePy - Writing video SniffingSnippetsIsabelle/2630_snippet_64.mp4\n",
      "\n"
     ]
    },
    {
     "name": "stderr",
     "output_type": "stream",
     "text": [
      "                                                            \r"
     ]
    },
    {
     "name": "stdout",
     "output_type": "stream",
     "text": [
      "MoviePy - Done !\n",
      "MoviePy - video ready SniffingSnippetsIsabelle/2630_snippet_64.mp4\n",
      "MoviePy - Building video SniffingSnippetsIsabelle/2630_snippet_65.mp4.\n",
      "MoviePy - Writing video SniffingSnippetsIsabelle/2630_snippet_65.mp4\n",
      "\n"
     ]
    },
    {
     "name": "stderr",
     "output_type": "stream",
     "text": [
      "                                                             \r"
     ]
    },
    {
     "name": "stdout",
     "output_type": "stream",
     "text": [
      "MoviePy - Done !\n",
      "MoviePy - video ready SniffingSnippetsIsabelle/2630_snippet_65.mp4\n",
      "MoviePy - Building video SniffingSnippetsIsabelle/2630_snippet_66.mp4.\n",
      "MoviePy - Writing video SniffingSnippetsIsabelle/2630_snippet_66.mp4\n",
      "\n"
     ]
    },
    {
     "name": "stderr",
     "output_type": "stream",
     "text": [
      "                                                                       \r"
     ]
    },
    {
     "name": "stdout",
     "output_type": "stream",
     "text": [
      "MoviePy - Done !\n",
      "MoviePy - video ready SniffingSnippetsIsabelle/2630_snippet_66.mp4\n",
      "MoviePy - Building video SniffingSnippetsIsabelle/2630_snippet_67.mp4.\n",
      "MoviePy - Writing video SniffingSnippetsIsabelle/2630_snippet_67.mp4\n",
      "\n"
     ]
    },
    {
     "name": "stderr",
     "output_type": "stream",
     "text": [
      "                                                            "
     ]
    },
    {
     "name": "stdout",
     "output_type": "stream",
     "text": [
      "MoviePy - Done !\n",
      "MoviePy - video ready SniffingSnippetsIsabelle/2630_snippet_67.mp4\n"
     ]
    },
    {
     "name": "stderr",
     "output_type": "stream",
     "text": [
      "\r"
     ]
    },
    {
     "name": "stdout",
     "output_type": "stream",
     "text": [
      "MoviePy - Building video SniffingSnippetsIsabelle/2630_snippet_68.mp4.\n",
      "MoviePy - Writing video SniffingSnippetsIsabelle/2630_snippet_68.mp4\n",
      "\n"
     ]
    },
    {
     "name": "stderr",
     "output_type": "stream",
     "text": [
      "                                                            "
     ]
    },
    {
     "name": "stdout",
     "output_type": "stream",
     "text": [
      "MoviePy - Done !\n",
      "MoviePy - video ready SniffingSnippetsIsabelle/2630_snippet_68.mp4\n"
     ]
    },
    {
     "name": "stderr",
     "output_type": "stream",
     "text": [
      "\r"
     ]
    },
    {
     "name": "stdout",
     "output_type": "stream",
     "text": [
      "MoviePy - Building video SniffingSnippetsIsabelle/2630_snippet_69.mp4.\n",
      "MoviePy - Writing video SniffingSnippetsIsabelle/2630_snippet_69.mp4\n",
      "\n"
     ]
    },
    {
     "name": "stderr",
     "output_type": "stream",
     "text": [
      "                                                                       \r"
     ]
    },
    {
     "name": "stdout",
     "output_type": "stream",
     "text": [
      "MoviePy - Done !\n",
      "MoviePy - video ready SniffingSnippetsIsabelle/2630_snippet_69.mp4\n",
      "MoviePy - Building video SniffingSnippetsIsabelle/2630_snippet_70.mp4.\n",
      "MoviePy - Writing video SniffingSnippetsIsabelle/2630_snippet_70.mp4\n",
      "\n"
     ]
    },
    {
     "name": "stderr",
     "output_type": "stream",
     "text": [
      "                                                            "
     ]
    },
    {
     "name": "stdout",
     "output_type": "stream",
     "text": [
      "MoviePy - Done !\n",
      "MoviePy - video ready SniffingSnippetsIsabelle/2630_snippet_70.mp4\n"
     ]
    },
    {
     "name": "stderr",
     "output_type": "stream",
     "text": [
      "\r"
     ]
    }
   ],
   "source": []
  },
  {
   "cell_type": "code",
   "execution_count": null,
   "id": "f8f9f948",
   "metadata": {},
   "outputs": [],
   "source": []
  },
  {
   "cell_type": "code",
   "execution_count": null,
   "id": "94f2621c",
   "metadata": {},
   "outputs": [],
   "source": []
  }
 ],
 "metadata": {
  "kernelspec": {
   "display_name": "aai3",
   "language": "python",
   "name": "python3"
  },
  "language_info": {
   "codemirror_mode": {
    "name": "ipython",
    "version": 3
   },
   "file_extension": ".py",
   "mimetype": "text/x-python",
   "name": "python",
   "nbconvert_exporter": "python",
   "pygments_lexer": "ipython3",
   "version": "3.13.2"
  }
 },
 "nbformat": 4,
 "nbformat_minor": 5
}
